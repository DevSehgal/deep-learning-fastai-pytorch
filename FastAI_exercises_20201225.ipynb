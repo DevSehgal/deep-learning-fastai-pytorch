{
  "nbformat": 4,
  "nbformat_minor": 0,
  "metadata": {
    "colab": {
      "name": "FastAI exercises 20201225.ipynb",
      "provenance": [],
      "collapsed_sections": [],
      "authorship_tag": "ABX9TyNOP1IBnFWlmlhZBaAAeG+L",
      "include_colab_link": true
    },
    "kernelspec": {
      "name": "python3",
      "display_name": "Python 3"
    },
    "accelerator": "GPU"
  },
  "cells": [
    {
      "cell_type": "markdown",
      "metadata": {
        "id": "view-in-github",
        "colab_type": "text"
      },
      "source": [
        "<a href=\"https://colab.research.google.com/github/DevSehgal/deep-learning-fastai-pytorch/blob/main/FastAI_exercises_20201225.ipynb\" target=\"_parent\"><img src=\"https://colab.research.google.com/assets/colab-badge.svg\" alt=\"Open In Colab\"/></a>"
      ]
    },
    {
      "cell_type": "markdown",
      "metadata": {
        "id": "b1ns3U7SDmv2"
      },
      "source": [
        "###Creating this notebook to practice the concepts learned in FastAI course until chapter 4\n",
        "\n",
        "1.   Follow the entire learning process from scratch on MNIST\n",
        "2.   Replicate the 'bears' example for another set of images - think about an idea\n",
        "\n"
      ]
    },
    {
      "cell_type": "markdown",
      "metadata": {
        "id": "vC7OfUUbD3lF"
      },
      "source": [
        "#### Working on the MNIST end to end classifier first\n",
        "Steps to follow:\n",
        "\n",
        "1.   Create datasets for both training and validation\n",
        "2.   Create a simple linear function\n",
        "3.   Create a loss function\n",
        "4.   Create a function to calculate gradients, step\n",
        "5.   Repeat steps until loss is low enough\n",
        "\n"
      ]
    },
    {
      "cell_type": "markdown",
      "metadata": {
        "id": "gUObfn0MFMgL"
      },
      "source": [
        "To understand how PyTorch calculates gradient - check out this article\n",
        "\n",
        "https://towardsdatascience.com/pytorch-autograd-understanding-the-heart-of-pytorchs-magic-2686cd94ec95"
      ]
    },
    {
      "cell_type": "code",
      "metadata": {
        "colab": {
          "base_uri": "https://localhost:8080/"
        },
        "id": "ijMWwfXHOGu-",
        "outputId": "0e439a98-8671-42fb-e439-9cefb42cdadd"
      },
      "source": [
        "# Fastbook module contains relevant libraries\n",
        "!pip install -Uqq fastbook\n",
        "import fastbook\n",
        "\n",
        "# To setup fastbook in Colab\n",
        "fastbook.setup_book()"
      ],
      "execution_count": null,
      "outputs": [
        {
          "output_type": "stream",
          "text": [
            "\u001b[K     |████████████████████████████████| 727kB 12.3MB/s \n",
            "\u001b[K     |████████████████████████████████| 1.1MB 49.4MB/s \n",
            "\u001b[K     |████████████████████████████████| 194kB 56.2MB/s \n",
            "\u001b[K     |████████████████████████████████| 51kB 8.9MB/s \n",
            "\u001b[K     |████████████████████████████████| 61kB 10.7MB/s \n",
            "\u001b[?25hMounted at /content/gdrive\n"
          ],
          "name": "stdout"
        }
      ]
    },
    {
      "cell_type": "code",
      "metadata": {
        "id": "Xo9c9KCXQZty"
      },
      "source": [
        "from fastai.vision.all import *\n",
        "from fastbook import *"
      ],
      "execution_count": null,
      "outputs": []
    },
    {
      "cell_type": "code",
      "metadata": {
        "id": "YIuJTDOnPsWS"
      },
      "source": [
        "matplotlib.rc('image', cmap='Greys')"
      ],
      "execution_count": null,
      "outputs": []
    },
    {
      "cell_type": "code",
      "metadata": {
        "colab": {
          "base_uri": "https://localhost:8080/",
          "height": 16
        },
        "id": "4C4w4KY5Qeqv",
        "outputId": "b4cbbb07-6135-41d1-fde6-bd78f3494dea"
      },
      "source": [
        "#Download data to a folder and return the path\n",
        "path = untar_data(URLs.MNIST_SAMPLE)"
      ],
      "execution_count": null,
      "outputs": [
        {
          "output_type": "display_data",
          "data": {
            "text/html": [
              ""
            ],
            "text/plain": [
              "<IPython.core.display.HTML object>"
            ]
          },
          "metadata": {
            "tags": []
          }
        }
      ]
    },
    {
      "cell_type": "markdown",
      "metadata": {
        "id": "_u00aOZLwRcX"
      },
      "source": [
        "### Checking the contents of the data folder and playing around with the image files"
      ]
    },
    {
      "cell_type": "code",
      "metadata": {
        "colab": {
          "base_uri": "https://localhost:8080/"
        },
        "id": "Eh74EslImCrx",
        "outputId": "a663bd22-4af1-421c-b2b1-d7a392a4305d"
      },
      "source": [
        "#Path where the data is\n",
        "print(path)\n",
        "\n",
        "#Looking at the data folder\n",
        "print(path.ls())\n",
        "\n",
        "#Looking into the folders inside the data folder - there are 2 folders called '3' and '7' in 'train' folder and in 'valid' folder\n",
        "print((path/'train').ls()), print((path/'valid').ls())\n",
        "\n",
        "#Display names of 2 files in the folder '3'\n",
        "print((path/'train/3').ls()[0:2])\n",
        "\n",
        "#Checking number of files in each folder\n",
        "print(len((path/'train/3').ls()), len((path/'train/7').ls()))\n",
        "print(len((path/'valid/3').ls()), len((path/'valid/7').ls()))"
      ],
      "execution_count": null,
      "outputs": [
        {
          "output_type": "stream",
          "text": [
            "/root/.fastai/data/mnist_sample\n",
            "[Path('/root/.fastai/data/mnist_sample/labels.csv'), Path('/root/.fastai/data/mnist_sample/train'), Path('/root/.fastai/data/mnist_sample/valid')]\n",
            "[Path('/root/.fastai/data/mnist_sample/train/3'), Path('/root/.fastai/data/mnist_sample/train/7')]\n",
            "[Path('/root/.fastai/data/mnist_sample/valid/3'), Path('/root/.fastai/data/mnist_sample/valid/7')]\n",
            "[Path('/root/.fastai/data/mnist_sample/train/3/17330.png'), Path('/root/.fastai/data/mnist_sample/train/3/56234.png')]\n",
            "6131 6265\n",
            "1010 1028\n"
          ],
          "name": "stdout"
        }
      ]
    },
    {
      "cell_type": "code",
      "metadata": {
        "id": "xW6lFU2evK1Q"
      },
      "source": [
        "#Creating a list of the image files' path\n",
        "\n",
        "threes = (path/'train/3').ls().sorted()\n",
        "sevens = (path/'train/7').ls().sorted()"
      ],
      "execution_count": null,
      "outputs": []
    },
    {
      "cell_type": "code",
      "metadata": {
        "colab": {
          "base_uri": "https://localhost:8080/"
        },
        "id": "XkFs76Ez5jeS",
        "outputId": "c3f116b7-870c-4d8f-e2fc-4098a5c11e47"
      },
      "source": [
        "type(sevens)"
      ],
      "execution_count": null,
      "outputs": [
        {
          "output_type": "execute_result",
          "data": {
            "text/plain": [
              "fastcore.foundation.L"
            ]
          },
          "metadata": {
            "tags": []
          },
          "execution_count": 7
        }
      ]
    },
    {
      "cell_type": "code",
      "metadata": {
        "colab": {
          "base_uri": "https://localhost:8080/",
          "height": 44
        },
        "id": "lAifiZDbwmei",
        "outputId": "132a4b2d-7890-44c3-8f69-a1ffbad7c6b8"
      },
      "source": [
        "Image.open(threes[5])"
      ],
      "execution_count": null,
      "outputs": [
        {
          "output_type": "execute_result",
          "data": {
            "image/png": "[encoded data removed]",
            "text/plain": [
              "<PIL.PngImagePlugin.PngImageFile image mode=L size=28x28 at 0x7F46FD79CA90>"
            ]
          },
          "metadata": {
            "tags": []
          },
          "execution_count": 8
        }
      ]
    },
    {
      "cell_type": "code",
      "metadata": {
        "id": "EF7BIvMmzr4k"
      },
      "source": [
        "img = Image.open(threes[5])"
      ],
      "execution_count": null,
      "outputs": []
    },
    {
      "cell_type": "code",
      "metadata": {
        "colab": {
          "base_uri": "https://localhost:8080/",
          "height": 44
        },
        "id": "2mmKoHxSz-zC",
        "outputId": "f2f5db41-a4c7-46bd-e154-09e347952733"
      },
      "source": [
        "img"
      ],
      "execution_count": null,
      "outputs": [
        {
          "output_type": "execute_result",
          "data": {
            "image/png": "[encoded data removed]",
            "text/plain": [
              "<PIL.PngImagePlugin.PngImageFile image mode=L size=28x28 at 0x7F46FC8D2710>"
            ]
          },
          "metadata": {
            "tags": []
          },
          "execution_count": 10
        }
      ]
    },
    {
      "cell_type": "code",
      "metadata": {
        "colab": {
          "base_uri": "https://localhost:8080/"
        },
        "id": "1JM60sF51tLD",
        "outputId": "800d7f9d-a4e2-48d0-f198-2d241b4db8c5"
      },
      "source": [
        "# Displaying the image as a tensor\n",
        "tensor(img)"
      ],
      "execution_count": null,
      "outputs": [
        {
          "output_type": "execute_result",
          "data": {
            "text/plain": [
              "tensor([[  0,   0,   0,   0,   0,   0,   0,   0,   0,   0,   0,   0,   0,   0,   0,   0,   0,   0,   0,   0,   0,   0,   0,   0,   0,   0,   0,   0],\n",
              "        [  0,   0,   0,   0,   0,   0,   0,   0,   0,   0,   0,   0,   0,   0,   0,   0,   0,   0,   0,   0,   0,   0,   0,   0,   0,   0,   0,   0],\n",
              "        [  0,   0,   0,   0,   0,   0,   0,   0,   0,   0,   0,   0,   0,   0,   0,   0,   0,   0,   0,   0,   0,   0,   0,   0,   0,   0,   0,   0],\n",
              "        [  0,   0,   0,   0,   0,   0,   0,   0,  75, 105, 245, 253, 253, 255, 129,  37,   0,   0,   0,   0,   0,   0,   0,   0,   0,   0,   0,   0],\n",
              "        [  0,   0,   0,   0,   0,   0,   0,  62, 239, 252, 252, 252, 252, 253, 252, 223, 138,   7,   0,   0,   0,   0,   0,   0,   0,   0,   0,   0],\n",
              "        [  0,   0,   0,   0,   0,   0,   0, 162, 252, 252, 252, 252, 252, 253, 252, 252, 252, 126,   0,   0,   0,   0,   0,   0,   0,   0,   0,   0],\n",
              "        [  0,   0,   0,   0,   0,   0,   0,  40, 217, 252, 139, 132, 132, 133, 160, 252, 252, 212,  35,   0,   0,   0,   0,   0,   0,   0,   0,   0],\n",
              "        [  0,   0,   0,   0,   0,   0,   0,   0,  38,  99,   2,   0,   0,   0,   7, 173, 252, 252, 205,   0,   0,   0,   0,   0,   0,   0,   0,   0],\n",
              "        [  0,   0,   0,   0,   0,   0,   0,   0,   0,   0,   0,   0,   0,   0,   0,  48, 157, 252, 222,   0,   0,   0,   0,   0,   0,   0,   0,   0],\n",
              "        [  0,   0,   0,   0,   0,   0,   0,   0,   0,   0,   0,   0,   0,   0,   0,   0, 120, 252, 222,   0,   0,   0,   0,   0,   0,   0,   0,   0],\n",
              "        [  0,   0,   0,   0,   0,   0,   0,   0,   0,   0,   0,   0,   0,   0,   0,   6, 166, 252, 222,   0,   0,   0,   0,   0,   0,   0,   0,   0],\n",
              "        [  0,   0,   0,   0,   0,   0,   0,   0,   0,   0,   0,   0,   0,   0,   0, 129, 252, 252, 222,   0,   0,   0,   0,   0,   0,   0,   0,   0],\n",
              "        [  0,   0,   0,   0,   0,   0,   0,   0,   0,   0,   0,   0,   0,   0,  36, 216, 252, 252, 133,   0,   0,   0,   0,   0,   0,   0,   0,   0],\n",
              "        [  0,   0,   0,   0,   0,   0,   0,   0,   0,   0,  99, 219, 253, 255, 253, 253, 253, 253, 147, 105,   6,   0,   0,   0,   0,   0,   0,   0],\n",
              "        [  0,   0,   0,   0,  15,  57,   0,   0,   0,   0, 238, 252, 252, 253, 252, 252, 252, 252, 252, 252, 158,  50,   0,   0,   0,   0,   0,   0],\n",
              "        [  0,   0,   0,   7, 159, 246,  94,  11,   0,   0, 229, 252, 252, 253, 252, 252, 252, 252, 252, 252, 252, 236,  67,   0,   0,   0,   0,   0],\n",
              "        [  0,   0,   0, 105, 252, 252, 252, 212, 106,   0,  48, 153, 252, 133, 132, 132, 189, 252, 252, 252, 252, 252, 103,   0,   0,   0,   0,   0],\n",
              "        [  0,   0,   0,  74, 239, 252, 252, 252, 248, 223,  57,   6,  29,   0,   0,   0,  14,  29, 143, 252, 252, 252, 103,   0,   0,   0,   0,   0],\n",
              "        [  0,   0,   0,   0,  61, 171, 252, 252, 252, 252, 226, 152,  30,  18,   0,   0,   0,   0,  30, 252, 252, 252, 103,   0,   0,   0,   0,   0],\n",
              "        [  0,   0,   0,   0,   0,   7, 118, 236, 252, 252, 252, 252, 252, 204, 134, 134, 134, 134, 148, 252, 252, 252, 103,   0,   0,   0,   0,   0],\n",
              "        [  0,   0,   0,   0,   0,   0,   0,  12, 129, 252, 252, 252, 252, 253, 252, 252, 252, 252, 252, 252, 252, 183,  67,   0,   0,   0,   0,   0],\n",
              "        [  0,   0,   0,   0,   0,   0,   0,   0,   7, 137, 207, 241, 252, 253, 252, 252, 252, 252, 252, 252, 183,  14,   0,   0,   0,   0,   0,   0],\n",
              "        [  0,   0,   0,   0,   0,   0,   0,   0,   0,   0,   0, 106, 163, 253, 252, 252, 252, 252, 234, 103,  67,   0,   0,   0,   0,   0,   0,   0],\n",
              "        [  0,   0,   0,   0,   0,   0,   0,   0,   0,   0,   0,   0,   0,   0,   0,   0,   0,   0,   0,   0,   0,   0,   0,   0,   0,   0,   0,   0],\n",
              "        [  0,   0,   0,   0,   0,   0,   0,   0,   0,   0,   0,   0,   0,   0,   0,   0,   0,   0,   0,   0,   0,   0,   0,   0,   0,   0,   0,   0],\n",
              "        [  0,   0,   0,   0,   0,   0,   0,   0,   0,   0,   0,   0,   0,   0,   0,   0,   0,   0,   0,   0,   0,   0,   0,   0,   0,   0,   0,   0],\n",
              "        [  0,   0,   0,   0,   0,   0,   0,   0,   0,   0,   0,   0,   0,   0,   0,   0,   0,   0,   0,   0,   0,   0,   0,   0,   0,   0,   0,   0],\n",
              "        [  0,   0,   0,   0,   0,   0,   0,   0,   0,   0,   0,   0,   0,   0,   0,   0,   0,   0,   0,   0,   0,   0,   0,   0,   0,   0,   0,   0]], dtype=torch.uint8)"
            ]
          },
          "metadata": {
            "tags": []
          },
          "execution_count": 11
        }
      ]
    },
    {
      "cell_type": "code",
      "metadata": {
        "colab": {
          "base_uri": "https://localhost:8080/",
          "height": 533
        },
        "id": "9q3zjRcM2iyE",
        "outputId": "e3f280ea-f69f-4faa-ed2c-872eac9bc574"
      },
      "source": [
        "# Displaying image as a dataframe with color coded cells\n",
        "im_t = tensor(img)\n",
        "df = pd.DataFrame(im_t)\n",
        "df.style.set_properties(**{'font-size':'6pt'}).background_gradient('Greys')"
      ],
      "execution_count": null,
      "outputs": [
        {
          "output_type": "execute_result",
          "data": {
            "text/html": [
              "<style  type=\"text/css\" >\n",
              "#T_887030be_497d_11eb_90df_0242ac1c0002row0_col0,#T_887030be_497d_11eb_90df_0242ac1c0002row0_col1,#T_887030be_497d_11eb_90df_0242ac1c0002row0_col2,#T_887030be_497d_11eb_90df_0242ac1c0002row0_col3,#T_887030be_497d_11eb_90df_0242ac1c0002row0_col4,#T_887030be_497d_11eb_90df_0242ac1c0002row0_col5,#T_887030be_497d_11eb_90df_0242ac1c0002row0_col6,#T_887030be_497d_11eb_90df_0242ac1c0002row0_col7,#T_887030be_497d_11eb_90df_0242ac1c0002row0_col8,#T_887030be_497d_11eb_90df_0242ac1c0002row0_col9,#T_887030be_497d_11eb_90df_0242ac1c0002row0_col10,#T_887030be_497d_11eb_90df_0242ac1c0002row0_col11,#T_887030be_497d_11eb_90df_0242ac1c0002row0_col12,#T_887030be_497d_11eb_90df_0242ac1c0002row0_col13,#T_887030be_497d_11eb_90df_0242ac1c0002row0_col14,#T_887030be_497d_11eb_90df_0242ac1c0002row0_col15,#T_887030be_497d_11eb_90df_0242ac1c0002row0_col16,#T_887030be_497d_11eb_90df_0242ac1c0002row0_col17,#T_887030be_497d_11eb_90df_0242ac1c0002row0_col18,#T_887030be_497d_11eb_90df_0242ac1c0002row0_col19,#T_887030be_497d_11eb_90df_0242ac1c0002row0_col20,#T_887030be_497d_11eb_90df_0242ac1c0002row0_col21,#T_887030be_497d_11eb_90df_0242ac1c0002row0_col22,#T_887030be_497d_11eb_90df_0242ac1c0002row0_col23,#T_887030be_497d_11eb_90df_0242ac1c0002row0_col24,#T_887030be_497d_11eb_90df_0242ac1c0002row0_col25,#T_887030be_497d_11eb_90df_0242ac1c0002row0_col26,#T_887030be_497d_11eb_90df_0242ac1c0002row0_col27,#T_887030be_497d_11eb_90df_0242ac1c0002row1_col0,#T_887030be_497d_11eb_90df_0242ac1c0002row1_col1,#T_887030be_497d_11eb_90df_0242ac1c0002row1_col2,#T_887030be_497d_11eb_90df_0242ac1c0002row1_col3,#T_887030be_497d_11eb_90df_0242ac1c0002row1_col4,#T_887030be_497d_11eb_90df_0242ac1c0002row1_col5,#T_887030be_497d_11eb_90df_0242ac1c0002row1_col6,#T_887030be_497d_11eb_90df_0242ac1c0002row1_col7,#T_887030be_497d_11eb_90df_0242ac1c0002row1_col8,#T_887030be_497d_11eb_90df_0242ac1c0002row1_col9,#T_887030be_497d_11eb_90df_0242ac1c0002row1_col10,#T_887030be_497d_11eb_90df_0242ac1c0002row1_col11,#T_887030be_497d_11eb_90df_0242ac1c0002row1_col12,#T_887030be_497d_11eb_90df_0242ac1c0002row1_col13,#T_887030be_497d_11eb_90df_0242ac1c0002row1_col14,#T_887030be_497d_11eb_90df_0242ac1c0002row1_col15,#T_887030be_497d_11eb_90df_0242ac1c0002row1_col16,#T_887030be_497d_11eb_90df_0242ac1c0002row1_col17,#T_887030be_497d_11eb_90df_0242ac1c0002row1_col18,#T_887030be_497d_11eb_90df_0242ac1c0002row1_col19,#T_887030be_497d_11eb_90df_0242ac1c0002row1_col20,#T_887030be_497d_11eb_90df_0242ac1c0002row1_col21,#T_887030be_497d_11eb_90df_0242ac1c0002row1_col22,#T_887030be_497d_11eb_90df_0242ac1c0002row1_col23,#T_887030be_497d_11eb_90df_0242ac1c0002row1_col24,#T_887030be_497d_11eb_90df_0242ac1c0002row1_col25,#T_887030be_497d_11eb_90df_0242ac1c0002row1_col26,#T_887030be_497d_11eb_90df_0242ac1c0002row1_col27,#T_887030be_497d_11eb_90df_0242ac1c0002row2_col0,#T_887030be_497d_11eb_90df_0242ac1c0002row2_col1,#T_887030be_497d_11eb_90df_0242ac1c0002row2_col2,#T_887030be_497d_11eb_90df_0242ac1c0002row2_col3,#T_887030be_497d_11eb_90df_0242ac1c0002row2_col4,#T_887030be_497d_11eb_90df_0242ac1c0002row2_col5,#T_887030be_497d_11eb_90df_0242ac1c0002row2_col6,#T_887030be_497d_11eb_90df_0242ac1c0002row2_col7,#T_887030be_497d_11eb_90df_0242ac1c0002row2_col8,#T_887030be_497d_11eb_90df_0242ac1c0002row2_col9,#T_887030be_497d_11eb_90df_0242ac1c0002row2_col10,#T_887030be_497d_11eb_90df_0242ac1c0002row2_col11,#T_887030be_497d_11eb_90df_0242ac1c0002row2_col12,#T_887030be_497d_11eb_90df_0242ac1c0002row2_col13,#T_887030be_497d_11eb_90df_0242ac1c0002row2_col14,#T_887030be_497d_11eb_90df_0242ac1c0002row2_col15,#T_887030be_497d_11eb_90df_0242ac1c0002row2_col16,#T_887030be_497d_11eb_90df_0242ac1c0002row2_col17,#T_887030be_497d_11eb_90df_0242ac1c0002row2_col18,#T_887030be_497d_11eb_90df_0242ac1c0002row2_col19,#T_887030be_497d_11eb_90df_0242ac1c0002row2_col20,#T_887030be_497d_11eb_90df_0242ac1c0002row2_col21,#T_887030be_497d_11eb_90df_0242ac1c0002row2_col22,#T_887030be_497d_11eb_90df_0242ac1c0002row2_col23,#T_887030be_497d_11eb_90df_0242ac1c0002row2_col24,#T_887030be_497d_11eb_90df_0242ac1c0002row2_col25,#T_887030be_497d_11eb_90df_0242ac1c0002row2_col26,#T_887030be_497d_11eb_90df_0242ac1c0002row2_col27,#T_887030be_497d_11eb_90df_0242ac1c0002row3_col0,#T_887030be_497d_11eb_90df_0242ac1c0002row3_col1,#T_887030be_497d_11eb_90df_0242ac1c0002row3_col2,#T_887030be_497d_11eb_90df_0242ac1c0002row3_col3,#T_887030be_497d_11eb_90df_0242ac1c0002row3_col4,#T_887030be_497d_11eb_90df_0242ac1c0002row3_col5,#T_887030be_497d_11eb_90df_0242ac1c0002row3_col6,#T_887030be_497d_11eb_90df_0242ac1c0002row3_col7,#T_887030be_497d_11eb_90df_0242ac1c0002row3_col16,#T_887030be_497d_11eb_90df_0242ac1c0002row3_col17,#T_887030be_497d_11eb_90df_0242ac1c0002row3_col18,#T_887030be_497d_11eb_90df_0242ac1c0002row3_col19,#T_887030be_497d_11eb_90df_0242ac1c0002row3_col20,#T_887030be_497d_11eb_90df_0242ac1c0002row3_col21,#T_887030be_497d_11eb_90df_0242ac1c0002row3_col22,#T_887030be_497d_11eb_90df_0242ac1c0002row3_col23,#T_887030be_497d_11eb_90df_0242ac1c0002row3_col24,#T_887030be_497d_11eb_90df_0242ac1c0002row3_col25,#T_887030be_497d_11eb_90df_0242ac1c0002row3_col26,#T_887030be_497d_11eb_90df_0242ac1c0002row3_col27,#T_887030be_497d_11eb_90df_0242ac1c0002row4_col0,#T_887030be_497d_11eb_90df_0242ac1c0002row4_col1,#T_887030be_497d_11eb_90df_0242ac1c0002row4_col2,#T_887030be_497d_11eb_90df_0242ac1c0002row4_col3,#T_887030be_497d_11eb_90df_0242ac1c0002row4_col4,#T_887030be_497d_11eb_90df_0242ac1c0002row4_col5,#T_887030be_497d_11eb_90df_0242ac1c0002row4_col6,#T_887030be_497d_11eb_90df_0242ac1c0002row4_col18,#T_887030be_497d_11eb_90df_0242ac1c0002row4_col19,#T_887030be_497d_11eb_90df_0242ac1c0002row4_col20,#T_887030be_497d_11eb_90df_0242ac1c0002row4_col21,#T_887030be_497d_11eb_90df_0242ac1c0002row4_col22,#T_887030be_497d_11eb_90df_0242ac1c0002row4_col23,#T_887030be_497d_11eb_90df_0242ac1c0002row4_col24,#T_887030be_497d_11eb_90df_0242ac1c0002row4_col25,#T_887030be_497d_11eb_90df_0242ac1c0002row4_col26,#T_887030be_497d_11eb_90df_0242ac1c0002row4_col27,#T_887030be_497d_11eb_90df_0242ac1c0002row5_col0,#T_887030be_497d_11eb_90df_0242ac1c0002row5_col1,#T_887030be_497d_11eb_90df_0242ac1c0002row5_col2,#T_887030be_497d_11eb_90df_0242ac1c0002row5_col3,#T_887030be_497d_11eb_90df_0242ac1c0002row5_col4,#T_887030be_497d_11eb_90df_0242ac1c0002row5_col5,#T_887030be_497d_11eb_90df_0242ac1c0002row5_col6,#T_887030be_497d_11eb_90df_0242ac1c0002row5_col18,#T_887030be_497d_11eb_90df_0242ac1c0002row5_col19,#T_887030be_497d_11eb_90df_0242ac1c0002row5_col20,#T_887030be_497d_11eb_90df_0242ac1c0002row5_col21,#T_887030be_497d_11eb_90df_0242ac1c0002row5_col22,#T_887030be_497d_11eb_90df_0242ac1c0002row5_col23,#T_887030be_497d_11eb_90df_0242ac1c0002row5_col24,#T_887030be_497d_11eb_90df_0242ac1c0002row5_col25,#T_887030be_497d_11eb_90df_0242ac1c0002row5_col26,#T_887030be_497d_11eb_90df_0242ac1c0002row5_col27,#T_887030be_497d_11eb_90df_0242ac1c0002row6_col0,#T_887030be_497d_11eb_90df_0242ac1c0002row6_col1,#T_887030be_497d_11eb_90df_0242ac1c0002row6_col2,#T_887030be_497d_11eb_90df_0242ac1c0002row6_col3,#T_887030be_497d_11eb_90df_0242ac1c0002row6_col4,#T_887030be_497d_11eb_90df_0242ac1c0002row6_col5,#T_887030be_497d_11eb_90df_0242ac1c0002row6_col6,#T_887030be_497d_11eb_90df_0242ac1c0002row6_col19,#T_887030be_497d_11eb_90df_0242ac1c0002row6_col20,#T_887030be_497d_11eb_90df_0242ac1c0002row6_col21,#T_887030be_497d_11eb_90df_0242ac1c0002row6_col22,#T_887030be_497d_11eb_90df_0242ac1c0002row6_col23,#T_887030be_497d_11eb_90df_0242ac1c0002row6_col24,#T_887030be_497d_11eb_90df_0242ac1c0002row6_col25,#T_887030be_497d_11eb_90df_0242ac1c0002row6_col26,#T_887030be_497d_11eb_90df_0242ac1c0002row6_col27,#T_887030be_497d_11eb_90df_0242ac1c0002row7_col0,#T_887030be_497d_11eb_90df_0242ac1c0002row7_col1,#T_887030be_497d_11eb_90df_0242ac1c0002row7_col2,#T_887030be_497d_11eb_90df_0242ac1c0002row7_col3,#T_887030be_497d_11eb_90df_0242ac1c0002row7_col4,#T_887030be_497d_11eb_90df_0242ac1c0002row7_col5,#T_887030be_497d_11eb_90df_0242ac1c0002row7_col6,#T_887030be_497d_11eb_90df_0242ac1c0002row7_col7,#T_887030be_497d_11eb_90df_0242ac1c0002row7_col11,#T_887030be_497d_11eb_90df_0242ac1c0002row7_col12,#T_887030be_497d_11eb_90df_0242ac1c0002row7_col13,#T_887030be_497d_11eb_90df_0242ac1c0002row7_col19,#T_887030be_497d_11eb_90df_0242ac1c0002row7_col20,#T_887030be_497d_11eb_90df_0242ac1c0002row7_col21,#T_887030be_497d_11eb_90df_0242ac1c0002row7_col22,#T_887030be_497d_11eb_90df_0242ac1c0002row7_col23,#T_887030be_497d_11eb_90df_0242ac1c0002row7_col24,#T_887030be_497d_11eb_90df_0242ac1c0002row7_col25,#T_887030be_497d_11eb_90df_0242ac1c0002row7_col26,#T_887030be_497d_11eb_90df_0242ac1c0002row7_col27,#T_887030be_497d_11eb_90df_0242ac1c0002row8_col0,#T_887030be_497d_11eb_90df_0242ac1c0002row8_col1,#T_887030be_497d_11eb_90df_0242ac1c0002row8_col2,#T_887030be_497d_11eb_90df_0242ac1c0002row8_col3,#T_887030be_497d_11eb_90df_0242ac1c0002row8_col4,#T_887030be_497d_11eb_90df_0242ac1c0002row8_col5,#T_887030be_497d_11eb_90df_0242ac1c0002row8_col6,#T_887030be_497d_11eb_90df_0242ac1c0002row8_col7,#T_887030be_497d_11eb_90df_0242ac1c0002row8_col8,#T_887030be_497d_11eb_90df_0242ac1c0002row8_col9,#T_887030be_497d_11eb_90df_0242ac1c0002row8_col10,#T_887030be_497d_11eb_90df_0242ac1c0002row8_col11,#T_887030be_497d_11eb_90df_0242ac1c0002row8_col12,#T_887030be_497d_11eb_90df_0242ac1c0002row8_col13,#T_887030be_497d_11eb_90df_0242ac1c0002row8_col14,#T_887030be_497d_11eb_90df_0242ac1c0002row8_col19,#T_887030be_497d_11eb_90df_0242ac1c0002row8_col20,#T_887030be_497d_11eb_90df_0242ac1c0002row8_col21,#T_887030be_497d_11eb_90df_0242ac1c0002row8_col22,#T_887030be_497d_11eb_90df_0242ac1c0002row8_col23,#T_887030be_497d_11eb_90df_0242ac1c0002row8_col24,#T_887030be_497d_11eb_90df_0242ac1c0002row8_col25,#T_887030be_497d_11eb_90df_0242ac1c0002row8_col26,#T_887030be_497d_11eb_90df_0242ac1c0002row8_col27,#T_887030be_497d_11eb_90df_0242ac1c0002row9_col0,#T_887030be_497d_11eb_90df_0242ac1c0002row9_col1,#T_887030be_497d_11eb_90df_0242ac1c0002row9_col2,#T_887030be_497d_11eb_90df_0242ac1c0002row9_col3,#T_887030be_497d_11eb_90df_0242ac1c0002row9_col4,#T_887030be_497d_11eb_90df_0242ac1c0002row9_col5,#T_887030be_497d_11eb_90df_0242ac1c0002row9_col6,#T_887030be_497d_11eb_90df_0242ac1c0002row9_col7,#T_887030be_497d_11eb_90df_0242ac1c0002row9_col8,#T_887030be_497d_11eb_90df_0242ac1c0002row9_col9,#T_887030be_497d_11eb_90df_0242ac1c0002row9_col10,#T_887030be_497d_11eb_90df_0242ac1c0002row9_col11,#T_887030be_497d_11eb_90df_0242ac1c0002row9_col12,#T_887030be_497d_11eb_90df_0242ac1c0002row9_col13,#T_887030be_497d_11eb_90df_0242ac1c0002row9_col14,#T_887030be_497d_11eb_90df_0242ac1c0002row9_col15,#T_887030be_497d_11eb_90df_0242ac1c0002row9_col19,#T_887030be_497d_11eb_90df_0242ac1c0002row9_col20,#T_887030be_497d_11eb_90df_0242ac1c0002row9_col21,#T_887030be_497d_11eb_90df_0242ac1c0002row9_col22,#T_887030be_497d_11eb_90df_0242ac1c0002row9_col23,#T_887030be_497d_11eb_90df_0242ac1c0002row9_col24,#T_887030be_497d_11eb_90df_0242ac1c0002row9_col25,#T_887030be_497d_11eb_90df_0242ac1c0002row9_col26,#T_887030be_497d_11eb_90df_0242ac1c0002row9_col27,#T_887030be_497d_11eb_90df_0242ac1c0002row10_col0,#T_887030be_497d_11eb_90df_0242ac1c0002row10_col1,#T_887030be_497d_11eb_90df_0242ac1c0002row10_col2,#T_887030be_497d_11eb_90df_0242ac1c0002row10_col3,#T_887030be_497d_11eb_90df_0242ac1c0002row10_col4,#T_887030be_497d_11eb_90df_0242ac1c0002row10_col5,#T_887030be_497d_11eb_90df_0242ac1c0002row10_col6,#T_887030be_497d_11eb_90df_0242ac1c0002row10_col7,#T_887030be_497d_11eb_90df_0242ac1c0002row10_col8,#T_887030be_497d_11eb_90df_0242ac1c0002row10_col9,#T_887030be_497d_11eb_90df_0242ac1c0002row10_col10,#T_887030be_497d_11eb_90df_0242ac1c0002row10_col11,#T_887030be_497d_11eb_90df_0242ac1c0002row10_col12,#T_887030be_497d_11eb_90df_0242ac1c0002row10_col13,#T_887030be_497d_11eb_90df_0242ac1c0002row10_col14,#T_887030be_497d_11eb_90df_0242ac1c0002row10_col19,#T_887030be_497d_11eb_90df_0242ac1c0002row10_col20,#T_887030be_497d_11eb_90df_0242ac1c0002row10_col21,#T_887030be_497d_11eb_90df_0242ac1c0002row10_col22,#T_887030be_497d_11eb_90df_0242ac1c0002row10_col23,#T_887030be_497d_11eb_90df_0242ac1c0002row10_col24,#T_887030be_497d_11eb_90df_0242ac1c0002row10_col25,#T_887030be_497d_11eb_90df_0242ac1c0002row10_col26,#T_887030be_497d_11eb_90df_0242ac1c0002row10_col27,#T_887030be_497d_11eb_90df_0242ac1c0002row11_col0,#T_887030be_497d_11eb_90df_0242ac1c0002row11_col1,#T_887030be_497d_11eb_90df_0242ac1c0002row11_col2,#T_887030be_497d_11eb_90df_0242ac1c0002row11_col3,#T_887030be_497d_11eb_90df_0242ac1c0002row11_col4,#T_887030be_497d_11eb_90df_0242ac1c0002row11_col5,#T_887030be_497d_11eb_90df_0242ac1c0002row11_col6,#T_887030be_497d_11eb_90df_0242ac1c0002row11_col7,#T_887030be_497d_11eb_90df_0242ac1c0002row11_col8,#T_887030be_497d_11eb_90df_0242ac1c0002row11_col9,#T_887030be_497d_11eb_90df_0242ac1c0002row11_col10,#T_887030be_497d_11eb_90df_0242ac1c0002row11_col11,#T_887030be_497d_11eb_90df_0242ac1c0002row11_col12,#T_887030be_497d_11eb_90df_0242ac1c0002row11_col13,#T_887030be_497d_11eb_90df_0242ac1c0002row11_col14,#T_887030be_497d_11eb_90df_0242ac1c0002row11_col19,#T_887030be_497d_11eb_90df_0242ac1c0002row11_col20,#T_887030be_497d_11eb_90df_0242ac1c0002row11_col21,#T_887030be_497d_11eb_90df_0242ac1c0002row11_col22,#T_887030be_497d_11eb_90df_0242ac1c0002row11_col23,#T_887030be_497d_11eb_90df_0242ac1c0002row11_col24,#T_887030be_497d_11eb_90df_0242ac1c0002row11_col25,#T_887030be_497d_11eb_90df_0242ac1c0002row11_col26,#T_887030be_497d_11eb_90df_0242ac1c0002row11_col27,#T_887030be_497d_11eb_90df_0242ac1c0002row12_col0,#T_887030be_497d_11eb_90df_0242ac1c0002row12_col1,#T_887030be_497d_11eb_90df_0242ac1c0002row12_col2,#T_887030be_497d_11eb_90df_0242ac1c0002row12_col3,#T_887030be_497d_11eb_90df_0242ac1c0002row12_col4,#T_887030be_497d_11eb_90df_0242ac1c0002row12_col5,#T_887030be_497d_11eb_90df_0242ac1c0002row12_col6,#T_887030be_497d_11eb_90df_0242ac1c0002row12_col7,#T_887030be_497d_11eb_90df_0242ac1c0002row12_col8,#T_887030be_497d_11eb_90df_0242ac1c0002row12_col9,#T_887030be_497d_11eb_90df_0242ac1c0002row12_col10,#T_887030be_497d_11eb_90df_0242ac1c0002row12_col11,#T_887030be_497d_11eb_90df_0242ac1c0002row12_col12,#T_887030be_497d_11eb_90df_0242ac1c0002row12_col13,#T_887030be_497d_11eb_90df_0242ac1c0002row12_col19,#T_887030be_497d_11eb_90df_0242ac1c0002row12_col20,#T_887030be_497d_11eb_90df_0242ac1c0002row12_col21,#T_887030be_497d_11eb_90df_0242ac1c0002row12_col22,#T_887030be_497d_11eb_90df_0242ac1c0002row12_col23,#T_887030be_497d_11eb_90df_0242ac1c0002row12_col24,#T_887030be_497d_11eb_90df_0242ac1c0002row12_col25,#T_887030be_497d_11eb_90df_0242ac1c0002row12_col26,#T_887030be_497d_11eb_90df_0242ac1c0002row12_col27,#T_887030be_497d_11eb_90df_0242ac1c0002row13_col0,#T_887030be_497d_11eb_90df_0242ac1c0002row13_col1,#T_887030be_497d_11eb_90df_0242ac1c0002row13_col2,#T_887030be_497d_11eb_90df_0242ac1c0002row13_col3,#T_887030be_497d_11eb_90df_0242ac1c0002row13_col4,#T_887030be_497d_11eb_90df_0242ac1c0002row13_col5,#T_887030be_497d_11eb_90df_0242ac1c0002row13_col6,#T_887030be_497d_11eb_90df_0242ac1c0002row13_col7,#T_887030be_497d_11eb_90df_0242ac1c0002row13_col8,#T_887030be_497d_11eb_90df_0242ac1c0002row13_col9,#T_887030be_497d_11eb_90df_0242ac1c0002row13_col21,#T_887030be_497d_11eb_90df_0242ac1c0002row13_col22,#T_887030be_497d_11eb_90df_0242ac1c0002row13_col23,#T_887030be_497d_11eb_90df_0242ac1c0002row13_col24,#T_887030be_497d_11eb_90df_0242ac1c0002row13_col25,#T_887030be_497d_11eb_90df_0242ac1c0002row13_col26,#T_887030be_497d_11eb_90df_0242ac1c0002row13_col27,#T_887030be_497d_11eb_90df_0242ac1c0002row14_col0,#T_887030be_497d_11eb_90df_0242ac1c0002row14_col1,#T_887030be_497d_11eb_90df_0242ac1c0002row14_col2,#T_887030be_497d_11eb_90df_0242ac1c0002row14_col3,#T_887030be_497d_11eb_90df_0242ac1c0002row14_col6,#T_887030be_497d_11eb_90df_0242ac1c0002row14_col7,#T_887030be_497d_11eb_90df_0242ac1c0002row14_col8,#T_887030be_497d_11eb_90df_0242ac1c0002row14_col9,#T_887030be_497d_11eb_90df_0242ac1c0002row14_col22,#T_887030be_497d_11eb_90df_0242ac1c0002row14_col23,#T_887030be_497d_11eb_90df_0242ac1c0002row14_col24,#T_887030be_497d_11eb_90df_0242ac1c0002row14_col25,#T_887030be_497d_11eb_90df_0242ac1c0002row14_col26,#T_887030be_497d_11eb_90df_0242ac1c0002row14_col27,#T_887030be_497d_11eb_90df_0242ac1c0002row15_col0,#T_887030be_497d_11eb_90df_0242ac1c0002row15_col1,#T_887030be_497d_11eb_90df_0242ac1c0002row15_col2,#T_887030be_497d_11eb_90df_0242ac1c0002row15_col8,#T_887030be_497d_11eb_90df_0242ac1c0002row15_col9,#T_887030be_497d_11eb_90df_0242ac1c0002row15_col23,#T_887030be_497d_11eb_90df_0242ac1c0002row15_col24,#T_887030be_497d_11eb_90df_0242ac1c0002row15_col25,#T_887030be_497d_11eb_90df_0242ac1c0002row15_col26,#T_887030be_497d_11eb_90df_0242ac1c0002row15_col27,#T_887030be_497d_11eb_90df_0242ac1c0002row16_col0,#T_887030be_497d_11eb_90df_0242ac1c0002row16_col1,#T_887030be_497d_11eb_90df_0242ac1c0002row16_col2,#T_887030be_497d_11eb_90df_0242ac1c0002row16_col9,#T_887030be_497d_11eb_90df_0242ac1c0002row16_col23,#T_887030be_497d_11eb_90df_0242ac1c0002row16_col24,#T_887030be_497d_11eb_90df_0242ac1c0002row16_col25,#T_887030be_497d_11eb_90df_0242ac1c0002row16_col26,#T_887030be_497d_11eb_90df_0242ac1c0002row16_col27,#T_887030be_497d_11eb_90df_0242ac1c0002row17_col0,#T_887030be_497d_11eb_90df_0242ac1c0002row17_col1,#T_887030be_497d_11eb_90df_0242ac1c0002row17_col2,#T_887030be_497d_11eb_90df_0242ac1c0002row17_col13,#T_887030be_497d_11eb_90df_0242ac1c0002row17_col14,#T_887030be_497d_11eb_90df_0242ac1c0002row17_col15,#T_887030be_497d_11eb_90df_0242ac1c0002row17_col23,#T_887030be_497d_11eb_90df_0242ac1c0002row17_col24,#T_887030be_497d_11eb_90df_0242ac1c0002row17_col25,#T_887030be_497d_11eb_90df_0242ac1c0002row17_col26,#T_887030be_497d_11eb_90df_0242ac1c0002row17_col27,#T_887030be_497d_11eb_90df_0242ac1c0002row18_col0,#T_887030be_497d_11eb_90df_0242ac1c0002row18_col1,#T_887030be_497d_11eb_90df_0242ac1c0002row18_col2,#T_887030be_497d_11eb_90df_0242ac1c0002row18_col3,#T_887030be_497d_11eb_90df_0242ac1c0002row18_col14,#T_887030be_497d_11eb_90df_0242ac1c0002row18_col15,#T_887030be_497d_11eb_90df_0242ac1c0002row18_col16,#T_887030be_497d_11eb_90df_0242ac1c0002row18_col17,#T_887030be_497d_11eb_90df_0242ac1c0002row18_col23,#T_887030be_497d_11eb_90df_0242ac1c0002row18_col24,#T_887030be_497d_11eb_90df_0242ac1c0002row18_col25,#T_887030be_497d_11eb_90df_0242ac1c0002row18_col26,#T_887030be_497d_11eb_90df_0242ac1c0002row18_col27,#T_887030be_497d_11eb_90df_0242ac1c0002row19_col0,#T_887030be_497d_11eb_90df_0242ac1c0002row19_col1,#T_887030be_497d_11eb_90df_0242ac1c0002row19_col2,#T_887030be_497d_11eb_90df_0242ac1c0002row19_col3,#T_887030be_497d_11eb_90df_0242ac1c0002row19_col4,#T_887030be_497d_11eb_90df_0242ac1c0002row19_col23,#T_887030be_497d_11eb_90df_0242ac1c0002row19_col24,#T_887030be_497d_11eb_90df_0242ac1c0002row19_col25,#T_887030be_497d_11eb_90df_0242ac1c0002row19_col26,#T_887030be_497d_11eb_90df_0242ac1c0002row19_col27,#T_887030be_497d_11eb_90df_0242ac1c0002row20_col0,#T_887030be_497d_11eb_90df_0242ac1c0002row20_col1,#T_887030be_497d_11eb_90df_0242ac1c0002row20_col2,#T_887030be_497d_11eb_90df_0242ac1c0002row20_col3,#T_887030be_497d_11eb_90df_0242ac1c0002row20_col4,#T_887030be_497d_11eb_90df_0242ac1c0002row20_col5,#T_887030be_497d_11eb_90df_0242ac1c0002row20_col6,#T_887030be_497d_11eb_90df_0242ac1c0002row20_col23,#T_887030be_497d_11eb_90df_0242ac1c0002row20_col24,#T_887030be_497d_11eb_90df_0242ac1c0002row20_col25,#T_887030be_497d_11eb_90df_0242ac1c0002row20_col26,#T_887030be_497d_11eb_90df_0242ac1c0002row20_col27,#T_887030be_497d_11eb_90df_0242ac1c0002row21_col0,#T_887030be_497d_11eb_90df_0242ac1c0002row21_col1,#T_887030be_497d_11eb_90df_0242ac1c0002row21_col2,#T_887030be_497d_11eb_90df_0242ac1c0002row21_col3,#T_887030be_497d_11eb_90df_0242ac1c0002row21_col4,#T_887030be_497d_11eb_90df_0242ac1c0002row21_col5,#T_887030be_497d_11eb_90df_0242ac1c0002row21_col6,#T_887030be_497d_11eb_90df_0242ac1c0002row21_col7,#T_887030be_497d_11eb_90df_0242ac1c0002row21_col22,#T_887030be_497d_11eb_90df_0242ac1c0002row21_col23,#T_887030be_497d_11eb_90df_0242ac1c0002row21_col24,#T_887030be_497d_11eb_90df_0242ac1c0002row21_col25,#T_887030be_497d_11eb_90df_0242ac1c0002row21_col26,#T_887030be_497d_11eb_90df_0242ac1c0002row21_col27,#T_887030be_497d_11eb_90df_0242ac1c0002row22_col0,#T_887030be_497d_11eb_90df_0242ac1c0002row22_col1,#T_887030be_497d_11eb_90df_0242ac1c0002row22_col2,#T_887030be_497d_11eb_90df_0242ac1c0002row22_col3,#T_887030be_497d_11eb_90df_0242ac1c0002row22_col4,#T_887030be_497d_11eb_90df_0242ac1c0002row22_col5,#T_887030be_497d_11eb_90df_0242ac1c0002row22_col6,#T_887030be_497d_11eb_90df_0242ac1c0002row22_col7,#T_887030be_497d_11eb_90df_0242ac1c0002row22_col8,#T_887030be_497d_11eb_90df_0242ac1c0002row22_col9,#T_887030be_497d_11eb_90df_0242ac1c0002row22_col10,#T_887030be_497d_11eb_90df_0242ac1c0002row22_col21,#T_887030be_497d_11eb_90df_0242ac1c0002row22_col22,#T_887030be_497d_11eb_90df_0242ac1c0002row22_col23,#T_887030be_497d_11eb_90df_0242ac1c0002row22_col24,#T_887030be_497d_11eb_90df_0242ac1c0002row22_col25,#T_887030be_497d_11eb_90df_0242ac1c0002row22_col26,#T_887030be_497d_11eb_90df_0242ac1c0002row22_col27,#T_887030be_497d_11eb_90df_0242ac1c0002row23_col0,#T_887030be_497d_11eb_90df_0242ac1c0002row23_col1,#T_887030be_497d_11eb_90df_0242ac1c0002row23_col2,#T_887030be_497d_11eb_90df_0242ac1c0002row23_col3,#T_887030be_497d_11eb_90df_0242ac1c0002row23_col4,#T_887030be_497d_11eb_90df_0242ac1c0002row23_col5,#T_887030be_497d_11eb_90df_0242ac1c0002row23_col6,#T_887030be_497d_11eb_90df_0242ac1c0002row23_col7,#T_887030be_497d_11eb_90df_0242ac1c0002row23_col8,#T_887030be_497d_11eb_90df_0242ac1c0002row23_col9,#T_887030be_497d_11eb_90df_0242ac1c0002row23_col10,#T_887030be_497d_11eb_90df_0242ac1c0002row23_col11,#T_887030be_497d_11eb_90df_0242ac1c0002row23_col12,#T_887030be_497d_11eb_90df_0242ac1c0002row23_col13,#T_887030be_497d_11eb_90df_0242ac1c0002row23_col14,#T_887030be_497d_11eb_90df_0242ac1c0002row23_col15,#T_887030be_497d_11eb_90df_0242ac1c0002row23_col16,#T_887030be_497d_11eb_90df_0242ac1c0002row23_col17,#T_887030be_497d_11eb_90df_0242ac1c0002row23_col18,#T_887030be_497d_11eb_90df_0242ac1c0002row23_col19,#T_887030be_497d_11eb_90df_0242ac1c0002row23_col20,#T_887030be_497d_11eb_90df_0242ac1c0002row23_col21,#T_887030be_497d_11eb_90df_0242ac1c0002row23_col22,#T_887030be_497d_11eb_90df_0242ac1c0002row23_col23,#T_887030be_497d_11eb_90df_0242ac1c0002row23_col24,#T_887030be_497d_11eb_90df_0242ac1c0002row23_col25,#T_887030be_497d_11eb_90df_0242ac1c0002row23_col26,#T_887030be_497d_11eb_90df_0242ac1c0002row23_col27,#T_887030be_497d_11eb_90df_0242ac1c0002row24_col0,#T_887030be_497d_11eb_90df_0242ac1c0002row24_col1,#T_887030be_497d_11eb_90df_0242ac1c0002row24_col2,#T_887030be_497d_11eb_90df_0242ac1c0002row24_col3,#T_887030be_497d_11eb_90df_0242ac1c0002row24_col4,#T_887030be_497d_11eb_90df_0242ac1c0002row24_col5,#T_887030be_497d_11eb_90df_0242ac1c0002row24_col6,#T_887030be_497d_11eb_90df_0242ac1c0002row24_col7,#T_887030be_497d_11eb_90df_0242ac1c0002row24_col8,#T_887030be_497d_11eb_90df_0242ac1c0002row24_col9,#T_887030be_497d_11eb_90df_0242ac1c0002row24_col10,#T_887030be_497d_11eb_90df_0242ac1c0002row24_col11,#T_887030be_497d_11eb_90df_0242ac1c0002row24_col12,#T_887030be_497d_11eb_90df_0242ac1c0002row24_col13,#T_887030be_497d_11eb_90df_0242ac1c0002row24_col14,#T_887030be_497d_11eb_90df_0242ac1c0002row24_col15,#T_887030be_497d_11eb_90df_0242ac1c0002row24_col16,#T_887030be_497d_11eb_90df_0242ac1c0002row24_col17,#T_887030be_497d_11eb_90df_0242ac1c0002row24_col18,#T_887030be_497d_11eb_90df_0242ac1c0002row24_col19,#T_887030be_497d_11eb_90df_0242ac1c0002row24_col20,#T_887030be_497d_11eb_90df_0242ac1c0002row24_col21,#T_887030be_497d_11eb_90df_0242ac1c0002row24_col22,#T_887030be_497d_11eb_90df_0242ac1c0002row24_col23,#T_887030be_497d_11eb_90df_0242ac1c0002row24_col24,#T_887030be_497d_11eb_90df_0242ac1c0002row24_col25,#T_887030be_497d_11eb_90df_0242ac1c0002row24_col26,#T_887030be_497d_11eb_90df_0242ac1c0002row24_col27,#T_887030be_497d_11eb_90df_0242ac1c0002row25_col0,#T_887030be_497d_11eb_90df_0242ac1c0002row25_col1,#T_887030be_497d_11eb_90df_0242ac1c0002row25_col2,#T_887030be_497d_11eb_90df_0242ac1c0002row25_col3,#T_887030be_497d_11eb_90df_0242ac1c0002row25_col4,#T_887030be_497d_11eb_90df_0242ac1c0002row25_col5,#T_887030be_497d_11eb_90df_0242ac1c0002row25_col6,#T_887030be_497d_11eb_90df_0242ac1c0002row25_col7,#T_887030be_497d_11eb_90df_0242ac1c0002row25_col8,#T_887030be_497d_11eb_90df_0242ac1c0002row25_col9,#T_887030be_497d_11eb_90df_0242ac1c0002row25_col10,#T_887030be_497d_11eb_90df_0242ac1c0002row25_col11,#T_887030be_497d_11eb_90df_0242ac1c0002row25_col12,#T_887030be_497d_11eb_90df_0242ac1c0002row25_col13,#T_887030be_497d_11eb_90df_0242ac1c0002row25_col14,#T_887030be_497d_11eb_90df_0242ac1c0002row25_col15,#T_887030be_497d_11eb_90df_0242ac1c0002row25_col16,#T_887030be_497d_11eb_90df_0242ac1c0002row25_col17,#T_887030be_497d_11eb_90df_0242ac1c0002row25_col18,#T_887030be_497d_11eb_90df_0242ac1c0002row25_col19,#T_887030be_497d_11eb_90df_0242ac1c0002row25_col20,#T_887030be_497d_11eb_90df_0242ac1c0002row25_col21,#T_887030be_497d_11eb_90df_0242ac1c0002row25_col22,#T_887030be_497d_11eb_90df_0242ac1c0002row25_col23,#T_887030be_497d_11eb_90df_0242ac1c0002row25_col24,#T_887030be_497d_11eb_90df_0242ac1c0002row25_col25,#T_887030be_497d_11eb_90df_0242ac1c0002row25_col26,#T_887030be_497d_11eb_90df_0242ac1c0002row25_col27,#T_887030be_497d_11eb_90df_0242ac1c0002row26_col0,#T_887030be_497d_11eb_90df_0242ac1c0002row26_col1,#T_887030be_497d_11eb_90df_0242ac1c0002row26_col2,#T_887030be_497d_11eb_90df_0242ac1c0002row26_col3,#T_887030be_497d_11eb_90df_0242ac1c0002row26_col4,#T_887030be_497d_11eb_90df_0242ac1c0002row26_col5,#T_887030be_497d_11eb_90df_0242ac1c0002row26_col6,#T_887030be_497d_11eb_90df_0242ac1c0002row26_col7,#T_887030be_497d_11eb_90df_0242ac1c0002row26_col8,#T_887030be_497d_11eb_90df_0242ac1c0002row26_col9,#T_887030be_497d_11eb_90df_0242ac1c0002row26_col10,#T_887030be_497d_11eb_90df_0242ac1c0002row26_col11,#T_887030be_497d_11eb_90df_0242ac1c0002row26_col12,#T_887030be_497d_11eb_90df_0242ac1c0002row26_col13,#T_887030be_497d_11eb_90df_0242ac1c0002row26_col14,#T_887030be_497d_11eb_90df_0242ac1c0002row26_col15,#T_887030be_497d_11eb_90df_0242ac1c0002row26_col16,#T_887030be_497d_11eb_90df_0242ac1c0002row26_col17,#T_887030be_497d_11eb_90df_0242ac1c0002row26_col18,#T_887030be_497d_11eb_90df_0242ac1c0002row26_col19,#T_887030be_497d_11eb_90df_0242ac1c0002row26_col20,#T_887030be_497d_11eb_90df_0242ac1c0002row26_col21,#T_887030be_497d_11eb_90df_0242ac1c0002row26_col22,#T_887030be_497d_11eb_90df_0242ac1c0002row26_col23,#T_887030be_497d_11eb_90df_0242ac1c0002row26_col24,#T_887030be_497d_11eb_90df_0242ac1c0002row26_col25,#T_887030be_497d_11eb_90df_0242ac1c0002row26_col26,#T_887030be_497d_11eb_90df_0242ac1c0002row26_col27,#T_887030be_497d_11eb_90df_0242ac1c0002row27_col0,#T_887030be_497d_11eb_90df_0242ac1c0002row27_col1,#T_887030be_497d_11eb_90df_0242ac1c0002row27_col2,#T_887030be_497d_11eb_90df_0242ac1c0002row27_col3,#T_887030be_497d_11eb_90df_0242ac1c0002row27_col4,#T_887030be_497d_11eb_90df_0242ac1c0002row27_col5,#T_887030be_497d_11eb_90df_0242ac1c0002row27_col6,#T_887030be_497d_11eb_90df_0242ac1c0002row27_col7,#T_887030be_497d_11eb_90df_0242ac1c0002row27_col8,#T_887030be_497d_11eb_90df_0242ac1c0002row27_col9,#T_887030be_497d_11eb_90df_0242ac1c0002row27_col10,#T_887030be_497d_11eb_90df_0242ac1c0002row27_col11,#T_887030be_497d_11eb_90df_0242ac1c0002row27_col12,#T_887030be_497d_11eb_90df_0242ac1c0002row27_col13,#T_887030be_497d_11eb_90df_0242ac1c0002row27_col14,#T_887030be_497d_11eb_90df_0242ac1c0002row27_col15,#T_887030be_497d_11eb_90df_0242ac1c0002row27_col16,#T_887030be_497d_11eb_90df_0242ac1c0002row27_col17,#T_887030be_497d_11eb_90df_0242ac1c0002row27_col18,#T_887030be_497d_11eb_90df_0242ac1c0002row27_col19,#T_887030be_497d_11eb_90df_0242ac1c0002row27_col20,#T_887030be_497d_11eb_90df_0242ac1c0002row27_col21,#T_887030be_497d_11eb_90df_0242ac1c0002row27_col22,#T_887030be_497d_11eb_90df_0242ac1c0002row27_col23,#T_887030be_497d_11eb_90df_0242ac1c0002row27_col24,#T_887030be_497d_11eb_90df_0242ac1c0002row27_col25,#T_887030be_497d_11eb_90df_0242ac1c0002row27_col26,#T_887030be_497d_11eb_90df_0242ac1c0002row27_col27{\n",
              "            font-size:  6pt;\n",
              "            background-color:  #ffffff;\n",
              "            color:  #000000;\n",
              "        }#T_887030be_497d_11eb_90df_0242ac1c0002row3_col8{\n",
              "            font-size:  6pt;\n",
              "            background-color:  #cecece;\n",
              "            color:  #000000;\n",
              "        }#T_887030be_497d_11eb_90df_0242ac1c0002row3_col9,#T_887030be_497d_11eb_90df_0242ac1c0002row13_col19{\n",
              "            font-size:  6pt;\n",
              "            background-color:  #b0b0b0;\n",
              "            color:  #000000;\n",
              "        }#T_887030be_497d_11eb_90df_0242ac1c0002row3_col10{\n",
              "            font-size:  6pt;\n",
              "            background-color:  #080808;\n",
              "            color:  #f1f1f1;\n",
              "        }#T_887030be_497d_11eb_90df_0242ac1c0002row3_col11,#T_887030be_497d_11eb_90df_0242ac1c0002row3_col12,#T_887030be_497d_11eb_90df_0242ac1c0002row3_col13,#T_887030be_497d_11eb_90df_0242ac1c0002row4_col9,#T_887030be_497d_11eb_90df_0242ac1c0002row4_col10,#T_887030be_497d_11eb_90df_0242ac1c0002row5_col8,#T_887030be_497d_11eb_90df_0242ac1c0002row5_col9,#T_887030be_497d_11eb_90df_0242ac1c0002row5_col10,#T_887030be_497d_11eb_90df_0242ac1c0002row6_col9,#T_887030be_497d_11eb_90df_0242ac1c0002row13_col12,#T_887030be_497d_11eb_90df_0242ac1c0002row13_col13,#T_887030be_497d_11eb_90df_0242ac1c0002row13_col14,#T_887030be_497d_11eb_90df_0242ac1c0002row13_col15,#T_887030be_497d_11eb_90df_0242ac1c0002row13_col16,#T_887030be_497d_11eb_90df_0242ac1c0002row13_col17,#T_887030be_497d_11eb_90df_0242ac1c0002row14_col18,#T_887030be_497d_11eb_90df_0242ac1c0002row14_col19,#T_887030be_497d_11eb_90df_0242ac1c0002row15_col18,#T_887030be_497d_11eb_90df_0242ac1c0002row15_col19,#T_887030be_497d_11eb_90df_0242ac1c0002row15_col20,#T_887030be_497d_11eb_90df_0242ac1c0002row16_col3,#T_887030be_497d_11eb_90df_0242ac1c0002row16_col4,#T_887030be_497d_11eb_90df_0242ac1c0002row16_col5,#T_887030be_497d_11eb_90df_0242ac1c0002row16_col6,#T_887030be_497d_11eb_90df_0242ac1c0002row16_col18,#T_887030be_497d_11eb_90df_0242ac1c0002row16_col19,#T_887030be_497d_11eb_90df_0242ac1c0002row16_col20,#T_887030be_497d_11eb_90df_0242ac1c0002row16_col21,#T_887030be_497d_11eb_90df_0242ac1c0002row16_col22,#T_887030be_497d_11eb_90df_0242ac1c0002row17_col5,#T_887030be_497d_11eb_90df_0242ac1c0002row17_col6,#T_887030be_497d_11eb_90df_0242ac1c0002row17_col7,#T_887030be_497d_11eb_90df_0242ac1c0002row17_col19,#T_887030be_497d_11eb_90df_0242ac1c0002row17_col20,#T_887030be_497d_11eb_90df_0242ac1c0002row17_col21,#T_887030be_497d_11eb_90df_0242ac1c0002row17_col22,#T_887030be_497d_11eb_90df_0242ac1c0002row18_col6,#T_887030be_497d_11eb_90df_0242ac1c0002row18_col7,#T_887030be_497d_11eb_90df_0242ac1c0002row18_col8,#T_887030be_497d_11eb_90df_0242ac1c0002row18_col9,#T_887030be_497d_11eb_90df_0242ac1c0002row18_col19,#T_887030be_497d_11eb_90df_0242ac1c0002row18_col20,#T_887030be_497d_11eb_90df_0242ac1c0002row18_col21,#T_887030be_497d_11eb_90df_0242ac1c0002row18_col22,#T_887030be_497d_11eb_90df_0242ac1c0002row19_col8,#T_887030be_497d_11eb_90df_0242ac1c0002row19_col9,#T_887030be_497d_11eb_90df_0242ac1c0002row19_col10,#T_887030be_497d_11eb_90df_0242ac1c0002row19_col19,#T_887030be_497d_11eb_90df_0242ac1c0002row19_col20,#T_887030be_497d_11eb_90df_0242ac1c0002row19_col21,#T_887030be_497d_11eb_90df_0242ac1c0002row19_col22,#T_887030be_497d_11eb_90df_0242ac1c0002row20_col9,#T_887030be_497d_11eb_90df_0242ac1c0002row20_col10,#T_887030be_497d_11eb_90df_0242ac1c0002row20_col18,#T_887030be_497d_11eb_90df_0242ac1c0002row20_col19,#T_887030be_497d_11eb_90df_0242ac1c0002row20_col20,#T_887030be_497d_11eb_90df_0242ac1c0002row21_col18,#T_887030be_497d_11eb_90df_0242ac1c0002row21_col19{\n",
              "            font-size:  6pt;\n",
              "            background-color:  #000000;\n",
              "            color:  #f1f1f1;\n",
              "        }#T_887030be_497d_11eb_90df_0242ac1c0002row3_col14,#T_887030be_497d_11eb_90df_0242ac1c0002row11_col15{\n",
              "            font-size:  6pt;\n",
              "            background-color:  #939393;\n",
              "            color:  #000000;\n",
              "        }#T_887030be_497d_11eb_90df_0242ac1c0002row3_col15,#T_887030be_497d_11eb_90df_0242ac1c0002row7_col8{\n",
              "            font-size:  6pt;\n",
              "            background-color:  #ececec;\n",
              "            color:  #000000;\n",
              "        }#T_887030be_497d_11eb_90df_0242ac1c0002row4_col7{\n",
              "            font-size:  6pt;\n",
              "            background-color:  #dadada;\n",
              "            color:  #000000;\n",
              "        }#T_887030be_497d_11eb_90df_0242ac1c0002row4_col8,#T_887030be_497d_11eb_90df_0242ac1c0002row17_col4{\n",
              "            font-size:  6pt;\n",
              "            background-color:  #0f0f0f;\n",
              "            color:  #f1f1f1;\n",
              "        }#T_887030be_497d_11eb_90df_0242ac1c0002row4_col11,#T_887030be_497d_11eb_90df_0242ac1c0002row4_col12,#T_887030be_497d_11eb_90df_0242ac1c0002row4_col14,#T_887030be_497d_11eb_90df_0242ac1c0002row5_col11,#T_887030be_497d_11eb_90df_0242ac1c0002row5_col12,#T_887030be_497d_11eb_90df_0242ac1c0002row5_col14,#T_887030be_497d_11eb_90df_0242ac1c0002row5_col15,#T_887030be_497d_11eb_90df_0242ac1c0002row5_col16,#T_887030be_497d_11eb_90df_0242ac1c0002row6_col15,#T_887030be_497d_11eb_90df_0242ac1c0002row6_col16,#T_887030be_497d_11eb_90df_0242ac1c0002row7_col16,#T_887030be_497d_11eb_90df_0242ac1c0002row7_col17,#T_887030be_497d_11eb_90df_0242ac1c0002row8_col17,#T_887030be_497d_11eb_90df_0242ac1c0002row9_col17,#T_887030be_497d_11eb_90df_0242ac1c0002row10_col17,#T_887030be_497d_11eb_90df_0242ac1c0002row11_col16,#T_887030be_497d_11eb_90df_0242ac1c0002row11_col17,#T_887030be_497d_11eb_90df_0242ac1c0002row12_col16,#T_887030be_497d_11eb_90df_0242ac1c0002row12_col17,#T_887030be_497d_11eb_90df_0242ac1c0002row14_col11,#T_887030be_497d_11eb_90df_0242ac1c0002row14_col12,#T_887030be_497d_11eb_90df_0242ac1c0002row14_col14,#T_887030be_497d_11eb_90df_0242ac1c0002row14_col15,#T_887030be_497d_11eb_90df_0242ac1c0002row14_col16,#T_887030be_497d_11eb_90df_0242ac1c0002row14_col17,#T_887030be_497d_11eb_90df_0242ac1c0002row15_col11,#T_887030be_497d_11eb_90df_0242ac1c0002row15_col12,#T_887030be_497d_11eb_90df_0242ac1c0002row15_col14,#T_887030be_497d_11eb_90df_0242ac1c0002row15_col15,#T_887030be_497d_11eb_90df_0242ac1c0002row15_col16,#T_887030be_497d_11eb_90df_0242ac1c0002row15_col17,#T_887030be_497d_11eb_90df_0242ac1c0002row16_col12,#T_887030be_497d_11eb_90df_0242ac1c0002row16_col17,#T_887030be_497d_11eb_90df_0242ac1c0002row19_col11,#T_887030be_497d_11eb_90df_0242ac1c0002row19_col12,#T_887030be_497d_11eb_90df_0242ac1c0002row20_col11,#T_887030be_497d_11eb_90df_0242ac1c0002row20_col12,#T_887030be_497d_11eb_90df_0242ac1c0002row20_col14,#T_887030be_497d_11eb_90df_0242ac1c0002row20_col15,#T_887030be_497d_11eb_90df_0242ac1c0002row20_col16,#T_887030be_497d_11eb_90df_0242ac1c0002row20_col17,#T_887030be_497d_11eb_90df_0242ac1c0002row21_col12,#T_887030be_497d_11eb_90df_0242ac1c0002row21_col14,#T_887030be_497d_11eb_90df_0242ac1c0002row21_col15,#T_887030be_497d_11eb_90df_0242ac1c0002row21_col16,#T_887030be_497d_11eb_90df_0242ac1c0002row21_col17,#T_887030be_497d_11eb_90df_0242ac1c0002row22_col14,#T_887030be_497d_11eb_90df_0242ac1c0002row22_col15,#T_887030be_497d_11eb_90df_0242ac1c0002row22_col16,#T_887030be_497d_11eb_90df_0242ac1c0002row22_col17{\n",
              "            font-size:  6pt;\n",
              "            background-color:  #010101;\n",
              "            color:  #f1f1f1;\n",
              "        }#T_887030be_497d_11eb_90df_0242ac1c0002row4_col13,#T_887030be_497d_11eb_90df_0242ac1c0002row5_col13,#T_887030be_497d_11eb_90df_0242ac1c0002row14_col13,#T_887030be_497d_11eb_90df_0242ac1c0002row15_col13,#T_887030be_497d_11eb_90df_0242ac1c0002row20_col13,#T_887030be_497d_11eb_90df_0242ac1c0002row21_col13,#T_887030be_497d_11eb_90df_0242ac1c0002row22_col13{\n",
              "            font-size:  6pt;\n",
              "            background-color:  #020202;\n",
              "            color:  #f1f1f1;\n",
              "        }#T_887030be_497d_11eb_90df_0242ac1c0002row4_col15,#T_887030be_497d_11eb_90df_0242ac1c0002row8_col18,#T_887030be_497d_11eb_90df_0242ac1c0002row9_col18,#T_887030be_497d_11eb_90df_0242ac1c0002row10_col18,#T_887030be_497d_11eb_90df_0242ac1c0002row11_col18{\n",
              "            font-size:  6pt;\n",
              "            background-color:  #232323;\n",
              "            color:  #f1f1f1;\n",
              "        }#T_887030be_497d_11eb_90df_0242ac1c0002row4_col16,#T_887030be_497d_11eb_90df_0242ac1c0002row21_col9{\n",
              "            font-size:  6pt;\n",
              "            background-color:  #898989;\n",
              "            color:  #000000;\n",
              "        }#T_887030be_497d_11eb_90df_0242ac1c0002row4_col17,#T_887030be_497d_11eb_90df_0242ac1c0002row7_col14,#T_887030be_497d_11eb_90df_0242ac1c0002row10_col15,#T_887030be_497d_11eb_90df_0242ac1c0002row13_col20,#T_887030be_497d_11eb_90df_0242ac1c0002row17_col11,#T_887030be_497d_11eb_90df_0242ac1c0002row19_col5,#T_887030be_497d_11eb_90df_0242ac1c0002row21_col8{\n",
              "            font-size:  6pt;\n",
              "            background-color:  #fcfcfc;\n",
              "            color:  #000000;\n",
              "        }#T_887030be_497d_11eb_90df_0242ac1c0002row5_col7,#T_887030be_497d_11eb_90df_0242ac1c0002row22_col12{\n",
              "            font-size:  6pt;\n",
              "            background-color:  #6e6e6e;\n",
              "            color:  #000000;\n",
              "        }#T_887030be_497d_11eb_90df_0242ac1c0002row5_col17{\n",
              "            font-size:  6pt;\n",
              "            background-color:  #979797;\n",
              "            color:  #000000;\n",
              "        }#T_887030be_497d_11eb_90df_0242ac1c0002row6_col7{\n",
              "            font-size:  6pt;\n",
              "            background-color:  #eaeaea;\n",
              "            color:  #000000;\n",
              "        }#T_887030be_497d_11eb_90df_0242ac1c0002row6_col8{\n",
              "            font-size:  6pt;\n",
              "            background-color:  #292929;\n",
              "            color:  #f1f1f1;\n",
              "        }#T_887030be_497d_11eb_90df_0242ac1c0002row6_col10{\n",
              "            font-size:  6pt;\n",
              "            background-color:  #878787;\n",
              "            color:  #000000;\n",
              "        }#T_887030be_497d_11eb_90df_0242ac1c0002row6_col11,#T_887030be_497d_11eb_90df_0242ac1c0002row6_col12,#T_887030be_497d_11eb_90df_0242ac1c0002row6_col13,#T_887030be_497d_11eb_90df_0242ac1c0002row16_col13,#T_887030be_497d_11eb_90df_0242ac1c0002row16_col14,#T_887030be_497d_11eb_90df_0242ac1c0002row16_col15{\n",
              "            font-size:  6pt;\n",
              "            background-color:  #909090;\n",
              "            color:  #000000;\n",
              "        }#T_887030be_497d_11eb_90df_0242ac1c0002row6_col14,#T_887030be_497d_11eb_90df_0242ac1c0002row15_col4{\n",
              "            font-size:  6pt;\n",
              "            background-color:  #717171;\n",
              "            color:  #000000;\n",
              "        }#T_887030be_497d_11eb_90df_0242ac1c0002row6_col17{\n",
              "            font-size:  6pt;\n",
              "            background-color:  #323232;\n",
              "            color:  #f1f1f1;\n",
              "        }#T_887030be_497d_11eb_90df_0242ac1c0002row6_col18{\n",
              "            font-size:  6pt;\n",
              "            background-color:  #eeeeee;\n",
              "            color:  #000000;\n",
              "        }#T_887030be_497d_11eb_90df_0242ac1c0002row7_col9,#T_887030be_497d_11eb_90df_0242ac1c0002row13_col10{\n",
              "            font-size:  6pt;\n",
              "            background-color:  #b8b8b8;\n",
              "            color:  #000000;\n",
              "        }#T_887030be_497d_11eb_90df_0242ac1c0002row7_col10{\n",
              "            font-size:  6pt;\n",
              "            background-color:  #fefefe;\n",
              "            color:  #000000;\n",
              "        }#T_887030be_497d_11eb_90df_0242ac1c0002row7_col15{\n",
              "            font-size:  6pt;\n",
              "            background-color:  #636363;\n",
              "            color:  #f1f1f1;\n",
              "        }#T_887030be_497d_11eb_90df_0242ac1c0002row7_col18{\n",
              "            font-size:  6pt;\n",
              "            background-color:  #3a3a3a;\n",
              "            color:  #f1f1f1;\n",
              "        }#T_887030be_497d_11eb_90df_0242ac1c0002row8_col15,#T_887030be_497d_11eb_90df_0242ac1c0002row16_col10{\n",
              "            font-size:  6pt;\n",
              "            background-color:  #e4e4e4;\n",
              "            color:  #000000;\n",
              "        }#T_887030be_497d_11eb_90df_0242ac1c0002row8_col16{\n",
              "            font-size:  6pt;\n",
              "            background-color:  #757575;\n",
              "            color:  #000000;\n",
              "        }#T_887030be_497d_11eb_90df_0242ac1c0002row9_col16{\n",
              "            font-size:  6pt;\n",
              "            background-color:  #9e9e9e;\n",
              "            color:  #000000;\n",
              "        }#T_887030be_497d_11eb_90df_0242ac1c0002row10_col16{\n",
              "            font-size:  6pt;\n",
              "            background-color:  #6b6b6b;\n",
              "            color:  #000000;\n",
              "        }#T_887030be_497d_11eb_90df_0242ac1c0002row12_col14{\n",
              "            font-size:  6pt;\n",
              "            background-color:  #ededed;\n",
              "            color:  #000000;\n",
              "        }#T_887030be_497d_11eb_90df_0242ac1c0002row12_col15{\n",
              "            font-size:  6pt;\n",
              "            background-color:  #2c2c2c;\n",
              "            color:  #f1f1f1;\n",
              "        }#T_887030be_497d_11eb_90df_0242ac1c0002row12_col18,#T_887030be_497d_11eb_90df_0242ac1c0002row19_col14,#T_887030be_497d_11eb_90df_0242ac1c0002row19_col15,#T_887030be_497d_11eb_90df_0242ac1c0002row19_col16,#T_887030be_497d_11eb_90df_0242ac1c0002row19_col17{\n",
              "            font-size:  6pt;\n",
              "            background-color:  #8e8e8e;\n",
              "            color:  #000000;\n",
              "        }#T_887030be_497d_11eb_90df_0242ac1c0002row13_col11{\n",
              "            font-size:  6pt;\n",
              "            background-color:  #282828;\n",
              "            color:  #f1f1f1;\n",
              "        }#T_887030be_497d_11eb_90df_0242ac1c0002row13_col18{\n",
              "            font-size:  6pt;\n",
              "            background-color:  #7e7e7e;\n",
              "            color:  #000000;\n",
              "        }#T_887030be_497d_11eb_90df_0242ac1c0002row14_col4,#T_887030be_497d_11eb_90df_0242ac1c0002row17_col16,#T_887030be_497d_11eb_90df_0242ac1c0002row21_col21{\n",
              "            font-size:  6pt;\n",
              "            background-color:  #f8f8f8;\n",
              "            color:  #000000;\n",
              "        }#T_887030be_497d_11eb_90df_0242ac1c0002row14_col5,#T_887030be_497d_11eb_90df_0242ac1c0002row17_col10{\n",
              "            font-size:  6pt;\n",
              "            background-color:  #dedede;\n",
              "            color:  #000000;\n",
              "        }#T_887030be_497d_11eb_90df_0242ac1c0002row14_col10{\n",
              "            font-size:  6pt;\n",
              "            background-color:  #101010;\n",
              "            color:  #f1f1f1;\n",
              "        }#T_887030be_497d_11eb_90df_0242ac1c0002row14_col20{\n",
              "            font-size:  6pt;\n",
              "            background-color:  #727272;\n",
              "            color:  #000000;\n",
              "        }#T_887030be_497d_11eb_90df_0242ac1c0002row14_col21{\n",
              "            font-size:  6pt;\n",
              "            background-color:  #e3e3e3;\n",
              "            color:  #000000;\n",
              "        }#T_887030be_497d_11eb_90df_0242ac1c0002row15_col3,#T_887030be_497d_11eb_90df_0242ac1c0002row18_col13{\n",
              "            font-size:  6pt;\n",
              "            background-color:  #f7f7f7;\n",
              "            color:  #000000;\n",
              "        }#T_887030be_497d_11eb_90df_0242ac1c0002row15_col5{\n",
              "            font-size:  6pt;\n",
              "            background-color:  #070707;\n",
              "            color:  #f1f1f1;\n",
              "        }#T_887030be_497d_11eb_90df_0242ac1c0002row15_col6{\n",
              "            font-size:  6pt;\n",
              "            background-color:  #bebebe;\n",
              "            color:  #000000;\n",
              "        }#T_887030be_497d_11eb_90df_0242ac1c0002row15_col7{\n",
              "            font-size:  6pt;\n",
              "            background-color:  #fafafa;\n",
              "            color:  #000000;\n",
              "        }#T_887030be_497d_11eb_90df_0242ac1c0002row15_col10{\n",
              "            font-size:  6pt;\n",
              "            background-color:  #1b1b1b;\n",
              "            color:  #f1f1f1;\n",
              "        }#T_887030be_497d_11eb_90df_0242ac1c0002row15_col21,#T_887030be_497d_11eb_90df_0242ac1c0002row19_col7{\n",
              "            font-size:  6pt;\n",
              "            background-color:  #131313;\n",
              "            color:  #f1f1f1;\n",
              "        }#T_887030be_497d_11eb_90df_0242ac1c0002row15_col22,#T_887030be_497d_11eb_90df_0242ac1c0002row20_col22{\n",
              "            font-size:  6pt;\n",
              "            background-color:  #6c6c6c;\n",
              "            color:  #000000;\n",
              "        }#T_887030be_497d_11eb_90df_0242ac1c0002row16_col7{\n",
              "            font-size:  6pt;\n",
              "            background-color:  #303030;\n",
              "            color:  #f1f1f1;\n",
              "        }#T_887030be_497d_11eb_90df_0242ac1c0002row16_col8,#T_887030be_497d_11eb_90df_0242ac1c0002row22_col11{\n",
              "            font-size:  6pt;\n",
              "            background-color:  #afafaf;\n",
              "            color:  #000000;\n",
              "        }#T_887030be_497d_11eb_90df_0242ac1c0002row16_col11{\n",
              "            font-size:  6pt;\n",
              "            background-color:  #797979;\n",
              "            color:  #000000;\n",
              "        }#T_887030be_497d_11eb_90df_0242ac1c0002row16_col16{\n",
              "            font-size:  6pt;\n",
              "            background-color:  #525252;\n",
              "            color:  #f1f1f1;\n",
              "        }#T_887030be_497d_11eb_90df_0242ac1c0002row17_col3{\n",
              "            font-size:  6pt;\n",
              "            background-color:  #5e5e5e;\n",
              "            color:  #f1f1f1;\n",
              "        }#T_887030be_497d_11eb_90df_0242ac1c0002row17_col8{\n",
              "            font-size:  6pt;\n",
              "            background-color:  #050505;\n",
              "            color:  #f1f1f1;\n",
              "        }#T_887030be_497d_11eb_90df_0242ac1c0002row17_col9{\n",
              "            font-size:  6pt;\n",
              "            background-color:  #222222;\n",
              "            color:  #f1f1f1;\n",
              "        }#T_887030be_497d_11eb_90df_0242ac1c0002row17_col12,#T_887030be_497d_11eb_90df_0242ac1c0002row17_col17,#T_887030be_497d_11eb_90df_0242ac1c0002row18_col12,#T_887030be_497d_11eb_90df_0242ac1c0002row18_col18{\n",
              "            font-size:  6pt;\n",
              "            background-color:  #f1f1f1;\n",
              "            color:  #000000;\n",
              "        }#T_887030be_497d_11eb_90df_0242ac1c0002row17_col18{\n",
              "            font-size:  6pt;\n",
              "            background-color:  #838383;\n",
              "            color:  #000000;\n",
              "        }#T_887030be_497d_11eb_90df_0242ac1c0002row18_col4{\n",
              "            font-size:  6pt;\n",
              "            background-color:  #dbdbdb;\n",
              "            color:  #000000;\n",
              "        }#T_887030be_497d_11eb_90df_0242ac1c0002row18_col5{\n",
              "            font-size:  6pt;\n",
              "            background-color:  #656565;\n",
              "            color:  #f1f1f1;\n",
              "        }#T_887030be_497d_11eb_90df_0242ac1c0002row18_col10{\n",
              "            font-size:  6pt;\n",
              "            background-color:  #1e1e1e;\n",
              "            color:  #f1f1f1;\n",
              "        }#T_887030be_497d_11eb_90df_0242ac1c0002row18_col11{\n",
              "            font-size:  6pt;\n",
              "            background-color:  #7a7a7a;\n",
              "            color:  #000000;\n",
              "        }#T_887030be_497d_11eb_90df_0242ac1c0002row19_col6{\n",
              "            font-size:  6pt;\n",
              "            background-color:  #a0a0a0;\n",
              "            color:  #000000;\n",
              "        }#T_887030be_497d_11eb_90df_0242ac1c0002row19_col13{\n",
              "            font-size:  6pt;\n",
              "            background-color:  #404040;\n",
              "            color:  #f1f1f1;\n",
              "        }#T_887030be_497d_11eb_90df_0242ac1c0002row19_col18{\n",
              "            font-size:  6pt;\n",
              "            background-color:  #7d7d7d;\n",
              "            color:  #000000;\n",
              "        }#T_887030be_497d_11eb_90df_0242ac1c0002row20_col7{\n",
              "            font-size:  6pt;\n",
              "            background-color:  #f9f9f9;\n",
              "            color:  #000000;\n",
              "        }#T_887030be_497d_11eb_90df_0242ac1c0002row20_col8{\n",
              "            font-size:  6pt;\n",
              "            background-color:  #929292;\n",
              "            color:  #000000;\n",
              "        }#T_887030be_497d_11eb_90df_0242ac1c0002row20_col21,#T_887030be_497d_11eb_90df_0242ac1c0002row21_col20{\n",
              "            font-size:  6pt;\n",
              "            background-color:  #585858;\n",
              "            color:  #f1f1f1;\n",
              "        }#T_887030be_497d_11eb_90df_0242ac1c0002row21_col10{\n",
              "            font-size:  6pt;\n",
              "            background-color:  #383838;\n",
              "            color:  #f1f1f1;\n",
              "        }#T_887030be_497d_11eb_90df_0242ac1c0002row21_col11{\n",
              "            font-size:  6pt;\n",
              "            background-color:  #0e0e0e;\n",
              "            color:  #f1f1f1;\n",
              "        }#T_887030be_497d_11eb_90df_0242ac1c0002row22_col18{\n",
              "            font-size:  6pt;\n",
              "            background-color:  #151515;\n",
              "            color:  #f1f1f1;\n",
              "        }#T_887030be_497d_11eb_90df_0242ac1c0002row22_col19{\n",
              "            font-size:  6pt;\n",
              "            background-color:  #b3b3b3;\n",
              "            color:  #000000;\n",
              "        }#T_887030be_497d_11eb_90df_0242ac1c0002row22_col20{\n",
              "            font-size:  6pt;\n",
              "            background-color:  #d5d5d5;\n",
              "            color:  #000000;\n",
              "        }</style><table id=\"T_887030be_497d_11eb_90df_0242ac1c0002\" ><thead>    <tr>        <th class=\"blank level0\" ></th>        <th class=\"col_heading level0 col0\" >0</th>        <th class=\"col_heading level0 col1\" >1</th>        <th class=\"col_heading level0 col2\" >2</th>        <th class=\"col_heading level0 col3\" >3</th>        <th class=\"col_heading level0 col4\" >4</th>        <th class=\"col_heading level0 col5\" >5</th>        <th class=\"col_heading level0 col6\" >6</th>        <th class=\"col_heading level0 col7\" >7</th>        <th class=\"col_heading level0 col8\" >8</th>        <th class=\"col_heading level0 col9\" >9</th>        <th class=\"col_heading level0 col10\" >10</th>        <th class=\"col_heading level0 col11\" >11</th>        <th class=\"col_heading level0 col12\" >12</th>        <th class=\"col_heading level0 col13\" >13</th>        <th class=\"col_heading level0 col14\" >14</th>        <th class=\"col_heading level0 col15\" >15</th>        <th class=\"col_heading level0 col16\" >16</th>        <th class=\"col_heading level0 col17\" >17</th>        <th class=\"col_heading level0 col18\" >18</th>        <th class=\"col_heading level0 col19\" >19</th>        <th class=\"col_heading level0 col20\" >20</th>        <th class=\"col_heading level0 col21\" >21</th>        <th class=\"col_heading level0 col22\" >22</th>        <th class=\"col_heading level0 col23\" >23</th>        <th class=\"col_heading level0 col24\" >24</th>        <th class=\"col_heading level0 col25\" >25</th>        <th class=\"col_heading level0 col26\" >26</th>        <th class=\"col_heading level0 col27\" >27</th>    </tr></thead><tbody>\n",
              "                <tr>\n",
              "                        <th id=\"T_887030be_497d_11eb_90df_0242ac1c0002level0_row0\" class=\"row_heading level0 row0\" >0</th>\n",
              "                        <td id=\"T_887030be_497d_11eb_90df_0242ac1c0002row0_col0\" class=\"data row0 col0\" >0</td>\n",
              "                        <td id=\"T_887030be_497d_11eb_90df_0242ac1c0002row0_col1\" class=\"data row0 col1\" >0</td>\n",
              "                        <td id=\"T_887030be_497d_11eb_90df_0242ac1c0002row0_col2\" class=\"data row0 col2\" >0</td>\n",
              "                        <td id=\"T_887030be_497d_11eb_90df_0242ac1c0002row0_col3\" class=\"data row0 col3\" >0</td>\n",
              "                        <td id=\"T_887030be_497d_11eb_90df_0242ac1c0002row0_col4\" class=\"data row0 col4\" >0</td>\n",
              "                        <td id=\"T_887030be_497d_11eb_90df_0242ac1c0002row0_col5\" class=\"data row0 col5\" >0</td>\n",
              "                        <td id=\"T_887030be_497d_11eb_90df_0242ac1c0002row0_col6\" class=\"data row0 col6\" >0</td>\n",
              "                        <td id=\"T_887030be_497d_11eb_90df_0242ac1c0002row0_col7\" class=\"data row0 col7\" >0</td>\n",
              "                        <td id=\"T_887030be_497d_11eb_90df_0242ac1c0002row0_col8\" class=\"data row0 col8\" >0</td>\n",
              "                        <td id=\"T_887030be_497d_11eb_90df_0242ac1c0002row0_col9\" class=\"data row0 col9\" >0</td>\n",
              "                        <td id=\"T_887030be_497d_11eb_90df_0242ac1c0002row0_col10\" class=\"data row0 col10\" >0</td>\n",
              "                        <td id=\"T_887030be_497d_11eb_90df_0242ac1c0002row0_col11\" class=\"data row0 col11\" >0</td>\n",
              "                        <td id=\"T_887030be_497d_11eb_90df_0242ac1c0002row0_col12\" class=\"data row0 col12\" >0</td>\n",
              "                        <td id=\"T_887030be_497d_11eb_90df_0242ac1c0002row0_col13\" class=\"data row0 col13\" >0</td>\n",
              "                        <td id=\"T_887030be_497d_11eb_90df_0242ac1c0002row0_col14\" class=\"data row0 col14\" >0</td>\n",
              "                        <td id=\"T_887030be_497d_11eb_90df_0242ac1c0002row0_col15\" class=\"data row0 col15\" >0</td>\n",
              "                        <td id=\"T_887030be_497d_11eb_90df_0242ac1c0002row0_col16\" class=\"data row0 col16\" >0</td>\n",
              "                        <td id=\"T_887030be_497d_11eb_90df_0242ac1c0002row0_col17\" class=\"data row0 col17\" >0</td>\n",
              "                        <td id=\"T_887030be_497d_11eb_90df_0242ac1c0002row0_col18\" class=\"data row0 col18\" >0</td>\n",
              "                        <td id=\"T_887030be_497d_11eb_90df_0242ac1c0002row0_col19\" class=\"data row0 col19\" >0</td>\n",
              "                        <td id=\"T_887030be_497d_11eb_90df_0242ac1c0002row0_col20\" class=\"data row0 col20\" >0</td>\n",
              "                        <td id=\"T_887030be_497d_11eb_90df_0242ac1c0002row0_col21\" class=\"data row0 col21\" >0</td>\n",
              "                        <td id=\"T_887030be_497d_11eb_90df_0242ac1c0002row0_col22\" class=\"data row0 col22\" >0</td>\n",
              "                        <td id=\"T_887030be_497d_11eb_90df_0242ac1c0002row0_col23\" class=\"data row0 col23\" >0</td>\n",
              "                        <td id=\"T_887030be_497d_11eb_90df_0242ac1c0002row0_col24\" class=\"data row0 col24\" >0</td>\n",
              "                        <td id=\"T_887030be_497d_11eb_90df_0242ac1c0002row0_col25\" class=\"data row0 col25\" >0</td>\n",
              "                        <td id=\"T_887030be_497d_11eb_90df_0242ac1c0002row0_col26\" class=\"data row0 col26\" >0</td>\n",
              "                        <td id=\"T_887030be_497d_11eb_90df_0242ac1c0002row0_col27\" class=\"data row0 col27\" >0</td>\n",
              "            </tr>\n",
              "            <tr>\n",
              "                        <th id=\"T_887030be_497d_11eb_90df_0242ac1c0002level0_row1\" class=\"row_heading level0 row1\" >1</th>\n",
              "                        <td id=\"T_887030be_497d_11eb_90df_0242ac1c0002row1_col0\" class=\"data row1 col0\" >0</td>\n",
              "                        <td id=\"T_887030be_497d_11eb_90df_0242ac1c0002row1_col1\" class=\"data row1 col1\" >0</td>\n",
              "                        <td id=\"T_887030be_497d_11eb_90df_0242ac1c0002row1_col2\" class=\"data row1 col2\" >0</td>\n",
              "                        <td id=\"T_887030be_497d_11eb_90df_0242ac1c0002row1_col3\" class=\"data row1 col3\" >0</td>\n",
              "                        <td id=\"T_887030be_497d_11eb_90df_0242ac1c0002row1_col4\" class=\"data row1 col4\" >0</td>\n",
              "                        <td id=\"T_887030be_497d_11eb_90df_0242ac1c0002row1_col5\" class=\"data row1 col5\" >0</td>\n",
              "                        <td id=\"T_887030be_497d_11eb_90df_0242ac1c0002row1_col6\" class=\"data row1 col6\" >0</td>\n",
              "                        <td id=\"T_887030be_497d_11eb_90df_0242ac1c0002row1_col7\" class=\"data row1 col7\" >0</td>\n",
              "                        <td id=\"T_887030be_497d_11eb_90df_0242ac1c0002row1_col8\" class=\"data row1 col8\" >0</td>\n",
              "                        <td id=\"T_887030be_497d_11eb_90df_0242ac1c0002row1_col9\" class=\"data row1 col9\" >0</td>\n",
              "                        <td id=\"T_887030be_497d_11eb_90df_0242ac1c0002row1_col10\" class=\"data row1 col10\" >0</td>\n",
              "                        <td id=\"T_887030be_497d_11eb_90df_0242ac1c0002row1_col11\" class=\"data row1 col11\" >0</td>\n",
              "                        <td id=\"T_887030be_497d_11eb_90df_0242ac1c0002row1_col12\" class=\"data row1 col12\" >0</td>\n",
              "                        <td id=\"T_887030be_497d_11eb_90df_0242ac1c0002row1_col13\" class=\"data row1 col13\" >0</td>\n",
              "                        <td id=\"T_887030be_497d_11eb_90df_0242ac1c0002row1_col14\" class=\"data row1 col14\" >0</td>\n",
              "                        <td id=\"T_887030be_497d_11eb_90df_0242ac1c0002row1_col15\" class=\"data row1 col15\" >0</td>\n",
              "                        <td id=\"T_887030be_497d_11eb_90df_0242ac1c0002row1_col16\" class=\"data row1 col16\" >0</td>\n",
              "                        <td id=\"T_887030be_497d_11eb_90df_0242ac1c0002row1_col17\" class=\"data row1 col17\" >0</td>\n",
              "                        <td id=\"T_887030be_497d_11eb_90df_0242ac1c0002row1_col18\" class=\"data row1 col18\" >0</td>\n",
              "                        <td id=\"T_887030be_497d_11eb_90df_0242ac1c0002row1_col19\" class=\"data row1 col19\" >0</td>\n",
              "                        <td id=\"T_887030be_497d_11eb_90df_0242ac1c0002row1_col20\" class=\"data row1 col20\" >0</td>\n",
              "                        <td id=\"T_887030be_497d_11eb_90df_0242ac1c0002row1_col21\" class=\"data row1 col21\" >0</td>\n",
              "                        <td id=\"T_887030be_497d_11eb_90df_0242ac1c0002row1_col22\" class=\"data row1 col22\" >0</td>\n",
              "                        <td id=\"T_887030be_497d_11eb_90df_0242ac1c0002row1_col23\" class=\"data row1 col23\" >0</td>\n",
              "                        <td id=\"T_887030be_497d_11eb_90df_0242ac1c0002row1_col24\" class=\"data row1 col24\" >0</td>\n",
              "                        <td id=\"T_887030be_497d_11eb_90df_0242ac1c0002row1_col25\" class=\"data row1 col25\" >0</td>\n",
              "                        <td id=\"T_887030be_497d_11eb_90df_0242ac1c0002row1_col26\" class=\"data row1 col26\" >0</td>\n",
              "                        <td id=\"T_887030be_497d_11eb_90df_0242ac1c0002row1_col27\" class=\"data row1 col27\" >0</td>\n",
              "            </tr>\n",
              "            <tr>\n",
              "                        <th id=\"T_887030be_497d_11eb_90df_0242ac1c0002level0_row2\" class=\"row_heading level0 row2\" >2</th>\n",
              "                        <td id=\"T_887030be_497d_11eb_90df_0242ac1c0002row2_col0\" class=\"data row2 col0\" >0</td>\n",
              "                        <td id=\"T_887030be_497d_11eb_90df_0242ac1c0002row2_col1\" class=\"data row2 col1\" >0</td>\n",
              "                        <td id=\"T_887030be_497d_11eb_90df_0242ac1c0002row2_col2\" class=\"data row2 col2\" >0</td>\n",
              "                        <td id=\"T_887030be_497d_11eb_90df_0242ac1c0002row2_col3\" class=\"data row2 col3\" >0</td>\n",
              "                        <td id=\"T_887030be_497d_11eb_90df_0242ac1c0002row2_col4\" class=\"data row2 col4\" >0</td>\n",
              "                        <td id=\"T_887030be_497d_11eb_90df_0242ac1c0002row2_col5\" class=\"data row2 col5\" >0</td>\n",
              "                        <td id=\"T_887030be_497d_11eb_90df_0242ac1c0002row2_col6\" class=\"data row2 col6\" >0</td>\n",
              "                        <td id=\"T_887030be_497d_11eb_90df_0242ac1c0002row2_col7\" class=\"data row2 col7\" >0</td>\n",
              "                        <td id=\"T_887030be_497d_11eb_90df_0242ac1c0002row2_col8\" class=\"data row2 col8\" >0</td>\n",
              "                        <td id=\"T_887030be_497d_11eb_90df_0242ac1c0002row2_col9\" class=\"data row2 col9\" >0</td>\n",
              "                        <td id=\"T_887030be_497d_11eb_90df_0242ac1c0002row2_col10\" class=\"data row2 col10\" >0</td>\n",
              "                        <td id=\"T_887030be_497d_11eb_90df_0242ac1c0002row2_col11\" class=\"data row2 col11\" >0</td>\n",
              "                        <td id=\"T_887030be_497d_11eb_90df_0242ac1c0002row2_col12\" class=\"data row2 col12\" >0</td>\n",
              "                        <td id=\"T_887030be_497d_11eb_90df_0242ac1c0002row2_col13\" class=\"data row2 col13\" >0</td>\n",
              "                        <td id=\"T_887030be_497d_11eb_90df_0242ac1c0002row2_col14\" class=\"data row2 col14\" >0</td>\n",
              "                        <td id=\"T_887030be_497d_11eb_90df_0242ac1c0002row2_col15\" class=\"data row2 col15\" >0</td>\n",
              "                        <td id=\"T_887030be_497d_11eb_90df_0242ac1c0002row2_col16\" class=\"data row2 col16\" >0</td>\n",
              "                        <td id=\"T_887030be_497d_11eb_90df_0242ac1c0002row2_col17\" class=\"data row2 col17\" >0</td>\n",
              "                        <td id=\"T_887030be_497d_11eb_90df_0242ac1c0002row2_col18\" class=\"data row2 col18\" >0</td>\n",
              "                        <td id=\"T_887030be_497d_11eb_90df_0242ac1c0002row2_col19\" class=\"data row2 col19\" >0</td>\n",
              "                        <td id=\"T_887030be_497d_11eb_90df_0242ac1c0002row2_col20\" class=\"data row2 col20\" >0</td>\n",
              "                        <td id=\"T_887030be_497d_11eb_90df_0242ac1c0002row2_col21\" class=\"data row2 col21\" >0</td>\n",
              "                        <td id=\"T_887030be_497d_11eb_90df_0242ac1c0002row2_col22\" class=\"data row2 col22\" >0</td>\n",
              "                        <td id=\"T_887030be_497d_11eb_90df_0242ac1c0002row2_col23\" class=\"data row2 col23\" >0</td>\n",
              "                        <td id=\"T_887030be_497d_11eb_90df_0242ac1c0002row2_col24\" class=\"data row2 col24\" >0</td>\n",
              "                        <td id=\"T_887030be_497d_11eb_90df_0242ac1c0002row2_col25\" class=\"data row2 col25\" >0</td>\n",
              "                        <td id=\"T_887030be_497d_11eb_90df_0242ac1c0002row2_col26\" class=\"data row2 col26\" >0</td>\n",
              "                        <td id=\"T_887030be_497d_11eb_90df_0242ac1c0002row2_col27\" class=\"data row2 col27\" >0</td>\n",
              "            </tr>\n",
              "            <tr>\n",
              "                        <th id=\"T_887030be_497d_11eb_90df_0242ac1c0002level0_row3\" class=\"row_heading level0 row3\" >3</th>\n",
              "                        <td id=\"T_887030be_497d_11eb_90df_0242ac1c0002row3_col0\" class=\"data row3 col0\" >0</td>\n",
              "                        <td id=\"T_887030be_497d_11eb_90df_0242ac1c0002row3_col1\" class=\"data row3 col1\" >0</td>\n",
              "                        <td id=\"T_887030be_497d_11eb_90df_0242ac1c0002row3_col2\" class=\"data row3 col2\" >0</td>\n",
              "                        <td id=\"T_887030be_497d_11eb_90df_0242ac1c0002row3_col3\" class=\"data row3 col3\" >0</td>\n",
              "                        <td id=\"T_887030be_497d_11eb_90df_0242ac1c0002row3_col4\" class=\"data row3 col4\" >0</td>\n",
              "                        <td id=\"T_887030be_497d_11eb_90df_0242ac1c0002row3_col5\" class=\"data row3 col5\" >0</td>\n",
              "                        <td id=\"T_887030be_497d_11eb_90df_0242ac1c0002row3_col6\" class=\"data row3 col6\" >0</td>\n",
              "                        <td id=\"T_887030be_497d_11eb_90df_0242ac1c0002row3_col7\" class=\"data row3 col7\" >0</td>\n",
              "                        <td id=\"T_887030be_497d_11eb_90df_0242ac1c0002row3_col8\" class=\"data row3 col8\" >75</td>\n",
              "                        <td id=\"T_887030be_497d_11eb_90df_0242ac1c0002row3_col9\" class=\"data row3 col9\" >105</td>\n",
              "                        <td id=\"T_887030be_497d_11eb_90df_0242ac1c0002row3_col10\" class=\"data row3 col10\" >245</td>\n",
              "                        <td id=\"T_887030be_497d_11eb_90df_0242ac1c0002row3_col11\" class=\"data row3 col11\" >253</td>\n",
              "                        <td id=\"T_887030be_497d_11eb_90df_0242ac1c0002row3_col12\" class=\"data row3 col12\" >253</td>\n",
              "                        <td id=\"T_887030be_497d_11eb_90df_0242ac1c0002row3_col13\" class=\"data row3 col13\" >255</td>\n",
              "                        <td id=\"T_887030be_497d_11eb_90df_0242ac1c0002row3_col14\" class=\"data row3 col14\" >129</td>\n",
              "                        <td id=\"T_887030be_497d_11eb_90df_0242ac1c0002row3_col15\" class=\"data row3 col15\" >37</td>\n",
              "                        <td id=\"T_887030be_497d_11eb_90df_0242ac1c0002row3_col16\" class=\"data row3 col16\" >0</td>\n",
              "                        <td id=\"T_887030be_497d_11eb_90df_0242ac1c0002row3_col17\" class=\"data row3 col17\" >0</td>\n",
              "                        <td id=\"T_887030be_497d_11eb_90df_0242ac1c0002row3_col18\" class=\"data row3 col18\" >0</td>\n",
              "                        <td id=\"T_887030be_497d_11eb_90df_0242ac1c0002row3_col19\" class=\"data row3 col19\" >0</td>\n",
              "                        <td id=\"T_887030be_497d_11eb_90df_0242ac1c0002row3_col20\" class=\"data row3 col20\" >0</td>\n",
              "                        <td id=\"T_887030be_497d_11eb_90df_0242ac1c0002row3_col21\" class=\"data row3 col21\" >0</td>\n",
              "                        <td id=\"T_887030be_497d_11eb_90df_0242ac1c0002row3_col22\" class=\"data row3 col22\" >0</td>\n",
              "                        <td id=\"T_887030be_497d_11eb_90df_0242ac1c0002row3_col23\" class=\"data row3 col23\" >0</td>\n",
              "                        <td id=\"T_887030be_497d_11eb_90df_0242ac1c0002row3_col24\" class=\"data row3 col24\" >0</td>\n",
              "                        <td id=\"T_887030be_497d_11eb_90df_0242ac1c0002row3_col25\" class=\"data row3 col25\" >0</td>\n",
              "                        <td id=\"T_887030be_497d_11eb_90df_0242ac1c0002row3_col26\" class=\"data row3 col26\" >0</td>\n",
              "                        <td id=\"T_887030be_497d_11eb_90df_0242ac1c0002row3_col27\" class=\"data row3 col27\" >0</td>\n",
              "            </tr>\n",
              "            <tr>\n",
              "                        <th id=\"T_887030be_497d_11eb_90df_0242ac1c0002level0_row4\" class=\"row_heading level0 row4\" >4</th>\n",
              "                        <td id=\"T_887030be_497d_11eb_90df_0242ac1c0002row4_col0\" class=\"data row4 col0\" >0</td>\n",
              "                        <td id=\"T_887030be_497d_11eb_90df_0242ac1c0002row4_col1\" class=\"data row4 col1\" >0</td>\n",
              "                        <td id=\"T_887030be_497d_11eb_90df_0242ac1c0002row4_col2\" class=\"data row4 col2\" >0</td>\n",
              "                        <td id=\"T_887030be_497d_11eb_90df_0242ac1c0002row4_col3\" class=\"data row4 col3\" >0</td>\n",
              "                        <td id=\"T_887030be_497d_11eb_90df_0242ac1c0002row4_col4\" class=\"data row4 col4\" >0</td>\n",
              "                        <td id=\"T_887030be_497d_11eb_90df_0242ac1c0002row4_col5\" class=\"data row4 col5\" >0</td>\n",
              "                        <td id=\"T_887030be_497d_11eb_90df_0242ac1c0002row4_col6\" class=\"data row4 col6\" >0</td>\n",
              "                        <td id=\"T_887030be_497d_11eb_90df_0242ac1c0002row4_col7\" class=\"data row4 col7\" >62</td>\n",
              "                        <td id=\"T_887030be_497d_11eb_90df_0242ac1c0002row4_col8\" class=\"data row4 col8\" >239</td>\n",
              "                        <td id=\"T_887030be_497d_11eb_90df_0242ac1c0002row4_col9\" class=\"data row4 col9\" >252</td>\n",
              "                        <td id=\"T_887030be_497d_11eb_90df_0242ac1c0002row4_col10\" class=\"data row4 col10\" >252</td>\n",
              "                        <td id=\"T_887030be_497d_11eb_90df_0242ac1c0002row4_col11\" class=\"data row4 col11\" >252</td>\n",
              "                        <td id=\"T_887030be_497d_11eb_90df_0242ac1c0002row4_col12\" class=\"data row4 col12\" >252</td>\n",
              "                        <td id=\"T_887030be_497d_11eb_90df_0242ac1c0002row4_col13\" class=\"data row4 col13\" >253</td>\n",
              "                        <td id=\"T_887030be_497d_11eb_90df_0242ac1c0002row4_col14\" class=\"data row4 col14\" >252</td>\n",
              "                        <td id=\"T_887030be_497d_11eb_90df_0242ac1c0002row4_col15\" class=\"data row4 col15\" >223</td>\n",
              "                        <td id=\"T_887030be_497d_11eb_90df_0242ac1c0002row4_col16\" class=\"data row4 col16\" >138</td>\n",
              "                        <td id=\"T_887030be_497d_11eb_90df_0242ac1c0002row4_col17\" class=\"data row4 col17\" >7</td>\n",
              "                        <td id=\"T_887030be_497d_11eb_90df_0242ac1c0002row4_col18\" class=\"data row4 col18\" >0</td>\n",
              "                        <td id=\"T_887030be_497d_11eb_90df_0242ac1c0002row4_col19\" class=\"data row4 col19\" >0</td>\n",
              "                        <td id=\"T_887030be_497d_11eb_90df_0242ac1c0002row4_col20\" class=\"data row4 col20\" >0</td>\n",
              "                        <td id=\"T_887030be_497d_11eb_90df_0242ac1c0002row4_col21\" class=\"data row4 col21\" >0</td>\n",
              "                        <td id=\"T_887030be_497d_11eb_90df_0242ac1c0002row4_col22\" class=\"data row4 col22\" >0</td>\n",
              "                        <td id=\"T_887030be_497d_11eb_90df_0242ac1c0002row4_col23\" class=\"data row4 col23\" >0</td>\n",
              "                        <td id=\"T_887030be_497d_11eb_90df_0242ac1c0002row4_col24\" class=\"data row4 col24\" >0</td>\n",
              "                        <td id=\"T_887030be_497d_11eb_90df_0242ac1c0002row4_col25\" class=\"data row4 col25\" >0</td>\n",
              "                        <td id=\"T_887030be_497d_11eb_90df_0242ac1c0002row4_col26\" class=\"data row4 col26\" >0</td>\n",
              "                        <td id=\"T_887030be_497d_11eb_90df_0242ac1c0002row4_col27\" class=\"data row4 col27\" >0</td>\n",
              "            </tr>\n",
              "            <tr>\n",
              "                        <th id=\"T_887030be_497d_11eb_90df_0242ac1c0002level0_row5\" class=\"row_heading level0 row5\" >5</th>\n",
              "                        <td id=\"T_887030be_497d_11eb_90df_0242ac1c0002row5_col0\" class=\"data row5 col0\" >0</td>\n",
              "                        <td id=\"T_887030be_497d_11eb_90df_0242ac1c0002row5_col1\" class=\"data row5 col1\" >0</td>\n",
              "                        <td id=\"T_887030be_497d_11eb_90df_0242ac1c0002row5_col2\" class=\"data row5 col2\" >0</td>\n",
              "                        <td id=\"T_887030be_497d_11eb_90df_0242ac1c0002row5_col3\" class=\"data row5 col3\" >0</td>\n",
              "                        <td id=\"T_887030be_497d_11eb_90df_0242ac1c0002row5_col4\" class=\"data row5 col4\" >0</td>\n",
              "                        <td id=\"T_887030be_497d_11eb_90df_0242ac1c0002row5_col5\" class=\"data row5 col5\" >0</td>\n",
              "                        <td id=\"T_887030be_497d_11eb_90df_0242ac1c0002row5_col6\" class=\"data row5 col6\" >0</td>\n",
              "                        <td id=\"T_887030be_497d_11eb_90df_0242ac1c0002row5_col7\" class=\"data row5 col7\" >162</td>\n",
              "                        <td id=\"T_887030be_497d_11eb_90df_0242ac1c0002row5_col8\" class=\"data row5 col8\" >252</td>\n",
              "                        <td id=\"T_887030be_497d_11eb_90df_0242ac1c0002row5_col9\" class=\"data row5 col9\" >252</td>\n",
              "                        <td id=\"T_887030be_497d_11eb_90df_0242ac1c0002row5_col10\" class=\"data row5 col10\" >252</td>\n",
              "                        <td id=\"T_887030be_497d_11eb_90df_0242ac1c0002row5_col11\" class=\"data row5 col11\" >252</td>\n",
              "                        <td id=\"T_887030be_497d_11eb_90df_0242ac1c0002row5_col12\" class=\"data row5 col12\" >252</td>\n",
              "                        <td id=\"T_887030be_497d_11eb_90df_0242ac1c0002row5_col13\" class=\"data row5 col13\" >253</td>\n",
              "                        <td id=\"T_887030be_497d_11eb_90df_0242ac1c0002row5_col14\" class=\"data row5 col14\" >252</td>\n",
              "                        <td id=\"T_887030be_497d_11eb_90df_0242ac1c0002row5_col15\" class=\"data row5 col15\" >252</td>\n",
              "                        <td id=\"T_887030be_497d_11eb_90df_0242ac1c0002row5_col16\" class=\"data row5 col16\" >252</td>\n",
              "                        <td id=\"T_887030be_497d_11eb_90df_0242ac1c0002row5_col17\" class=\"data row5 col17\" >126</td>\n",
              "                        <td id=\"T_887030be_497d_11eb_90df_0242ac1c0002row5_col18\" class=\"data row5 col18\" >0</td>\n",
              "                        <td id=\"T_887030be_497d_11eb_90df_0242ac1c0002row5_col19\" class=\"data row5 col19\" >0</td>\n",
              "                        <td id=\"T_887030be_497d_11eb_90df_0242ac1c0002row5_col20\" class=\"data row5 col20\" >0</td>\n",
              "                        <td id=\"T_887030be_497d_11eb_90df_0242ac1c0002row5_col21\" class=\"data row5 col21\" >0</td>\n",
              "                        <td id=\"T_887030be_497d_11eb_90df_0242ac1c0002row5_col22\" class=\"data row5 col22\" >0</td>\n",
              "                        <td id=\"T_887030be_497d_11eb_90df_0242ac1c0002row5_col23\" class=\"data row5 col23\" >0</td>\n",
              "                        <td id=\"T_887030be_497d_11eb_90df_0242ac1c0002row5_col24\" class=\"data row5 col24\" >0</td>\n",
              "                        <td id=\"T_887030be_497d_11eb_90df_0242ac1c0002row5_col25\" class=\"data row5 col25\" >0</td>\n",
              "                        <td id=\"T_887030be_497d_11eb_90df_0242ac1c0002row5_col26\" class=\"data row5 col26\" >0</td>\n",
              "                        <td id=\"T_887030be_497d_11eb_90df_0242ac1c0002row5_col27\" class=\"data row5 col27\" >0</td>\n",
              "            </tr>\n",
              "            <tr>\n",
              "                        <th id=\"T_887030be_497d_11eb_90df_0242ac1c0002level0_row6\" class=\"row_heading level0 row6\" >6</th>\n",
              "                        <td id=\"T_887030be_497d_11eb_90df_0242ac1c0002row6_col0\" class=\"data row6 col0\" >0</td>\n",
              "                        <td id=\"T_887030be_497d_11eb_90df_0242ac1c0002row6_col1\" class=\"data row6 col1\" >0</td>\n",
              "                        <td id=\"T_887030be_497d_11eb_90df_0242ac1c0002row6_col2\" class=\"data row6 col2\" >0</td>\n",
              "                        <td id=\"T_887030be_497d_11eb_90df_0242ac1c0002row6_col3\" class=\"data row6 col3\" >0</td>\n",
              "                        <td id=\"T_887030be_497d_11eb_90df_0242ac1c0002row6_col4\" class=\"data row6 col4\" >0</td>\n",
              "                        <td id=\"T_887030be_497d_11eb_90df_0242ac1c0002row6_col5\" class=\"data row6 col5\" >0</td>\n",
              "                        <td id=\"T_887030be_497d_11eb_90df_0242ac1c0002row6_col6\" class=\"data row6 col6\" >0</td>\n",
              "                        <td id=\"T_887030be_497d_11eb_90df_0242ac1c0002row6_col7\" class=\"data row6 col7\" >40</td>\n",
              "                        <td id=\"T_887030be_497d_11eb_90df_0242ac1c0002row6_col8\" class=\"data row6 col8\" >217</td>\n",
              "                        <td id=\"T_887030be_497d_11eb_90df_0242ac1c0002row6_col9\" class=\"data row6 col9\" >252</td>\n",
              "                        <td id=\"T_887030be_497d_11eb_90df_0242ac1c0002row6_col10\" class=\"data row6 col10\" >139</td>\n",
              "                        <td id=\"T_887030be_497d_11eb_90df_0242ac1c0002row6_col11\" class=\"data row6 col11\" >132</td>\n",
              "                        <td id=\"T_887030be_497d_11eb_90df_0242ac1c0002row6_col12\" class=\"data row6 col12\" >132</td>\n",
              "                        <td id=\"T_887030be_497d_11eb_90df_0242ac1c0002row6_col13\" class=\"data row6 col13\" >133</td>\n",
              "                        <td id=\"T_887030be_497d_11eb_90df_0242ac1c0002row6_col14\" class=\"data row6 col14\" >160</td>\n",
              "                        <td id=\"T_887030be_497d_11eb_90df_0242ac1c0002row6_col15\" class=\"data row6 col15\" >252</td>\n",
              "                        <td id=\"T_887030be_497d_11eb_90df_0242ac1c0002row6_col16\" class=\"data row6 col16\" >252</td>\n",
              "                        <td id=\"T_887030be_497d_11eb_90df_0242ac1c0002row6_col17\" class=\"data row6 col17\" >212</td>\n",
              "                        <td id=\"T_887030be_497d_11eb_90df_0242ac1c0002row6_col18\" class=\"data row6 col18\" >35</td>\n",
              "                        <td id=\"T_887030be_497d_11eb_90df_0242ac1c0002row6_col19\" class=\"data row6 col19\" >0</td>\n",
              "                        <td id=\"T_887030be_497d_11eb_90df_0242ac1c0002row6_col20\" class=\"data row6 col20\" >0</td>\n",
              "                        <td id=\"T_887030be_497d_11eb_90df_0242ac1c0002row6_col21\" class=\"data row6 col21\" >0</td>\n",
              "                        <td id=\"T_887030be_497d_11eb_90df_0242ac1c0002row6_col22\" class=\"data row6 col22\" >0</td>\n",
              "                        <td id=\"T_887030be_497d_11eb_90df_0242ac1c0002row6_col23\" class=\"data row6 col23\" >0</td>\n",
              "                        <td id=\"T_887030be_497d_11eb_90df_0242ac1c0002row6_col24\" class=\"data row6 col24\" >0</td>\n",
              "                        <td id=\"T_887030be_497d_11eb_90df_0242ac1c0002row6_col25\" class=\"data row6 col25\" >0</td>\n",
              "                        <td id=\"T_887030be_497d_11eb_90df_0242ac1c0002row6_col26\" class=\"data row6 col26\" >0</td>\n",
              "                        <td id=\"T_887030be_497d_11eb_90df_0242ac1c0002row6_col27\" class=\"data row6 col27\" >0</td>\n",
              "            </tr>\n",
              "            <tr>\n",
              "                        <th id=\"T_887030be_497d_11eb_90df_0242ac1c0002level0_row7\" class=\"row_heading level0 row7\" >7</th>\n",
              "                        <td id=\"T_887030be_497d_11eb_90df_0242ac1c0002row7_col0\" class=\"data row7 col0\" >0</td>\n",
              "                        <td id=\"T_887030be_497d_11eb_90df_0242ac1c0002row7_col1\" class=\"data row7 col1\" >0</td>\n",
              "                        <td id=\"T_887030be_497d_11eb_90df_0242ac1c0002row7_col2\" class=\"data row7 col2\" >0</td>\n",
              "                        <td id=\"T_887030be_497d_11eb_90df_0242ac1c0002row7_col3\" class=\"data row7 col3\" >0</td>\n",
              "                        <td id=\"T_887030be_497d_11eb_90df_0242ac1c0002row7_col4\" class=\"data row7 col4\" >0</td>\n",
              "                        <td id=\"T_887030be_497d_11eb_90df_0242ac1c0002row7_col5\" class=\"data row7 col5\" >0</td>\n",
              "                        <td id=\"T_887030be_497d_11eb_90df_0242ac1c0002row7_col6\" class=\"data row7 col6\" >0</td>\n",
              "                        <td id=\"T_887030be_497d_11eb_90df_0242ac1c0002row7_col7\" class=\"data row7 col7\" >0</td>\n",
              "                        <td id=\"T_887030be_497d_11eb_90df_0242ac1c0002row7_col8\" class=\"data row7 col8\" >38</td>\n",
              "                        <td id=\"T_887030be_497d_11eb_90df_0242ac1c0002row7_col9\" class=\"data row7 col9\" >99</td>\n",
              "                        <td id=\"T_887030be_497d_11eb_90df_0242ac1c0002row7_col10\" class=\"data row7 col10\" >2</td>\n",
              "                        <td id=\"T_887030be_497d_11eb_90df_0242ac1c0002row7_col11\" class=\"data row7 col11\" >0</td>\n",
              "                        <td id=\"T_887030be_497d_11eb_90df_0242ac1c0002row7_col12\" class=\"data row7 col12\" >0</td>\n",
              "                        <td id=\"T_887030be_497d_11eb_90df_0242ac1c0002row7_col13\" class=\"data row7 col13\" >0</td>\n",
              "                        <td id=\"T_887030be_497d_11eb_90df_0242ac1c0002row7_col14\" class=\"data row7 col14\" >7</td>\n",
              "                        <td id=\"T_887030be_497d_11eb_90df_0242ac1c0002row7_col15\" class=\"data row7 col15\" >173</td>\n",
              "                        <td id=\"T_887030be_497d_11eb_90df_0242ac1c0002row7_col16\" class=\"data row7 col16\" >252</td>\n",
              "                        <td id=\"T_887030be_497d_11eb_90df_0242ac1c0002row7_col17\" class=\"data row7 col17\" >252</td>\n",
              "                        <td id=\"T_887030be_497d_11eb_90df_0242ac1c0002row7_col18\" class=\"data row7 col18\" >205</td>\n",
              "                        <td id=\"T_887030be_497d_11eb_90df_0242ac1c0002row7_col19\" class=\"data row7 col19\" >0</td>\n",
              "                        <td id=\"T_887030be_497d_11eb_90df_0242ac1c0002row7_col20\" class=\"data row7 col20\" >0</td>\n",
              "                        <td id=\"T_887030be_497d_11eb_90df_0242ac1c0002row7_col21\" class=\"data row7 col21\" >0</td>\n",
              "                        <td id=\"T_887030be_497d_11eb_90df_0242ac1c0002row7_col22\" class=\"data row7 col22\" >0</td>\n",
              "                        <td id=\"T_887030be_497d_11eb_90df_0242ac1c0002row7_col23\" class=\"data row7 col23\" >0</td>\n",
              "                        <td id=\"T_887030be_497d_11eb_90df_0242ac1c0002row7_col24\" class=\"data row7 col24\" >0</td>\n",
              "                        <td id=\"T_887030be_497d_11eb_90df_0242ac1c0002row7_col25\" class=\"data row7 col25\" >0</td>\n",
              "                        <td id=\"T_887030be_497d_11eb_90df_0242ac1c0002row7_col26\" class=\"data row7 col26\" >0</td>\n",
              "                        <td id=\"T_887030be_497d_11eb_90df_0242ac1c0002row7_col27\" class=\"data row7 col27\" >0</td>\n",
              "            </tr>\n",
              "            <tr>\n",
              "                        <th id=\"T_887030be_497d_11eb_90df_0242ac1c0002level0_row8\" class=\"row_heading level0 row8\" >8</th>\n",
              "                        <td id=\"T_887030be_497d_11eb_90df_0242ac1c0002row8_col0\" class=\"data row8 col0\" >0</td>\n",
              "                        <td id=\"T_887030be_497d_11eb_90df_0242ac1c0002row8_col1\" class=\"data row8 col1\" >0</td>\n",
              "                        <td id=\"T_887030be_497d_11eb_90df_0242ac1c0002row8_col2\" class=\"data row8 col2\" >0</td>\n",
              "                        <td id=\"T_887030be_497d_11eb_90df_0242ac1c0002row8_col3\" class=\"data row8 col3\" >0</td>\n",
              "                        <td id=\"T_887030be_497d_11eb_90df_0242ac1c0002row8_col4\" class=\"data row8 col4\" >0</td>\n",
              "                        <td id=\"T_887030be_497d_11eb_90df_0242ac1c0002row8_col5\" class=\"data row8 col5\" >0</td>\n",
              "                        <td id=\"T_887030be_497d_11eb_90df_0242ac1c0002row8_col6\" class=\"data row8 col6\" >0</td>\n",
              "                        <td id=\"T_887030be_497d_11eb_90df_0242ac1c0002row8_col7\" class=\"data row8 col7\" >0</td>\n",
              "                        <td id=\"T_887030be_497d_11eb_90df_0242ac1c0002row8_col8\" class=\"data row8 col8\" >0</td>\n",
              "                        <td id=\"T_887030be_497d_11eb_90df_0242ac1c0002row8_col9\" class=\"data row8 col9\" >0</td>\n",
              "                        <td id=\"T_887030be_497d_11eb_90df_0242ac1c0002row8_col10\" class=\"data row8 col10\" >0</td>\n",
              "                        <td id=\"T_887030be_497d_11eb_90df_0242ac1c0002row8_col11\" class=\"data row8 col11\" >0</td>\n",
              "                        <td id=\"T_887030be_497d_11eb_90df_0242ac1c0002row8_col12\" class=\"data row8 col12\" >0</td>\n",
              "                        <td id=\"T_887030be_497d_11eb_90df_0242ac1c0002row8_col13\" class=\"data row8 col13\" >0</td>\n",
              "                        <td id=\"T_887030be_497d_11eb_90df_0242ac1c0002row8_col14\" class=\"data row8 col14\" >0</td>\n",
              "                        <td id=\"T_887030be_497d_11eb_90df_0242ac1c0002row8_col15\" class=\"data row8 col15\" >48</td>\n",
              "                        <td id=\"T_887030be_497d_11eb_90df_0242ac1c0002row8_col16\" class=\"data row8 col16\" >157</td>\n",
              "                        <td id=\"T_887030be_497d_11eb_90df_0242ac1c0002row8_col17\" class=\"data row8 col17\" >252</td>\n",
              "                        <td id=\"T_887030be_497d_11eb_90df_0242ac1c0002row8_col18\" class=\"data row8 col18\" >222</td>\n",
              "                        <td id=\"T_887030be_497d_11eb_90df_0242ac1c0002row8_col19\" class=\"data row8 col19\" >0</td>\n",
              "                        <td id=\"T_887030be_497d_11eb_90df_0242ac1c0002row8_col20\" class=\"data row8 col20\" >0</td>\n",
              "                        <td id=\"T_887030be_497d_11eb_90df_0242ac1c0002row8_col21\" class=\"data row8 col21\" >0</td>\n",
              "                        <td id=\"T_887030be_497d_11eb_90df_0242ac1c0002row8_col22\" class=\"data row8 col22\" >0</td>\n",
              "                        <td id=\"T_887030be_497d_11eb_90df_0242ac1c0002row8_col23\" class=\"data row8 col23\" >0</td>\n",
              "                        <td id=\"T_887030be_497d_11eb_90df_0242ac1c0002row8_col24\" class=\"data row8 col24\" >0</td>\n",
              "                        <td id=\"T_887030be_497d_11eb_90df_0242ac1c0002row8_col25\" class=\"data row8 col25\" >0</td>\n",
              "                        <td id=\"T_887030be_497d_11eb_90df_0242ac1c0002row8_col26\" class=\"data row8 col26\" >0</td>\n",
              "                        <td id=\"T_887030be_497d_11eb_90df_0242ac1c0002row8_col27\" class=\"data row8 col27\" >0</td>\n",
              "            </tr>\n",
              "            <tr>\n",
              "                        <th id=\"T_887030be_497d_11eb_90df_0242ac1c0002level0_row9\" class=\"row_heading level0 row9\" >9</th>\n",
              "                        <td id=\"T_887030be_497d_11eb_90df_0242ac1c0002row9_col0\" class=\"data row9 col0\" >0</td>\n",
              "                        <td id=\"T_887030be_497d_11eb_90df_0242ac1c0002row9_col1\" class=\"data row9 col1\" >0</td>\n",
              "                        <td id=\"T_887030be_497d_11eb_90df_0242ac1c0002row9_col2\" class=\"data row9 col2\" >0</td>\n",
              "                        <td id=\"T_887030be_497d_11eb_90df_0242ac1c0002row9_col3\" class=\"data row9 col3\" >0</td>\n",
              "                        <td id=\"T_887030be_497d_11eb_90df_0242ac1c0002row9_col4\" class=\"data row9 col4\" >0</td>\n",
              "                        <td id=\"T_887030be_497d_11eb_90df_0242ac1c0002row9_col5\" class=\"data row9 col5\" >0</td>\n",
              "                        <td id=\"T_887030be_497d_11eb_90df_0242ac1c0002row9_col6\" class=\"data row9 col6\" >0</td>\n",
              "                        <td id=\"T_887030be_497d_11eb_90df_0242ac1c0002row9_col7\" class=\"data row9 col7\" >0</td>\n",
              "                        <td id=\"T_887030be_497d_11eb_90df_0242ac1c0002row9_col8\" class=\"data row9 col8\" >0</td>\n",
              "                        <td id=\"T_887030be_497d_11eb_90df_0242ac1c0002row9_col9\" class=\"data row9 col9\" >0</td>\n",
              "                        <td id=\"T_887030be_497d_11eb_90df_0242ac1c0002row9_col10\" class=\"data row9 col10\" >0</td>\n",
              "                        <td id=\"T_887030be_497d_11eb_90df_0242ac1c0002row9_col11\" class=\"data row9 col11\" >0</td>\n",
              "                        <td id=\"T_887030be_497d_11eb_90df_0242ac1c0002row9_col12\" class=\"data row9 col12\" >0</td>\n",
              "                        <td id=\"T_887030be_497d_11eb_90df_0242ac1c0002row9_col13\" class=\"data row9 col13\" >0</td>\n",
              "                        <td id=\"T_887030be_497d_11eb_90df_0242ac1c0002row9_col14\" class=\"data row9 col14\" >0</td>\n",
              "                        <td id=\"T_887030be_497d_11eb_90df_0242ac1c0002row9_col15\" class=\"data row9 col15\" >0</td>\n",
              "                        <td id=\"T_887030be_497d_11eb_90df_0242ac1c0002row9_col16\" class=\"data row9 col16\" >120</td>\n",
              "                        <td id=\"T_887030be_497d_11eb_90df_0242ac1c0002row9_col17\" class=\"data row9 col17\" >252</td>\n",
              "                        <td id=\"T_887030be_497d_11eb_90df_0242ac1c0002row9_col18\" class=\"data row9 col18\" >222</td>\n",
              "                        <td id=\"T_887030be_497d_11eb_90df_0242ac1c0002row9_col19\" class=\"data row9 col19\" >0</td>\n",
              "                        <td id=\"T_887030be_497d_11eb_90df_0242ac1c0002row9_col20\" class=\"data row9 col20\" >0</td>\n",
              "                        <td id=\"T_887030be_497d_11eb_90df_0242ac1c0002row9_col21\" class=\"data row9 col21\" >0</td>\n",
              "                        <td id=\"T_887030be_497d_11eb_90df_0242ac1c0002row9_col22\" class=\"data row9 col22\" >0</td>\n",
              "                        <td id=\"T_887030be_497d_11eb_90df_0242ac1c0002row9_col23\" class=\"data row9 col23\" >0</td>\n",
              "                        <td id=\"T_887030be_497d_11eb_90df_0242ac1c0002row9_col24\" class=\"data row9 col24\" >0</td>\n",
              "                        <td id=\"T_887030be_497d_11eb_90df_0242ac1c0002row9_col25\" class=\"data row9 col25\" >0</td>\n",
              "                        <td id=\"T_887030be_497d_11eb_90df_0242ac1c0002row9_col26\" class=\"data row9 col26\" >0</td>\n",
              "                        <td id=\"T_887030be_497d_11eb_90df_0242ac1c0002row9_col27\" class=\"data row9 col27\" >0</td>\n",
              "            </tr>\n",
              "            <tr>\n",
              "                        <th id=\"T_887030be_497d_11eb_90df_0242ac1c0002level0_row10\" class=\"row_heading level0 row10\" >10</th>\n",
              "                        <td id=\"T_887030be_497d_11eb_90df_0242ac1c0002row10_col0\" class=\"data row10 col0\" >0</td>\n",
              "                        <td id=\"T_887030be_497d_11eb_90df_0242ac1c0002row10_col1\" class=\"data row10 col1\" >0</td>\n",
              "                        <td id=\"T_887030be_497d_11eb_90df_0242ac1c0002row10_col2\" class=\"data row10 col2\" >0</td>\n",
              "                        <td id=\"T_887030be_497d_11eb_90df_0242ac1c0002row10_col3\" class=\"data row10 col3\" >0</td>\n",
              "                        <td id=\"T_887030be_497d_11eb_90df_0242ac1c0002row10_col4\" class=\"data row10 col4\" >0</td>\n",
              "                        <td id=\"T_887030be_497d_11eb_90df_0242ac1c0002row10_col5\" class=\"data row10 col5\" >0</td>\n",
              "                        <td id=\"T_887030be_497d_11eb_90df_0242ac1c0002row10_col6\" class=\"data row10 col6\" >0</td>\n",
              "                        <td id=\"T_887030be_497d_11eb_90df_0242ac1c0002row10_col7\" class=\"data row10 col7\" >0</td>\n",
              "                        <td id=\"T_887030be_497d_11eb_90df_0242ac1c0002row10_col8\" class=\"data row10 col8\" >0</td>\n",
              "                        <td id=\"T_887030be_497d_11eb_90df_0242ac1c0002row10_col9\" class=\"data row10 col9\" >0</td>\n",
              "                        <td id=\"T_887030be_497d_11eb_90df_0242ac1c0002row10_col10\" class=\"data row10 col10\" >0</td>\n",
              "                        <td id=\"T_887030be_497d_11eb_90df_0242ac1c0002row10_col11\" class=\"data row10 col11\" >0</td>\n",
              "                        <td id=\"T_887030be_497d_11eb_90df_0242ac1c0002row10_col12\" class=\"data row10 col12\" >0</td>\n",
              "                        <td id=\"T_887030be_497d_11eb_90df_0242ac1c0002row10_col13\" class=\"data row10 col13\" >0</td>\n",
              "                        <td id=\"T_887030be_497d_11eb_90df_0242ac1c0002row10_col14\" class=\"data row10 col14\" >0</td>\n",
              "                        <td id=\"T_887030be_497d_11eb_90df_0242ac1c0002row10_col15\" class=\"data row10 col15\" >6</td>\n",
              "                        <td id=\"T_887030be_497d_11eb_90df_0242ac1c0002row10_col16\" class=\"data row10 col16\" >166</td>\n",
              "                        <td id=\"T_887030be_497d_11eb_90df_0242ac1c0002row10_col17\" class=\"data row10 col17\" >252</td>\n",
              "                        <td id=\"T_887030be_497d_11eb_90df_0242ac1c0002row10_col18\" class=\"data row10 col18\" >222</td>\n",
              "                        <td id=\"T_887030be_497d_11eb_90df_0242ac1c0002row10_col19\" class=\"data row10 col19\" >0</td>\n",
              "                        <td id=\"T_887030be_497d_11eb_90df_0242ac1c0002row10_col20\" class=\"data row10 col20\" >0</td>\n",
              "                        <td id=\"T_887030be_497d_11eb_90df_0242ac1c0002row10_col21\" class=\"data row10 col21\" >0</td>\n",
              "                        <td id=\"T_887030be_497d_11eb_90df_0242ac1c0002row10_col22\" class=\"data row10 col22\" >0</td>\n",
              "                        <td id=\"T_887030be_497d_11eb_90df_0242ac1c0002row10_col23\" class=\"data row10 col23\" >0</td>\n",
              "                        <td id=\"T_887030be_497d_11eb_90df_0242ac1c0002row10_col24\" class=\"data row10 col24\" >0</td>\n",
              "                        <td id=\"T_887030be_497d_11eb_90df_0242ac1c0002row10_col25\" class=\"data row10 col25\" >0</td>\n",
              "                        <td id=\"T_887030be_497d_11eb_90df_0242ac1c0002row10_col26\" class=\"data row10 col26\" >0</td>\n",
              "                        <td id=\"T_887030be_497d_11eb_90df_0242ac1c0002row10_col27\" class=\"data row10 col27\" >0</td>\n",
              "            </tr>\n",
              "            <tr>\n",
              "                        <th id=\"T_887030be_497d_11eb_90df_0242ac1c0002level0_row11\" class=\"row_heading level0 row11\" >11</th>\n",
              "                        <td id=\"T_887030be_497d_11eb_90df_0242ac1c0002row11_col0\" class=\"data row11 col0\" >0</td>\n",
              "                        <td id=\"T_887030be_497d_11eb_90df_0242ac1c0002row11_col1\" class=\"data row11 col1\" >0</td>\n",
              "                        <td id=\"T_887030be_497d_11eb_90df_0242ac1c0002row11_col2\" class=\"data row11 col2\" >0</td>\n",
              "                        <td id=\"T_887030be_497d_11eb_90df_0242ac1c0002row11_col3\" class=\"data row11 col3\" >0</td>\n",
              "                        <td id=\"T_887030be_497d_11eb_90df_0242ac1c0002row11_col4\" class=\"data row11 col4\" >0</td>\n",
              "                        <td id=\"T_887030be_497d_11eb_90df_0242ac1c0002row11_col5\" class=\"data row11 col5\" >0</td>\n",
              "                        <td id=\"T_887030be_497d_11eb_90df_0242ac1c0002row11_col6\" class=\"data row11 col6\" >0</td>\n",
              "                        <td id=\"T_887030be_497d_11eb_90df_0242ac1c0002row11_col7\" class=\"data row11 col7\" >0</td>\n",
              "                        <td id=\"T_887030be_497d_11eb_90df_0242ac1c0002row11_col8\" class=\"data row11 col8\" >0</td>\n",
              "                        <td id=\"T_887030be_497d_11eb_90df_0242ac1c0002row11_col9\" class=\"data row11 col9\" >0</td>\n",
              "                        <td id=\"T_887030be_497d_11eb_90df_0242ac1c0002row11_col10\" class=\"data row11 col10\" >0</td>\n",
              "                        <td id=\"T_887030be_497d_11eb_90df_0242ac1c0002row11_col11\" class=\"data row11 col11\" >0</td>\n",
              "                        <td id=\"T_887030be_497d_11eb_90df_0242ac1c0002row11_col12\" class=\"data row11 col12\" >0</td>\n",
              "                        <td id=\"T_887030be_497d_11eb_90df_0242ac1c0002row11_col13\" class=\"data row11 col13\" >0</td>\n",
              "                        <td id=\"T_887030be_497d_11eb_90df_0242ac1c0002row11_col14\" class=\"data row11 col14\" >0</td>\n",
              "                        <td id=\"T_887030be_497d_11eb_90df_0242ac1c0002row11_col15\" class=\"data row11 col15\" >129</td>\n",
              "                        <td id=\"T_887030be_497d_11eb_90df_0242ac1c0002row11_col16\" class=\"data row11 col16\" >252</td>\n",
              "                        <td id=\"T_887030be_497d_11eb_90df_0242ac1c0002row11_col17\" class=\"data row11 col17\" >252</td>\n",
              "                        <td id=\"T_887030be_497d_11eb_90df_0242ac1c0002row11_col18\" class=\"data row11 col18\" >222</td>\n",
              "                        <td id=\"T_887030be_497d_11eb_90df_0242ac1c0002row11_col19\" class=\"data row11 col19\" >0</td>\n",
              "                        <td id=\"T_887030be_497d_11eb_90df_0242ac1c0002row11_col20\" class=\"data row11 col20\" >0</td>\n",
              "                        <td id=\"T_887030be_497d_11eb_90df_0242ac1c0002row11_col21\" class=\"data row11 col21\" >0</td>\n",
              "                        <td id=\"T_887030be_497d_11eb_90df_0242ac1c0002row11_col22\" class=\"data row11 col22\" >0</td>\n",
              "                        <td id=\"T_887030be_497d_11eb_90df_0242ac1c0002row11_col23\" class=\"data row11 col23\" >0</td>\n",
              "                        <td id=\"T_887030be_497d_11eb_90df_0242ac1c0002row11_col24\" class=\"data row11 col24\" >0</td>\n",
              "                        <td id=\"T_887030be_497d_11eb_90df_0242ac1c0002row11_col25\" class=\"data row11 col25\" >0</td>\n",
              "                        <td id=\"T_887030be_497d_11eb_90df_0242ac1c0002row11_col26\" class=\"data row11 col26\" >0</td>\n",
              "                        <td id=\"T_887030be_497d_11eb_90df_0242ac1c0002row11_col27\" class=\"data row11 col27\" >0</td>\n",
              "            </tr>\n",
              "            <tr>\n",
              "                        <th id=\"T_887030be_497d_11eb_90df_0242ac1c0002level0_row12\" class=\"row_heading level0 row12\" >12</th>\n",
              "                        <td id=\"T_887030be_497d_11eb_90df_0242ac1c0002row12_col0\" class=\"data row12 col0\" >0</td>\n",
              "                        <td id=\"T_887030be_497d_11eb_90df_0242ac1c0002row12_col1\" class=\"data row12 col1\" >0</td>\n",
              "                        <td id=\"T_887030be_497d_11eb_90df_0242ac1c0002row12_col2\" class=\"data row12 col2\" >0</td>\n",
              "                        <td id=\"T_887030be_497d_11eb_90df_0242ac1c0002row12_col3\" class=\"data row12 col3\" >0</td>\n",
              "                        <td id=\"T_887030be_497d_11eb_90df_0242ac1c0002row12_col4\" class=\"data row12 col4\" >0</td>\n",
              "                        <td id=\"T_887030be_497d_11eb_90df_0242ac1c0002row12_col5\" class=\"data row12 col5\" >0</td>\n",
              "                        <td id=\"T_887030be_497d_11eb_90df_0242ac1c0002row12_col6\" class=\"data row12 col6\" >0</td>\n",
              "                        <td id=\"T_887030be_497d_11eb_90df_0242ac1c0002row12_col7\" class=\"data row12 col7\" >0</td>\n",
              "                        <td id=\"T_887030be_497d_11eb_90df_0242ac1c0002row12_col8\" class=\"data row12 col8\" >0</td>\n",
              "                        <td id=\"T_887030be_497d_11eb_90df_0242ac1c0002row12_col9\" class=\"data row12 col9\" >0</td>\n",
              "                        <td id=\"T_887030be_497d_11eb_90df_0242ac1c0002row12_col10\" class=\"data row12 col10\" >0</td>\n",
              "                        <td id=\"T_887030be_497d_11eb_90df_0242ac1c0002row12_col11\" class=\"data row12 col11\" >0</td>\n",
              "                        <td id=\"T_887030be_497d_11eb_90df_0242ac1c0002row12_col12\" class=\"data row12 col12\" >0</td>\n",
              "                        <td id=\"T_887030be_497d_11eb_90df_0242ac1c0002row12_col13\" class=\"data row12 col13\" >0</td>\n",
              "                        <td id=\"T_887030be_497d_11eb_90df_0242ac1c0002row12_col14\" class=\"data row12 col14\" >36</td>\n",
              "                        <td id=\"T_887030be_497d_11eb_90df_0242ac1c0002row12_col15\" class=\"data row12 col15\" >216</td>\n",
              "                        <td id=\"T_887030be_497d_11eb_90df_0242ac1c0002row12_col16\" class=\"data row12 col16\" >252</td>\n",
              "                        <td id=\"T_887030be_497d_11eb_90df_0242ac1c0002row12_col17\" class=\"data row12 col17\" >252</td>\n",
              "                        <td id=\"T_887030be_497d_11eb_90df_0242ac1c0002row12_col18\" class=\"data row12 col18\" >133</td>\n",
              "                        <td id=\"T_887030be_497d_11eb_90df_0242ac1c0002row12_col19\" class=\"data row12 col19\" >0</td>\n",
              "                        <td id=\"T_887030be_497d_11eb_90df_0242ac1c0002row12_col20\" class=\"data row12 col20\" >0</td>\n",
              "                        <td id=\"T_887030be_497d_11eb_90df_0242ac1c0002row12_col21\" class=\"data row12 col21\" >0</td>\n",
              "                        <td id=\"T_887030be_497d_11eb_90df_0242ac1c0002row12_col22\" class=\"data row12 col22\" >0</td>\n",
              "                        <td id=\"T_887030be_497d_11eb_90df_0242ac1c0002row12_col23\" class=\"data row12 col23\" >0</td>\n",
              "                        <td id=\"T_887030be_497d_11eb_90df_0242ac1c0002row12_col24\" class=\"data row12 col24\" >0</td>\n",
              "                        <td id=\"T_887030be_497d_11eb_90df_0242ac1c0002row12_col25\" class=\"data row12 col25\" >0</td>\n",
              "                        <td id=\"T_887030be_497d_11eb_90df_0242ac1c0002row12_col26\" class=\"data row12 col26\" >0</td>\n",
              "                        <td id=\"T_887030be_497d_11eb_90df_0242ac1c0002row12_col27\" class=\"data row12 col27\" >0</td>\n",
              "            </tr>\n",
              "            <tr>\n",
              "                        <th id=\"T_887030be_497d_11eb_90df_0242ac1c0002level0_row13\" class=\"row_heading level0 row13\" >13</th>\n",
              "                        <td id=\"T_887030be_497d_11eb_90df_0242ac1c0002row13_col0\" class=\"data row13 col0\" >0</td>\n",
              "                        <td id=\"T_887030be_497d_11eb_90df_0242ac1c0002row13_col1\" class=\"data row13 col1\" >0</td>\n",
              "                        <td id=\"T_887030be_497d_11eb_90df_0242ac1c0002row13_col2\" class=\"data row13 col2\" >0</td>\n",
              "                        <td id=\"T_887030be_497d_11eb_90df_0242ac1c0002row13_col3\" class=\"data row13 col3\" >0</td>\n",
              "                        <td id=\"T_887030be_497d_11eb_90df_0242ac1c0002row13_col4\" class=\"data row13 col4\" >0</td>\n",
              "                        <td id=\"T_887030be_497d_11eb_90df_0242ac1c0002row13_col5\" class=\"data row13 col5\" >0</td>\n",
              "                        <td id=\"T_887030be_497d_11eb_90df_0242ac1c0002row13_col6\" class=\"data row13 col6\" >0</td>\n",
              "                        <td id=\"T_887030be_497d_11eb_90df_0242ac1c0002row13_col7\" class=\"data row13 col7\" >0</td>\n",
              "                        <td id=\"T_887030be_497d_11eb_90df_0242ac1c0002row13_col8\" class=\"data row13 col8\" >0</td>\n",
              "                        <td id=\"T_887030be_497d_11eb_90df_0242ac1c0002row13_col9\" class=\"data row13 col9\" >0</td>\n",
              "                        <td id=\"T_887030be_497d_11eb_90df_0242ac1c0002row13_col10\" class=\"data row13 col10\" >99</td>\n",
              "                        <td id=\"T_887030be_497d_11eb_90df_0242ac1c0002row13_col11\" class=\"data row13 col11\" >219</td>\n",
              "                        <td id=\"T_887030be_497d_11eb_90df_0242ac1c0002row13_col12\" class=\"data row13 col12\" >253</td>\n",
              "                        <td id=\"T_887030be_497d_11eb_90df_0242ac1c0002row13_col13\" class=\"data row13 col13\" >255</td>\n",
              "                        <td id=\"T_887030be_497d_11eb_90df_0242ac1c0002row13_col14\" class=\"data row13 col14\" >253</td>\n",
              "                        <td id=\"T_887030be_497d_11eb_90df_0242ac1c0002row13_col15\" class=\"data row13 col15\" >253</td>\n",
              "                        <td id=\"T_887030be_497d_11eb_90df_0242ac1c0002row13_col16\" class=\"data row13 col16\" >253</td>\n",
              "                        <td id=\"T_887030be_497d_11eb_90df_0242ac1c0002row13_col17\" class=\"data row13 col17\" >253</td>\n",
              "                        <td id=\"T_887030be_497d_11eb_90df_0242ac1c0002row13_col18\" class=\"data row13 col18\" >147</td>\n",
              "                        <td id=\"T_887030be_497d_11eb_90df_0242ac1c0002row13_col19\" class=\"data row13 col19\" >105</td>\n",
              "                        <td id=\"T_887030be_497d_11eb_90df_0242ac1c0002row13_col20\" class=\"data row13 col20\" >6</td>\n",
              "                        <td id=\"T_887030be_497d_11eb_90df_0242ac1c0002row13_col21\" class=\"data row13 col21\" >0</td>\n",
              "                        <td id=\"T_887030be_497d_11eb_90df_0242ac1c0002row13_col22\" class=\"data row13 col22\" >0</td>\n",
              "                        <td id=\"T_887030be_497d_11eb_90df_0242ac1c0002row13_col23\" class=\"data row13 col23\" >0</td>\n",
              "                        <td id=\"T_887030be_497d_11eb_90df_0242ac1c0002row13_col24\" class=\"data row13 col24\" >0</td>\n",
              "                        <td id=\"T_887030be_497d_11eb_90df_0242ac1c0002row13_col25\" class=\"data row13 col25\" >0</td>\n",
              "                        <td id=\"T_887030be_497d_11eb_90df_0242ac1c0002row13_col26\" class=\"data row13 col26\" >0</td>\n",
              "                        <td id=\"T_887030be_497d_11eb_90df_0242ac1c0002row13_col27\" class=\"data row13 col27\" >0</td>\n",
              "            </tr>\n",
              "            <tr>\n",
              "                        <th id=\"T_887030be_497d_11eb_90df_0242ac1c0002level0_row14\" class=\"row_heading level0 row14\" >14</th>\n",
              "                        <td id=\"T_887030be_497d_11eb_90df_0242ac1c0002row14_col0\" class=\"data row14 col0\" >0</td>\n",
              "                        <td id=\"T_887030be_497d_11eb_90df_0242ac1c0002row14_col1\" class=\"data row14 col1\" >0</td>\n",
              "                        <td id=\"T_887030be_497d_11eb_90df_0242ac1c0002row14_col2\" class=\"data row14 col2\" >0</td>\n",
              "                        <td id=\"T_887030be_497d_11eb_90df_0242ac1c0002row14_col3\" class=\"data row14 col3\" >0</td>\n",
              "                        <td id=\"T_887030be_497d_11eb_90df_0242ac1c0002row14_col4\" class=\"data row14 col4\" >15</td>\n",
              "                        <td id=\"T_887030be_497d_11eb_90df_0242ac1c0002row14_col5\" class=\"data row14 col5\" >57</td>\n",
              "                        <td id=\"T_887030be_497d_11eb_90df_0242ac1c0002row14_col6\" class=\"data row14 col6\" >0</td>\n",
              "                        <td id=\"T_887030be_497d_11eb_90df_0242ac1c0002row14_col7\" class=\"data row14 col7\" >0</td>\n",
              "                        <td id=\"T_887030be_497d_11eb_90df_0242ac1c0002row14_col8\" class=\"data row14 col8\" >0</td>\n",
              "                        <td id=\"T_887030be_497d_11eb_90df_0242ac1c0002row14_col9\" class=\"data row14 col9\" >0</td>\n",
              "                        <td id=\"T_887030be_497d_11eb_90df_0242ac1c0002row14_col10\" class=\"data row14 col10\" >238</td>\n",
              "                        <td id=\"T_887030be_497d_11eb_90df_0242ac1c0002row14_col11\" class=\"data row14 col11\" >252</td>\n",
              "                        <td id=\"T_887030be_497d_11eb_90df_0242ac1c0002row14_col12\" class=\"data row14 col12\" >252</td>\n",
              "                        <td id=\"T_887030be_497d_11eb_90df_0242ac1c0002row14_col13\" class=\"data row14 col13\" >253</td>\n",
              "                        <td id=\"T_887030be_497d_11eb_90df_0242ac1c0002row14_col14\" class=\"data row14 col14\" >252</td>\n",
              "                        <td id=\"T_887030be_497d_11eb_90df_0242ac1c0002row14_col15\" class=\"data row14 col15\" >252</td>\n",
              "                        <td id=\"T_887030be_497d_11eb_90df_0242ac1c0002row14_col16\" class=\"data row14 col16\" >252</td>\n",
              "                        <td id=\"T_887030be_497d_11eb_90df_0242ac1c0002row14_col17\" class=\"data row14 col17\" >252</td>\n",
              "                        <td id=\"T_887030be_497d_11eb_90df_0242ac1c0002row14_col18\" class=\"data row14 col18\" >252</td>\n",
              "                        <td id=\"T_887030be_497d_11eb_90df_0242ac1c0002row14_col19\" class=\"data row14 col19\" >252</td>\n",
              "                        <td id=\"T_887030be_497d_11eb_90df_0242ac1c0002row14_col20\" class=\"data row14 col20\" >158</td>\n",
              "                        <td id=\"T_887030be_497d_11eb_90df_0242ac1c0002row14_col21\" class=\"data row14 col21\" >50</td>\n",
              "                        <td id=\"T_887030be_497d_11eb_90df_0242ac1c0002row14_col22\" class=\"data row14 col22\" >0</td>\n",
              "                        <td id=\"T_887030be_497d_11eb_90df_0242ac1c0002row14_col23\" class=\"data row14 col23\" >0</td>\n",
              "                        <td id=\"T_887030be_497d_11eb_90df_0242ac1c0002row14_col24\" class=\"data row14 col24\" >0</td>\n",
              "                        <td id=\"T_887030be_497d_11eb_90df_0242ac1c0002row14_col25\" class=\"data row14 col25\" >0</td>\n",
              "                        <td id=\"T_887030be_497d_11eb_90df_0242ac1c0002row14_col26\" class=\"data row14 col26\" >0</td>\n",
              "                        <td id=\"T_887030be_497d_11eb_90df_0242ac1c0002row14_col27\" class=\"data row14 col27\" >0</td>\n",
              "            </tr>\n",
              "            <tr>\n",
              "                        <th id=\"T_887030be_497d_11eb_90df_0242ac1c0002level0_row15\" class=\"row_heading level0 row15\" >15</th>\n",
              "                        <td id=\"T_887030be_497d_11eb_90df_0242ac1c0002row15_col0\" class=\"data row15 col0\" >0</td>\n",
              "                        <td id=\"T_887030be_497d_11eb_90df_0242ac1c0002row15_col1\" class=\"data row15 col1\" >0</td>\n",
              "                        <td id=\"T_887030be_497d_11eb_90df_0242ac1c0002row15_col2\" class=\"data row15 col2\" >0</td>\n",
              "                        <td id=\"T_887030be_497d_11eb_90df_0242ac1c0002row15_col3\" class=\"data row15 col3\" >7</td>\n",
              "                        <td id=\"T_887030be_497d_11eb_90df_0242ac1c0002row15_col4\" class=\"data row15 col4\" >159</td>\n",
              "                        <td id=\"T_887030be_497d_11eb_90df_0242ac1c0002row15_col5\" class=\"data row15 col5\" >246</td>\n",
              "                        <td id=\"T_887030be_497d_11eb_90df_0242ac1c0002row15_col6\" class=\"data row15 col6\" >94</td>\n",
              "                        <td id=\"T_887030be_497d_11eb_90df_0242ac1c0002row15_col7\" class=\"data row15 col7\" >11</td>\n",
              "                        <td id=\"T_887030be_497d_11eb_90df_0242ac1c0002row15_col8\" class=\"data row15 col8\" >0</td>\n",
              "                        <td id=\"T_887030be_497d_11eb_90df_0242ac1c0002row15_col9\" class=\"data row15 col9\" >0</td>\n",
              "                        <td id=\"T_887030be_497d_11eb_90df_0242ac1c0002row15_col10\" class=\"data row15 col10\" >229</td>\n",
              "                        <td id=\"T_887030be_497d_11eb_90df_0242ac1c0002row15_col11\" class=\"data row15 col11\" >252</td>\n",
              "                        <td id=\"T_887030be_497d_11eb_90df_0242ac1c0002row15_col12\" class=\"data row15 col12\" >252</td>\n",
              "                        <td id=\"T_887030be_497d_11eb_90df_0242ac1c0002row15_col13\" class=\"data row15 col13\" >253</td>\n",
              "                        <td id=\"T_887030be_497d_11eb_90df_0242ac1c0002row15_col14\" class=\"data row15 col14\" >252</td>\n",
              "                        <td id=\"T_887030be_497d_11eb_90df_0242ac1c0002row15_col15\" class=\"data row15 col15\" >252</td>\n",
              "                        <td id=\"T_887030be_497d_11eb_90df_0242ac1c0002row15_col16\" class=\"data row15 col16\" >252</td>\n",
              "                        <td id=\"T_887030be_497d_11eb_90df_0242ac1c0002row15_col17\" class=\"data row15 col17\" >252</td>\n",
              "                        <td id=\"T_887030be_497d_11eb_90df_0242ac1c0002row15_col18\" class=\"data row15 col18\" >252</td>\n",
              "                        <td id=\"T_887030be_497d_11eb_90df_0242ac1c0002row15_col19\" class=\"data row15 col19\" >252</td>\n",
              "                        <td id=\"T_887030be_497d_11eb_90df_0242ac1c0002row15_col20\" class=\"data row15 col20\" >252</td>\n",
              "                        <td id=\"T_887030be_497d_11eb_90df_0242ac1c0002row15_col21\" class=\"data row15 col21\" >236</td>\n",
              "                        <td id=\"T_887030be_497d_11eb_90df_0242ac1c0002row15_col22\" class=\"data row15 col22\" >67</td>\n",
              "                        <td id=\"T_887030be_497d_11eb_90df_0242ac1c0002row15_col23\" class=\"data row15 col23\" >0</td>\n",
              "                        <td id=\"T_887030be_497d_11eb_90df_0242ac1c0002row15_col24\" class=\"data row15 col24\" >0</td>\n",
              "                        <td id=\"T_887030be_497d_11eb_90df_0242ac1c0002row15_col25\" class=\"data row15 col25\" >0</td>\n",
              "                        <td id=\"T_887030be_497d_11eb_90df_0242ac1c0002row15_col26\" class=\"data row15 col26\" >0</td>\n",
              "                        <td id=\"T_887030be_497d_11eb_90df_0242ac1c0002row15_col27\" class=\"data row15 col27\" >0</td>\n",
              "            </tr>\n",
              "            <tr>\n",
              "                        <th id=\"T_887030be_497d_11eb_90df_0242ac1c0002level0_row16\" class=\"row_heading level0 row16\" >16</th>\n",
              "                        <td id=\"T_887030be_497d_11eb_90df_0242ac1c0002row16_col0\" class=\"data row16 col0\" >0</td>\n",
              "                        <td id=\"T_887030be_497d_11eb_90df_0242ac1c0002row16_col1\" class=\"data row16 col1\" >0</td>\n",
              "                        <td id=\"T_887030be_497d_11eb_90df_0242ac1c0002row16_col2\" class=\"data row16 col2\" >0</td>\n",
              "                        <td id=\"T_887030be_497d_11eb_90df_0242ac1c0002row16_col3\" class=\"data row16 col3\" >105</td>\n",
              "                        <td id=\"T_887030be_497d_11eb_90df_0242ac1c0002row16_col4\" class=\"data row16 col4\" >252</td>\n",
              "                        <td id=\"T_887030be_497d_11eb_90df_0242ac1c0002row16_col5\" class=\"data row16 col5\" >252</td>\n",
              "                        <td id=\"T_887030be_497d_11eb_90df_0242ac1c0002row16_col6\" class=\"data row16 col6\" >252</td>\n",
              "                        <td id=\"T_887030be_497d_11eb_90df_0242ac1c0002row16_col7\" class=\"data row16 col7\" >212</td>\n",
              "                        <td id=\"T_887030be_497d_11eb_90df_0242ac1c0002row16_col8\" class=\"data row16 col8\" >106</td>\n",
              "                        <td id=\"T_887030be_497d_11eb_90df_0242ac1c0002row16_col9\" class=\"data row16 col9\" >0</td>\n",
              "                        <td id=\"T_887030be_497d_11eb_90df_0242ac1c0002row16_col10\" class=\"data row16 col10\" >48</td>\n",
              "                        <td id=\"T_887030be_497d_11eb_90df_0242ac1c0002row16_col11\" class=\"data row16 col11\" >153</td>\n",
              "                        <td id=\"T_887030be_497d_11eb_90df_0242ac1c0002row16_col12\" class=\"data row16 col12\" >252</td>\n",
              "                        <td id=\"T_887030be_497d_11eb_90df_0242ac1c0002row16_col13\" class=\"data row16 col13\" >133</td>\n",
              "                        <td id=\"T_887030be_497d_11eb_90df_0242ac1c0002row16_col14\" class=\"data row16 col14\" >132</td>\n",
              "                        <td id=\"T_887030be_497d_11eb_90df_0242ac1c0002row16_col15\" class=\"data row16 col15\" >132</td>\n",
              "                        <td id=\"T_887030be_497d_11eb_90df_0242ac1c0002row16_col16\" class=\"data row16 col16\" >189</td>\n",
              "                        <td id=\"T_887030be_497d_11eb_90df_0242ac1c0002row16_col17\" class=\"data row16 col17\" >252</td>\n",
              "                        <td id=\"T_887030be_497d_11eb_90df_0242ac1c0002row16_col18\" class=\"data row16 col18\" >252</td>\n",
              "                        <td id=\"T_887030be_497d_11eb_90df_0242ac1c0002row16_col19\" class=\"data row16 col19\" >252</td>\n",
              "                        <td id=\"T_887030be_497d_11eb_90df_0242ac1c0002row16_col20\" class=\"data row16 col20\" >252</td>\n",
              "                        <td id=\"T_887030be_497d_11eb_90df_0242ac1c0002row16_col21\" class=\"data row16 col21\" >252</td>\n",
              "                        <td id=\"T_887030be_497d_11eb_90df_0242ac1c0002row16_col22\" class=\"data row16 col22\" >103</td>\n",
              "                        <td id=\"T_887030be_497d_11eb_90df_0242ac1c0002row16_col23\" class=\"data row16 col23\" >0</td>\n",
              "                        <td id=\"T_887030be_497d_11eb_90df_0242ac1c0002row16_col24\" class=\"data row16 col24\" >0</td>\n",
              "                        <td id=\"T_887030be_497d_11eb_90df_0242ac1c0002row16_col25\" class=\"data row16 col25\" >0</td>\n",
              "                        <td id=\"T_887030be_497d_11eb_90df_0242ac1c0002row16_col26\" class=\"data row16 col26\" >0</td>\n",
              "                        <td id=\"T_887030be_497d_11eb_90df_0242ac1c0002row16_col27\" class=\"data row16 col27\" >0</td>\n",
              "            </tr>\n",
              "            <tr>\n",
              "                        <th id=\"T_887030be_497d_11eb_90df_0242ac1c0002level0_row17\" class=\"row_heading level0 row17\" >17</th>\n",
              "                        <td id=\"T_887030be_497d_11eb_90df_0242ac1c0002row17_col0\" class=\"data row17 col0\" >0</td>\n",
              "                        <td id=\"T_887030be_497d_11eb_90df_0242ac1c0002row17_col1\" class=\"data row17 col1\" >0</td>\n",
              "                        <td id=\"T_887030be_497d_11eb_90df_0242ac1c0002row17_col2\" class=\"data row17 col2\" >0</td>\n",
              "                        <td id=\"T_887030be_497d_11eb_90df_0242ac1c0002row17_col3\" class=\"data row17 col3\" >74</td>\n",
              "                        <td id=\"T_887030be_497d_11eb_90df_0242ac1c0002row17_col4\" class=\"data row17 col4\" >239</td>\n",
              "                        <td id=\"T_887030be_497d_11eb_90df_0242ac1c0002row17_col5\" class=\"data row17 col5\" >252</td>\n",
              "                        <td id=\"T_887030be_497d_11eb_90df_0242ac1c0002row17_col6\" class=\"data row17 col6\" >252</td>\n",
              "                        <td id=\"T_887030be_497d_11eb_90df_0242ac1c0002row17_col7\" class=\"data row17 col7\" >252</td>\n",
              "                        <td id=\"T_887030be_497d_11eb_90df_0242ac1c0002row17_col8\" class=\"data row17 col8\" >248</td>\n",
              "                        <td id=\"T_887030be_497d_11eb_90df_0242ac1c0002row17_col9\" class=\"data row17 col9\" >223</td>\n",
              "                        <td id=\"T_887030be_497d_11eb_90df_0242ac1c0002row17_col10\" class=\"data row17 col10\" >57</td>\n",
              "                        <td id=\"T_887030be_497d_11eb_90df_0242ac1c0002row17_col11\" class=\"data row17 col11\" >6</td>\n",
              "                        <td id=\"T_887030be_497d_11eb_90df_0242ac1c0002row17_col12\" class=\"data row17 col12\" >29</td>\n",
              "                        <td id=\"T_887030be_497d_11eb_90df_0242ac1c0002row17_col13\" class=\"data row17 col13\" >0</td>\n",
              "                        <td id=\"T_887030be_497d_11eb_90df_0242ac1c0002row17_col14\" class=\"data row17 col14\" >0</td>\n",
              "                        <td id=\"T_887030be_497d_11eb_90df_0242ac1c0002row17_col15\" class=\"data row17 col15\" >0</td>\n",
              "                        <td id=\"T_887030be_497d_11eb_90df_0242ac1c0002row17_col16\" class=\"data row17 col16\" >14</td>\n",
              "                        <td id=\"T_887030be_497d_11eb_90df_0242ac1c0002row17_col17\" class=\"data row17 col17\" >29</td>\n",
              "                        <td id=\"T_887030be_497d_11eb_90df_0242ac1c0002row17_col18\" class=\"data row17 col18\" >143</td>\n",
              "                        <td id=\"T_887030be_497d_11eb_90df_0242ac1c0002row17_col19\" class=\"data row17 col19\" >252</td>\n",
              "                        <td id=\"T_887030be_497d_11eb_90df_0242ac1c0002row17_col20\" class=\"data row17 col20\" >252</td>\n",
              "                        <td id=\"T_887030be_497d_11eb_90df_0242ac1c0002row17_col21\" class=\"data row17 col21\" >252</td>\n",
              "                        <td id=\"T_887030be_497d_11eb_90df_0242ac1c0002row17_col22\" class=\"data row17 col22\" >103</td>\n",
              "                        <td id=\"T_887030be_497d_11eb_90df_0242ac1c0002row17_col23\" class=\"data row17 col23\" >0</td>\n",
              "                        <td id=\"T_887030be_497d_11eb_90df_0242ac1c0002row17_col24\" class=\"data row17 col24\" >0</td>\n",
              "                        <td id=\"T_887030be_497d_11eb_90df_0242ac1c0002row17_col25\" class=\"data row17 col25\" >0</td>\n",
              "                        <td id=\"T_887030be_497d_11eb_90df_0242ac1c0002row17_col26\" class=\"data row17 col26\" >0</td>\n",
              "                        <td id=\"T_887030be_497d_11eb_90df_0242ac1c0002row17_col27\" class=\"data row17 col27\" >0</td>\n",
              "            </tr>\n",
              "            <tr>\n",
              "                        <th id=\"T_887030be_497d_11eb_90df_0242ac1c0002level0_row18\" class=\"row_heading level0 row18\" >18</th>\n",
              "                        <td id=\"T_887030be_497d_11eb_90df_0242ac1c0002row18_col0\" class=\"data row18 col0\" >0</td>\n",
              "                        <td id=\"T_887030be_497d_11eb_90df_0242ac1c0002row18_col1\" class=\"data row18 col1\" >0</td>\n",
              "                        <td id=\"T_887030be_497d_11eb_90df_0242ac1c0002row18_col2\" class=\"data row18 col2\" >0</td>\n",
              "                        <td id=\"T_887030be_497d_11eb_90df_0242ac1c0002row18_col3\" class=\"data row18 col3\" >0</td>\n",
              "                        <td id=\"T_887030be_497d_11eb_90df_0242ac1c0002row18_col4\" class=\"data row18 col4\" >61</td>\n",
              "                        <td id=\"T_887030be_497d_11eb_90df_0242ac1c0002row18_col5\" class=\"data row18 col5\" >171</td>\n",
              "                        <td id=\"T_887030be_497d_11eb_90df_0242ac1c0002row18_col6\" class=\"data row18 col6\" >252</td>\n",
              "                        <td id=\"T_887030be_497d_11eb_90df_0242ac1c0002row18_col7\" class=\"data row18 col7\" >252</td>\n",
              "                        <td id=\"T_887030be_497d_11eb_90df_0242ac1c0002row18_col8\" class=\"data row18 col8\" >252</td>\n",
              "                        <td id=\"T_887030be_497d_11eb_90df_0242ac1c0002row18_col9\" class=\"data row18 col9\" >252</td>\n",
              "                        <td id=\"T_887030be_497d_11eb_90df_0242ac1c0002row18_col10\" class=\"data row18 col10\" >226</td>\n",
              "                        <td id=\"T_887030be_497d_11eb_90df_0242ac1c0002row18_col11\" class=\"data row18 col11\" >152</td>\n",
              "                        <td id=\"T_887030be_497d_11eb_90df_0242ac1c0002row18_col12\" class=\"data row18 col12\" >30</td>\n",
              "                        <td id=\"T_887030be_497d_11eb_90df_0242ac1c0002row18_col13\" class=\"data row18 col13\" >18</td>\n",
              "                        <td id=\"T_887030be_497d_11eb_90df_0242ac1c0002row18_col14\" class=\"data row18 col14\" >0</td>\n",
              "                        <td id=\"T_887030be_497d_11eb_90df_0242ac1c0002row18_col15\" class=\"data row18 col15\" >0</td>\n",
              "                        <td id=\"T_887030be_497d_11eb_90df_0242ac1c0002row18_col16\" class=\"data row18 col16\" >0</td>\n",
              "                        <td id=\"T_887030be_497d_11eb_90df_0242ac1c0002row18_col17\" class=\"data row18 col17\" >0</td>\n",
              "                        <td id=\"T_887030be_497d_11eb_90df_0242ac1c0002row18_col18\" class=\"data row18 col18\" >30</td>\n",
              "                        <td id=\"T_887030be_497d_11eb_90df_0242ac1c0002row18_col19\" class=\"data row18 col19\" >252</td>\n",
              "                        <td id=\"T_887030be_497d_11eb_90df_0242ac1c0002row18_col20\" class=\"data row18 col20\" >252</td>\n",
              "                        <td id=\"T_887030be_497d_11eb_90df_0242ac1c0002row18_col21\" class=\"data row18 col21\" >252</td>\n",
              "                        <td id=\"T_887030be_497d_11eb_90df_0242ac1c0002row18_col22\" class=\"data row18 col22\" >103</td>\n",
              "                        <td id=\"T_887030be_497d_11eb_90df_0242ac1c0002row18_col23\" class=\"data row18 col23\" >0</td>\n",
              "                        <td id=\"T_887030be_497d_11eb_90df_0242ac1c0002row18_col24\" class=\"data row18 col24\" >0</td>\n",
              "                        <td id=\"T_887030be_497d_11eb_90df_0242ac1c0002row18_col25\" class=\"data row18 col25\" >0</td>\n",
              "                        <td id=\"T_887030be_497d_11eb_90df_0242ac1c0002row18_col26\" class=\"data row18 col26\" >0</td>\n",
              "                        <td id=\"T_887030be_497d_11eb_90df_0242ac1c0002row18_col27\" class=\"data row18 col27\" >0</td>\n",
              "            </tr>\n",
              "            <tr>\n",
              "                        <th id=\"T_887030be_497d_11eb_90df_0242ac1c0002level0_row19\" class=\"row_heading level0 row19\" >19</th>\n",
              "                        <td id=\"T_887030be_497d_11eb_90df_0242ac1c0002row19_col0\" class=\"data row19 col0\" >0</td>\n",
              "                        <td id=\"T_887030be_497d_11eb_90df_0242ac1c0002row19_col1\" class=\"data row19 col1\" >0</td>\n",
              "                        <td id=\"T_887030be_497d_11eb_90df_0242ac1c0002row19_col2\" class=\"data row19 col2\" >0</td>\n",
              "                        <td id=\"T_887030be_497d_11eb_90df_0242ac1c0002row19_col3\" class=\"data row19 col3\" >0</td>\n",
              "                        <td id=\"T_887030be_497d_11eb_90df_0242ac1c0002row19_col4\" class=\"data row19 col4\" >0</td>\n",
              "                        <td id=\"T_887030be_497d_11eb_90df_0242ac1c0002row19_col5\" class=\"data row19 col5\" >7</td>\n",
              "                        <td id=\"T_887030be_497d_11eb_90df_0242ac1c0002row19_col6\" class=\"data row19 col6\" >118</td>\n",
              "                        <td id=\"T_887030be_497d_11eb_90df_0242ac1c0002row19_col7\" class=\"data row19 col7\" >236</td>\n",
              "                        <td id=\"T_887030be_497d_11eb_90df_0242ac1c0002row19_col8\" class=\"data row19 col8\" >252</td>\n",
              "                        <td id=\"T_887030be_497d_11eb_90df_0242ac1c0002row19_col9\" class=\"data row19 col9\" >252</td>\n",
              "                        <td id=\"T_887030be_497d_11eb_90df_0242ac1c0002row19_col10\" class=\"data row19 col10\" >252</td>\n",
              "                        <td id=\"T_887030be_497d_11eb_90df_0242ac1c0002row19_col11\" class=\"data row19 col11\" >252</td>\n",
              "                        <td id=\"T_887030be_497d_11eb_90df_0242ac1c0002row19_col12\" class=\"data row19 col12\" >252</td>\n",
              "                        <td id=\"T_887030be_497d_11eb_90df_0242ac1c0002row19_col13\" class=\"data row19 col13\" >204</td>\n",
              "                        <td id=\"T_887030be_497d_11eb_90df_0242ac1c0002row19_col14\" class=\"data row19 col14\" >134</td>\n",
              "                        <td id=\"T_887030be_497d_11eb_90df_0242ac1c0002row19_col15\" class=\"data row19 col15\" >134</td>\n",
              "                        <td id=\"T_887030be_497d_11eb_90df_0242ac1c0002row19_col16\" class=\"data row19 col16\" >134</td>\n",
              "                        <td id=\"T_887030be_497d_11eb_90df_0242ac1c0002row19_col17\" class=\"data row19 col17\" >134</td>\n",
              "                        <td id=\"T_887030be_497d_11eb_90df_0242ac1c0002row19_col18\" class=\"data row19 col18\" >148</td>\n",
              "                        <td id=\"T_887030be_497d_11eb_90df_0242ac1c0002row19_col19\" class=\"data row19 col19\" >252</td>\n",
              "                        <td id=\"T_887030be_497d_11eb_90df_0242ac1c0002row19_col20\" class=\"data row19 col20\" >252</td>\n",
              "                        <td id=\"T_887030be_497d_11eb_90df_0242ac1c0002row19_col21\" class=\"data row19 col21\" >252</td>\n",
              "                        <td id=\"T_887030be_497d_11eb_90df_0242ac1c0002row19_col22\" class=\"data row19 col22\" >103</td>\n",
              "                        <td id=\"T_887030be_497d_11eb_90df_0242ac1c0002row19_col23\" class=\"data row19 col23\" >0</td>\n",
              "                        <td id=\"T_887030be_497d_11eb_90df_0242ac1c0002row19_col24\" class=\"data row19 col24\" >0</td>\n",
              "                        <td id=\"T_887030be_497d_11eb_90df_0242ac1c0002row19_col25\" class=\"data row19 col25\" >0</td>\n",
              "                        <td id=\"T_887030be_497d_11eb_90df_0242ac1c0002row19_col26\" class=\"data row19 col26\" >0</td>\n",
              "                        <td id=\"T_887030be_497d_11eb_90df_0242ac1c0002row19_col27\" class=\"data row19 col27\" >0</td>\n",
              "            </tr>\n",
              "            <tr>\n",
              "                        <th id=\"T_887030be_497d_11eb_90df_0242ac1c0002level0_row20\" class=\"row_heading level0 row20\" >20</th>\n",
              "                        <td id=\"T_887030be_497d_11eb_90df_0242ac1c0002row20_col0\" class=\"data row20 col0\" >0</td>\n",
              "                        <td id=\"T_887030be_497d_11eb_90df_0242ac1c0002row20_col1\" class=\"data row20 col1\" >0</td>\n",
              "                        <td id=\"T_887030be_497d_11eb_90df_0242ac1c0002row20_col2\" class=\"data row20 col2\" >0</td>\n",
              "                        <td id=\"T_887030be_497d_11eb_90df_0242ac1c0002row20_col3\" class=\"data row20 col3\" >0</td>\n",
              "                        <td id=\"T_887030be_497d_11eb_90df_0242ac1c0002row20_col4\" class=\"data row20 col4\" >0</td>\n",
              "                        <td id=\"T_887030be_497d_11eb_90df_0242ac1c0002row20_col5\" class=\"data row20 col5\" >0</td>\n",
              "                        <td id=\"T_887030be_497d_11eb_90df_0242ac1c0002row20_col6\" class=\"data row20 col6\" >0</td>\n",
              "                        <td id=\"T_887030be_497d_11eb_90df_0242ac1c0002row20_col7\" class=\"data row20 col7\" >12</td>\n",
              "                        <td id=\"T_887030be_497d_11eb_90df_0242ac1c0002row20_col8\" class=\"data row20 col8\" >129</td>\n",
              "                        <td id=\"T_887030be_497d_11eb_90df_0242ac1c0002row20_col9\" class=\"data row20 col9\" >252</td>\n",
              "                        <td id=\"T_887030be_497d_11eb_90df_0242ac1c0002row20_col10\" class=\"data row20 col10\" >252</td>\n",
              "                        <td id=\"T_887030be_497d_11eb_90df_0242ac1c0002row20_col11\" class=\"data row20 col11\" >252</td>\n",
              "                        <td id=\"T_887030be_497d_11eb_90df_0242ac1c0002row20_col12\" class=\"data row20 col12\" >252</td>\n",
              "                        <td id=\"T_887030be_497d_11eb_90df_0242ac1c0002row20_col13\" class=\"data row20 col13\" >253</td>\n",
              "                        <td id=\"T_887030be_497d_11eb_90df_0242ac1c0002row20_col14\" class=\"data row20 col14\" >252</td>\n",
              "                        <td id=\"T_887030be_497d_11eb_90df_0242ac1c0002row20_col15\" class=\"data row20 col15\" >252</td>\n",
              "                        <td id=\"T_887030be_497d_11eb_90df_0242ac1c0002row20_col16\" class=\"data row20 col16\" >252</td>\n",
              "                        <td id=\"T_887030be_497d_11eb_90df_0242ac1c0002row20_col17\" class=\"data row20 col17\" >252</td>\n",
              "                        <td id=\"T_887030be_497d_11eb_90df_0242ac1c0002row20_col18\" class=\"data row20 col18\" >252</td>\n",
              "                        <td id=\"T_887030be_497d_11eb_90df_0242ac1c0002row20_col19\" class=\"data row20 col19\" >252</td>\n",
              "                        <td id=\"T_887030be_497d_11eb_90df_0242ac1c0002row20_col20\" class=\"data row20 col20\" >252</td>\n",
              "                        <td id=\"T_887030be_497d_11eb_90df_0242ac1c0002row20_col21\" class=\"data row20 col21\" >183</td>\n",
              "                        <td id=\"T_887030be_497d_11eb_90df_0242ac1c0002row20_col22\" class=\"data row20 col22\" >67</td>\n",
              "                        <td id=\"T_887030be_497d_11eb_90df_0242ac1c0002row20_col23\" class=\"data row20 col23\" >0</td>\n",
              "                        <td id=\"T_887030be_497d_11eb_90df_0242ac1c0002row20_col24\" class=\"data row20 col24\" >0</td>\n",
              "                        <td id=\"T_887030be_497d_11eb_90df_0242ac1c0002row20_col25\" class=\"data row20 col25\" >0</td>\n",
              "                        <td id=\"T_887030be_497d_11eb_90df_0242ac1c0002row20_col26\" class=\"data row20 col26\" >0</td>\n",
              "                        <td id=\"T_887030be_497d_11eb_90df_0242ac1c0002row20_col27\" class=\"data row20 col27\" >0</td>\n",
              "            </tr>\n",
              "            <tr>\n",
              "                        <th id=\"T_887030be_497d_11eb_90df_0242ac1c0002level0_row21\" class=\"row_heading level0 row21\" >21</th>\n",
              "                        <td id=\"T_887030be_497d_11eb_90df_0242ac1c0002row21_col0\" class=\"data row21 col0\" >0</td>\n",
              "                        <td id=\"T_887030be_497d_11eb_90df_0242ac1c0002row21_col1\" class=\"data row21 col1\" >0</td>\n",
              "                        <td id=\"T_887030be_497d_11eb_90df_0242ac1c0002row21_col2\" class=\"data row21 col2\" >0</td>\n",
              "                        <td id=\"T_887030be_497d_11eb_90df_0242ac1c0002row21_col3\" class=\"data row21 col3\" >0</td>\n",
              "                        <td id=\"T_887030be_497d_11eb_90df_0242ac1c0002row21_col4\" class=\"data row21 col4\" >0</td>\n",
              "                        <td id=\"T_887030be_497d_11eb_90df_0242ac1c0002row21_col5\" class=\"data row21 col5\" >0</td>\n",
              "                        <td id=\"T_887030be_497d_11eb_90df_0242ac1c0002row21_col6\" class=\"data row21 col6\" >0</td>\n",
              "                        <td id=\"T_887030be_497d_11eb_90df_0242ac1c0002row21_col7\" class=\"data row21 col7\" >0</td>\n",
              "                        <td id=\"T_887030be_497d_11eb_90df_0242ac1c0002row21_col8\" class=\"data row21 col8\" >7</td>\n",
              "                        <td id=\"T_887030be_497d_11eb_90df_0242ac1c0002row21_col9\" class=\"data row21 col9\" >137</td>\n",
              "                        <td id=\"T_887030be_497d_11eb_90df_0242ac1c0002row21_col10\" class=\"data row21 col10\" >207</td>\n",
              "                        <td id=\"T_887030be_497d_11eb_90df_0242ac1c0002row21_col11\" class=\"data row21 col11\" >241</td>\n",
              "                        <td id=\"T_887030be_497d_11eb_90df_0242ac1c0002row21_col12\" class=\"data row21 col12\" >252</td>\n",
              "                        <td id=\"T_887030be_497d_11eb_90df_0242ac1c0002row21_col13\" class=\"data row21 col13\" >253</td>\n",
              "                        <td id=\"T_887030be_497d_11eb_90df_0242ac1c0002row21_col14\" class=\"data row21 col14\" >252</td>\n",
              "                        <td id=\"T_887030be_497d_11eb_90df_0242ac1c0002row21_col15\" class=\"data row21 col15\" >252</td>\n",
              "                        <td id=\"T_887030be_497d_11eb_90df_0242ac1c0002row21_col16\" class=\"data row21 col16\" >252</td>\n",
              "                        <td id=\"T_887030be_497d_11eb_90df_0242ac1c0002row21_col17\" class=\"data row21 col17\" >252</td>\n",
              "                        <td id=\"T_887030be_497d_11eb_90df_0242ac1c0002row21_col18\" class=\"data row21 col18\" >252</td>\n",
              "                        <td id=\"T_887030be_497d_11eb_90df_0242ac1c0002row21_col19\" class=\"data row21 col19\" >252</td>\n",
              "                        <td id=\"T_887030be_497d_11eb_90df_0242ac1c0002row21_col20\" class=\"data row21 col20\" >183</td>\n",
              "                        <td id=\"T_887030be_497d_11eb_90df_0242ac1c0002row21_col21\" class=\"data row21 col21\" >14</td>\n",
              "                        <td id=\"T_887030be_497d_11eb_90df_0242ac1c0002row21_col22\" class=\"data row21 col22\" >0</td>\n",
              "                        <td id=\"T_887030be_497d_11eb_90df_0242ac1c0002row21_col23\" class=\"data row21 col23\" >0</td>\n",
              "                        <td id=\"T_887030be_497d_11eb_90df_0242ac1c0002row21_col24\" class=\"data row21 col24\" >0</td>\n",
              "                        <td id=\"T_887030be_497d_11eb_90df_0242ac1c0002row21_col25\" class=\"data row21 col25\" >0</td>\n",
              "                        <td id=\"T_887030be_497d_11eb_90df_0242ac1c0002row21_col26\" class=\"data row21 col26\" >0</td>\n",
              "                        <td id=\"T_887030be_497d_11eb_90df_0242ac1c0002row21_col27\" class=\"data row21 col27\" >0</td>\n",
              "            </tr>\n",
              "            <tr>\n",
              "                        <th id=\"T_887030be_497d_11eb_90df_0242ac1c0002level0_row22\" class=\"row_heading level0 row22\" >22</th>\n",
              "                        <td id=\"T_887030be_497d_11eb_90df_0242ac1c0002row22_col0\" class=\"data row22 col0\" >0</td>\n",
              "                        <td id=\"T_887030be_497d_11eb_90df_0242ac1c0002row22_col1\" class=\"data row22 col1\" >0</td>\n",
              "                        <td id=\"T_887030be_497d_11eb_90df_0242ac1c0002row22_col2\" class=\"data row22 col2\" >0</td>\n",
              "                        <td id=\"T_887030be_497d_11eb_90df_0242ac1c0002row22_col3\" class=\"data row22 col3\" >0</td>\n",
              "                        <td id=\"T_887030be_497d_11eb_90df_0242ac1c0002row22_col4\" class=\"data row22 col4\" >0</td>\n",
              "                        <td id=\"T_887030be_497d_11eb_90df_0242ac1c0002row22_col5\" class=\"data row22 col5\" >0</td>\n",
              "                        <td id=\"T_887030be_497d_11eb_90df_0242ac1c0002row22_col6\" class=\"data row22 col6\" >0</td>\n",
              "                        <td id=\"T_887030be_497d_11eb_90df_0242ac1c0002row22_col7\" class=\"data row22 col7\" >0</td>\n",
              "                        <td id=\"T_887030be_497d_11eb_90df_0242ac1c0002row22_col8\" class=\"data row22 col8\" >0</td>\n",
              "                        <td id=\"T_887030be_497d_11eb_90df_0242ac1c0002row22_col9\" class=\"data row22 col9\" >0</td>\n",
              "                        <td id=\"T_887030be_497d_11eb_90df_0242ac1c0002row22_col10\" class=\"data row22 col10\" >0</td>\n",
              "                        <td id=\"T_887030be_497d_11eb_90df_0242ac1c0002row22_col11\" class=\"data row22 col11\" >106</td>\n",
              "                        <td id=\"T_887030be_497d_11eb_90df_0242ac1c0002row22_col12\" class=\"data row22 col12\" >163</td>\n",
              "                        <td id=\"T_887030be_497d_11eb_90df_0242ac1c0002row22_col13\" class=\"data row22 col13\" >253</td>\n",
              "                        <td id=\"T_887030be_497d_11eb_90df_0242ac1c0002row22_col14\" class=\"data row22 col14\" >252</td>\n",
              "                        <td id=\"T_887030be_497d_11eb_90df_0242ac1c0002row22_col15\" class=\"data row22 col15\" >252</td>\n",
              "                        <td id=\"T_887030be_497d_11eb_90df_0242ac1c0002row22_col16\" class=\"data row22 col16\" >252</td>\n",
              "                        <td id=\"T_887030be_497d_11eb_90df_0242ac1c0002row22_col17\" class=\"data row22 col17\" >252</td>\n",
              "                        <td id=\"T_887030be_497d_11eb_90df_0242ac1c0002row22_col18\" class=\"data row22 col18\" >234</td>\n",
              "                        <td id=\"T_887030be_497d_11eb_90df_0242ac1c0002row22_col19\" class=\"data row22 col19\" >103</td>\n",
              "                        <td id=\"T_887030be_497d_11eb_90df_0242ac1c0002row22_col20\" class=\"data row22 col20\" >67</td>\n",
              "                        <td id=\"T_887030be_497d_11eb_90df_0242ac1c0002row22_col21\" class=\"data row22 col21\" >0</td>\n",
              "                        <td id=\"T_887030be_497d_11eb_90df_0242ac1c0002row22_col22\" class=\"data row22 col22\" >0</td>\n",
              "                        <td id=\"T_887030be_497d_11eb_90df_0242ac1c0002row22_col23\" class=\"data row22 col23\" >0</td>\n",
              "                        <td id=\"T_887030be_497d_11eb_90df_0242ac1c0002row22_col24\" class=\"data row22 col24\" >0</td>\n",
              "                        <td id=\"T_887030be_497d_11eb_90df_0242ac1c0002row22_col25\" class=\"data row22 col25\" >0</td>\n",
              "                        <td id=\"T_887030be_497d_11eb_90df_0242ac1c0002row22_col26\" class=\"data row22 col26\" >0</td>\n",
              "                        <td id=\"T_887030be_497d_11eb_90df_0242ac1c0002row22_col27\" class=\"data row22 col27\" >0</td>\n",
              "            </tr>\n",
              "            <tr>\n",
              "                        <th id=\"T_887030be_497d_11eb_90df_0242ac1c0002level0_row23\" class=\"row_heading level0 row23\" >23</th>\n",
              "                        <td id=\"T_887030be_497d_11eb_90df_0242ac1c0002row23_col0\" class=\"data row23 col0\" >0</td>\n",
              "                        <td id=\"T_887030be_497d_11eb_90df_0242ac1c0002row23_col1\" class=\"data row23 col1\" >0</td>\n",
              "                        <td id=\"T_887030be_497d_11eb_90df_0242ac1c0002row23_col2\" class=\"data row23 col2\" >0</td>\n",
              "                        <td id=\"T_887030be_497d_11eb_90df_0242ac1c0002row23_col3\" class=\"data row23 col3\" >0</td>\n",
              "                        <td id=\"T_887030be_497d_11eb_90df_0242ac1c0002row23_col4\" class=\"data row23 col4\" >0</td>\n",
              "                        <td id=\"T_887030be_497d_11eb_90df_0242ac1c0002row23_col5\" class=\"data row23 col5\" >0</td>\n",
              "                        <td id=\"T_887030be_497d_11eb_90df_0242ac1c0002row23_col6\" class=\"data row23 col6\" >0</td>\n",
              "                        <td id=\"T_887030be_497d_11eb_90df_0242ac1c0002row23_col7\" class=\"data row23 col7\" >0</td>\n",
              "                        <td id=\"T_887030be_497d_11eb_90df_0242ac1c0002row23_col8\" class=\"data row23 col8\" >0</td>\n",
              "                        <td id=\"T_887030be_497d_11eb_90df_0242ac1c0002row23_col9\" class=\"data row23 col9\" >0</td>\n",
              "                        <td id=\"T_887030be_497d_11eb_90df_0242ac1c0002row23_col10\" class=\"data row23 col10\" >0</td>\n",
              "                        <td id=\"T_887030be_497d_11eb_90df_0242ac1c0002row23_col11\" class=\"data row23 col11\" >0</td>\n",
              "                        <td id=\"T_887030be_497d_11eb_90df_0242ac1c0002row23_col12\" class=\"data row23 col12\" >0</td>\n",
              "                        <td id=\"T_887030be_497d_11eb_90df_0242ac1c0002row23_col13\" class=\"data row23 col13\" >0</td>\n",
              "                        <td id=\"T_887030be_497d_11eb_90df_0242ac1c0002row23_col14\" class=\"data row23 col14\" >0</td>\n",
              "                        <td id=\"T_887030be_497d_11eb_90df_0242ac1c0002row23_col15\" class=\"data row23 col15\" >0</td>\n",
              "                        <td id=\"T_887030be_497d_11eb_90df_0242ac1c0002row23_col16\" class=\"data row23 col16\" >0</td>\n",
              "                        <td id=\"T_887030be_497d_11eb_90df_0242ac1c0002row23_col17\" class=\"data row23 col17\" >0</td>\n",
              "                        <td id=\"T_887030be_497d_11eb_90df_0242ac1c0002row23_col18\" class=\"data row23 col18\" >0</td>\n",
              "                        <td id=\"T_887030be_497d_11eb_90df_0242ac1c0002row23_col19\" class=\"data row23 col19\" >0</td>\n",
              "                        <td id=\"T_887030be_497d_11eb_90df_0242ac1c0002row23_col20\" class=\"data row23 col20\" >0</td>\n",
              "                        <td id=\"T_887030be_497d_11eb_90df_0242ac1c0002row23_col21\" class=\"data row23 col21\" >0</td>\n",
              "                        <td id=\"T_887030be_497d_11eb_90df_0242ac1c0002row23_col22\" class=\"data row23 col22\" >0</td>\n",
              "                        <td id=\"T_887030be_497d_11eb_90df_0242ac1c0002row23_col23\" class=\"data row23 col23\" >0</td>\n",
              "                        <td id=\"T_887030be_497d_11eb_90df_0242ac1c0002row23_col24\" class=\"data row23 col24\" >0</td>\n",
              "                        <td id=\"T_887030be_497d_11eb_90df_0242ac1c0002row23_col25\" class=\"data row23 col25\" >0</td>\n",
              "                        <td id=\"T_887030be_497d_11eb_90df_0242ac1c0002row23_col26\" class=\"data row23 col26\" >0</td>\n",
              "                        <td id=\"T_887030be_497d_11eb_90df_0242ac1c0002row23_col27\" class=\"data row23 col27\" >0</td>\n",
              "            </tr>\n",
              "            <tr>\n",
              "                        <th id=\"T_887030be_497d_11eb_90df_0242ac1c0002level0_row24\" class=\"row_heading level0 row24\" >24</th>\n",
              "                        <td id=\"T_887030be_497d_11eb_90df_0242ac1c0002row24_col0\" class=\"data row24 col0\" >0</td>\n",
              "                        <td id=\"T_887030be_497d_11eb_90df_0242ac1c0002row24_col1\" class=\"data row24 col1\" >0</td>\n",
              "                        <td id=\"T_887030be_497d_11eb_90df_0242ac1c0002row24_col2\" class=\"data row24 col2\" >0</td>\n",
              "                        <td id=\"T_887030be_497d_11eb_90df_0242ac1c0002row24_col3\" class=\"data row24 col3\" >0</td>\n",
              "                        <td id=\"T_887030be_497d_11eb_90df_0242ac1c0002row24_col4\" class=\"data row24 col4\" >0</td>\n",
              "                        <td id=\"T_887030be_497d_11eb_90df_0242ac1c0002row24_col5\" class=\"data row24 col5\" >0</td>\n",
              "                        <td id=\"T_887030be_497d_11eb_90df_0242ac1c0002row24_col6\" class=\"data row24 col6\" >0</td>\n",
              "                        <td id=\"T_887030be_497d_11eb_90df_0242ac1c0002row24_col7\" class=\"data row24 col7\" >0</td>\n",
              "                        <td id=\"T_887030be_497d_11eb_90df_0242ac1c0002row24_col8\" class=\"data row24 col8\" >0</td>\n",
              "                        <td id=\"T_887030be_497d_11eb_90df_0242ac1c0002row24_col9\" class=\"data row24 col9\" >0</td>\n",
              "                        <td id=\"T_887030be_497d_11eb_90df_0242ac1c0002row24_col10\" class=\"data row24 col10\" >0</td>\n",
              "                        <td id=\"T_887030be_497d_11eb_90df_0242ac1c0002row24_col11\" class=\"data row24 col11\" >0</td>\n",
              "                        <td id=\"T_887030be_497d_11eb_90df_0242ac1c0002row24_col12\" class=\"data row24 col12\" >0</td>\n",
              "                        <td id=\"T_887030be_497d_11eb_90df_0242ac1c0002row24_col13\" class=\"data row24 col13\" >0</td>\n",
              "                        <td id=\"T_887030be_497d_11eb_90df_0242ac1c0002row24_col14\" class=\"data row24 col14\" >0</td>\n",
              "                        <td id=\"T_887030be_497d_11eb_90df_0242ac1c0002row24_col15\" class=\"data row24 col15\" >0</td>\n",
              "                        <td id=\"T_887030be_497d_11eb_90df_0242ac1c0002row24_col16\" class=\"data row24 col16\" >0</td>\n",
              "                        <td id=\"T_887030be_497d_11eb_90df_0242ac1c0002row24_col17\" class=\"data row24 col17\" >0</td>\n",
              "                        <td id=\"T_887030be_497d_11eb_90df_0242ac1c0002row24_col18\" class=\"data row24 col18\" >0</td>\n",
              "                        <td id=\"T_887030be_497d_11eb_90df_0242ac1c0002row24_col19\" class=\"data row24 col19\" >0</td>\n",
              "                        <td id=\"T_887030be_497d_11eb_90df_0242ac1c0002row24_col20\" class=\"data row24 col20\" >0</td>\n",
              "                        <td id=\"T_887030be_497d_11eb_90df_0242ac1c0002row24_col21\" class=\"data row24 col21\" >0</td>\n",
              "                        <td id=\"T_887030be_497d_11eb_90df_0242ac1c0002row24_col22\" class=\"data row24 col22\" >0</td>\n",
              "                        <td id=\"T_887030be_497d_11eb_90df_0242ac1c0002row24_col23\" class=\"data row24 col23\" >0</td>\n",
              "                        <td id=\"T_887030be_497d_11eb_90df_0242ac1c0002row24_col24\" class=\"data row24 col24\" >0</td>\n",
              "                        <td id=\"T_887030be_497d_11eb_90df_0242ac1c0002row24_col25\" class=\"data row24 col25\" >0</td>\n",
              "                        <td id=\"T_887030be_497d_11eb_90df_0242ac1c0002row24_col26\" class=\"data row24 col26\" >0</td>\n",
              "                        <td id=\"T_887030be_497d_11eb_90df_0242ac1c0002row24_col27\" class=\"data row24 col27\" >0</td>\n",
              "            </tr>\n",
              "            <tr>\n",
              "                        <th id=\"T_887030be_497d_11eb_90df_0242ac1c0002level0_row25\" class=\"row_heading level0 row25\" >25</th>\n",
              "                        <td id=\"T_887030be_497d_11eb_90df_0242ac1c0002row25_col0\" class=\"data row25 col0\" >0</td>\n",
              "                        <td id=\"T_887030be_497d_11eb_90df_0242ac1c0002row25_col1\" class=\"data row25 col1\" >0</td>\n",
              "                        <td id=\"T_887030be_497d_11eb_90df_0242ac1c0002row25_col2\" class=\"data row25 col2\" >0</td>\n",
              "                        <td id=\"T_887030be_497d_11eb_90df_0242ac1c0002row25_col3\" class=\"data row25 col3\" >0</td>\n",
              "                        <td id=\"T_887030be_497d_11eb_90df_0242ac1c0002row25_col4\" class=\"data row25 col4\" >0</td>\n",
              "                        <td id=\"T_887030be_497d_11eb_90df_0242ac1c0002row25_col5\" class=\"data row25 col5\" >0</td>\n",
              "                        <td id=\"T_887030be_497d_11eb_90df_0242ac1c0002row25_col6\" class=\"data row25 col6\" >0</td>\n",
              "                        <td id=\"T_887030be_497d_11eb_90df_0242ac1c0002row25_col7\" class=\"data row25 col7\" >0</td>\n",
              "                        <td id=\"T_887030be_497d_11eb_90df_0242ac1c0002row25_col8\" class=\"data row25 col8\" >0</td>\n",
              "                        <td id=\"T_887030be_497d_11eb_90df_0242ac1c0002row25_col9\" class=\"data row25 col9\" >0</td>\n",
              "                        <td id=\"T_887030be_497d_11eb_90df_0242ac1c0002row25_col10\" class=\"data row25 col10\" >0</td>\n",
              "                        <td id=\"T_887030be_497d_11eb_90df_0242ac1c0002row25_col11\" class=\"data row25 col11\" >0</td>\n",
              "                        <td id=\"T_887030be_497d_11eb_90df_0242ac1c0002row25_col12\" class=\"data row25 col12\" >0</td>\n",
              "                        <td id=\"T_887030be_497d_11eb_90df_0242ac1c0002row25_col13\" class=\"data row25 col13\" >0</td>\n",
              "                        <td id=\"T_887030be_497d_11eb_90df_0242ac1c0002row25_col14\" class=\"data row25 col14\" >0</td>\n",
              "                        <td id=\"T_887030be_497d_11eb_90df_0242ac1c0002row25_col15\" class=\"data row25 col15\" >0</td>\n",
              "                        <td id=\"T_887030be_497d_11eb_90df_0242ac1c0002row25_col16\" class=\"data row25 col16\" >0</td>\n",
              "                        <td id=\"T_887030be_497d_11eb_90df_0242ac1c0002row25_col17\" class=\"data row25 col17\" >0</td>\n",
              "                        <td id=\"T_887030be_497d_11eb_90df_0242ac1c0002row25_col18\" class=\"data row25 col18\" >0</td>\n",
              "                        <td id=\"T_887030be_497d_11eb_90df_0242ac1c0002row25_col19\" class=\"data row25 col19\" >0</td>\n",
              "                        <td id=\"T_887030be_497d_11eb_90df_0242ac1c0002row25_col20\" class=\"data row25 col20\" >0</td>\n",
              "                        <td id=\"T_887030be_497d_11eb_90df_0242ac1c0002row25_col21\" class=\"data row25 col21\" >0</td>\n",
              "                        <td id=\"T_887030be_497d_11eb_90df_0242ac1c0002row25_col22\" class=\"data row25 col22\" >0</td>\n",
              "                        <td id=\"T_887030be_497d_11eb_90df_0242ac1c0002row25_col23\" class=\"data row25 col23\" >0</td>\n",
              "                        <td id=\"T_887030be_497d_11eb_90df_0242ac1c0002row25_col24\" class=\"data row25 col24\" >0</td>\n",
              "                        <td id=\"T_887030be_497d_11eb_90df_0242ac1c0002row25_col25\" class=\"data row25 col25\" >0</td>\n",
              "                        <td id=\"T_887030be_497d_11eb_90df_0242ac1c0002row25_col26\" class=\"data row25 col26\" >0</td>\n",
              "                        <td id=\"T_887030be_497d_11eb_90df_0242ac1c0002row25_col27\" class=\"data row25 col27\" >0</td>\n",
              "            </tr>\n",
              "            <tr>\n",
              "                        <th id=\"T_887030be_497d_11eb_90df_0242ac1c0002level0_row26\" class=\"row_heading level0 row26\" >26</th>\n",
              "                        <td id=\"T_887030be_497d_11eb_90df_0242ac1c0002row26_col0\" class=\"data row26 col0\" >0</td>\n",
              "                        <td id=\"T_887030be_497d_11eb_90df_0242ac1c0002row26_col1\" class=\"data row26 col1\" >0</td>\n",
              "                        <td id=\"T_887030be_497d_11eb_90df_0242ac1c0002row26_col2\" class=\"data row26 col2\" >0</td>\n",
              "                        <td id=\"T_887030be_497d_11eb_90df_0242ac1c0002row26_col3\" class=\"data row26 col3\" >0</td>\n",
              "                        <td id=\"T_887030be_497d_11eb_90df_0242ac1c0002row26_col4\" class=\"data row26 col4\" >0</td>\n",
              "                        <td id=\"T_887030be_497d_11eb_90df_0242ac1c0002row26_col5\" class=\"data row26 col5\" >0</td>\n",
              "                        <td id=\"T_887030be_497d_11eb_90df_0242ac1c0002row26_col6\" class=\"data row26 col6\" >0</td>\n",
              "                        <td id=\"T_887030be_497d_11eb_90df_0242ac1c0002row26_col7\" class=\"data row26 col7\" >0</td>\n",
              "                        <td id=\"T_887030be_497d_11eb_90df_0242ac1c0002row26_col8\" class=\"data row26 col8\" >0</td>\n",
              "                        <td id=\"T_887030be_497d_11eb_90df_0242ac1c0002row26_col9\" class=\"data row26 col9\" >0</td>\n",
              "                        <td id=\"T_887030be_497d_11eb_90df_0242ac1c0002row26_col10\" class=\"data row26 col10\" >0</td>\n",
              "                        <td id=\"T_887030be_497d_11eb_90df_0242ac1c0002row26_col11\" class=\"data row26 col11\" >0</td>\n",
              "                        <td id=\"T_887030be_497d_11eb_90df_0242ac1c0002row26_col12\" class=\"data row26 col12\" >0</td>\n",
              "                        <td id=\"T_887030be_497d_11eb_90df_0242ac1c0002row26_col13\" class=\"data row26 col13\" >0</td>\n",
              "                        <td id=\"T_887030be_497d_11eb_90df_0242ac1c0002row26_col14\" class=\"data row26 col14\" >0</td>\n",
              "                        <td id=\"T_887030be_497d_11eb_90df_0242ac1c0002row26_col15\" class=\"data row26 col15\" >0</td>\n",
              "                        <td id=\"T_887030be_497d_11eb_90df_0242ac1c0002row26_col16\" class=\"data row26 col16\" >0</td>\n",
              "                        <td id=\"T_887030be_497d_11eb_90df_0242ac1c0002row26_col17\" class=\"data row26 col17\" >0</td>\n",
              "                        <td id=\"T_887030be_497d_11eb_90df_0242ac1c0002row26_col18\" class=\"data row26 col18\" >0</td>\n",
              "                        <td id=\"T_887030be_497d_11eb_90df_0242ac1c0002row26_col19\" class=\"data row26 col19\" >0</td>\n",
              "                        <td id=\"T_887030be_497d_11eb_90df_0242ac1c0002row26_col20\" class=\"data row26 col20\" >0</td>\n",
              "                        <td id=\"T_887030be_497d_11eb_90df_0242ac1c0002row26_col21\" class=\"data row26 col21\" >0</td>\n",
              "                        <td id=\"T_887030be_497d_11eb_90df_0242ac1c0002row26_col22\" class=\"data row26 col22\" >0</td>\n",
              "                        <td id=\"T_887030be_497d_11eb_90df_0242ac1c0002row26_col23\" class=\"data row26 col23\" >0</td>\n",
              "                        <td id=\"T_887030be_497d_11eb_90df_0242ac1c0002row26_col24\" class=\"data row26 col24\" >0</td>\n",
              "                        <td id=\"T_887030be_497d_11eb_90df_0242ac1c0002row26_col25\" class=\"data row26 col25\" >0</td>\n",
              "                        <td id=\"T_887030be_497d_11eb_90df_0242ac1c0002row26_col26\" class=\"data row26 col26\" >0</td>\n",
              "                        <td id=\"T_887030be_497d_11eb_90df_0242ac1c0002row26_col27\" class=\"data row26 col27\" >0</td>\n",
              "            </tr>\n",
              "            <tr>\n",
              "                        <th id=\"T_887030be_497d_11eb_90df_0242ac1c0002level0_row27\" class=\"row_heading level0 row27\" >27</th>\n",
              "                        <td id=\"T_887030be_497d_11eb_90df_0242ac1c0002row27_col0\" class=\"data row27 col0\" >0</td>\n",
              "                        <td id=\"T_887030be_497d_11eb_90df_0242ac1c0002row27_col1\" class=\"data row27 col1\" >0</td>\n",
              "                        <td id=\"T_887030be_497d_11eb_90df_0242ac1c0002row27_col2\" class=\"data row27 col2\" >0</td>\n",
              "                        <td id=\"T_887030be_497d_11eb_90df_0242ac1c0002row27_col3\" class=\"data row27 col3\" >0</td>\n",
              "                        <td id=\"T_887030be_497d_11eb_90df_0242ac1c0002row27_col4\" class=\"data row27 col4\" >0</td>\n",
              "                        <td id=\"T_887030be_497d_11eb_90df_0242ac1c0002row27_col5\" class=\"data row27 col5\" >0</td>\n",
              "                        <td id=\"T_887030be_497d_11eb_90df_0242ac1c0002row27_col6\" class=\"data row27 col6\" >0</td>\n",
              "                        <td id=\"T_887030be_497d_11eb_90df_0242ac1c0002row27_col7\" class=\"data row27 col7\" >0</td>\n",
              "                        <td id=\"T_887030be_497d_11eb_90df_0242ac1c0002row27_col8\" class=\"data row27 col8\" >0</td>\n",
              "                        <td id=\"T_887030be_497d_11eb_90df_0242ac1c0002row27_col9\" class=\"data row27 col9\" >0</td>\n",
              "                        <td id=\"T_887030be_497d_11eb_90df_0242ac1c0002row27_col10\" class=\"data row27 col10\" >0</td>\n",
              "                        <td id=\"T_887030be_497d_11eb_90df_0242ac1c0002row27_col11\" class=\"data row27 col11\" >0</td>\n",
              "                        <td id=\"T_887030be_497d_11eb_90df_0242ac1c0002row27_col12\" class=\"data row27 col12\" >0</td>\n",
              "                        <td id=\"T_887030be_497d_11eb_90df_0242ac1c0002row27_col13\" class=\"data row27 col13\" >0</td>\n",
              "                        <td id=\"T_887030be_497d_11eb_90df_0242ac1c0002row27_col14\" class=\"data row27 col14\" >0</td>\n",
              "                        <td id=\"T_887030be_497d_11eb_90df_0242ac1c0002row27_col15\" class=\"data row27 col15\" >0</td>\n",
              "                        <td id=\"T_887030be_497d_11eb_90df_0242ac1c0002row27_col16\" class=\"data row27 col16\" >0</td>\n",
              "                        <td id=\"T_887030be_497d_11eb_90df_0242ac1c0002row27_col17\" class=\"data row27 col17\" >0</td>\n",
              "                        <td id=\"T_887030be_497d_11eb_90df_0242ac1c0002row27_col18\" class=\"data row27 col18\" >0</td>\n",
              "                        <td id=\"T_887030be_497d_11eb_90df_0242ac1c0002row27_col19\" class=\"data row27 col19\" >0</td>\n",
              "                        <td id=\"T_887030be_497d_11eb_90df_0242ac1c0002row27_col20\" class=\"data row27 col20\" >0</td>\n",
              "                        <td id=\"T_887030be_497d_11eb_90df_0242ac1c0002row27_col21\" class=\"data row27 col21\" >0</td>\n",
              "                        <td id=\"T_887030be_497d_11eb_90df_0242ac1c0002row27_col22\" class=\"data row27 col22\" >0</td>\n",
              "                        <td id=\"T_887030be_497d_11eb_90df_0242ac1c0002row27_col23\" class=\"data row27 col23\" >0</td>\n",
              "                        <td id=\"T_887030be_497d_11eb_90df_0242ac1c0002row27_col24\" class=\"data row27 col24\" >0</td>\n",
              "                        <td id=\"T_887030be_497d_11eb_90df_0242ac1c0002row27_col25\" class=\"data row27 col25\" >0</td>\n",
              "                        <td id=\"T_887030be_497d_11eb_90df_0242ac1c0002row27_col26\" class=\"data row27 col26\" >0</td>\n",
              "                        <td id=\"T_887030be_497d_11eb_90df_0242ac1c0002row27_col27\" class=\"data row27 col27\" >0</td>\n",
              "            </tr>\n",
              "    </tbody></table>"
            ],
            "text/plain": [
              "<pandas.io.formats.style.Styler at 0x7f46fc8d2b00>"
            ]
          },
          "metadata": {
            "tags": []
          },
          "execution_count": 12
        }
      ]
    },
    {
      "cell_type": "code",
      "metadata": {
        "id": "7ygiUqg16FVT"
      },
      "source": [
        "seven_tensors = [tensor(Image.open(o)) for o in sevens]\n",
        "three_tensors = [tensor(Image.open(o)) for o in threes]"
      ],
      "execution_count": null,
      "outputs": []
    },
    {
      "cell_type": "code",
      "metadata": {
        "id": "Evh4uP4a3FGZ"
      },
      "source": [
        "stacked_sevens = torch.stack(seven_tensors).float()/255\n",
        "stacked_threes = torch.stack(three_tensors).float()/255"
      ],
      "execution_count": null,
      "outputs": []
    },
    {
      "cell_type": "code",
      "metadata": {
        "id": "bkU2Pz-C6mUB"
      },
      "source": [
        "valid_3_tens = torch.stack([tensor(Image.open(o)) for o in (path/'valid'/'3').ls()])\n",
        "valid_3_tens = valid_3_tens.float()/255\n",
        "\n",
        "valid_7_tens = torch.stack([tensor(Image.open(o)) for o in (path/'valid'/'7').ls()])\n",
        "valid_7_tens = valid_7_tens.float()/255"
      ],
      "execution_count": null,
      "outputs": []
    },
    {
      "cell_type": "code",
      "metadata": {
        "colab": {
          "base_uri": "https://localhost:8080/",
          "height": 533
        },
        "id": "VmUZSh-c7GSv",
        "outputId": "ac53a13c-53da-427e-e5b3-efd40993d656"
      },
      "source": [
        "# Displaying image as a dataframe with color coded cells\n",
        "im_t1 = stacked_sevens[1]\n",
        "df = pd.DataFrame(im_t1)\n",
        "df.style.set_properties(**{'font-size':'6pt'}).background_gradient('Greys')"
      ],
      "execution_count": null,
      "outputs": [
        {
          "output_type": "execute_result",
          "data": {
            "text/html": [
              "<style  type=\"text/css\" >\n",
              "#T_8a86207a_497d_11eb_90df_0242ac1c0002row0_col0,#T_8a86207a_497d_11eb_90df_0242ac1c0002row0_col1,#T_8a86207a_497d_11eb_90df_0242ac1c0002row0_col2,#T_8a86207a_497d_11eb_90df_0242ac1c0002row0_col3,#T_8a86207a_497d_11eb_90df_0242ac1c0002row0_col4,#T_8a86207a_497d_11eb_90df_0242ac1c0002row0_col5,#T_8a86207a_497d_11eb_90df_0242ac1c0002row0_col6,#T_8a86207a_497d_11eb_90df_0242ac1c0002row0_col7,#T_8a86207a_497d_11eb_90df_0242ac1c0002row0_col8,#T_8a86207a_497d_11eb_90df_0242ac1c0002row0_col9,#T_8a86207a_497d_11eb_90df_0242ac1c0002row0_col10,#T_8a86207a_497d_11eb_90df_0242ac1c0002row0_col11,#T_8a86207a_497d_11eb_90df_0242ac1c0002row0_col12,#T_8a86207a_497d_11eb_90df_0242ac1c0002row0_col13,#T_8a86207a_497d_11eb_90df_0242ac1c0002row0_col14,#T_8a86207a_497d_11eb_90df_0242ac1c0002row0_col15,#T_8a86207a_497d_11eb_90df_0242ac1c0002row0_col16,#T_8a86207a_497d_11eb_90df_0242ac1c0002row0_col17,#T_8a86207a_497d_11eb_90df_0242ac1c0002row0_col18,#T_8a86207a_497d_11eb_90df_0242ac1c0002row0_col19,#T_8a86207a_497d_11eb_90df_0242ac1c0002row0_col20,#T_8a86207a_497d_11eb_90df_0242ac1c0002row0_col21,#T_8a86207a_497d_11eb_90df_0242ac1c0002row0_col22,#T_8a86207a_497d_11eb_90df_0242ac1c0002row0_col23,#T_8a86207a_497d_11eb_90df_0242ac1c0002row0_col24,#T_8a86207a_497d_11eb_90df_0242ac1c0002row0_col25,#T_8a86207a_497d_11eb_90df_0242ac1c0002row0_col26,#T_8a86207a_497d_11eb_90df_0242ac1c0002row0_col27,#T_8a86207a_497d_11eb_90df_0242ac1c0002row1_col0,#T_8a86207a_497d_11eb_90df_0242ac1c0002row1_col1,#T_8a86207a_497d_11eb_90df_0242ac1c0002row1_col2,#T_8a86207a_497d_11eb_90df_0242ac1c0002row1_col3,#T_8a86207a_497d_11eb_90df_0242ac1c0002row1_col4,#T_8a86207a_497d_11eb_90df_0242ac1c0002row1_col5,#T_8a86207a_497d_11eb_90df_0242ac1c0002row1_col6,#T_8a86207a_497d_11eb_90df_0242ac1c0002row1_col7,#T_8a86207a_497d_11eb_90df_0242ac1c0002row1_col8,#T_8a86207a_497d_11eb_90df_0242ac1c0002row1_col9,#T_8a86207a_497d_11eb_90df_0242ac1c0002row1_col10,#T_8a86207a_497d_11eb_90df_0242ac1c0002row1_col11,#T_8a86207a_497d_11eb_90df_0242ac1c0002row1_col12,#T_8a86207a_497d_11eb_90df_0242ac1c0002row1_col13,#T_8a86207a_497d_11eb_90df_0242ac1c0002row1_col14,#T_8a86207a_497d_11eb_90df_0242ac1c0002row1_col15,#T_8a86207a_497d_11eb_90df_0242ac1c0002row1_col16,#T_8a86207a_497d_11eb_90df_0242ac1c0002row1_col17,#T_8a86207a_497d_11eb_90df_0242ac1c0002row1_col18,#T_8a86207a_497d_11eb_90df_0242ac1c0002row1_col19,#T_8a86207a_497d_11eb_90df_0242ac1c0002row1_col20,#T_8a86207a_497d_11eb_90df_0242ac1c0002row1_col21,#T_8a86207a_497d_11eb_90df_0242ac1c0002row1_col22,#T_8a86207a_497d_11eb_90df_0242ac1c0002row1_col23,#T_8a86207a_497d_11eb_90df_0242ac1c0002row1_col24,#T_8a86207a_497d_11eb_90df_0242ac1c0002row1_col25,#T_8a86207a_497d_11eb_90df_0242ac1c0002row1_col26,#T_8a86207a_497d_11eb_90df_0242ac1c0002row1_col27,#T_8a86207a_497d_11eb_90df_0242ac1c0002row2_col0,#T_8a86207a_497d_11eb_90df_0242ac1c0002row2_col1,#T_8a86207a_497d_11eb_90df_0242ac1c0002row2_col2,#T_8a86207a_497d_11eb_90df_0242ac1c0002row2_col3,#T_8a86207a_497d_11eb_90df_0242ac1c0002row2_col4,#T_8a86207a_497d_11eb_90df_0242ac1c0002row2_col5,#T_8a86207a_497d_11eb_90df_0242ac1c0002row2_col6,#T_8a86207a_497d_11eb_90df_0242ac1c0002row2_col7,#T_8a86207a_497d_11eb_90df_0242ac1c0002row2_col8,#T_8a86207a_497d_11eb_90df_0242ac1c0002row2_col9,#T_8a86207a_497d_11eb_90df_0242ac1c0002row2_col10,#T_8a86207a_497d_11eb_90df_0242ac1c0002row2_col11,#T_8a86207a_497d_11eb_90df_0242ac1c0002row2_col12,#T_8a86207a_497d_11eb_90df_0242ac1c0002row2_col13,#T_8a86207a_497d_11eb_90df_0242ac1c0002row2_col14,#T_8a86207a_497d_11eb_90df_0242ac1c0002row2_col15,#T_8a86207a_497d_11eb_90df_0242ac1c0002row2_col16,#T_8a86207a_497d_11eb_90df_0242ac1c0002row2_col17,#T_8a86207a_497d_11eb_90df_0242ac1c0002row2_col18,#T_8a86207a_497d_11eb_90df_0242ac1c0002row2_col19,#T_8a86207a_497d_11eb_90df_0242ac1c0002row2_col20,#T_8a86207a_497d_11eb_90df_0242ac1c0002row2_col21,#T_8a86207a_497d_11eb_90df_0242ac1c0002row2_col22,#T_8a86207a_497d_11eb_90df_0242ac1c0002row2_col23,#T_8a86207a_497d_11eb_90df_0242ac1c0002row2_col24,#T_8a86207a_497d_11eb_90df_0242ac1c0002row2_col25,#T_8a86207a_497d_11eb_90df_0242ac1c0002row2_col26,#T_8a86207a_497d_11eb_90df_0242ac1c0002row2_col27,#T_8a86207a_497d_11eb_90df_0242ac1c0002row3_col0,#T_8a86207a_497d_11eb_90df_0242ac1c0002row3_col1,#T_8a86207a_497d_11eb_90df_0242ac1c0002row3_col2,#T_8a86207a_497d_11eb_90df_0242ac1c0002row3_col3,#T_8a86207a_497d_11eb_90df_0242ac1c0002row3_col4,#T_8a86207a_497d_11eb_90df_0242ac1c0002row3_col5,#T_8a86207a_497d_11eb_90df_0242ac1c0002row3_col6,#T_8a86207a_497d_11eb_90df_0242ac1c0002row3_col7,#T_8a86207a_497d_11eb_90df_0242ac1c0002row3_col8,#T_8a86207a_497d_11eb_90df_0242ac1c0002row3_col9,#T_8a86207a_497d_11eb_90df_0242ac1c0002row3_col10,#T_8a86207a_497d_11eb_90df_0242ac1c0002row3_col11,#T_8a86207a_497d_11eb_90df_0242ac1c0002row3_col12,#T_8a86207a_497d_11eb_90df_0242ac1c0002row3_col13,#T_8a86207a_497d_11eb_90df_0242ac1c0002row3_col14,#T_8a86207a_497d_11eb_90df_0242ac1c0002row3_col15,#T_8a86207a_497d_11eb_90df_0242ac1c0002row3_col16,#T_8a86207a_497d_11eb_90df_0242ac1c0002row3_col17,#T_8a86207a_497d_11eb_90df_0242ac1c0002row3_col18,#T_8a86207a_497d_11eb_90df_0242ac1c0002row3_col19,#T_8a86207a_497d_11eb_90df_0242ac1c0002row3_col20,#T_8a86207a_497d_11eb_90df_0242ac1c0002row3_col21,#T_8a86207a_497d_11eb_90df_0242ac1c0002row3_col22,#T_8a86207a_497d_11eb_90df_0242ac1c0002row3_col23,#T_8a86207a_497d_11eb_90df_0242ac1c0002row3_col24,#T_8a86207a_497d_11eb_90df_0242ac1c0002row3_col25,#T_8a86207a_497d_11eb_90df_0242ac1c0002row3_col26,#T_8a86207a_497d_11eb_90df_0242ac1c0002row3_col27,#T_8a86207a_497d_11eb_90df_0242ac1c0002row4_col0,#T_8a86207a_497d_11eb_90df_0242ac1c0002row4_col1,#T_8a86207a_497d_11eb_90df_0242ac1c0002row4_col2,#T_8a86207a_497d_11eb_90df_0242ac1c0002row4_col3,#T_8a86207a_497d_11eb_90df_0242ac1c0002row4_col4,#T_8a86207a_497d_11eb_90df_0242ac1c0002row4_col5,#T_8a86207a_497d_11eb_90df_0242ac1c0002row4_col6,#T_8a86207a_497d_11eb_90df_0242ac1c0002row4_col7,#T_8a86207a_497d_11eb_90df_0242ac1c0002row4_col8,#T_8a86207a_497d_11eb_90df_0242ac1c0002row4_col9,#T_8a86207a_497d_11eb_90df_0242ac1c0002row4_col10,#T_8a86207a_497d_11eb_90df_0242ac1c0002row4_col11,#T_8a86207a_497d_11eb_90df_0242ac1c0002row4_col12,#T_8a86207a_497d_11eb_90df_0242ac1c0002row4_col13,#T_8a86207a_497d_11eb_90df_0242ac1c0002row4_col14,#T_8a86207a_497d_11eb_90df_0242ac1c0002row4_col15,#T_8a86207a_497d_11eb_90df_0242ac1c0002row4_col16,#T_8a86207a_497d_11eb_90df_0242ac1c0002row4_col17,#T_8a86207a_497d_11eb_90df_0242ac1c0002row4_col18,#T_8a86207a_497d_11eb_90df_0242ac1c0002row4_col19,#T_8a86207a_497d_11eb_90df_0242ac1c0002row4_col20,#T_8a86207a_497d_11eb_90df_0242ac1c0002row4_col21,#T_8a86207a_497d_11eb_90df_0242ac1c0002row4_col22,#T_8a86207a_497d_11eb_90df_0242ac1c0002row4_col23,#T_8a86207a_497d_11eb_90df_0242ac1c0002row4_col24,#T_8a86207a_497d_11eb_90df_0242ac1c0002row4_col25,#T_8a86207a_497d_11eb_90df_0242ac1c0002row4_col26,#T_8a86207a_497d_11eb_90df_0242ac1c0002row4_col27,#T_8a86207a_497d_11eb_90df_0242ac1c0002row5_col0,#T_8a86207a_497d_11eb_90df_0242ac1c0002row5_col1,#T_8a86207a_497d_11eb_90df_0242ac1c0002row5_col2,#T_8a86207a_497d_11eb_90df_0242ac1c0002row5_col3,#T_8a86207a_497d_11eb_90df_0242ac1c0002row5_col4,#T_8a86207a_497d_11eb_90df_0242ac1c0002row5_col5,#T_8a86207a_497d_11eb_90df_0242ac1c0002row5_col6,#T_8a86207a_497d_11eb_90df_0242ac1c0002row5_col7,#T_8a86207a_497d_11eb_90df_0242ac1c0002row5_col8,#T_8a86207a_497d_11eb_90df_0242ac1c0002row5_col9,#T_8a86207a_497d_11eb_90df_0242ac1c0002row5_col10,#T_8a86207a_497d_11eb_90df_0242ac1c0002row5_col11,#T_8a86207a_497d_11eb_90df_0242ac1c0002row5_col12,#T_8a86207a_497d_11eb_90df_0242ac1c0002row5_col13,#T_8a86207a_497d_11eb_90df_0242ac1c0002row5_col14,#T_8a86207a_497d_11eb_90df_0242ac1c0002row5_col15,#T_8a86207a_497d_11eb_90df_0242ac1c0002row5_col16,#T_8a86207a_497d_11eb_90df_0242ac1c0002row5_col17,#T_8a86207a_497d_11eb_90df_0242ac1c0002row5_col18,#T_8a86207a_497d_11eb_90df_0242ac1c0002row5_col19,#T_8a86207a_497d_11eb_90df_0242ac1c0002row5_col20,#T_8a86207a_497d_11eb_90df_0242ac1c0002row5_col21,#T_8a86207a_497d_11eb_90df_0242ac1c0002row5_col22,#T_8a86207a_497d_11eb_90df_0242ac1c0002row5_col23,#T_8a86207a_497d_11eb_90df_0242ac1c0002row5_col24,#T_8a86207a_497d_11eb_90df_0242ac1c0002row5_col25,#T_8a86207a_497d_11eb_90df_0242ac1c0002row5_col26,#T_8a86207a_497d_11eb_90df_0242ac1c0002row5_col27,#T_8a86207a_497d_11eb_90df_0242ac1c0002row6_col0,#T_8a86207a_497d_11eb_90df_0242ac1c0002row6_col1,#T_8a86207a_497d_11eb_90df_0242ac1c0002row6_col2,#T_8a86207a_497d_11eb_90df_0242ac1c0002row6_col3,#T_8a86207a_497d_11eb_90df_0242ac1c0002row6_col4,#T_8a86207a_497d_11eb_90df_0242ac1c0002row6_col5,#T_8a86207a_497d_11eb_90df_0242ac1c0002row6_col6,#T_8a86207a_497d_11eb_90df_0242ac1c0002row6_col7,#T_8a86207a_497d_11eb_90df_0242ac1c0002row6_col8,#T_8a86207a_497d_11eb_90df_0242ac1c0002row6_col9,#T_8a86207a_497d_11eb_90df_0242ac1c0002row6_col10,#T_8a86207a_497d_11eb_90df_0242ac1c0002row6_col11,#T_8a86207a_497d_11eb_90df_0242ac1c0002row6_col14,#T_8a86207a_497d_11eb_90df_0242ac1c0002row6_col15,#T_8a86207a_497d_11eb_90df_0242ac1c0002row6_col16,#T_8a86207a_497d_11eb_90df_0242ac1c0002row6_col17,#T_8a86207a_497d_11eb_90df_0242ac1c0002row6_col18,#T_8a86207a_497d_11eb_90df_0242ac1c0002row6_col19,#T_8a86207a_497d_11eb_90df_0242ac1c0002row6_col25,#T_8a86207a_497d_11eb_90df_0242ac1c0002row6_col26,#T_8a86207a_497d_11eb_90df_0242ac1c0002row6_col27,#T_8a86207a_497d_11eb_90df_0242ac1c0002row7_col0,#T_8a86207a_497d_11eb_90df_0242ac1c0002row7_col1,#T_8a86207a_497d_11eb_90df_0242ac1c0002row7_col2,#T_8a86207a_497d_11eb_90df_0242ac1c0002row7_col3,#T_8a86207a_497d_11eb_90df_0242ac1c0002row7_col4,#T_8a86207a_497d_11eb_90df_0242ac1c0002row7_col5,#T_8a86207a_497d_11eb_90df_0242ac1c0002row7_col6,#T_8a86207a_497d_11eb_90df_0242ac1c0002row7_col7,#T_8a86207a_497d_11eb_90df_0242ac1c0002row7_col8,#T_8a86207a_497d_11eb_90df_0242ac1c0002row7_col9,#T_8a86207a_497d_11eb_90df_0242ac1c0002row7_col14,#T_8a86207a_497d_11eb_90df_0242ac1c0002row7_col15,#T_8a86207a_497d_11eb_90df_0242ac1c0002row7_col16,#T_8a86207a_497d_11eb_90df_0242ac1c0002row7_col17,#T_8a86207a_497d_11eb_90df_0242ac1c0002row7_col18,#T_8a86207a_497d_11eb_90df_0242ac1c0002row7_col25,#T_8a86207a_497d_11eb_90df_0242ac1c0002row7_col26,#T_8a86207a_497d_11eb_90df_0242ac1c0002row7_col27,#T_8a86207a_497d_11eb_90df_0242ac1c0002row8_col0,#T_8a86207a_497d_11eb_90df_0242ac1c0002row8_col1,#T_8a86207a_497d_11eb_90df_0242ac1c0002row8_col2,#T_8a86207a_497d_11eb_90df_0242ac1c0002row8_col3,#T_8a86207a_497d_11eb_90df_0242ac1c0002row8_col4,#T_8a86207a_497d_11eb_90df_0242ac1c0002row8_col5,#T_8a86207a_497d_11eb_90df_0242ac1c0002row8_col6,#T_8a86207a_497d_11eb_90df_0242ac1c0002row8_col7,#T_8a86207a_497d_11eb_90df_0242ac1c0002row8_col8,#T_8a86207a_497d_11eb_90df_0242ac1c0002row8_col15,#T_8a86207a_497d_11eb_90df_0242ac1c0002row8_col16,#T_8a86207a_497d_11eb_90df_0242ac1c0002row8_col17,#T_8a86207a_497d_11eb_90df_0242ac1c0002row8_col25,#T_8a86207a_497d_11eb_90df_0242ac1c0002row8_col26,#T_8a86207a_497d_11eb_90df_0242ac1c0002row8_col27,#T_8a86207a_497d_11eb_90df_0242ac1c0002row9_col0,#T_8a86207a_497d_11eb_90df_0242ac1c0002row9_col1,#T_8a86207a_497d_11eb_90df_0242ac1c0002row9_col2,#T_8a86207a_497d_11eb_90df_0242ac1c0002row9_col3,#T_8a86207a_497d_11eb_90df_0242ac1c0002row9_col4,#T_8a86207a_497d_11eb_90df_0242ac1c0002row9_col5,#T_8a86207a_497d_11eb_90df_0242ac1c0002row9_col6,#T_8a86207a_497d_11eb_90df_0242ac1c0002row9_col7,#T_8a86207a_497d_11eb_90df_0242ac1c0002row9_col8,#T_8a86207a_497d_11eb_90df_0242ac1c0002row9_col24,#T_8a86207a_497d_11eb_90df_0242ac1c0002row9_col25,#T_8a86207a_497d_11eb_90df_0242ac1c0002row9_col26,#T_8a86207a_497d_11eb_90df_0242ac1c0002row9_col27,#T_8a86207a_497d_11eb_90df_0242ac1c0002row10_col0,#T_8a86207a_497d_11eb_90df_0242ac1c0002row10_col1,#T_8a86207a_497d_11eb_90df_0242ac1c0002row10_col2,#T_8a86207a_497d_11eb_90df_0242ac1c0002row10_col3,#T_8a86207a_497d_11eb_90df_0242ac1c0002row10_col4,#T_8a86207a_497d_11eb_90df_0242ac1c0002row10_col5,#T_8a86207a_497d_11eb_90df_0242ac1c0002row10_col6,#T_8a86207a_497d_11eb_90df_0242ac1c0002row10_col24,#T_8a86207a_497d_11eb_90df_0242ac1c0002row10_col25,#T_8a86207a_497d_11eb_90df_0242ac1c0002row10_col26,#T_8a86207a_497d_11eb_90df_0242ac1c0002row10_col27,#T_8a86207a_497d_11eb_90df_0242ac1c0002row11_col0,#T_8a86207a_497d_11eb_90df_0242ac1c0002row11_col1,#T_8a86207a_497d_11eb_90df_0242ac1c0002row11_col2,#T_8a86207a_497d_11eb_90df_0242ac1c0002row11_col3,#T_8a86207a_497d_11eb_90df_0242ac1c0002row11_col4,#T_8a86207a_497d_11eb_90df_0242ac1c0002row11_col5,#T_8a86207a_497d_11eb_90df_0242ac1c0002row11_col23,#T_8a86207a_497d_11eb_90df_0242ac1c0002row11_col24,#T_8a86207a_497d_11eb_90df_0242ac1c0002row11_col25,#T_8a86207a_497d_11eb_90df_0242ac1c0002row11_col26,#T_8a86207a_497d_11eb_90df_0242ac1c0002row11_col27,#T_8a86207a_497d_11eb_90df_0242ac1c0002row12_col0,#T_8a86207a_497d_11eb_90df_0242ac1c0002row12_col1,#T_8a86207a_497d_11eb_90df_0242ac1c0002row12_col2,#T_8a86207a_497d_11eb_90df_0242ac1c0002row12_col3,#T_8a86207a_497d_11eb_90df_0242ac1c0002row12_col4,#T_8a86207a_497d_11eb_90df_0242ac1c0002row12_col5,#T_8a86207a_497d_11eb_90df_0242ac1c0002row12_col22,#T_8a86207a_497d_11eb_90df_0242ac1c0002row12_col23,#T_8a86207a_497d_11eb_90df_0242ac1c0002row12_col24,#T_8a86207a_497d_11eb_90df_0242ac1c0002row12_col25,#T_8a86207a_497d_11eb_90df_0242ac1c0002row12_col26,#T_8a86207a_497d_11eb_90df_0242ac1c0002row12_col27,#T_8a86207a_497d_11eb_90df_0242ac1c0002row13_col0,#T_8a86207a_497d_11eb_90df_0242ac1c0002row13_col1,#T_8a86207a_497d_11eb_90df_0242ac1c0002row13_col2,#T_8a86207a_497d_11eb_90df_0242ac1c0002row13_col3,#T_8a86207a_497d_11eb_90df_0242ac1c0002row13_col4,#T_8a86207a_497d_11eb_90df_0242ac1c0002row13_col5,#T_8a86207a_497d_11eb_90df_0242ac1c0002row13_col13,#T_8a86207a_497d_11eb_90df_0242ac1c0002row13_col14,#T_8a86207a_497d_11eb_90df_0242ac1c0002row13_col15,#T_8a86207a_497d_11eb_90df_0242ac1c0002row13_col21,#T_8a86207a_497d_11eb_90df_0242ac1c0002row13_col22,#T_8a86207a_497d_11eb_90df_0242ac1c0002row13_col23,#T_8a86207a_497d_11eb_90df_0242ac1c0002row13_col24,#T_8a86207a_497d_11eb_90df_0242ac1c0002row13_col25,#T_8a86207a_497d_11eb_90df_0242ac1c0002row13_col26,#T_8a86207a_497d_11eb_90df_0242ac1c0002row13_col27,#T_8a86207a_497d_11eb_90df_0242ac1c0002row14_col0,#T_8a86207a_497d_11eb_90df_0242ac1c0002row14_col1,#T_8a86207a_497d_11eb_90df_0242ac1c0002row14_col2,#T_8a86207a_497d_11eb_90df_0242ac1c0002row14_col3,#T_8a86207a_497d_11eb_90df_0242ac1c0002row14_col4,#T_8a86207a_497d_11eb_90df_0242ac1c0002row14_col5,#T_8a86207a_497d_11eb_90df_0242ac1c0002row14_col10,#T_8a86207a_497d_11eb_90df_0242ac1c0002row14_col11,#T_8a86207a_497d_11eb_90df_0242ac1c0002row14_col12,#T_8a86207a_497d_11eb_90df_0242ac1c0002row14_col13,#T_8a86207a_497d_11eb_90df_0242ac1c0002row14_col14,#T_8a86207a_497d_11eb_90df_0242ac1c0002row14_col20,#T_8a86207a_497d_11eb_90df_0242ac1c0002row14_col21,#T_8a86207a_497d_11eb_90df_0242ac1c0002row14_col22,#T_8a86207a_497d_11eb_90df_0242ac1c0002row14_col23,#T_8a86207a_497d_11eb_90df_0242ac1c0002row14_col24,#T_8a86207a_497d_11eb_90df_0242ac1c0002row14_col25,#T_8a86207a_497d_11eb_90df_0242ac1c0002row14_col26,#T_8a86207a_497d_11eb_90df_0242ac1c0002row14_col27,#T_8a86207a_497d_11eb_90df_0242ac1c0002row15_col0,#T_8a86207a_497d_11eb_90df_0242ac1c0002row15_col1,#T_8a86207a_497d_11eb_90df_0242ac1c0002row15_col2,#T_8a86207a_497d_11eb_90df_0242ac1c0002row15_col3,#T_8a86207a_497d_11eb_90df_0242ac1c0002row15_col4,#T_8a86207a_497d_11eb_90df_0242ac1c0002row15_col5,#T_8a86207a_497d_11eb_90df_0242ac1c0002row15_col6,#T_8a86207a_497d_11eb_90df_0242ac1c0002row15_col7,#T_8a86207a_497d_11eb_90df_0242ac1c0002row15_col8,#T_8a86207a_497d_11eb_90df_0242ac1c0002row15_col9,#T_8a86207a_497d_11eb_90df_0242ac1c0002row15_col10,#T_8a86207a_497d_11eb_90df_0242ac1c0002row15_col11,#T_8a86207a_497d_11eb_90df_0242ac1c0002row15_col12,#T_8a86207a_497d_11eb_90df_0242ac1c0002row15_col13,#T_8a86207a_497d_11eb_90df_0242ac1c0002row15_col20,#T_8a86207a_497d_11eb_90df_0242ac1c0002row15_col21,#T_8a86207a_497d_11eb_90df_0242ac1c0002row15_col22,#T_8a86207a_497d_11eb_90df_0242ac1c0002row15_col23,#T_8a86207a_497d_11eb_90df_0242ac1c0002row15_col24,#T_8a86207a_497d_11eb_90df_0242ac1c0002row15_col25,#T_8a86207a_497d_11eb_90df_0242ac1c0002row15_col26,#T_8a86207a_497d_11eb_90df_0242ac1c0002row15_col27,#T_8a86207a_497d_11eb_90df_0242ac1c0002row16_col0,#T_8a86207a_497d_11eb_90df_0242ac1c0002row16_col1,#T_8a86207a_497d_11eb_90df_0242ac1c0002row16_col2,#T_8a86207a_497d_11eb_90df_0242ac1c0002row16_col3,#T_8a86207a_497d_11eb_90df_0242ac1c0002row16_col4,#T_8a86207a_497d_11eb_90df_0242ac1c0002row16_col5,#T_8a86207a_497d_11eb_90df_0242ac1c0002row16_col6,#T_8a86207a_497d_11eb_90df_0242ac1c0002row16_col7,#T_8a86207a_497d_11eb_90df_0242ac1c0002row16_col8,#T_8a86207a_497d_11eb_90df_0242ac1c0002row16_col9,#T_8a86207a_497d_11eb_90df_0242ac1c0002row16_col10,#T_8a86207a_497d_11eb_90df_0242ac1c0002row16_col11,#T_8a86207a_497d_11eb_90df_0242ac1c0002row16_col12,#T_8a86207a_497d_11eb_90df_0242ac1c0002row16_col19,#T_8a86207a_497d_11eb_90df_0242ac1c0002row16_col20,#T_8a86207a_497d_11eb_90df_0242ac1c0002row16_col21,#T_8a86207a_497d_11eb_90df_0242ac1c0002row16_col22,#T_8a86207a_497d_11eb_90df_0242ac1c0002row16_col23,#T_8a86207a_497d_11eb_90df_0242ac1c0002row16_col24,#T_8a86207a_497d_11eb_90df_0242ac1c0002row16_col25,#T_8a86207a_497d_11eb_90df_0242ac1c0002row16_col26,#T_8a86207a_497d_11eb_90df_0242ac1c0002row16_col27,#T_8a86207a_497d_11eb_90df_0242ac1c0002row17_col0,#T_8a86207a_497d_11eb_90df_0242ac1c0002row17_col1,#T_8a86207a_497d_11eb_90df_0242ac1c0002row17_col2,#T_8a86207a_497d_11eb_90df_0242ac1c0002row17_col3,#T_8a86207a_497d_11eb_90df_0242ac1c0002row17_col4,#T_8a86207a_497d_11eb_90df_0242ac1c0002row17_col5,#T_8a86207a_497d_11eb_90df_0242ac1c0002row17_col6,#T_8a86207a_497d_11eb_90df_0242ac1c0002row17_col7,#T_8a86207a_497d_11eb_90df_0242ac1c0002row17_col8,#T_8a86207a_497d_11eb_90df_0242ac1c0002row17_col9,#T_8a86207a_497d_11eb_90df_0242ac1c0002row17_col10,#T_8a86207a_497d_11eb_90df_0242ac1c0002row17_col11,#T_8a86207a_497d_11eb_90df_0242ac1c0002row17_col18,#T_8a86207a_497d_11eb_90df_0242ac1c0002row17_col19,#T_8a86207a_497d_11eb_90df_0242ac1c0002row17_col20,#T_8a86207a_497d_11eb_90df_0242ac1c0002row17_col21,#T_8a86207a_497d_11eb_90df_0242ac1c0002row17_col22,#T_8a86207a_497d_11eb_90df_0242ac1c0002row17_col23,#T_8a86207a_497d_11eb_90df_0242ac1c0002row17_col24,#T_8a86207a_497d_11eb_90df_0242ac1c0002row17_col25,#T_8a86207a_497d_11eb_90df_0242ac1c0002row17_col26,#T_8a86207a_497d_11eb_90df_0242ac1c0002row17_col27,#T_8a86207a_497d_11eb_90df_0242ac1c0002row18_col0,#T_8a86207a_497d_11eb_90df_0242ac1c0002row18_col1,#T_8a86207a_497d_11eb_90df_0242ac1c0002row18_col2,#T_8a86207a_497d_11eb_90df_0242ac1c0002row18_col3,#T_8a86207a_497d_11eb_90df_0242ac1c0002row18_col4,#T_8a86207a_497d_11eb_90df_0242ac1c0002row18_col5,#T_8a86207a_497d_11eb_90df_0242ac1c0002row18_col6,#T_8a86207a_497d_11eb_90df_0242ac1c0002row18_col7,#T_8a86207a_497d_11eb_90df_0242ac1c0002row18_col8,#T_8a86207a_497d_11eb_90df_0242ac1c0002row18_col9,#T_8a86207a_497d_11eb_90df_0242ac1c0002row18_col10,#T_8a86207a_497d_11eb_90df_0242ac1c0002row18_col17,#T_8a86207a_497d_11eb_90df_0242ac1c0002row18_col18,#T_8a86207a_497d_11eb_90df_0242ac1c0002row18_col19,#T_8a86207a_497d_11eb_90df_0242ac1c0002row18_col20,#T_8a86207a_497d_11eb_90df_0242ac1c0002row18_col21,#T_8a86207a_497d_11eb_90df_0242ac1c0002row18_col22,#T_8a86207a_497d_11eb_90df_0242ac1c0002row18_col23,#T_8a86207a_497d_11eb_90df_0242ac1c0002row18_col24,#T_8a86207a_497d_11eb_90df_0242ac1c0002row18_col25,#T_8a86207a_497d_11eb_90df_0242ac1c0002row18_col26,#T_8a86207a_497d_11eb_90df_0242ac1c0002row18_col27,#T_8a86207a_497d_11eb_90df_0242ac1c0002row19_col0,#T_8a86207a_497d_11eb_90df_0242ac1c0002row19_col1,#T_8a86207a_497d_11eb_90df_0242ac1c0002row19_col2,#T_8a86207a_497d_11eb_90df_0242ac1c0002row19_col3,#T_8a86207a_497d_11eb_90df_0242ac1c0002row19_col4,#T_8a86207a_497d_11eb_90df_0242ac1c0002row19_col5,#T_8a86207a_497d_11eb_90df_0242ac1c0002row19_col6,#T_8a86207a_497d_11eb_90df_0242ac1c0002row19_col7,#T_8a86207a_497d_11eb_90df_0242ac1c0002row19_col8,#T_8a86207a_497d_11eb_90df_0242ac1c0002row19_col9,#T_8a86207a_497d_11eb_90df_0242ac1c0002row19_col10,#T_8a86207a_497d_11eb_90df_0242ac1c0002row19_col16,#T_8a86207a_497d_11eb_90df_0242ac1c0002row19_col17,#T_8a86207a_497d_11eb_90df_0242ac1c0002row19_col18,#T_8a86207a_497d_11eb_90df_0242ac1c0002row19_col19,#T_8a86207a_497d_11eb_90df_0242ac1c0002row19_col20,#T_8a86207a_497d_11eb_90df_0242ac1c0002row19_col21,#T_8a86207a_497d_11eb_90df_0242ac1c0002row19_col22,#T_8a86207a_497d_11eb_90df_0242ac1c0002row19_col23,#T_8a86207a_497d_11eb_90df_0242ac1c0002row19_col24,#T_8a86207a_497d_11eb_90df_0242ac1c0002row19_col25,#T_8a86207a_497d_11eb_90df_0242ac1c0002row19_col26,#T_8a86207a_497d_11eb_90df_0242ac1c0002row19_col27,#T_8a86207a_497d_11eb_90df_0242ac1c0002row20_col0,#T_8a86207a_497d_11eb_90df_0242ac1c0002row20_col1,#T_8a86207a_497d_11eb_90df_0242ac1c0002row20_col2,#T_8a86207a_497d_11eb_90df_0242ac1c0002row20_col3,#T_8a86207a_497d_11eb_90df_0242ac1c0002row20_col4,#T_8a86207a_497d_11eb_90df_0242ac1c0002row20_col5,#T_8a86207a_497d_11eb_90df_0242ac1c0002row20_col6,#T_8a86207a_497d_11eb_90df_0242ac1c0002row20_col7,#T_8a86207a_497d_11eb_90df_0242ac1c0002row20_col8,#T_8a86207a_497d_11eb_90df_0242ac1c0002row20_col9,#T_8a86207a_497d_11eb_90df_0242ac1c0002row20_col15,#T_8a86207a_497d_11eb_90df_0242ac1c0002row20_col16,#T_8a86207a_497d_11eb_90df_0242ac1c0002row20_col17,#T_8a86207a_497d_11eb_90df_0242ac1c0002row20_col18,#T_8a86207a_497d_11eb_90df_0242ac1c0002row20_col19,#T_8a86207a_497d_11eb_90df_0242ac1c0002row20_col20,#T_8a86207a_497d_11eb_90df_0242ac1c0002row20_col21,#T_8a86207a_497d_11eb_90df_0242ac1c0002row20_col22,#T_8a86207a_497d_11eb_90df_0242ac1c0002row20_col23,#T_8a86207a_497d_11eb_90df_0242ac1c0002row20_col24,#T_8a86207a_497d_11eb_90df_0242ac1c0002row20_col25,#T_8a86207a_497d_11eb_90df_0242ac1c0002row20_col26,#T_8a86207a_497d_11eb_90df_0242ac1c0002row20_col27,#T_8a86207a_497d_11eb_90df_0242ac1c0002row21_col0,#T_8a86207a_497d_11eb_90df_0242ac1c0002row21_col1,#T_8a86207a_497d_11eb_90df_0242ac1c0002row21_col2,#T_8a86207a_497d_11eb_90df_0242ac1c0002row21_col3,#T_8a86207a_497d_11eb_90df_0242ac1c0002row21_col4,#T_8a86207a_497d_11eb_90df_0242ac1c0002row21_col5,#T_8a86207a_497d_11eb_90df_0242ac1c0002row21_col6,#T_8a86207a_497d_11eb_90df_0242ac1c0002row21_col7,#T_8a86207a_497d_11eb_90df_0242ac1c0002row21_col8,#T_8a86207a_497d_11eb_90df_0242ac1c0002row21_col14,#T_8a86207a_497d_11eb_90df_0242ac1c0002row21_col15,#T_8a86207a_497d_11eb_90df_0242ac1c0002row21_col16,#T_8a86207a_497d_11eb_90df_0242ac1c0002row21_col17,#T_8a86207a_497d_11eb_90df_0242ac1c0002row21_col18,#T_8a86207a_497d_11eb_90df_0242ac1c0002row21_col19,#T_8a86207a_497d_11eb_90df_0242ac1c0002row21_col20,#T_8a86207a_497d_11eb_90df_0242ac1c0002row21_col21,#T_8a86207a_497d_11eb_90df_0242ac1c0002row21_col22,#T_8a86207a_497d_11eb_90df_0242ac1c0002row21_col23,#T_8a86207a_497d_11eb_90df_0242ac1c0002row21_col24,#T_8a86207a_497d_11eb_90df_0242ac1c0002row21_col25,#T_8a86207a_497d_11eb_90df_0242ac1c0002row21_col26,#T_8a86207a_497d_11eb_90df_0242ac1c0002row21_col27,#T_8a86207a_497d_11eb_90df_0242ac1c0002row22_col0,#T_8a86207a_497d_11eb_90df_0242ac1c0002row22_col1,#T_8a86207a_497d_11eb_90df_0242ac1c0002row22_col2,#T_8a86207a_497d_11eb_90df_0242ac1c0002row22_col3,#T_8a86207a_497d_11eb_90df_0242ac1c0002row22_col4,#T_8a86207a_497d_11eb_90df_0242ac1c0002row22_col5,#T_8a86207a_497d_11eb_90df_0242ac1c0002row22_col6,#T_8a86207a_497d_11eb_90df_0242ac1c0002row22_col7,#T_8a86207a_497d_11eb_90df_0242ac1c0002row22_col13,#T_8a86207a_497d_11eb_90df_0242ac1c0002row22_col14,#T_8a86207a_497d_11eb_90df_0242ac1c0002row22_col15,#T_8a86207a_497d_11eb_90df_0242ac1c0002row22_col16,#T_8a86207a_497d_11eb_90df_0242ac1c0002row22_col17,#T_8a86207a_497d_11eb_90df_0242ac1c0002row22_col18,#T_8a86207a_497d_11eb_90df_0242ac1c0002row22_col19,#T_8a86207a_497d_11eb_90df_0242ac1c0002row22_col20,#T_8a86207a_497d_11eb_90df_0242ac1c0002row22_col21,#T_8a86207a_497d_11eb_90df_0242ac1c0002row22_col22,#T_8a86207a_497d_11eb_90df_0242ac1c0002row22_col23,#T_8a86207a_497d_11eb_90df_0242ac1c0002row22_col24,#T_8a86207a_497d_11eb_90df_0242ac1c0002row22_col25,#T_8a86207a_497d_11eb_90df_0242ac1c0002row22_col26,#T_8a86207a_497d_11eb_90df_0242ac1c0002row22_col27,#T_8a86207a_497d_11eb_90df_0242ac1c0002row23_col0,#T_8a86207a_497d_11eb_90df_0242ac1c0002row23_col1,#T_8a86207a_497d_11eb_90df_0242ac1c0002row23_col2,#T_8a86207a_497d_11eb_90df_0242ac1c0002row23_col3,#T_8a86207a_497d_11eb_90df_0242ac1c0002row23_col4,#T_8a86207a_497d_11eb_90df_0242ac1c0002row23_col5,#T_8a86207a_497d_11eb_90df_0242ac1c0002row23_col6,#T_8a86207a_497d_11eb_90df_0242ac1c0002row23_col13,#T_8a86207a_497d_11eb_90df_0242ac1c0002row23_col14,#T_8a86207a_497d_11eb_90df_0242ac1c0002row23_col15,#T_8a86207a_497d_11eb_90df_0242ac1c0002row23_col16,#T_8a86207a_497d_11eb_90df_0242ac1c0002row23_col17,#T_8a86207a_497d_11eb_90df_0242ac1c0002row23_col18,#T_8a86207a_497d_11eb_90df_0242ac1c0002row23_col19,#T_8a86207a_497d_11eb_90df_0242ac1c0002row23_col20,#T_8a86207a_497d_11eb_90df_0242ac1c0002row23_col21,#T_8a86207a_497d_11eb_90df_0242ac1c0002row23_col22,#T_8a86207a_497d_11eb_90df_0242ac1c0002row23_col23,#T_8a86207a_497d_11eb_90df_0242ac1c0002row23_col24,#T_8a86207a_497d_11eb_90df_0242ac1c0002row23_col25,#T_8a86207a_497d_11eb_90df_0242ac1c0002row23_col26,#T_8a86207a_497d_11eb_90df_0242ac1c0002row23_col27,#T_8a86207a_497d_11eb_90df_0242ac1c0002row24_col0,#T_8a86207a_497d_11eb_90df_0242ac1c0002row24_col1,#T_8a86207a_497d_11eb_90df_0242ac1c0002row24_col2,#T_8a86207a_497d_11eb_90df_0242ac1c0002row24_col3,#T_8a86207a_497d_11eb_90df_0242ac1c0002row24_col4,#T_8a86207a_497d_11eb_90df_0242ac1c0002row24_col5,#T_8a86207a_497d_11eb_90df_0242ac1c0002row24_col12,#T_8a86207a_497d_11eb_90df_0242ac1c0002row24_col13,#T_8a86207a_497d_11eb_90df_0242ac1c0002row24_col14,#T_8a86207a_497d_11eb_90df_0242ac1c0002row24_col15,#T_8a86207a_497d_11eb_90df_0242ac1c0002row24_col16,#T_8a86207a_497d_11eb_90df_0242ac1c0002row24_col17,#T_8a86207a_497d_11eb_90df_0242ac1c0002row24_col18,#T_8a86207a_497d_11eb_90df_0242ac1c0002row24_col19,#T_8a86207a_497d_11eb_90df_0242ac1c0002row24_col20,#T_8a86207a_497d_11eb_90df_0242ac1c0002row24_col21,#T_8a86207a_497d_11eb_90df_0242ac1c0002row24_col22,#T_8a86207a_497d_11eb_90df_0242ac1c0002row24_col23,#T_8a86207a_497d_11eb_90df_0242ac1c0002row24_col24,#T_8a86207a_497d_11eb_90df_0242ac1c0002row24_col25,#T_8a86207a_497d_11eb_90df_0242ac1c0002row24_col26,#T_8a86207a_497d_11eb_90df_0242ac1c0002row24_col27,#T_8a86207a_497d_11eb_90df_0242ac1c0002row25_col0,#T_8a86207a_497d_11eb_90df_0242ac1c0002row25_col1,#T_8a86207a_497d_11eb_90df_0242ac1c0002row25_col2,#T_8a86207a_497d_11eb_90df_0242ac1c0002row25_col3,#T_8a86207a_497d_11eb_90df_0242ac1c0002row25_col4,#T_8a86207a_497d_11eb_90df_0242ac1c0002row25_col11,#T_8a86207a_497d_11eb_90df_0242ac1c0002row25_col12,#T_8a86207a_497d_11eb_90df_0242ac1c0002row25_col13,#T_8a86207a_497d_11eb_90df_0242ac1c0002row25_col14,#T_8a86207a_497d_11eb_90df_0242ac1c0002row25_col15,#T_8a86207a_497d_11eb_90df_0242ac1c0002row25_col16,#T_8a86207a_497d_11eb_90df_0242ac1c0002row25_col17,#T_8a86207a_497d_11eb_90df_0242ac1c0002row25_col18,#T_8a86207a_497d_11eb_90df_0242ac1c0002row25_col19,#T_8a86207a_497d_11eb_90df_0242ac1c0002row25_col20,#T_8a86207a_497d_11eb_90df_0242ac1c0002row25_col21,#T_8a86207a_497d_11eb_90df_0242ac1c0002row25_col22,#T_8a86207a_497d_11eb_90df_0242ac1c0002row25_col23,#T_8a86207a_497d_11eb_90df_0242ac1c0002row25_col24,#T_8a86207a_497d_11eb_90df_0242ac1c0002row25_col25,#T_8a86207a_497d_11eb_90df_0242ac1c0002row25_col26,#T_8a86207a_497d_11eb_90df_0242ac1c0002row25_col27,#T_8a86207a_497d_11eb_90df_0242ac1c0002row26_col0,#T_8a86207a_497d_11eb_90df_0242ac1c0002row26_col1,#T_8a86207a_497d_11eb_90df_0242ac1c0002row26_col2,#T_8a86207a_497d_11eb_90df_0242ac1c0002row26_col3,#T_8a86207a_497d_11eb_90df_0242ac1c0002row26_col4,#T_8a86207a_497d_11eb_90df_0242ac1c0002row26_col5,#T_8a86207a_497d_11eb_90df_0242ac1c0002row26_col6,#T_8a86207a_497d_11eb_90df_0242ac1c0002row26_col7,#T_8a86207a_497d_11eb_90df_0242ac1c0002row26_col8,#T_8a86207a_497d_11eb_90df_0242ac1c0002row26_col9,#T_8a86207a_497d_11eb_90df_0242ac1c0002row26_col10,#T_8a86207a_497d_11eb_90df_0242ac1c0002row26_col11,#T_8a86207a_497d_11eb_90df_0242ac1c0002row26_col12,#T_8a86207a_497d_11eb_90df_0242ac1c0002row26_col13,#T_8a86207a_497d_11eb_90df_0242ac1c0002row26_col14,#T_8a86207a_497d_11eb_90df_0242ac1c0002row26_col15,#T_8a86207a_497d_11eb_90df_0242ac1c0002row26_col16,#T_8a86207a_497d_11eb_90df_0242ac1c0002row26_col17,#T_8a86207a_497d_11eb_90df_0242ac1c0002row26_col18,#T_8a86207a_497d_11eb_90df_0242ac1c0002row26_col19,#T_8a86207a_497d_11eb_90df_0242ac1c0002row26_col20,#T_8a86207a_497d_11eb_90df_0242ac1c0002row26_col21,#T_8a86207a_497d_11eb_90df_0242ac1c0002row26_col22,#T_8a86207a_497d_11eb_90df_0242ac1c0002row26_col23,#T_8a86207a_497d_11eb_90df_0242ac1c0002row26_col24,#T_8a86207a_497d_11eb_90df_0242ac1c0002row26_col25,#T_8a86207a_497d_11eb_90df_0242ac1c0002row26_col26,#T_8a86207a_497d_11eb_90df_0242ac1c0002row26_col27,#T_8a86207a_497d_11eb_90df_0242ac1c0002row27_col0,#T_8a86207a_497d_11eb_90df_0242ac1c0002row27_col1,#T_8a86207a_497d_11eb_90df_0242ac1c0002row27_col2,#T_8a86207a_497d_11eb_90df_0242ac1c0002row27_col3,#T_8a86207a_497d_11eb_90df_0242ac1c0002row27_col4,#T_8a86207a_497d_11eb_90df_0242ac1c0002row27_col5,#T_8a86207a_497d_11eb_90df_0242ac1c0002row27_col6,#T_8a86207a_497d_11eb_90df_0242ac1c0002row27_col7,#T_8a86207a_497d_11eb_90df_0242ac1c0002row27_col8,#T_8a86207a_497d_11eb_90df_0242ac1c0002row27_col9,#T_8a86207a_497d_11eb_90df_0242ac1c0002row27_col10,#T_8a86207a_497d_11eb_90df_0242ac1c0002row27_col11,#T_8a86207a_497d_11eb_90df_0242ac1c0002row27_col12,#T_8a86207a_497d_11eb_90df_0242ac1c0002row27_col13,#T_8a86207a_497d_11eb_90df_0242ac1c0002row27_col14,#T_8a86207a_497d_11eb_90df_0242ac1c0002row27_col15,#T_8a86207a_497d_11eb_90df_0242ac1c0002row27_col16,#T_8a86207a_497d_11eb_90df_0242ac1c0002row27_col17,#T_8a86207a_497d_11eb_90df_0242ac1c0002row27_col18,#T_8a86207a_497d_11eb_90df_0242ac1c0002row27_col19,#T_8a86207a_497d_11eb_90df_0242ac1c0002row27_col20,#T_8a86207a_497d_11eb_90df_0242ac1c0002row27_col21,#T_8a86207a_497d_11eb_90df_0242ac1c0002row27_col22,#T_8a86207a_497d_11eb_90df_0242ac1c0002row27_col23,#T_8a86207a_497d_11eb_90df_0242ac1c0002row27_col24,#T_8a86207a_497d_11eb_90df_0242ac1c0002row27_col25,#T_8a86207a_497d_11eb_90df_0242ac1c0002row27_col26,#T_8a86207a_497d_11eb_90df_0242ac1c0002row27_col27{\n",
              "            font-size:  6pt;\n",
              "            background-color:  #ffffff;\n",
              "            color:  #000000;\n",
              "        }#T_8a86207a_497d_11eb_90df_0242ac1c0002row6_col12{\n",
              "            font-size:  6pt;\n",
              "            background-color:  #f9f9f9;\n",
              "            color:  #000000;\n",
              "        }#T_8a86207a_497d_11eb_90df_0242ac1c0002row6_col13,#T_8a86207a_497d_11eb_90df_0242ac1c0002row11_col6{\n",
              "            font-size:  6pt;\n",
              "            background-color:  #fcfcfc;\n",
              "            color:  #000000;\n",
              "        }#T_8a86207a_497d_11eb_90df_0242ac1c0002row6_col20,#T_8a86207a_497d_11eb_90df_0242ac1c0002row10_col23,#T_8a86207a_497d_11eb_90df_0242ac1c0002row11_col22,#T_8a86207a_497d_11eb_90df_0242ac1c0002row18_col11{\n",
              "            font-size:  6pt;\n",
              "            background-color:  #fefefe;\n",
              "            color:  #000000;\n",
              "        }#T_8a86207a_497d_11eb_90df_0242ac1c0002row6_col21{\n",
              "            font-size:  6pt;\n",
              "            background-color:  #bfbfbf;\n",
              "            color:  #000000;\n",
              "        }#T_8a86207a_497d_11eb_90df_0242ac1c0002row6_col22{\n",
              "            font-size:  6pt;\n",
              "            background-color:  #0c0c0c;\n",
              "            color:  #f1f1f1;\n",
              "        }#T_8a86207a_497d_11eb_90df_0242ac1c0002row6_col23{\n",
              "            font-size:  6pt;\n",
              "            background-color:  #333333;\n",
              "            color:  #f1f1f1;\n",
              "        }#T_8a86207a_497d_11eb_90df_0242ac1c0002row6_col24,#T_8a86207a_497d_11eb_90df_0242ac1c0002row8_col24{\n",
              "            font-size:  6pt;\n",
              "            background-color:  #575757;\n",
              "            color:  #f1f1f1;\n",
              "        }#T_8a86207a_497d_11eb_90df_0242ac1c0002row7_col10,#T_8a86207a_497d_11eb_90df_0242ac1c0002row14_col6,#T_8a86207a_497d_11eb_90df_0242ac1c0002row15_col19,#T_8a86207a_497d_11eb_90df_0242ac1c0002row16_col13,#T_8a86207a_497d_11eb_90df_0242ac1c0002row16_col18{\n",
              "            font-size:  6pt;\n",
              "            background-color:  #f8f8f8;\n",
              "            color:  #000000;\n",
              "        }#T_8a86207a_497d_11eb_90df_0242ac1c0002row7_col11,#T_8a86207a_497d_11eb_90df_0242ac1c0002row14_col7{\n",
              "            font-size:  6pt;\n",
              "            background-color:  #757575;\n",
              "            color:  #000000;\n",
              "        }#T_8a86207a_497d_11eb_90df_0242ac1c0002row7_col12,#T_8a86207a_497d_11eb_90df_0242ac1c0002row7_col21,#T_8a86207a_497d_11eb_90df_0242ac1c0002row7_col22,#T_8a86207a_497d_11eb_90df_0242ac1c0002row7_col23,#T_8a86207a_497d_11eb_90df_0242ac1c0002row7_col24,#T_8a86207a_497d_11eb_90df_0242ac1c0002row8_col11,#T_8a86207a_497d_11eb_90df_0242ac1c0002row8_col12,#T_8a86207a_497d_11eb_90df_0242ac1c0002row8_col20,#T_8a86207a_497d_11eb_90df_0242ac1c0002row8_col21,#T_8a86207a_497d_11eb_90df_0242ac1c0002row8_col22,#T_8a86207a_497d_11eb_90df_0242ac1c0002row9_col11,#T_8a86207a_497d_11eb_90df_0242ac1c0002row9_col18,#T_8a86207a_497d_11eb_90df_0242ac1c0002row9_col19,#T_8a86207a_497d_11eb_90df_0242ac1c0002row9_col20,#T_8a86207a_497d_11eb_90df_0242ac1c0002row9_col21,#T_8a86207a_497d_11eb_90df_0242ac1c0002row9_col22,#T_8a86207a_497d_11eb_90df_0242ac1c0002row10_col16,#T_8a86207a_497d_11eb_90df_0242ac1c0002row10_col17,#T_8a86207a_497d_11eb_90df_0242ac1c0002row10_col18,#T_8a86207a_497d_11eb_90df_0242ac1c0002row10_col19,#T_8a86207a_497d_11eb_90df_0242ac1c0002row10_col20,#T_8a86207a_497d_11eb_90df_0242ac1c0002row10_col21,#T_8a86207a_497d_11eb_90df_0242ac1c0002row11_col8,#T_8a86207a_497d_11eb_90df_0242ac1c0002row11_col9,#T_8a86207a_497d_11eb_90df_0242ac1c0002row11_col10,#T_8a86207a_497d_11eb_90df_0242ac1c0002row11_col11,#T_8a86207a_497d_11eb_90df_0242ac1c0002row11_col12,#T_8a86207a_497d_11eb_90df_0242ac1c0002row11_col13,#T_8a86207a_497d_11eb_90df_0242ac1c0002row11_col14,#T_8a86207a_497d_11eb_90df_0242ac1c0002row11_col15,#T_8a86207a_497d_11eb_90df_0242ac1c0002row11_col16,#T_8a86207a_497d_11eb_90df_0242ac1c0002row11_col17,#T_8a86207a_497d_11eb_90df_0242ac1c0002row11_col18,#T_8a86207a_497d_11eb_90df_0242ac1c0002row11_col19,#T_8a86207a_497d_11eb_90df_0242ac1c0002row11_col20,#T_8a86207a_497d_11eb_90df_0242ac1c0002row12_col7,#T_8a86207a_497d_11eb_90df_0242ac1c0002row12_col8,#T_8a86207a_497d_11eb_90df_0242ac1c0002row12_col9,#T_8a86207a_497d_11eb_90df_0242ac1c0002row12_col11,#T_8a86207a_497d_11eb_90df_0242ac1c0002row12_col18,#T_8a86207a_497d_11eb_90df_0242ac1c0002row12_col19,#T_8a86207a_497d_11eb_90df_0242ac1c0002row13_col7,#T_8a86207a_497d_11eb_90df_0242ac1c0002row13_col8,#T_8a86207a_497d_11eb_90df_0242ac1c0002row13_col17,#T_8a86207a_497d_11eb_90df_0242ac1c0002row13_col18,#T_8a86207a_497d_11eb_90df_0242ac1c0002row14_col17,#T_8a86207a_497d_11eb_90df_0242ac1c0002row14_col18,#T_8a86207a_497d_11eb_90df_0242ac1c0002row15_col16,#T_8a86207a_497d_11eb_90df_0242ac1c0002row15_col17,#T_8a86207a_497d_11eb_90df_0242ac1c0002row16_col15,#T_8a86207a_497d_11eb_90df_0242ac1c0002row16_col16,#T_8a86207a_497d_11eb_90df_0242ac1c0002row17_col15,#T_8a86207a_497d_11eb_90df_0242ac1c0002row18_col13,#T_8a86207a_497d_11eb_90df_0242ac1c0002row19_col12,#T_8a86207a_497d_11eb_90df_0242ac1c0002row19_col13,#T_8a86207a_497d_11eb_90df_0242ac1c0002row20_col12,#T_8a86207a_497d_11eb_90df_0242ac1c0002row21_col11,#T_8a86207a_497d_11eb_90df_0242ac1c0002row22_col11,#T_8a86207a_497d_11eb_90df_0242ac1c0002row23_col9,#T_8a86207a_497d_11eb_90df_0242ac1c0002row24_col8,#T_8a86207a_497d_11eb_90df_0242ac1c0002row24_col9,#T_8a86207a_497d_11eb_90df_0242ac1c0002row25_col5,#T_8a86207a_497d_11eb_90df_0242ac1c0002row25_col6,#T_8a86207a_497d_11eb_90df_0242ac1c0002row25_col7,#T_8a86207a_497d_11eb_90df_0242ac1c0002row25_col8{\n",
              "            font-size:  6pt;\n",
              "            background-color:  #000000;\n",
              "            color:  #f1f1f1;\n",
              "        }#T_8a86207a_497d_11eb_90df_0242ac1c0002row7_col13{\n",
              "            font-size:  6pt;\n",
              "            background-color:  #484848;\n",
              "            color:  #f1f1f1;\n",
              "        }#T_8a86207a_497d_11eb_90df_0242ac1c0002row7_col19{\n",
              "            font-size:  6pt;\n",
              "            background-color:  #f7f7f7;\n",
              "            color:  #000000;\n",
              "        }#T_8a86207a_497d_11eb_90df_0242ac1c0002row7_col20{\n",
              "            font-size:  6pt;\n",
              "            background-color:  #919191;\n",
              "            color:  #000000;\n",
              "        }#T_8a86207a_497d_11eb_90df_0242ac1c0002row8_col9{\n",
              "            font-size:  6pt;\n",
              "            background-color:  #fbfbfb;\n",
              "            color:  #000000;\n",
              "        }#T_8a86207a_497d_11eb_90df_0242ac1c0002row8_col10{\n",
              "            font-size:  6pt;\n",
              "            background-color:  #292929;\n",
              "            color:  #f1f1f1;\n",
              "        }#T_8a86207a_497d_11eb_90df_0242ac1c0002row8_col13{\n",
              "            font-size:  6pt;\n",
              "            background-color:  #1c1c1c;\n",
              "            color:  #f1f1f1;\n",
              "        }#T_8a86207a_497d_11eb_90df_0242ac1c0002row8_col14{\n",
              "            font-size:  6pt;\n",
              "            background-color:  #b3b3b3;\n",
              "            color:  #000000;\n",
              "        }#T_8a86207a_497d_11eb_90df_0242ac1c0002row8_col18{\n",
              "            font-size:  6pt;\n",
              "            background-color:  #d8d8d8;\n",
              "            color:  #000000;\n",
              "        }#T_8a86207a_497d_11eb_90df_0242ac1c0002row8_col19,#T_8a86207a_497d_11eb_90df_0242ac1c0002row16_col14{\n",
              "            font-size:  6pt;\n",
              "            background-color:  #2e2e2e;\n",
              "            color:  #f1f1f1;\n",
              "        }#T_8a86207a_497d_11eb_90df_0242ac1c0002row8_col23{\n",
              "            font-size:  6pt;\n",
              "            background-color:  #232323;\n",
              "            color:  #f1f1f1;\n",
              "        }#T_8a86207a_497d_11eb_90df_0242ac1c0002row9_col9,#T_8a86207a_497d_11eb_90df_0242ac1c0002row12_col15{\n",
              "            font-size:  6pt;\n",
              "            background-color:  #686868;\n",
              "            color:  #f1f1f1;\n",
              "        }#T_8a86207a_497d_11eb_90df_0242ac1c0002row9_col10,#T_8a86207a_497d_11eb_90df_0242ac1c0002row10_col10,#T_8a86207a_497d_11eb_90df_0242ac1c0002row12_col10,#T_8a86207a_497d_11eb_90df_0242ac1c0002row12_col12,#T_8a86207a_497d_11eb_90df_0242ac1c0002row13_col19,#T_8a86207a_497d_11eb_90df_0242ac1c0002row17_col14,#T_8a86207a_497d_11eb_90df_0242ac1c0002row18_col14,#T_8a86207a_497d_11eb_90df_0242ac1c0002row22_col10,#T_8a86207a_497d_11eb_90df_0242ac1c0002row23_col10{\n",
              "            font-size:  6pt;\n",
              "            background-color:  #010101;\n",
              "            color:  #f1f1f1;\n",
              "        }#T_8a86207a_497d_11eb_90df_0242ac1c0002row9_col12,#T_8a86207a_497d_11eb_90df_0242ac1c0002row24_col7{\n",
              "            font-size:  6pt;\n",
              "            background-color:  #1b1b1b;\n",
              "            color:  #f1f1f1;\n",
              "        }#T_8a86207a_497d_11eb_90df_0242ac1c0002row9_col13{\n",
              "            font-size:  6pt;\n",
              "            background-color:  #989898;\n",
              "            color:  #000000;\n",
              "        }#T_8a86207a_497d_11eb_90df_0242ac1c0002row9_col14,#T_8a86207a_497d_11eb_90df_0242ac1c0002row10_col7{\n",
              "            font-size:  6pt;\n",
              "            background-color:  #eaeaea;\n",
              "            color:  #000000;\n",
              "        }#T_8a86207a_497d_11eb_90df_0242ac1c0002row9_col15,#T_8a86207a_497d_11eb_90df_0242ac1c0002row23_col12,#T_8a86207a_497d_11eb_90df_0242ac1c0002row24_col11{\n",
              "            font-size:  6pt;\n",
              "            background-color:  #fafafa;\n",
              "            color:  #000000;\n",
              "        }#T_8a86207a_497d_11eb_90df_0242ac1c0002row9_col16,#T_8a86207a_497d_11eb_90df_0242ac1c0002row10_col13{\n",
              "            font-size:  6pt;\n",
              "            background-color:  #d4d4d4;\n",
              "            color:  #000000;\n",
              "        }#T_8a86207a_497d_11eb_90df_0242ac1c0002row9_col17{\n",
              "            font-size:  6pt;\n",
              "            background-color:  #5d5d5d;\n",
              "            color:  #f1f1f1;\n",
              "        }#T_8a86207a_497d_11eb_90df_0242ac1c0002row9_col23{\n",
              "            font-size:  6pt;\n",
              "            background-color:  #c0c0c0;\n",
              "            color:  #000000;\n",
              "        }#T_8a86207a_497d_11eb_90df_0242ac1c0002row10_col8{\n",
              "            font-size:  6pt;\n",
              "            background-color:  #5a5a5a;\n",
              "            color:  #f1f1f1;\n",
              "        }#T_8a86207a_497d_11eb_90df_0242ac1c0002row10_col9{\n",
              "            font-size:  6pt;\n",
              "            background-color:  #030303;\n",
              "            color:  #f1f1f1;\n",
              "        }#T_8a86207a_497d_11eb_90df_0242ac1c0002row10_col11{\n",
              "            font-size:  6pt;\n",
              "            background-color:  #212121;\n",
              "            color:  #f1f1f1;\n",
              "        }#T_8a86207a_497d_11eb_90df_0242ac1c0002row10_col12,#T_8a86207a_497d_11eb_90df_0242ac1c0002row18_col16{\n",
              "            font-size:  6pt;\n",
              "            background-color:  #cacaca;\n",
              "            color:  #000000;\n",
              "        }#T_8a86207a_497d_11eb_90df_0242ac1c0002row10_col14{\n",
              "            font-size:  6pt;\n",
              "            background-color:  #5e5e5e;\n",
              "            color:  #f1f1f1;\n",
              "        }#T_8a86207a_497d_11eb_90df_0242ac1c0002row10_col15{\n",
              "            font-size:  6pt;\n",
              "            background-color:  #1d1d1d;\n",
              "            color:  #f1f1f1;\n",
              "        }#T_8a86207a_497d_11eb_90df_0242ac1c0002row10_col22{\n",
              "            font-size:  6pt;\n",
              "            background-color:  #a5a5a5;\n",
              "            color:  #000000;\n",
              "        }#T_8a86207a_497d_11eb_90df_0242ac1c0002row11_col7{\n",
              "            font-size:  6pt;\n",
              "            background-color:  #393939;\n",
              "            color:  #f1f1f1;\n",
              "        }#T_8a86207a_497d_11eb_90df_0242ac1c0002row11_col21{\n",
              "            font-size:  6pt;\n",
              "            background-color:  #525252;\n",
              "            color:  #f1f1f1;\n",
              "        }#T_8a86207a_497d_11eb_90df_0242ac1c0002row12_col6,#T_8a86207a_497d_11eb_90df_0242ac1c0002row15_col14{\n",
              "            font-size:  6pt;\n",
              "            background-color:  #dcdcdc;\n",
              "            color:  #000000;\n",
              "        }#T_8a86207a_497d_11eb_90df_0242ac1c0002row12_col13{\n",
              "            font-size:  6pt;\n",
              "            background-color:  #050505;\n",
              "            color:  #f1f1f1;\n",
              "        }#T_8a86207a_497d_11eb_90df_0242ac1c0002row12_col14{\n",
              "            font-size:  6pt;\n",
              "            background-color:  #353535;\n",
              "            color:  #f1f1f1;\n",
              "        }#T_8a86207a_497d_11eb_90df_0242ac1c0002row12_col16{\n",
              "            font-size:  6pt;\n",
              "            background-color:  #999999;\n",
              "            color:  #000000;\n",
              "        }#T_8a86207a_497d_11eb_90df_0242ac1c0002row12_col17{\n",
              "            font-size:  6pt;\n",
              "            background-color:  #6a6a6a;\n",
              "            color:  #000000;\n",
              "        }#T_8a86207a_497d_11eb_90df_0242ac1c0002row12_col20{\n",
              "            font-size:  6pt;\n",
              "            background-color:  #0f0f0f;\n",
              "            color:  #f1f1f1;\n",
              "        }#T_8a86207a_497d_11eb_90df_0242ac1c0002row12_col21{\n",
              "            font-size:  6pt;\n",
              "            background-color:  #eeeeee;\n",
              "            color:  #000000;\n",
              "        }#T_8a86207a_497d_11eb_90df_0242ac1c0002row13_col6{\n",
              "            font-size:  6pt;\n",
              "            background-color:  #696969;\n",
              "            color:  #000000;\n",
              "        }#T_8a86207a_497d_11eb_90df_0242ac1c0002row13_col9{\n",
              "            font-size:  6pt;\n",
              "            background-color:  #5c5c5c;\n",
              "            color:  #f1f1f1;\n",
              "        }#T_8a86207a_497d_11eb_90df_0242ac1c0002row13_col10,#T_8a86207a_497d_11eb_90df_0242ac1c0002row13_col11{\n",
              "            font-size:  6pt;\n",
              "            background-color:  #cdcdcd;\n",
              "            color:  #000000;\n",
              "        }#T_8a86207a_497d_11eb_90df_0242ac1c0002row13_col12{\n",
              "            font-size:  6pt;\n",
              "            background-color:  #e4e4e4;\n",
              "            color:  #000000;\n",
              "        }#T_8a86207a_497d_11eb_90df_0242ac1c0002row13_col16{\n",
              "            font-size:  6pt;\n",
              "            background-color:  #949494;\n",
              "            color:  #000000;\n",
              "        }#T_8a86207a_497d_11eb_90df_0242ac1c0002row13_col20{\n",
              "            font-size:  6pt;\n",
              "            background-color:  #dedede;\n",
              "            color:  #000000;\n",
              "        }#T_8a86207a_497d_11eb_90df_0242ac1c0002row14_col8{\n",
              "            font-size:  6pt;\n",
              "            background-color:  #4b4b4b;\n",
              "            color:  #f1f1f1;\n",
              "        }#T_8a86207a_497d_11eb_90df_0242ac1c0002row14_col9{\n",
              "            font-size:  6pt;\n",
              "            background-color:  #f1f1f1;\n",
              "            color:  #000000;\n",
              "        }#T_8a86207a_497d_11eb_90df_0242ac1c0002row14_col15{\n",
              "            font-size:  6pt;\n",
              "            background-color:  #cfcfcf;\n",
              "            color:  #000000;\n",
              "        }#T_8a86207a_497d_11eb_90df_0242ac1c0002row14_col16{\n",
              "            font-size:  6pt;\n",
              "            background-color:  #070707;\n",
              "            color:  #f1f1f1;\n",
              "        }#T_8a86207a_497d_11eb_90df_0242ac1c0002row14_col19{\n",
              "            font-size:  6pt;\n",
              "            background-color:  #888888;\n",
              "            color:  #000000;\n",
              "        }#T_8a86207a_497d_11eb_90df_0242ac1c0002row15_col15{\n",
              "            font-size:  6pt;\n",
              "            background-color:  #2c2c2c;\n",
              "            color:  #f1f1f1;\n",
              "        }#T_8a86207a_497d_11eb_90df_0242ac1c0002row15_col18{\n",
              "            font-size:  6pt;\n",
              "            background-color:  #676767;\n",
              "            color:  #f1f1f1;\n",
              "        }#T_8a86207a_497d_11eb_90df_0242ac1c0002row16_col17{\n",
              "            font-size:  6pt;\n",
              "            background-color:  #303030;\n",
              "            color:  #f1f1f1;\n",
              "        }#T_8a86207a_497d_11eb_90df_0242ac1c0002row17_col12{\n",
              "            font-size:  6pt;\n",
              "            background-color:  #fdfdfd;\n",
              "            color:  #000000;\n",
              "        }#T_8a86207a_497d_11eb_90df_0242ac1c0002row17_col13{\n",
              "            font-size:  6pt;\n",
              "            background-color:  #a8a8a8;\n",
              "            color:  #000000;\n",
              "        }#T_8a86207a_497d_11eb_90df_0242ac1c0002row17_col16{\n",
              "            font-size:  6pt;\n",
              "            background-color:  #131313;\n",
              "            color:  #f1f1f1;\n",
              "        }#T_8a86207a_497d_11eb_90df_0242ac1c0002row17_col17,#T_8a86207a_497d_11eb_90df_0242ac1c0002row23_col7{\n",
              "            font-size:  6pt;\n",
              "            background-color:  #dfdfdf;\n",
              "            color:  #000000;\n",
              "        }#T_8a86207a_497d_11eb_90df_0242ac1c0002row18_col12{\n",
              "            font-size:  6pt;\n",
              "            background-color:  #c3c3c3;\n",
              "            color:  #000000;\n",
              "        }#T_8a86207a_497d_11eb_90df_0242ac1c0002row18_col15,#T_8a86207a_497d_11eb_90df_0242ac1c0002row19_col14{\n",
              "            font-size:  6pt;\n",
              "            background-color:  #111111;\n",
              "            color:  #f1f1f1;\n",
              "        }#T_8a86207a_497d_11eb_90df_0242ac1c0002row19_col11{\n",
              "            font-size:  6pt;\n",
              "            background-color:  #868686;\n",
              "            color:  #000000;\n",
              "        }#T_8a86207a_497d_11eb_90df_0242ac1c0002row19_col15{\n",
              "            font-size:  6pt;\n",
              "            background-color:  #b0b0b0;\n",
              "            color:  #000000;\n",
              "        }#T_8a86207a_497d_11eb_90df_0242ac1c0002row20_col10{\n",
              "            font-size:  6pt;\n",
              "            background-color:  #d7d7d7;\n",
              "            color:  #000000;\n",
              "        }#T_8a86207a_497d_11eb_90df_0242ac1c0002row20_col11,#T_8a86207a_497d_11eb_90df_0242ac1c0002row20_col13,#T_8a86207a_497d_11eb_90df_0242ac1c0002row21_col12{\n",
              "            font-size:  6pt;\n",
              "            background-color:  #020202;\n",
              "            color:  #f1f1f1;\n",
              "        }#T_8a86207a_497d_11eb_90df_0242ac1c0002row20_col14{\n",
              "            font-size:  6pt;\n",
              "            background-color:  #838383;\n",
              "            color:  #000000;\n",
              "        }#T_8a86207a_497d_11eb_90df_0242ac1c0002row21_col9{\n",
              "            font-size:  6pt;\n",
              "            background-color:  #d5d5d5;\n",
              "            color:  #000000;\n",
              "        }#T_8a86207a_497d_11eb_90df_0242ac1c0002row21_col10,#T_8a86207a_497d_11eb_90df_0242ac1c0002row22_col9{\n",
              "            font-size:  6pt;\n",
              "            background-color:  #060606;\n",
              "            color:  #f1f1f1;\n",
              "        }#T_8a86207a_497d_11eb_90df_0242ac1c0002row21_col13{\n",
              "            font-size:  6pt;\n",
              "            background-color:  #666666;\n",
              "            color:  #f1f1f1;\n",
              "        }#T_8a86207a_497d_11eb_90df_0242ac1c0002row22_col8{\n",
              "            font-size:  6pt;\n",
              "            background-color:  #e0e0e0;\n",
              "            color:  #000000;\n",
              "        }#T_8a86207a_497d_11eb_90df_0242ac1c0002row22_col12,#T_8a86207a_497d_11eb_90df_0242ac1c0002row24_col10{\n",
              "            font-size:  6pt;\n",
              "            background-color:  #363636;\n",
              "            color:  #f1f1f1;\n",
              "        }#T_8a86207a_497d_11eb_90df_0242ac1c0002row23_col8{\n",
              "            font-size:  6pt;\n",
              "            background-color:  #242424;\n",
              "            color:  #f1f1f1;\n",
              "        }#T_8a86207a_497d_11eb_90df_0242ac1c0002row23_col11{\n",
              "            font-size:  6pt;\n",
              "            background-color:  #535353;\n",
              "            color:  #f1f1f1;\n",
              "        }#T_8a86207a_497d_11eb_90df_0242ac1c0002row24_col6{\n",
              "            font-size:  6pt;\n",
              "            background-color:  #d3d3d3;\n",
              "            color:  #000000;\n",
              "        }#T_8a86207a_497d_11eb_90df_0242ac1c0002row25_col9{\n",
              "            font-size:  6pt;\n",
              "            background-color:  #383838;\n",
              "            color:  #f1f1f1;\n",
              "        }#T_8a86207a_497d_11eb_90df_0242ac1c0002row25_col10{\n",
              "            font-size:  6pt;\n",
              "            background-color:  #f5f5f5;\n",
              "            color:  #000000;\n",
              "        }</style><table id=\"T_8a86207a_497d_11eb_90df_0242ac1c0002\" ><thead>    <tr>        <th class=\"blank level0\" ></th>        <th class=\"col_heading level0 col0\" >0</th>        <th class=\"col_heading level0 col1\" >1</th>        <th class=\"col_heading level0 col2\" >2</th>        <th class=\"col_heading level0 col3\" >3</th>        <th class=\"col_heading level0 col4\" >4</th>        <th class=\"col_heading level0 col5\" >5</th>        <th class=\"col_heading level0 col6\" >6</th>        <th class=\"col_heading level0 col7\" >7</th>        <th class=\"col_heading level0 col8\" >8</th>        <th class=\"col_heading level0 col9\" >9</th>        <th class=\"col_heading level0 col10\" >10</th>        <th class=\"col_heading level0 col11\" >11</th>        <th class=\"col_heading level0 col12\" >12</th>        <th class=\"col_heading level0 col13\" >13</th>        <th class=\"col_heading level0 col14\" >14</th>        <th class=\"col_heading level0 col15\" >15</th>        <th class=\"col_heading level0 col16\" >16</th>        <th class=\"col_heading level0 col17\" >17</th>        <th class=\"col_heading level0 col18\" >18</th>        <th class=\"col_heading level0 col19\" >19</th>        <th class=\"col_heading level0 col20\" >20</th>        <th class=\"col_heading level0 col21\" >21</th>        <th class=\"col_heading level0 col22\" >22</th>        <th class=\"col_heading level0 col23\" >23</th>        <th class=\"col_heading level0 col24\" >24</th>        <th class=\"col_heading level0 col25\" >25</th>        <th class=\"col_heading level0 col26\" >26</th>        <th class=\"col_heading level0 col27\" >27</th>    </tr></thead><tbody>\n",
              "                <tr>\n",
              "                        <th id=\"T_8a86207a_497d_11eb_90df_0242ac1c0002level0_row0\" class=\"row_heading level0 row0\" >0</th>\n",
              "                        <td id=\"T_8a86207a_497d_11eb_90df_0242ac1c0002row0_col0\" class=\"data row0 col0\" >0.000000</td>\n",
              "                        <td id=\"T_8a86207a_497d_11eb_90df_0242ac1c0002row0_col1\" class=\"data row0 col1\" >0.000000</td>\n",
              "                        <td id=\"T_8a86207a_497d_11eb_90df_0242ac1c0002row0_col2\" class=\"data row0 col2\" >0.000000</td>\n",
              "                        <td id=\"T_8a86207a_497d_11eb_90df_0242ac1c0002row0_col3\" class=\"data row0 col3\" >0.000000</td>\n",
              "                        <td id=\"T_8a86207a_497d_11eb_90df_0242ac1c0002row0_col4\" class=\"data row0 col4\" >0.000000</td>\n",
              "                        <td id=\"T_8a86207a_497d_11eb_90df_0242ac1c0002row0_col5\" class=\"data row0 col5\" >0.000000</td>\n",
              "                        <td id=\"T_8a86207a_497d_11eb_90df_0242ac1c0002row0_col6\" class=\"data row0 col6\" >0.000000</td>\n",
              "                        <td id=\"T_8a86207a_497d_11eb_90df_0242ac1c0002row0_col7\" class=\"data row0 col7\" >0.000000</td>\n",
              "                        <td id=\"T_8a86207a_497d_11eb_90df_0242ac1c0002row0_col8\" class=\"data row0 col8\" >0.000000</td>\n",
              "                        <td id=\"T_8a86207a_497d_11eb_90df_0242ac1c0002row0_col9\" class=\"data row0 col9\" >0.000000</td>\n",
              "                        <td id=\"T_8a86207a_497d_11eb_90df_0242ac1c0002row0_col10\" class=\"data row0 col10\" >0.000000</td>\n",
              "                        <td id=\"T_8a86207a_497d_11eb_90df_0242ac1c0002row0_col11\" class=\"data row0 col11\" >0.000000</td>\n",
              "                        <td id=\"T_8a86207a_497d_11eb_90df_0242ac1c0002row0_col12\" class=\"data row0 col12\" >0.000000</td>\n",
              "                        <td id=\"T_8a86207a_497d_11eb_90df_0242ac1c0002row0_col13\" class=\"data row0 col13\" >0.000000</td>\n",
              "                        <td id=\"T_8a86207a_497d_11eb_90df_0242ac1c0002row0_col14\" class=\"data row0 col14\" >0.000000</td>\n",
              "                        <td id=\"T_8a86207a_497d_11eb_90df_0242ac1c0002row0_col15\" class=\"data row0 col15\" >0.000000</td>\n",
              "                        <td id=\"T_8a86207a_497d_11eb_90df_0242ac1c0002row0_col16\" class=\"data row0 col16\" >0.000000</td>\n",
              "                        <td id=\"T_8a86207a_497d_11eb_90df_0242ac1c0002row0_col17\" class=\"data row0 col17\" >0.000000</td>\n",
              "                        <td id=\"T_8a86207a_497d_11eb_90df_0242ac1c0002row0_col18\" class=\"data row0 col18\" >0.000000</td>\n",
              "                        <td id=\"T_8a86207a_497d_11eb_90df_0242ac1c0002row0_col19\" class=\"data row0 col19\" >0.000000</td>\n",
              "                        <td id=\"T_8a86207a_497d_11eb_90df_0242ac1c0002row0_col20\" class=\"data row0 col20\" >0.000000</td>\n",
              "                        <td id=\"T_8a86207a_497d_11eb_90df_0242ac1c0002row0_col21\" class=\"data row0 col21\" >0.000000</td>\n",
              "                        <td id=\"T_8a86207a_497d_11eb_90df_0242ac1c0002row0_col22\" class=\"data row0 col22\" >0.000000</td>\n",
              "                        <td id=\"T_8a86207a_497d_11eb_90df_0242ac1c0002row0_col23\" class=\"data row0 col23\" >0.000000</td>\n",
              "                        <td id=\"T_8a86207a_497d_11eb_90df_0242ac1c0002row0_col24\" class=\"data row0 col24\" >0.000000</td>\n",
              "                        <td id=\"T_8a86207a_497d_11eb_90df_0242ac1c0002row0_col25\" class=\"data row0 col25\" >0.000000</td>\n",
              "                        <td id=\"T_8a86207a_497d_11eb_90df_0242ac1c0002row0_col26\" class=\"data row0 col26\" >0.000000</td>\n",
              "                        <td id=\"T_8a86207a_497d_11eb_90df_0242ac1c0002row0_col27\" class=\"data row0 col27\" >0.000000</td>\n",
              "            </tr>\n",
              "            <tr>\n",
              "                        <th id=\"T_8a86207a_497d_11eb_90df_0242ac1c0002level0_row1\" class=\"row_heading level0 row1\" >1</th>\n",
              "                        <td id=\"T_8a86207a_497d_11eb_90df_0242ac1c0002row1_col0\" class=\"data row1 col0\" >0.000000</td>\n",
              "                        <td id=\"T_8a86207a_497d_11eb_90df_0242ac1c0002row1_col1\" class=\"data row1 col1\" >0.000000</td>\n",
              "                        <td id=\"T_8a86207a_497d_11eb_90df_0242ac1c0002row1_col2\" class=\"data row1 col2\" >0.000000</td>\n",
              "                        <td id=\"T_8a86207a_497d_11eb_90df_0242ac1c0002row1_col3\" class=\"data row1 col3\" >0.000000</td>\n",
              "                        <td id=\"T_8a86207a_497d_11eb_90df_0242ac1c0002row1_col4\" class=\"data row1 col4\" >0.000000</td>\n",
              "                        <td id=\"T_8a86207a_497d_11eb_90df_0242ac1c0002row1_col5\" class=\"data row1 col5\" >0.000000</td>\n",
              "                        <td id=\"T_8a86207a_497d_11eb_90df_0242ac1c0002row1_col6\" class=\"data row1 col6\" >0.000000</td>\n",
              "                        <td id=\"T_8a86207a_497d_11eb_90df_0242ac1c0002row1_col7\" class=\"data row1 col7\" >0.000000</td>\n",
              "                        <td id=\"T_8a86207a_497d_11eb_90df_0242ac1c0002row1_col8\" class=\"data row1 col8\" >0.000000</td>\n",
              "                        <td id=\"T_8a86207a_497d_11eb_90df_0242ac1c0002row1_col9\" class=\"data row1 col9\" >0.000000</td>\n",
              "                        <td id=\"T_8a86207a_497d_11eb_90df_0242ac1c0002row1_col10\" class=\"data row1 col10\" >0.000000</td>\n",
              "                        <td id=\"T_8a86207a_497d_11eb_90df_0242ac1c0002row1_col11\" class=\"data row1 col11\" >0.000000</td>\n",
              "                        <td id=\"T_8a86207a_497d_11eb_90df_0242ac1c0002row1_col12\" class=\"data row1 col12\" >0.000000</td>\n",
              "                        <td id=\"T_8a86207a_497d_11eb_90df_0242ac1c0002row1_col13\" class=\"data row1 col13\" >0.000000</td>\n",
              "                        <td id=\"T_8a86207a_497d_11eb_90df_0242ac1c0002row1_col14\" class=\"data row1 col14\" >0.000000</td>\n",
              "                        <td id=\"T_8a86207a_497d_11eb_90df_0242ac1c0002row1_col15\" class=\"data row1 col15\" >0.000000</td>\n",
              "                        <td id=\"T_8a86207a_497d_11eb_90df_0242ac1c0002row1_col16\" class=\"data row1 col16\" >0.000000</td>\n",
              "                        <td id=\"T_8a86207a_497d_11eb_90df_0242ac1c0002row1_col17\" class=\"data row1 col17\" >0.000000</td>\n",
              "                        <td id=\"T_8a86207a_497d_11eb_90df_0242ac1c0002row1_col18\" class=\"data row1 col18\" >0.000000</td>\n",
              "                        <td id=\"T_8a86207a_497d_11eb_90df_0242ac1c0002row1_col19\" class=\"data row1 col19\" >0.000000</td>\n",
              "                        <td id=\"T_8a86207a_497d_11eb_90df_0242ac1c0002row1_col20\" class=\"data row1 col20\" >0.000000</td>\n",
              "                        <td id=\"T_8a86207a_497d_11eb_90df_0242ac1c0002row1_col21\" class=\"data row1 col21\" >0.000000</td>\n",
              "                        <td id=\"T_8a86207a_497d_11eb_90df_0242ac1c0002row1_col22\" class=\"data row1 col22\" >0.000000</td>\n",
              "                        <td id=\"T_8a86207a_497d_11eb_90df_0242ac1c0002row1_col23\" class=\"data row1 col23\" >0.000000</td>\n",
              "                        <td id=\"T_8a86207a_497d_11eb_90df_0242ac1c0002row1_col24\" class=\"data row1 col24\" >0.000000</td>\n",
              "                        <td id=\"T_8a86207a_497d_11eb_90df_0242ac1c0002row1_col25\" class=\"data row1 col25\" >0.000000</td>\n",
              "                        <td id=\"T_8a86207a_497d_11eb_90df_0242ac1c0002row1_col26\" class=\"data row1 col26\" >0.000000</td>\n",
              "                        <td id=\"T_8a86207a_497d_11eb_90df_0242ac1c0002row1_col27\" class=\"data row1 col27\" >0.000000</td>\n",
              "            </tr>\n",
              "            <tr>\n",
              "                        <th id=\"T_8a86207a_497d_11eb_90df_0242ac1c0002level0_row2\" class=\"row_heading level0 row2\" >2</th>\n",
              "                        <td id=\"T_8a86207a_497d_11eb_90df_0242ac1c0002row2_col0\" class=\"data row2 col0\" >0.000000</td>\n",
              "                        <td id=\"T_8a86207a_497d_11eb_90df_0242ac1c0002row2_col1\" class=\"data row2 col1\" >0.000000</td>\n",
              "                        <td id=\"T_8a86207a_497d_11eb_90df_0242ac1c0002row2_col2\" class=\"data row2 col2\" >0.000000</td>\n",
              "                        <td id=\"T_8a86207a_497d_11eb_90df_0242ac1c0002row2_col3\" class=\"data row2 col3\" >0.000000</td>\n",
              "                        <td id=\"T_8a86207a_497d_11eb_90df_0242ac1c0002row2_col4\" class=\"data row2 col4\" >0.000000</td>\n",
              "                        <td id=\"T_8a86207a_497d_11eb_90df_0242ac1c0002row2_col5\" class=\"data row2 col5\" >0.000000</td>\n",
              "                        <td id=\"T_8a86207a_497d_11eb_90df_0242ac1c0002row2_col6\" class=\"data row2 col6\" >0.000000</td>\n",
              "                        <td id=\"T_8a86207a_497d_11eb_90df_0242ac1c0002row2_col7\" class=\"data row2 col7\" >0.000000</td>\n",
              "                        <td id=\"T_8a86207a_497d_11eb_90df_0242ac1c0002row2_col8\" class=\"data row2 col8\" >0.000000</td>\n",
              "                        <td id=\"T_8a86207a_497d_11eb_90df_0242ac1c0002row2_col9\" class=\"data row2 col9\" >0.000000</td>\n",
              "                        <td id=\"T_8a86207a_497d_11eb_90df_0242ac1c0002row2_col10\" class=\"data row2 col10\" >0.000000</td>\n",
              "                        <td id=\"T_8a86207a_497d_11eb_90df_0242ac1c0002row2_col11\" class=\"data row2 col11\" >0.000000</td>\n",
              "                        <td id=\"T_8a86207a_497d_11eb_90df_0242ac1c0002row2_col12\" class=\"data row2 col12\" >0.000000</td>\n",
              "                        <td id=\"T_8a86207a_497d_11eb_90df_0242ac1c0002row2_col13\" class=\"data row2 col13\" >0.000000</td>\n",
              "                        <td id=\"T_8a86207a_497d_11eb_90df_0242ac1c0002row2_col14\" class=\"data row2 col14\" >0.000000</td>\n",
              "                        <td id=\"T_8a86207a_497d_11eb_90df_0242ac1c0002row2_col15\" class=\"data row2 col15\" >0.000000</td>\n",
              "                        <td id=\"T_8a86207a_497d_11eb_90df_0242ac1c0002row2_col16\" class=\"data row2 col16\" >0.000000</td>\n",
              "                        <td id=\"T_8a86207a_497d_11eb_90df_0242ac1c0002row2_col17\" class=\"data row2 col17\" >0.000000</td>\n",
              "                        <td id=\"T_8a86207a_497d_11eb_90df_0242ac1c0002row2_col18\" class=\"data row2 col18\" >0.000000</td>\n",
              "                        <td id=\"T_8a86207a_497d_11eb_90df_0242ac1c0002row2_col19\" class=\"data row2 col19\" >0.000000</td>\n",
              "                        <td id=\"T_8a86207a_497d_11eb_90df_0242ac1c0002row2_col20\" class=\"data row2 col20\" >0.000000</td>\n",
              "                        <td id=\"T_8a86207a_497d_11eb_90df_0242ac1c0002row2_col21\" class=\"data row2 col21\" >0.000000</td>\n",
              "                        <td id=\"T_8a86207a_497d_11eb_90df_0242ac1c0002row2_col22\" class=\"data row2 col22\" >0.000000</td>\n",
              "                        <td id=\"T_8a86207a_497d_11eb_90df_0242ac1c0002row2_col23\" class=\"data row2 col23\" >0.000000</td>\n",
              "                        <td id=\"T_8a86207a_497d_11eb_90df_0242ac1c0002row2_col24\" class=\"data row2 col24\" >0.000000</td>\n",
              "                        <td id=\"T_8a86207a_497d_11eb_90df_0242ac1c0002row2_col25\" class=\"data row2 col25\" >0.000000</td>\n",
              "                        <td id=\"T_8a86207a_497d_11eb_90df_0242ac1c0002row2_col26\" class=\"data row2 col26\" >0.000000</td>\n",
              "                        <td id=\"T_8a86207a_497d_11eb_90df_0242ac1c0002row2_col27\" class=\"data row2 col27\" >0.000000</td>\n",
              "            </tr>\n",
              "            <tr>\n",
              "                        <th id=\"T_8a86207a_497d_11eb_90df_0242ac1c0002level0_row3\" class=\"row_heading level0 row3\" >3</th>\n",
              "                        <td id=\"T_8a86207a_497d_11eb_90df_0242ac1c0002row3_col0\" class=\"data row3 col0\" >0.000000</td>\n",
              "                        <td id=\"T_8a86207a_497d_11eb_90df_0242ac1c0002row3_col1\" class=\"data row3 col1\" >0.000000</td>\n",
              "                        <td id=\"T_8a86207a_497d_11eb_90df_0242ac1c0002row3_col2\" class=\"data row3 col2\" >0.000000</td>\n",
              "                        <td id=\"T_8a86207a_497d_11eb_90df_0242ac1c0002row3_col3\" class=\"data row3 col3\" >0.000000</td>\n",
              "                        <td id=\"T_8a86207a_497d_11eb_90df_0242ac1c0002row3_col4\" class=\"data row3 col4\" >0.000000</td>\n",
              "                        <td id=\"T_8a86207a_497d_11eb_90df_0242ac1c0002row3_col5\" class=\"data row3 col5\" >0.000000</td>\n",
              "                        <td id=\"T_8a86207a_497d_11eb_90df_0242ac1c0002row3_col6\" class=\"data row3 col6\" >0.000000</td>\n",
              "                        <td id=\"T_8a86207a_497d_11eb_90df_0242ac1c0002row3_col7\" class=\"data row3 col7\" >0.000000</td>\n",
              "                        <td id=\"T_8a86207a_497d_11eb_90df_0242ac1c0002row3_col8\" class=\"data row3 col8\" >0.000000</td>\n",
              "                        <td id=\"T_8a86207a_497d_11eb_90df_0242ac1c0002row3_col9\" class=\"data row3 col9\" >0.000000</td>\n",
              "                        <td id=\"T_8a86207a_497d_11eb_90df_0242ac1c0002row3_col10\" class=\"data row3 col10\" >0.000000</td>\n",
              "                        <td id=\"T_8a86207a_497d_11eb_90df_0242ac1c0002row3_col11\" class=\"data row3 col11\" >0.000000</td>\n",
              "                        <td id=\"T_8a86207a_497d_11eb_90df_0242ac1c0002row3_col12\" class=\"data row3 col12\" >0.000000</td>\n",
              "                        <td id=\"T_8a86207a_497d_11eb_90df_0242ac1c0002row3_col13\" class=\"data row3 col13\" >0.000000</td>\n",
              "                        <td id=\"T_8a86207a_497d_11eb_90df_0242ac1c0002row3_col14\" class=\"data row3 col14\" >0.000000</td>\n",
              "                        <td id=\"T_8a86207a_497d_11eb_90df_0242ac1c0002row3_col15\" class=\"data row3 col15\" >0.000000</td>\n",
              "                        <td id=\"T_8a86207a_497d_11eb_90df_0242ac1c0002row3_col16\" class=\"data row3 col16\" >0.000000</td>\n",
              "                        <td id=\"T_8a86207a_497d_11eb_90df_0242ac1c0002row3_col17\" class=\"data row3 col17\" >0.000000</td>\n",
              "                        <td id=\"T_8a86207a_497d_11eb_90df_0242ac1c0002row3_col18\" class=\"data row3 col18\" >0.000000</td>\n",
              "                        <td id=\"T_8a86207a_497d_11eb_90df_0242ac1c0002row3_col19\" class=\"data row3 col19\" >0.000000</td>\n",
              "                        <td id=\"T_8a86207a_497d_11eb_90df_0242ac1c0002row3_col20\" class=\"data row3 col20\" >0.000000</td>\n",
              "                        <td id=\"T_8a86207a_497d_11eb_90df_0242ac1c0002row3_col21\" class=\"data row3 col21\" >0.000000</td>\n",
              "                        <td id=\"T_8a86207a_497d_11eb_90df_0242ac1c0002row3_col22\" class=\"data row3 col22\" >0.000000</td>\n",
              "                        <td id=\"T_8a86207a_497d_11eb_90df_0242ac1c0002row3_col23\" class=\"data row3 col23\" >0.000000</td>\n",
              "                        <td id=\"T_8a86207a_497d_11eb_90df_0242ac1c0002row3_col24\" class=\"data row3 col24\" >0.000000</td>\n",
              "                        <td id=\"T_8a86207a_497d_11eb_90df_0242ac1c0002row3_col25\" class=\"data row3 col25\" >0.000000</td>\n",
              "                        <td id=\"T_8a86207a_497d_11eb_90df_0242ac1c0002row3_col26\" class=\"data row3 col26\" >0.000000</td>\n",
              "                        <td id=\"T_8a86207a_497d_11eb_90df_0242ac1c0002row3_col27\" class=\"data row3 col27\" >0.000000</td>\n",
              "            </tr>\n",
              "            <tr>\n",
              "                        <th id=\"T_8a86207a_497d_11eb_90df_0242ac1c0002level0_row4\" class=\"row_heading level0 row4\" >4</th>\n",
              "                        <td id=\"T_8a86207a_497d_11eb_90df_0242ac1c0002row4_col0\" class=\"data row4 col0\" >0.000000</td>\n",
              "                        <td id=\"T_8a86207a_497d_11eb_90df_0242ac1c0002row4_col1\" class=\"data row4 col1\" >0.000000</td>\n",
              "                        <td id=\"T_8a86207a_497d_11eb_90df_0242ac1c0002row4_col2\" class=\"data row4 col2\" >0.000000</td>\n",
              "                        <td id=\"T_8a86207a_497d_11eb_90df_0242ac1c0002row4_col3\" class=\"data row4 col3\" >0.000000</td>\n",
              "                        <td id=\"T_8a86207a_497d_11eb_90df_0242ac1c0002row4_col4\" class=\"data row4 col4\" >0.000000</td>\n",
              "                        <td id=\"T_8a86207a_497d_11eb_90df_0242ac1c0002row4_col5\" class=\"data row4 col5\" >0.000000</td>\n",
              "                        <td id=\"T_8a86207a_497d_11eb_90df_0242ac1c0002row4_col6\" class=\"data row4 col6\" >0.000000</td>\n",
              "                        <td id=\"T_8a86207a_497d_11eb_90df_0242ac1c0002row4_col7\" class=\"data row4 col7\" >0.000000</td>\n",
              "                        <td id=\"T_8a86207a_497d_11eb_90df_0242ac1c0002row4_col8\" class=\"data row4 col8\" >0.000000</td>\n",
              "                        <td id=\"T_8a86207a_497d_11eb_90df_0242ac1c0002row4_col9\" class=\"data row4 col9\" >0.000000</td>\n",
              "                        <td id=\"T_8a86207a_497d_11eb_90df_0242ac1c0002row4_col10\" class=\"data row4 col10\" >0.000000</td>\n",
              "                        <td id=\"T_8a86207a_497d_11eb_90df_0242ac1c0002row4_col11\" class=\"data row4 col11\" >0.000000</td>\n",
              "                        <td id=\"T_8a86207a_497d_11eb_90df_0242ac1c0002row4_col12\" class=\"data row4 col12\" >0.000000</td>\n",
              "                        <td id=\"T_8a86207a_497d_11eb_90df_0242ac1c0002row4_col13\" class=\"data row4 col13\" >0.000000</td>\n",
              "                        <td id=\"T_8a86207a_497d_11eb_90df_0242ac1c0002row4_col14\" class=\"data row4 col14\" >0.000000</td>\n",
              "                        <td id=\"T_8a86207a_497d_11eb_90df_0242ac1c0002row4_col15\" class=\"data row4 col15\" >0.000000</td>\n",
              "                        <td id=\"T_8a86207a_497d_11eb_90df_0242ac1c0002row4_col16\" class=\"data row4 col16\" >0.000000</td>\n",
              "                        <td id=\"T_8a86207a_497d_11eb_90df_0242ac1c0002row4_col17\" class=\"data row4 col17\" >0.000000</td>\n",
              "                        <td id=\"T_8a86207a_497d_11eb_90df_0242ac1c0002row4_col18\" class=\"data row4 col18\" >0.000000</td>\n",
              "                        <td id=\"T_8a86207a_497d_11eb_90df_0242ac1c0002row4_col19\" class=\"data row4 col19\" >0.000000</td>\n",
              "                        <td id=\"T_8a86207a_497d_11eb_90df_0242ac1c0002row4_col20\" class=\"data row4 col20\" >0.000000</td>\n",
              "                        <td id=\"T_8a86207a_497d_11eb_90df_0242ac1c0002row4_col21\" class=\"data row4 col21\" >0.000000</td>\n",
              "                        <td id=\"T_8a86207a_497d_11eb_90df_0242ac1c0002row4_col22\" class=\"data row4 col22\" >0.000000</td>\n",
              "                        <td id=\"T_8a86207a_497d_11eb_90df_0242ac1c0002row4_col23\" class=\"data row4 col23\" >0.000000</td>\n",
              "                        <td id=\"T_8a86207a_497d_11eb_90df_0242ac1c0002row4_col24\" class=\"data row4 col24\" >0.000000</td>\n",
              "                        <td id=\"T_8a86207a_497d_11eb_90df_0242ac1c0002row4_col25\" class=\"data row4 col25\" >0.000000</td>\n",
              "                        <td id=\"T_8a86207a_497d_11eb_90df_0242ac1c0002row4_col26\" class=\"data row4 col26\" >0.000000</td>\n",
              "                        <td id=\"T_8a86207a_497d_11eb_90df_0242ac1c0002row4_col27\" class=\"data row4 col27\" >0.000000</td>\n",
              "            </tr>\n",
              "            <tr>\n",
              "                        <th id=\"T_8a86207a_497d_11eb_90df_0242ac1c0002level0_row5\" class=\"row_heading level0 row5\" >5</th>\n",
              "                        <td id=\"T_8a86207a_497d_11eb_90df_0242ac1c0002row5_col0\" class=\"data row5 col0\" >0.000000</td>\n",
              "                        <td id=\"T_8a86207a_497d_11eb_90df_0242ac1c0002row5_col1\" class=\"data row5 col1\" >0.000000</td>\n",
              "                        <td id=\"T_8a86207a_497d_11eb_90df_0242ac1c0002row5_col2\" class=\"data row5 col2\" >0.000000</td>\n",
              "                        <td id=\"T_8a86207a_497d_11eb_90df_0242ac1c0002row5_col3\" class=\"data row5 col3\" >0.000000</td>\n",
              "                        <td id=\"T_8a86207a_497d_11eb_90df_0242ac1c0002row5_col4\" class=\"data row5 col4\" >0.000000</td>\n",
              "                        <td id=\"T_8a86207a_497d_11eb_90df_0242ac1c0002row5_col5\" class=\"data row5 col5\" >0.000000</td>\n",
              "                        <td id=\"T_8a86207a_497d_11eb_90df_0242ac1c0002row5_col6\" class=\"data row5 col6\" >0.000000</td>\n",
              "                        <td id=\"T_8a86207a_497d_11eb_90df_0242ac1c0002row5_col7\" class=\"data row5 col7\" >0.000000</td>\n",
              "                        <td id=\"T_8a86207a_497d_11eb_90df_0242ac1c0002row5_col8\" class=\"data row5 col8\" >0.000000</td>\n",
              "                        <td id=\"T_8a86207a_497d_11eb_90df_0242ac1c0002row5_col9\" class=\"data row5 col9\" >0.000000</td>\n",
              "                        <td id=\"T_8a86207a_497d_11eb_90df_0242ac1c0002row5_col10\" class=\"data row5 col10\" >0.000000</td>\n",
              "                        <td id=\"T_8a86207a_497d_11eb_90df_0242ac1c0002row5_col11\" class=\"data row5 col11\" >0.000000</td>\n",
              "                        <td id=\"T_8a86207a_497d_11eb_90df_0242ac1c0002row5_col12\" class=\"data row5 col12\" >0.000000</td>\n",
              "                        <td id=\"T_8a86207a_497d_11eb_90df_0242ac1c0002row5_col13\" class=\"data row5 col13\" >0.000000</td>\n",
              "                        <td id=\"T_8a86207a_497d_11eb_90df_0242ac1c0002row5_col14\" class=\"data row5 col14\" >0.000000</td>\n",
              "                        <td id=\"T_8a86207a_497d_11eb_90df_0242ac1c0002row5_col15\" class=\"data row5 col15\" >0.000000</td>\n",
              "                        <td id=\"T_8a86207a_497d_11eb_90df_0242ac1c0002row5_col16\" class=\"data row5 col16\" >0.000000</td>\n",
              "                        <td id=\"T_8a86207a_497d_11eb_90df_0242ac1c0002row5_col17\" class=\"data row5 col17\" >0.000000</td>\n",
              "                        <td id=\"T_8a86207a_497d_11eb_90df_0242ac1c0002row5_col18\" class=\"data row5 col18\" >0.000000</td>\n",
              "                        <td id=\"T_8a86207a_497d_11eb_90df_0242ac1c0002row5_col19\" class=\"data row5 col19\" >0.000000</td>\n",
              "                        <td id=\"T_8a86207a_497d_11eb_90df_0242ac1c0002row5_col20\" class=\"data row5 col20\" >0.000000</td>\n",
              "                        <td id=\"T_8a86207a_497d_11eb_90df_0242ac1c0002row5_col21\" class=\"data row5 col21\" >0.000000</td>\n",
              "                        <td id=\"T_8a86207a_497d_11eb_90df_0242ac1c0002row5_col22\" class=\"data row5 col22\" >0.000000</td>\n",
              "                        <td id=\"T_8a86207a_497d_11eb_90df_0242ac1c0002row5_col23\" class=\"data row5 col23\" >0.000000</td>\n",
              "                        <td id=\"T_8a86207a_497d_11eb_90df_0242ac1c0002row5_col24\" class=\"data row5 col24\" >0.000000</td>\n",
              "                        <td id=\"T_8a86207a_497d_11eb_90df_0242ac1c0002row5_col25\" class=\"data row5 col25\" >0.000000</td>\n",
              "                        <td id=\"T_8a86207a_497d_11eb_90df_0242ac1c0002row5_col26\" class=\"data row5 col26\" >0.000000</td>\n",
              "                        <td id=\"T_8a86207a_497d_11eb_90df_0242ac1c0002row5_col27\" class=\"data row5 col27\" >0.000000</td>\n",
              "            </tr>\n",
              "            <tr>\n",
              "                        <th id=\"T_8a86207a_497d_11eb_90df_0242ac1c0002level0_row6\" class=\"row_heading level0 row6\" >6</th>\n",
              "                        <td id=\"T_8a86207a_497d_11eb_90df_0242ac1c0002row6_col0\" class=\"data row6 col0\" >0.000000</td>\n",
              "                        <td id=\"T_8a86207a_497d_11eb_90df_0242ac1c0002row6_col1\" class=\"data row6 col1\" >0.000000</td>\n",
              "                        <td id=\"T_8a86207a_497d_11eb_90df_0242ac1c0002row6_col2\" class=\"data row6 col2\" >0.000000</td>\n",
              "                        <td id=\"T_8a86207a_497d_11eb_90df_0242ac1c0002row6_col3\" class=\"data row6 col3\" >0.000000</td>\n",
              "                        <td id=\"T_8a86207a_497d_11eb_90df_0242ac1c0002row6_col4\" class=\"data row6 col4\" >0.000000</td>\n",
              "                        <td id=\"T_8a86207a_497d_11eb_90df_0242ac1c0002row6_col5\" class=\"data row6 col5\" >0.000000</td>\n",
              "                        <td id=\"T_8a86207a_497d_11eb_90df_0242ac1c0002row6_col6\" class=\"data row6 col6\" >0.000000</td>\n",
              "                        <td id=\"T_8a86207a_497d_11eb_90df_0242ac1c0002row6_col7\" class=\"data row6 col7\" >0.000000</td>\n",
              "                        <td id=\"T_8a86207a_497d_11eb_90df_0242ac1c0002row6_col8\" class=\"data row6 col8\" >0.000000</td>\n",
              "                        <td id=\"T_8a86207a_497d_11eb_90df_0242ac1c0002row6_col9\" class=\"data row6 col9\" >0.000000</td>\n",
              "                        <td id=\"T_8a86207a_497d_11eb_90df_0242ac1c0002row6_col10\" class=\"data row6 col10\" >0.000000</td>\n",
              "                        <td id=\"T_8a86207a_497d_11eb_90df_0242ac1c0002row6_col11\" class=\"data row6 col11\" >0.003922</td>\n",
              "                        <td id=\"T_8a86207a_497d_11eb_90df_0242ac1c0002row6_col12\" class=\"data row6 col12\" >0.050980</td>\n",
              "                        <td id=\"T_8a86207a_497d_11eb_90df_0242ac1c0002row6_col13\" class=\"data row6 col13\" >0.027451</td>\n",
              "                        <td id=\"T_8a86207a_497d_11eb_90df_0242ac1c0002row6_col14\" class=\"data row6 col14\" >0.000000</td>\n",
              "                        <td id=\"T_8a86207a_497d_11eb_90df_0242ac1c0002row6_col15\" class=\"data row6 col15\" >0.000000</td>\n",
              "                        <td id=\"T_8a86207a_497d_11eb_90df_0242ac1c0002row6_col16\" class=\"data row6 col16\" >0.000000</td>\n",
              "                        <td id=\"T_8a86207a_497d_11eb_90df_0242ac1c0002row6_col17\" class=\"data row6 col17\" >0.000000</td>\n",
              "                        <td id=\"T_8a86207a_497d_11eb_90df_0242ac1c0002row6_col18\" class=\"data row6 col18\" >0.000000</td>\n",
              "                        <td id=\"T_8a86207a_497d_11eb_90df_0242ac1c0002row6_col19\" class=\"data row6 col19\" >0.000000</td>\n",
              "                        <td id=\"T_8a86207a_497d_11eb_90df_0242ac1c0002row6_col20\" class=\"data row6 col20\" >0.007843</td>\n",
              "                        <td id=\"T_8a86207a_497d_11eb_90df_0242ac1c0002row6_col21\" class=\"data row6 col21\" >0.364706</td>\n",
              "                        <td id=\"T_8a86207a_497d_11eb_90df_0242ac1c0002row6_col22\" class=\"data row6 col22\" >0.956863</td>\n",
              "                        <td id=\"T_8a86207a_497d_11eb_90df_0242ac1c0002row6_col23\" class=\"data row6 col23\" >0.811765</td>\n",
              "                        <td id=\"T_8a86207a_497d_11eb_90df_0242ac1c0002row6_col24\" class=\"data row6 col24\" >0.031373</td>\n",
              "                        <td id=\"T_8a86207a_497d_11eb_90df_0242ac1c0002row6_col25\" class=\"data row6 col25\" >0.000000</td>\n",
              "                        <td id=\"T_8a86207a_497d_11eb_90df_0242ac1c0002row6_col26\" class=\"data row6 col26\" >0.000000</td>\n",
              "                        <td id=\"T_8a86207a_497d_11eb_90df_0242ac1c0002row6_col27\" class=\"data row6 col27\" >0.000000</td>\n",
              "            </tr>\n",
              "            <tr>\n",
              "                        <th id=\"T_8a86207a_497d_11eb_90df_0242ac1c0002level0_row7\" class=\"row_heading level0 row7\" >7</th>\n",
              "                        <td id=\"T_8a86207a_497d_11eb_90df_0242ac1c0002row7_col0\" class=\"data row7 col0\" >0.000000</td>\n",
              "                        <td id=\"T_8a86207a_497d_11eb_90df_0242ac1c0002row7_col1\" class=\"data row7 col1\" >0.000000</td>\n",
              "                        <td id=\"T_8a86207a_497d_11eb_90df_0242ac1c0002row7_col2\" class=\"data row7 col2\" >0.000000</td>\n",
              "                        <td id=\"T_8a86207a_497d_11eb_90df_0242ac1c0002row7_col3\" class=\"data row7 col3\" >0.000000</td>\n",
              "                        <td id=\"T_8a86207a_497d_11eb_90df_0242ac1c0002row7_col4\" class=\"data row7 col4\" >0.000000</td>\n",
              "                        <td id=\"T_8a86207a_497d_11eb_90df_0242ac1c0002row7_col5\" class=\"data row7 col5\" >0.000000</td>\n",
              "                        <td id=\"T_8a86207a_497d_11eb_90df_0242ac1c0002row7_col6\" class=\"data row7 col6\" >0.000000</td>\n",
              "                        <td id=\"T_8a86207a_497d_11eb_90df_0242ac1c0002row7_col7\" class=\"data row7 col7\" >0.000000</td>\n",
              "                        <td id=\"T_8a86207a_497d_11eb_90df_0242ac1c0002row7_col8\" class=\"data row7 col8\" >0.000000</td>\n",
              "                        <td id=\"T_8a86207a_497d_11eb_90df_0242ac1c0002row7_col9\" class=\"data row7 col9\" >0.000000</td>\n",
              "                        <td id=\"T_8a86207a_497d_11eb_90df_0242ac1c0002row7_col10\" class=\"data row7 col10\" >0.058824</td>\n",
              "                        <td id=\"T_8a86207a_497d_11eb_90df_0242ac1c0002row7_col11\" class=\"data row7 col11\" >0.615686</td>\n",
              "                        <td id=\"T_8a86207a_497d_11eb_90df_0242ac1c0002row7_col12\" class=\"data row7 col12\" >0.996078</td>\n",
              "                        <td id=\"T_8a86207a_497d_11eb_90df_0242ac1c0002row7_col13\" class=\"data row7 col13\" >0.772549</td>\n",
              "                        <td id=\"T_8a86207a_497d_11eb_90df_0242ac1c0002row7_col14\" class=\"data row7 col14\" >0.000000</td>\n",
              "                        <td id=\"T_8a86207a_497d_11eb_90df_0242ac1c0002row7_col15\" class=\"data row7 col15\" >0.000000</td>\n",
              "                        <td id=\"T_8a86207a_497d_11eb_90df_0242ac1c0002row7_col16\" class=\"data row7 col16\" >0.000000</td>\n",
              "                        <td id=\"T_8a86207a_497d_11eb_90df_0242ac1c0002row7_col17\" class=\"data row7 col17\" >0.000000</td>\n",
              "                        <td id=\"T_8a86207a_497d_11eb_90df_0242ac1c0002row7_col18\" class=\"data row7 col18\" >0.000000</td>\n",
              "                        <td id=\"T_8a86207a_497d_11eb_90df_0242ac1c0002row7_col19\" class=\"data row7 col19\" >0.070588</td>\n",
              "                        <td id=\"T_8a86207a_497d_11eb_90df_0242ac1c0002row7_col20\" class=\"data row7 col20\" >0.513726</td>\n",
              "                        <td id=\"T_8a86207a_497d_11eb_90df_0242ac1c0002row7_col21\" class=\"data row7 col21\" >0.996078</td>\n",
              "                        <td id=\"T_8a86207a_497d_11eb_90df_0242ac1c0002row7_col22\" class=\"data row7 col22\" >0.996078</td>\n",
              "                        <td id=\"T_8a86207a_497d_11eb_90df_0242ac1c0002row7_col23\" class=\"data row7 col23\" >0.972549</td>\n",
              "                        <td id=\"T_8a86207a_497d_11eb_90df_0242ac1c0002row7_col24\" class=\"data row7 col24\" >0.043137</td>\n",
              "                        <td id=\"T_8a86207a_497d_11eb_90df_0242ac1c0002row7_col25\" class=\"data row7 col25\" >0.000000</td>\n",
              "                        <td id=\"T_8a86207a_497d_11eb_90df_0242ac1c0002row7_col26\" class=\"data row7 col26\" >0.000000</td>\n",
              "                        <td id=\"T_8a86207a_497d_11eb_90df_0242ac1c0002row7_col27\" class=\"data row7 col27\" >0.000000</td>\n",
              "            </tr>\n",
              "            <tr>\n",
              "                        <th id=\"T_8a86207a_497d_11eb_90df_0242ac1c0002level0_row8\" class=\"row_heading level0 row8\" >8</th>\n",
              "                        <td id=\"T_8a86207a_497d_11eb_90df_0242ac1c0002row8_col0\" class=\"data row8 col0\" >0.000000</td>\n",
              "                        <td id=\"T_8a86207a_497d_11eb_90df_0242ac1c0002row8_col1\" class=\"data row8 col1\" >0.000000</td>\n",
              "                        <td id=\"T_8a86207a_497d_11eb_90df_0242ac1c0002row8_col2\" class=\"data row8 col2\" >0.000000</td>\n",
              "                        <td id=\"T_8a86207a_497d_11eb_90df_0242ac1c0002row8_col3\" class=\"data row8 col3\" >0.000000</td>\n",
              "                        <td id=\"T_8a86207a_497d_11eb_90df_0242ac1c0002row8_col4\" class=\"data row8 col4\" >0.000000</td>\n",
              "                        <td id=\"T_8a86207a_497d_11eb_90df_0242ac1c0002row8_col5\" class=\"data row8 col5\" >0.000000</td>\n",
              "                        <td id=\"T_8a86207a_497d_11eb_90df_0242ac1c0002row8_col6\" class=\"data row8 col6\" >0.000000</td>\n",
              "                        <td id=\"T_8a86207a_497d_11eb_90df_0242ac1c0002row8_col7\" class=\"data row8 col7\" >0.000000</td>\n",
              "                        <td id=\"T_8a86207a_497d_11eb_90df_0242ac1c0002row8_col8\" class=\"data row8 col8\" >0.000000</td>\n",
              "                        <td id=\"T_8a86207a_497d_11eb_90df_0242ac1c0002row8_col9\" class=\"data row8 col9\" >0.035294</td>\n",
              "                        <td id=\"T_8a86207a_497d_11eb_90df_0242ac1c0002row8_col10\" class=\"data row8 col10\" >0.862745</td>\n",
              "                        <td id=\"T_8a86207a_497d_11eb_90df_0242ac1c0002row8_col11\" class=\"data row8 col11\" >0.996078</td>\n",
              "                        <td id=\"T_8a86207a_497d_11eb_90df_0242ac1c0002row8_col12\" class=\"data row8 col12\" >0.996078</td>\n",
              "                        <td id=\"T_8a86207a_497d_11eb_90df_0242ac1c0002row8_col13\" class=\"data row8 col13\" >0.901961</td>\n",
              "                        <td id=\"T_8a86207a_497d_11eb_90df_0242ac1c0002row8_col14\" class=\"data row8 col14\" >0.407843</td>\n",
              "                        <td id=\"T_8a86207a_497d_11eb_90df_0242ac1c0002row8_col15\" class=\"data row8 col15\" >0.000000</td>\n",
              "                        <td id=\"T_8a86207a_497d_11eb_90df_0242ac1c0002row8_col16\" class=\"data row8 col16\" >0.000000</td>\n",
              "                        <td id=\"T_8a86207a_497d_11eb_90df_0242ac1c0002row8_col17\" class=\"data row8 col17\" >0.000000</td>\n",
              "                        <td id=\"T_8a86207a_497d_11eb_90df_0242ac1c0002row8_col18\" class=\"data row8 col18\" >0.254902</td>\n",
              "                        <td id=\"T_8a86207a_497d_11eb_90df_0242ac1c0002row8_col19\" class=\"data row8 col19\" >0.847059</td>\n",
              "                        <td id=\"T_8a86207a_497d_11eb_90df_0242ac1c0002row8_col20\" class=\"data row8 col20\" >0.996078</td>\n",
              "                        <td id=\"T_8a86207a_497d_11eb_90df_0242ac1c0002row8_col21\" class=\"data row8 col21\" >0.996078</td>\n",
              "                        <td id=\"T_8a86207a_497d_11eb_90df_0242ac1c0002row8_col22\" class=\"data row8 col22\" >0.996078</td>\n",
              "                        <td id=\"T_8a86207a_497d_11eb_90df_0242ac1c0002row8_col23\" class=\"data row8 col23\" >0.854902</td>\n",
              "                        <td id=\"T_8a86207a_497d_11eb_90df_0242ac1c0002row8_col24\" class=\"data row8 col24\" >0.031373</td>\n",
              "                        <td id=\"T_8a86207a_497d_11eb_90df_0242ac1c0002row8_col25\" class=\"data row8 col25\" >0.000000</td>\n",
              "                        <td id=\"T_8a86207a_497d_11eb_90df_0242ac1c0002row8_col26\" class=\"data row8 col26\" >0.000000</td>\n",
              "                        <td id=\"T_8a86207a_497d_11eb_90df_0242ac1c0002row8_col27\" class=\"data row8 col27\" >0.000000</td>\n",
              "            </tr>\n",
              "            <tr>\n",
              "                        <th id=\"T_8a86207a_497d_11eb_90df_0242ac1c0002level0_row9\" class=\"row_heading level0 row9\" >9</th>\n",
              "                        <td id=\"T_8a86207a_497d_11eb_90df_0242ac1c0002row9_col0\" class=\"data row9 col0\" >0.000000</td>\n",
              "                        <td id=\"T_8a86207a_497d_11eb_90df_0242ac1c0002row9_col1\" class=\"data row9 col1\" >0.000000</td>\n",
              "                        <td id=\"T_8a86207a_497d_11eb_90df_0242ac1c0002row9_col2\" class=\"data row9 col2\" >0.000000</td>\n",
              "                        <td id=\"T_8a86207a_497d_11eb_90df_0242ac1c0002row9_col3\" class=\"data row9 col3\" >0.000000</td>\n",
              "                        <td id=\"T_8a86207a_497d_11eb_90df_0242ac1c0002row9_col4\" class=\"data row9 col4\" >0.000000</td>\n",
              "                        <td id=\"T_8a86207a_497d_11eb_90df_0242ac1c0002row9_col5\" class=\"data row9 col5\" >0.000000</td>\n",
              "                        <td id=\"T_8a86207a_497d_11eb_90df_0242ac1c0002row9_col6\" class=\"data row9 col6\" >0.000000</td>\n",
              "                        <td id=\"T_8a86207a_497d_11eb_90df_0242ac1c0002row9_col7\" class=\"data row9 col7\" >0.000000</td>\n",
              "                        <td id=\"T_8a86207a_497d_11eb_90df_0242ac1c0002row9_col8\" class=\"data row9 col8\" >0.000000</td>\n",
              "                        <td id=\"T_8a86207a_497d_11eb_90df_0242ac1c0002row9_col9\" class=\"data row9 col9\" >0.662745</td>\n",
              "                        <td id=\"T_8a86207a_497d_11eb_90df_0242ac1c0002row9_col10\" class=\"data row9 col10\" >0.996078</td>\n",
              "                        <td id=\"T_8a86207a_497d_11eb_90df_0242ac1c0002row9_col11\" class=\"data row9 col11\" >0.996078</td>\n",
              "                        <td id=\"T_8a86207a_497d_11eb_90df_0242ac1c0002row9_col12\" class=\"data row9 col12\" >0.905882</td>\n",
              "                        <td id=\"T_8a86207a_497d_11eb_90df_0242ac1c0002row9_col13\" class=\"data row9 col13\" >0.494118</td>\n",
              "                        <td id=\"T_8a86207a_497d_11eb_90df_0242ac1c0002row9_col14\" class=\"data row9 col14\" >0.156863</td>\n",
              "                        <td id=\"T_8a86207a_497d_11eb_90df_0242ac1c0002row9_col15\" class=\"data row9 col15\" >0.043137</td>\n",
              "                        <td id=\"T_8a86207a_497d_11eb_90df_0242ac1c0002row9_col16\" class=\"data row9 col16\" >0.274510</td>\n",
              "                        <td id=\"T_8a86207a_497d_11eb_90df_0242ac1c0002row9_col17\" class=\"data row9 col17\" >0.705882</td>\n",
              "                        <td id=\"T_8a86207a_497d_11eb_90df_0242ac1c0002row9_col18\" class=\"data row9 col18\" >0.996078</td>\n",
              "                        <td id=\"T_8a86207a_497d_11eb_90df_0242ac1c0002row9_col19\" class=\"data row9 col19\" >0.996078</td>\n",
              "                        <td id=\"T_8a86207a_497d_11eb_90df_0242ac1c0002row9_col20\" class=\"data row9 col20\" >0.996078</td>\n",
              "                        <td id=\"T_8a86207a_497d_11eb_90df_0242ac1c0002row9_col21\" class=\"data row9 col21\" >0.996078</td>\n",
              "                        <td id=\"T_8a86207a_497d_11eb_90df_0242ac1c0002row9_col22\" class=\"data row9 col22\" >0.996078</td>\n",
              "                        <td id=\"T_8a86207a_497d_11eb_90df_0242ac1c0002row9_col23\" class=\"data row9 col23\" >0.352941</td>\n",
              "                        <td id=\"T_8a86207a_497d_11eb_90df_0242ac1c0002row9_col24\" class=\"data row9 col24\" >0.000000</td>\n",
              "                        <td id=\"T_8a86207a_497d_11eb_90df_0242ac1c0002row9_col25\" class=\"data row9 col25\" >0.000000</td>\n",
              "                        <td id=\"T_8a86207a_497d_11eb_90df_0242ac1c0002row9_col26\" class=\"data row9 col26\" >0.000000</td>\n",
              "                        <td id=\"T_8a86207a_497d_11eb_90df_0242ac1c0002row9_col27\" class=\"data row9 col27\" >0.000000</td>\n",
              "            </tr>\n",
              "            <tr>\n",
              "                        <th id=\"T_8a86207a_497d_11eb_90df_0242ac1c0002level0_row10\" class=\"row_heading level0 row10\" >10</th>\n",
              "                        <td id=\"T_8a86207a_497d_11eb_90df_0242ac1c0002row10_col0\" class=\"data row10 col0\" >0.000000</td>\n",
              "                        <td id=\"T_8a86207a_497d_11eb_90df_0242ac1c0002row10_col1\" class=\"data row10 col1\" >0.000000</td>\n",
              "                        <td id=\"T_8a86207a_497d_11eb_90df_0242ac1c0002row10_col2\" class=\"data row10 col2\" >0.000000</td>\n",
              "                        <td id=\"T_8a86207a_497d_11eb_90df_0242ac1c0002row10_col3\" class=\"data row10 col3\" >0.000000</td>\n",
              "                        <td id=\"T_8a86207a_497d_11eb_90df_0242ac1c0002row10_col4\" class=\"data row10 col4\" >0.000000</td>\n",
              "                        <td id=\"T_8a86207a_497d_11eb_90df_0242ac1c0002row10_col5\" class=\"data row10 col5\" >0.000000</td>\n",
              "                        <td id=\"T_8a86207a_497d_11eb_90df_0242ac1c0002row10_col6\" class=\"data row10 col6\" >0.000000</td>\n",
              "                        <td id=\"T_8a86207a_497d_11eb_90df_0242ac1c0002row10_col7\" class=\"data row10 col7\" >0.156863</td>\n",
              "                        <td id=\"T_8a86207a_497d_11eb_90df_0242ac1c0002row10_col8\" class=\"data row10 col8\" >0.717647</td>\n",
              "                        <td id=\"T_8a86207a_497d_11eb_90df_0242ac1c0002row10_col9\" class=\"data row10 col9\" >0.984314</td>\n",
              "                        <td id=\"T_8a86207a_497d_11eb_90df_0242ac1c0002row10_col10\" class=\"data row10 col10\" >0.996078</td>\n",
              "                        <td id=\"T_8a86207a_497d_11eb_90df_0242ac1c0002row10_col11\" class=\"data row10 col11\" >0.886275</td>\n",
              "                        <td id=\"T_8a86207a_497d_11eb_90df_0242ac1c0002row10_col12\" class=\"data row10 col12\" >0.317647</td>\n",
              "                        <td id=\"T_8a86207a_497d_11eb_90df_0242ac1c0002row10_col13\" class=\"data row10 col13\" >0.274510</td>\n",
              "                        <td id=\"T_8a86207a_497d_11eb_90df_0242ac1c0002row10_col14\" class=\"data row10 col14\" >0.705882</td>\n",
              "                        <td id=\"T_8a86207a_497d_11eb_90df_0242ac1c0002row10_col15\" class=\"data row10 col15\" >0.898039</td>\n",
              "                        <td id=\"T_8a86207a_497d_11eb_90df_0242ac1c0002row10_col16\" class=\"data row10 col16\" >0.996078</td>\n",
              "                        <td id=\"T_8a86207a_497d_11eb_90df_0242ac1c0002row10_col17\" class=\"data row10 col17\" >0.996078</td>\n",
              "                        <td id=\"T_8a86207a_497d_11eb_90df_0242ac1c0002row10_col18\" class=\"data row10 col18\" >0.996078</td>\n",
              "                        <td id=\"T_8a86207a_497d_11eb_90df_0242ac1c0002row10_col19\" class=\"data row10 col19\" >0.996078</td>\n",
              "                        <td id=\"T_8a86207a_497d_11eb_90df_0242ac1c0002row10_col20\" class=\"data row10 col20\" >0.996078</td>\n",
              "                        <td id=\"T_8a86207a_497d_11eb_90df_0242ac1c0002row10_col21\" class=\"data row10 col21\" >0.996078</td>\n",
              "                        <td id=\"T_8a86207a_497d_11eb_90df_0242ac1c0002row10_col22\" class=\"data row10 col22\" >0.450980</td>\n",
              "                        <td id=\"T_8a86207a_497d_11eb_90df_0242ac1c0002row10_col23\" class=\"data row10 col23\" >0.011765</td>\n",
              "                        <td id=\"T_8a86207a_497d_11eb_90df_0242ac1c0002row10_col24\" class=\"data row10 col24\" >0.000000</td>\n",
              "                        <td id=\"T_8a86207a_497d_11eb_90df_0242ac1c0002row10_col25\" class=\"data row10 col25\" >0.000000</td>\n",
              "                        <td id=\"T_8a86207a_497d_11eb_90df_0242ac1c0002row10_col26\" class=\"data row10 col26\" >0.000000</td>\n",
              "                        <td id=\"T_8a86207a_497d_11eb_90df_0242ac1c0002row10_col27\" class=\"data row10 col27\" >0.000000</td>\n",
              "            </tr>\n",
              "            <tr>\n",
              "                        <th id=\"T_8a86207a_497d_11eb_90df_0242ac1c0002level0_row11\" class=\"row_heading level0 row11\" >11</th>\n",
              "                        <td id=\"T_8a86207a_497d_11eb_90df_0242ac1c0002row11_col0\" class=\"data row11 col0\" >0.000000</td>\n",
              "                        <td id=\"T_8a86207a_497d_11eb_90df_0242ac1c0002row11_col1\" class=\"data row11 col1\" >0.000000</td>\n",
              "                        <td id=\"T_8a86207a_497d_11eb_90df_0242ac1c0002row11_col2\" class=\"data row11 col2\" >0.000000</td>\n",
              "                        <td id=\"T_8a86207a_497d_11eb_90df_0242ac1c0002row11_col3\" class=\"data row11 col3\" >0.000000</td>\n",
              "                        <td id=\"T_8a86207a_497d_11eb_90df_0242ac1c0002row11_col4\" class=\"data row11 col4\" >0.000000</td>\n",
              "                        <td id=\"T_8a86207a_497d_11eb_90df_0242ac1c0002row11_col5\" class=\"data row11 col5\" >0.000000</td>\n",
              "                        <td id=\"T_8a86207a_497d_11eb_90df_0242ac1c0002row11_col6\" class=\"data row11 col6\" >0.027451</td>\n",
              "                        <td id=\"T_8a86207a_497d_11eb_90df_0242ac1c0002row11_col7\" class=\"data row11 col7\" >0.815686</td>\n",
              "                        <td id=\"T_8a86207a_497d_11eb_90df_0242ac1c0002row11_col8\" class=\"data row11 col8\" >0.996078</td>\n",
              "                        <td id=\"T_8a86207a_497d_11eb_90df_0242ac1c0002row11_col9\" class=\"data row11 col9\" >0.996078</td>\n",
              "                        <td id=\"T_8a86207a_497d_11eb_90df_0242ac1c0002row11_col10\" class=\"data row11 col10\" >1.000000</td>\n",
              "                        <td id=\"T_8a86207a_497d_11eb_90df_0242ac1c0002row11_col11\" class=\"data row11 col11\" >0.996078</td>\n",
              "                        <td id=\"T_8a86207a_497d_11eb_90df_0242ac1c0002row11_col12\" class=\"data row11 col12\" >0.996078</td>\n",
              "                        <td id=\"T_8a86207a_497d_11eb_90df_0242ac1c0002row11_col13\" class=\"data row11 col13\" >0.996078</td>\n",
              "                        <td id=\"T_8a86207a_497d_11eb_90df_0242ac1c0002row11_col14\" class=\"data row11 col14\" >1.000000</td>\n",
              "                        <td id=\"T_8a86207a_497d_11eb_90df_0242ac1c0002row11_col15\" class=\"data row11 col15\" >0.996078</td>\n",
              "                        <td id=\"T_8a86207a_497d_11eb_90df_0242ac1c0002row11_col16\" class=\"data row11 col16\" >0.996078</td>\n",
              "                        <td id=\"T_8a86207a_497d_11eb_90df_0242ac1c0002row11_col17\" class=\"data row11 col17\" >0.996078</td>\n",
              "                        <td id=\"T_8a86207a_497d_11eb_90df_0242ac1c0002row11_col18\" class=\"data row11 col18\" >0.996078</td>\n",
              "                        <td id=\"T_8a86207a_497d_11eb_90df_0242ac1c0002row11_col19\" class=\"data row11 col19\" >0.996078</td>\n",
              "                        <td id=\"T_8a86207a_497d_11eb_90df_0242ac1c0002row11_col20\" class=\"data row11 col20\" >0.996078</td>\n",
              "                        <td id=\"T_8a86207a_497d_11eb_90df_0242ac1c0002row11_col21\" class=\"data row11 col21\" >0.745098</td>\n",
              "                        <td id=\"T_8a86207a_497d_11eb_90df_0242ac1c0002row11_col22\" class=\"data row11 col22\" >0.011765</td>\n",
              "                        <td id=\"T_8a86207a_497d_11eb_90df_0242ac1c0002row11_col23\" class=\"data row11 col23\" >0.000000</td>\n",
              "                        <td id=\"T_8a86207a_497d_11eb_90df_0242ac1c0002row11_col24\" class=\"data row11 col24\" >0.000000</td>\n",
              "                        <td id=\"T_8a86207a_497d_11eb_90df_0242ac1c0002row11_col25\" class=\"data row11 col25\" >0.000000</td>\n",
              "                        <td id=\"T_8a86207a_497d_11eb_90df_0242ac1c0002row11_col26\" class=\"data row11 col26\" >0.000000</td>\n",
              "                        <td id=\"T_8a86207a_497d_11eb_90df_0242ac1c0002row11_col27\" class=\"data row11 col27\" >0.000000</td>\n",
              "            </tr>\n",
              "            <tr>\n",
              "                        <th id=\"T_8a86207a_497d_11eb_90df_0242ac1c0002level0_row12\" class=\"row_heading level0 row12\" >12</th>\n",
              "                        <td id=\"T_8a86207a_497d_11eb_90df_0242ac1c0002row12_col0\" class=\"data row12 col0\" >0.000000</td>\n",
              "                        <td id=\"T_8a86207a_497d_11eb_90df_0242ac1c0002row12_col1\" class=\"data row12 col1\" >0.000000</td>\n",
              "                        <td id=\"T_8a86207a_497d_11eb_90df_0242ac1c0002row12_col2\" class=\"data row12 col2\" >0.000000</td>\n",
              "                        <td id=\"T_8a86207a_497d_11eb_90df_0242ac1c0002row12_col3\" class=\"data row12 col3\" >0.000000</td>\n",
              "                        <td id=\"T_8a86207a_497d_11eb_90df_0242ac1c0002row12_col4\" class=\"data row12 col4\" >0.000000</td>\n",
              "                        <td id=\"T_8a86207a_497d_11eb_90df_0242ac1c0002row12_col5\" class=\"data row12 col5\" >0.000000</td>\n",
              "                        <td id=\"T_8a86207a_497d_11eb_90df_0242ac1c0002row12_col6\" class=\"data row12 col6\" >0.207843</td>\n",
              "                        <td id=\"T_8a86207a_497d_11eb_90df_0242ac1c0002row12_col7\" class=\"data row12 col7\" >0.996078</td>\n",
              "                        <td id=\"T_8a86207a_497d_11eb_90df_0242ac1c0002row12_col8\" class=\"data row12 col8\" >0.996078</td>\n",
              "                        <td id=\"T_8a86207a_497d_11eb_90df_0242ac1c0002row12_col9\" class=\"data row12 col9\" >0.996078</td>\n",
              "                        <td id=\"T_8a86207a_497d_11eb_90df_0242ac1c0002row12_col10\" class=\"data row12 col10\" >0.996078</td>\n",
              "                        <td id=\"T_8a86207a_497d_11eb_90df_0242ac1c0002row12_col11\" class=\"data row12 col11\" >0.996078</td>\n",
              "                        <td id=\"T_8a86207a_497d_11eb_90df_0242ac1c0002row12_col12\" class=\"data row12 col12\" >0.992157</td>\n",
              "                        <td id=\"T_8a86207a_497d_11eb_90df_0242ac1c0002row12_col13\" class=\"data row12 col13\" >0.980392</td>\n",
              "                        <td id=\"T_8a86207a_497d_11eb_90df_0242ac1c0002row12_col14\" class=\"data row12 col14\" >0.831373</td>\n",
              "                        <td id=\"T_8a86207a_497d_11eb_90df_0242ac1c0002row12_col15\" class=\"data row12 col15\" >0.662745</td>\n",
              "                        <td id=\"T_8a86207a_497d_11eb_90df_0242ac1c0002row12_col16\" class=\"data row12 col16\" >0.490196</td>\n",
              "                        <td id=\"T_8a86207a_497d_11eb_90df_0242ac1c0002row12_col17\" class=\"data row12 col17\" >0.654902</td>\n",
              "                        <td id=\"T_8a86207a_497d_11eb_90df_0242ac1c0002row12_col18\" class=\"data row12 col18\" >0.996078</td>\n",
              "                        <td id=\"T_8a86207a_497d_11eb_90df_0242ac1c0002row12_col19\" class=\"data row12 col19\" >0.996078</td>\n",
              "                        <td id=\"T_8a86207a_497d_11eb_90df_0242ac1c0002row12_col20\" class=\"data row12 col20\" >0.945098</td>\n",
              "                        <td id=\"T_8a86207a_497d_11eb_90df_0242ac1c0002row12_col21\" class=\"data row12 col21\" >0.137255</td>\n",
              "                        <td id=\"T_8a86207a_497d_11eb_90df_0242ac1c0002row12_col22\" class=\"data row12 col22\" >0.000000</td>\n",
              "                        <td id=\"T_8a86207a_497d_11eb_90df_0242ac1c0002row12_col23\" class=\"data row12 col23\" >0.000000</td>\n",
              "                        <td id=\"T_8a86207a_497d_11eb_90df_0242ac1c0002row12_col24\" class=\"data row12 col24\" >0.000000</td>\n",
              "                        <td id=\"T_8a86207a_497d_11eb_90df_0242ac1c0002row12_col25\" class=\"data row12 col25\" >0.000000</td>\n",
              "                        <td id=\"T_8a86207a_497d_11eb_90df_0242ac1c0002row12_col26\" class=\"data row12 col26\" >0.000000</td>\n",
              "                        <td id=\"T_8a86207a_497d_11eb_90df_0242ac1c0002row12_col27\" class=\"data row12 col27\" >0.000000</td>\n",
              "            </tr>\n",
              "            <tr>\n",
              "                        <th id=\"T_8a86207a_497d_11eb_90df_0242ac1c0002level0_row13\" class=\"row_heading level0 row13\" >13</th>\n",
              "                        <td id=\"T_8a86207a_497d_11eb_90df_0242ac1c0002row13_col0\" class=\"data row13 col0\" >0.000000</td>\n",
              "                        <td id=\"T_8a86207a_497d_11eb_90df_0242ac1c0002row13_col1\" class=\"data row13 col1\" >0.000000</td>\n",
              "                        <td id=\"T_8a86207a_497d_11eb_90df_0242ac1c0002row13_col2\" class=\"data row13 col2\" >0.000000</td>\n",
              "                        <td id=\"T_8a86207a_497d_11eb_90df_0242ac1c0002row13_col3\" class=\"data row13 col3\" >0.000000</td>\n",
              "                        <td id=\"T_8a86207a_497d_11eb_90df_0242ac1c0002row13_col4\" class=\"data row13 col4\" >0.000000</td>\n",
              "                        <td id=\"T_8a86207a_497d_11eb_90df_0242ac1c0002row13_col5\" class=\"data row13 col5\" >0.000000</td>\n",
              "                        <td id=\"T_8a86207a_497d_11eb_90df_0242ac1c0002row13_col6\" class=\"data row13 col6\" >0.588235</td>\n",
              "                        <td id=\"T_8a86207a_497d_11eb_90df_0242ac1c0002row13_col7\" class=\"data row13 col7\" >0.996078</td>\n",
              "                        <td id=\"T_8a86207a_497d_11eb_90df_0242ac1c0002row13_col8\" class=\"data row13 col8\" >0.996078</td>\n",
              "                        <td id=\"T_8a86207a_497d_11eb_90df_0242ac1c0002row13_col9\" class=\"data row13 col9\" >0.709804</td>\n",
              "                        <td id=\"T_8a86207a_497d_11eb_90df_0242ac1c0002row13_col10\" class=\"data row13 col10\" >0.301961</td>\n",
              "                        <td id=\"T_8a86207a_497d_11eb_90df_0242ac1c0002row13_col11\" class=\"data row13 col11\" >0.301961</td>\n",
              "                        <td id=\"T_8a86207a_497d_11eb_90df_0242ac1c0002row13_col12\" class=\"data row13 col12\" >0.188235</td>\n",
              "                        <td id=\"T_8a86207a_497d_11eb_90df_0242ac1c0002row13_col13\" class=\"data row13 col13\" >0.000000</td>\n",
              "                        <td id=\"T_8a86207a_497d_11eb_90df_0242ac1c0002row13_col14\" class=\"data row13 col14\" >0.000000</td>\n",
              "                        <td id=\"T_8a86207a_497d_11eb_90df_0242ac1c0002row13_col15\" class=\"data row13 col15\" >0.000000</td>\n",
              "                        <td id=\"T_8a86207a_497d_11eb_90df_0242ac1c0002row13_col16\" class=\"data row13 col16\" >0.501961</td>\n",
              "                        <td id=\"T_8a86207a_497d_11eb_90df_0242ac1c0002row13_col17\" class=\"data row13 col17\" >0.996078</td>\n",
              "                        <td id=\"T_8a86207a_497d_11eb_90df_0242ac1c0002row13_col18\" class=\"data row13 col18\" >0.996078</td>\n",
              "                        <td id=\"T_8a86207a_497d_11eb_90df_0242ac1c0002row13_col19\" class=\"data row13 col19\" >0.992157</td>\n",
              "                        <td id=\"T_8a86207a_497d_11eb_90df_0242ac1c0002row13_col20\" class=\"data row13 col20\" >0.223529</td>\n",
              "                        <td id=\"T_8a86207a_497d_11eb_90df_0242ac1c0002row13_col21\" class=\"data row13 col21\" >0.000000</td>\n",
              "                        <td id=\"T_8a86207a_497d_11eb_90df_0242ac1c0002row13_col22\" class=\"data row13 col22\" >0.000000</td>\n",
              "                        <td id=\"T_8a86207a_497d_11eb_90df_0242ac1c0002row13_col23\" class=\"data row13 col23\" >0.000000</td>\n",
              "                        <td id=\"T_8a86207a_497d_11eb_90df_0242ac1c0002row13_col24\" class=\"data row13 col24\" >0.000000</td>\n",
              "                        <td id=\"T_8a86207a_497d_11eb_90df_0242ac1c0002row13_col25\" class=\"data row13 col25\" >0.000000</td>\n",
              "                        <td id=\"T_8a86207a_497d_11eb_90df_0242ac1c0002row13_col26\" class=\"data row13 col26\" >0.000000</td>\n",
              "                        <td id=\"T_8a86207a_497d_11eb_90df_0242ac1c0002row13_col27\" class=\"data row13 col27\" >0.000000</td>\n",
              "            </tr>\n",
              "            <tr>\n",
              "                        <th id=\"T_8a86207a_497d_11eb_90df_0242ac1c0002level0_row14\" class=\"row_heading level0 row14\" >14</th>\n",
              "                        <td id=\"T_8a86207a_497d_11eb_90df_0242ac1c0002row14_col0\" class=\"data row14 col0\" >0.000000</td>\n",
              "                        <td id=\"T_8a86207a_497d_11eb_90df_0242ac1c0002row14_col1\" class=\"data row14 col1\" >0.000000</td>\n",
              "                        <td id=\"T_8a86207a_497d_11eb_90df_0242ac1c0002row14_col2\" class=\"data row14 col2\" >0.000000</td>\n",
              "                        <td id=\"T_8a86207a_497d_11eb_90df_0242ac1c0002row14_col3\" class=\"data row14 col3\" >0.000000</td>\n",
              "                        <td id=\"T_8a86207a_497d_11eb_90df_0242ac1c0002row14_col4\" class=\"data row14 col4\" >0.000000</td>\n",
              "                        <td id=\"T_8a86207a_497d_11eb_90df_0242ac1c0002row14_col5\" class=\"data row14 col5\" >0.000000</td>\n",
              "                        <td id=\"T_8a86207a_497d_11eb_90df_0242ac1c0002row14_col6\" class=\"data row14 col6\" >0.054902</td>\n",
              "                        <td id=\"T_8a86207a_497d_11eb_90df_0242ac1c0002row14_col7\" class=\"data row14 col7\" >0.615686</td>\n",
              "                        <td id=\"T_8a86207a_497d_11eb_90df_0242ac1c0002row14_col8\" class=\"data row14 col8\" >0.764706</td>\n",
              "                        <td id=\"T_8a86207a_497d_11eb_90df_0242ac1c0002row14_col9\" class=\"data row14 col9\" >0.113725</td>\n",
              "                        <td id=\"T_8a86207a_497d_11eb_90df_0242ac1c0002row14_col10\" class=\"data row14 col10\" >0.000000</td>\n",
              "                        <td id=\"T_8a86207a_497d_11eb_90df_0242ac1c0002row14_col11\" class=\"data row14 col11\" >0.000000</td>\n",
              "                        <td id=\"T_8a86207a_497d_11eb_90df_0242ac1c0002row14_col12\" class=\"data row14 col12\" >0.000000</td>\n",
              "                        <td id=\"T_8a86207a_497d_11eb_90df_0242ac1c0002row14_col13\" class=\"data row14 col13\" >0.000000</td>\n",
              "                        <td id=\"T_8a86207a_497d_11eb_90df_0242ac1c0002row14_col14\" class=\"data row14 col14\" >0.000000</td>\n",
              "                        <td id=\"T_8a86207a_497d_11eb_90df_0242ac1c0002row14_col15\" class=\"data row14 col15\" >0.294118</td>\n",
              "                        <td id=\"T_8a86207a_497d_11eb_90df_0242ac1c0002row14_col16\" class=\"data row14 col16\" >0.972549</td>\n",
              "                        <td id=\"T_8a86207a_497d_11eb_90df_0242ac1c0002row14_col17\" class=\"data row14 col17\" >0.996078</td>\n",
              "                        <td id=\"T_8a86207a_497d_11eb_90df_0242ac1c0002row14_col18\" class=\"data row14 col18\" >0.996078</td>\n",
              "                        <td id=\"T_8a86207a_497d_11eb_90df_0242ac1c0002row14_col19\" class=\"data row14 col19\" >0.545098</td>\n",
              "                        <td id=\"T_8a86207a_497d_11eb_90df_0242ac1c0002row14_col20\" class=\"data row14 col20\" >0.000000</td>\n",
              "                        <td id=\"T_8a86207a_497d_11eb_90df_0242ac1c0002row14_col21\" class=\"data row14 col21\" >0.000000</td>\n",
              "                        <td id=\"T_8a86207a_497d_11eb_90df_0242ac1c0002row14_col22\" class=\"data row14 col22\" >0.000000</td>\n",
              "                        <td id=\"T_8a86207a_497d_11eb_90df_0242ac1c0002row14_col23\" class=\"data row14 col23\" >0.000000</td>\n",
              "                        <td id=\"T_8a86207a_497d_11eb_90df_0242ac1c0002row14_col24\" class=\"data row14 col24\" >0.000000</td>\n",
              "                        <td id=\"T_8a86207a_497d_11eb_90df_0242ac1c0002row14_col25\" class=\"data row14 col25\" >0.000000</td>\n",
              "                        <td id=\"T_8a86207a_497d_11eb_90df_0242ac1c0002row14_col26\" class=\"data row14 col26\" >0.000000</td>\n",
              "                        <td id=\"T_8a86207a_497d_11eb_90df_0242ac1c0002row14_col27\" class=\"data row14 col27\" >0.000000</td>\n",
              "            </tr>\n",
              "            <tr>\n",
              "                        <th id=\"T_8a86207a_497d_11eb_90df_0242ac1c0002level0_row15\" class=\"row_heading level0 row15\" >15</th>\n",
              "                        <td id=\"T_8a86207a_497d_11eb_90df_0242ac1c0002row15_col0\" class=\"data row15 col0\" >0.000000</td>\n",
              "                        <td id=\"T_8a86207a_497d_11eb_90df_0242ac1c0002row15_col1\" class=\"data row15 col1\" >0.000000</td>\n",
              "                        <td id=\"T_8a86207a_497d_11eb_90df_0242ac1c0002row15_col2\" class=\"data row15 col2\" >0.000000</td>\n",
              "                        <td id=\"T_8a86207a_497d_11eb_90df_0242ac1c0002row15_col3\" class=\"data row15 col3\" >0.000000</td>\n",
              "                        <td id=\"T_8a86207a_497d_11eb_90df_0242ac1c0002row15_col4\" class=\"data row15 col4\" >0.000000</td>\n",
              "                        <td id=\"T_8a86207a_497d_11eb_90df_0242ac1c0002row15_col5\" class=\"data row15 col5\" >0.000000</td>\n",
              "                        <td id=\"T_8a86207a_497d_11eb_90df_0242ac1c0002row15_col6\" class=\"data row15 col6\" >0.000000</td>\n",
              "                        <td id=\"T_8a86207a_497d_11eb_90df_0242ac1c0002row15_col7\" class=\"data row15 col7\" >0.000000</td>\n",
              "                        <td id=\"T_8a86207a_497d_11eb_90df_0242ac1c0002row15_col8\" class=\"data row15 col8\" >0.000000</td>\n",
              "                        <td id=\"T_8a86207a_497d_11eb_90df_0242ac1c0002row15_col9\" class=\"data row15 col9\" >0.000000</td>\n",
              "                        <td id=\"T_8a86207a_497d_11eb_90df_0242ac1c0002row15_col10\" class=\"data row15 col10\" >0.000000</td>\n",
              "                        <td id=\"T_8a86207a_497d_11eb_90df_0242ac1c0002row15_col11\" class=\"data row15 col11\" >0.000000</td>\n",
              "                        <td id=\"T_8a86207a_497d_11eb_90df_0242ac1c0002row15_col12\" class=\"data row15 col12\" >0.000000</td>\n",
              "                        <td id=\"T_8a86207a_497d_11eb_90df_0242ac1c0002row15_col13\" class=\"data row15 col13\" >0.000000</td>\n",
              "                        <td id=\"T_8a86207a_497d_11eb_90df_0242ac1c0002row15_col14\" class=\"data row15 col14\" >0.231373</td>\n",
              "                        <td id=\"T_8a86207a_497d_11eb_90df_0242ac1c0002row15_col15\" class=\"data row15 col15\" >0.850980</td>\n",
              "                        <td id=\"T_8a86207a_497d_11eb_90df_0242ac1c0002row15_col16\" class=\"data row15 col16\" >0.996078</td>\n",
              "                        <td id=\"T_8a86207a_497d_11eb_90df_0242ac1c0002row15_col17\" class=\"data row15 col17\" >0.996078</td>\n",
              "                        <td id=\"T_8a86207a_497d_11eb_90df_0242ac1c0002row15_col18\" class=\"data row15 col18\" >0.666667</td>\n",
              "                        <td id=\"T_8a86207a_497d_11eb_90df_0242ac1c0002row15_col19\" class=\"data row15 col19\" >0.058824</td>\n",
              "                        <td id=\"T_8a86207a_497d_11eb_90df_0242ac1c0002row15_col20\" class=\"data row15 col20\" >0.000000</td>\n",
              "                        <td id=\"T_8a86207a_497d_11eb_90df_0242ac1c0002row15_col21\" class=\"data row15 col21\" >0.000000</td>\n",
              "                        <td id=\"T_8a86207a_497d_11eb_90df_0242ac1c0002row15_col22\" class=\"data row15 col22\" >0.000000</td>\n",
              "                        <td id=\"T_8a86207a_497d_11eb_90df_0242ac1c0002row15_col23\" class=\"data row15 col23\" >0.000000</td>\n",
              "                        <td id=\"T_8a86207a_497d_11eb_90df_0242ac1c0002row15_col24\" class=\"data row15 col24\" >0.000000</td>\n",
              "                        <td id=\"T_8a86207a_497d_11eb_90df_0242ac1c0002row15_col25\" class=\"data row15 col25\" >0.000000</td>\n",
              "                        <td id=\"T_8a86207a_497d_11eb_90df_0242ac1c0002row15_col26\" class=\"data row15 col26\" >0.000000</td>\n",
              "                        <td id=\"T_8a86207a_497d_11eb_90df_0242ac1c0002row15_col27\" class=\"data row15 col27\" >0.000000</td>\n",
              "            </tr>\n",
              "            <tr>\n",
              "                        <th id=\"T_8a86207a_497d_11eb_90df_0242ac1c0002level0_row16\" class=\"row_heading level0 row16\" >16</th>\n",
              "                        <td id=\"T_8a86207a_497d_11eb_90df_0242ac1c0002row16_col0\" class=\"data row16 col0\" >0.000000</td>\n",
              "                        <td id=\"T_8a86207a_497d_11eb_90df_0242ac1c0002row16_col1\" class=\"data row16 col1\" >0.000000</td>\n",
              "                        <td id=\"T_8a86207a_497d_11eb_90df_0242ac1c0002row16_col2\" class=\"data row16 col2\" >0.000000</td>\n",
              "                        <td id=\"T_8a86207a_497d_11eb_90df_0242ac1c0002row16_col3\" class=\"data row16 col3\" >0.000000</td>\n",
              "                        <td id=\"T_8a86207a_497d_11eb_90df_0242ac1c0002row16_col4\" class=\"data row16 col4\" >0.000000</td>\n",
              "                        <td id=\"T_8a86207a_497d_11eb_90df_0242ac1c0002row16_col5\" class=\"data row16 col5\" >0.000000</td>\n",
              "                        <td id=\"T_8a86207a_497d_11eb_90df_0242ac1c0002row16_col6\" class=\"data row16 col6\" >0.000000</td>\n",
              "                        <td id=\"T_8a86207a_497d_11eb_90df_0242ac1c0002row16_col7\" class=\"data row16 col7\" >0.000000</td>\n",
              "                        <td id=\"T_8a86207a_497d_11eb_90df_0242ac1c0002row16_col8\" class=\"data row16 col8\" >0.000000</td>\n",
              "                        <td id=\"T_8a86207a_497d_11eb_90df_0242ac1c0002row16_col9\" class=\"data row16 col9\" >0.000000</td>\n",
              "                        <td id=\"T_8a86207a_497d_11eb_90df_0242ac1c0002row16_col10\" class=\"data row16 col10\" >0.000000</td>\n",
              "                        <td id=\"T_8a86207a_497d_11eb_90df_0242ac1c0002row16_col11\" class=\"data row16 col11\" >0.000000</td>\n",
              "                        <td id=\"T_8a86207a_497d_11eb_90df_0242ac1c0002row16_col12\" class=\"data row16 col12\" >0.000000</td>\n",
              "                        <td id=\"T_8a86207a_497d_11eb_90df_0242ac1c0002row16_col13\" class=\"data row16 col13\" >0.058824</td>\n",
              "                        <td id=\"T_8a86207a_497d_11eb_90df_0242ac1c0002row16_col14\" class=\"data row16 col14\" >0.850980</td>\n",
              "                        <td id=\"T_8a86207a_497d_11eb_90df_0242ac1c0002row16_col15\" class=\"data row16 col15\" >0.996078</td>\n",
              "                        <td id=\"T_8a86207a_497d_11eb_90df_0242ac1c0002row16_col16\" class=\"data row16 col16\" >0.996078</td>\n",
              "                        <td id=\"T_8a86207a_497d_11eb_90df_0242ac1c0002row16_col17\" class=\"data row16 col17\" >0.839216</td>\n",
              "                        <td id=\"T_8a86207a_497d_11eb_90df_0242ac1c0002row16_col18\" class=\"data row16 col18\" >0.058824</td>\n",
              "                        <td id=\"T_8a86207a_497d_11eb_90df_0242ac1c0002row16_col19\" class=\"data row16 col19\" >0.000000</td>\n",
              "                        <td id=\"T_8a86207a_497d_11eb_90df_0242ac1c0002row16_col20\" class=\"data row16 col20\" >0.000000</td>\n",
              "                        <td id=\"T_8a86207a_497d_11eb_90df_0242ac1c0002row16_col21\" class=\"data row16 col21\" >0.000000</td>\n",
              "                        <td id=\"T_8a86207a_497d_11eb_90df_0242ac1c0002row16_col22\" class=\"data row16 col22\" >0.000000</td>\n",
              "                        <td id=\"T_8a86207a_497d_11eb_90df_0242ac1c0002row16_col23\" class=\"data row16 col23\" >0.000000</td>\n",
              "                        <td id=\"T_8a86207a_497d_11eb_90df_0242ac1c0002row16_col24\" class=\"data row16 col24\" >0.000000</td>\n",
              "                        <td id=\"T_8a86207a_497d_11eb_90df_0242ac1c0002row16_col25\" class=\"data row16 col25\" >0.000000</td>\n",
              "                        <td id=\"T_8a86207a_497d_11eb_90df_0242ac1c0002row16_col26\" class=\"data row16 col26\" >0.000000</td>\n",
              "                        <td id=\"T_8a86207a_497d_11eb_90df_0242ac1c0002row16_col27\" class=\"data row16 col27\" >0.000000</td>\n",
              "            </tr>\n",
              "            <tr>\n",
              "                        <th id=\"T_8a86207a_497d_11eb_90df_0242ac1c0002level0_row17\" class=\"row_heading level0 row17\" >17</th>\n",
              "                        <td id=\"T_8a86207a_497d_11eb_90df_0242ac1c0002row17_col0\" class=\"data row17 col0\" >0.000000</td>\n",
              "                        <td id=\"T_8a86207a_497d_11eb_90df_0242ac1c0002row17_col1\" class=\"data row17 col1\" >0.000000</td>\n",
              "                        <td id=\"T_8a86207a_497d_11eb_90df_0242ac1c0002row17_col2\" class=\"data row17 col2\" >0.000000</td>\n",
              "                        <td id=\"T_8a86207a_497d_11eb_90df_0242ac1c0002row17_col3\" class=\"data row17 col3\" >0.000000</td>\n",
              "                        <td id=\"T_8a86207a_497d_11eb_90df_0242ac1c0002row17_col4\" class=\"data row17 col4\" >0.000000</td>\n",
              "                        <td id=\"T_8a86207a_497d_11eb_90df_0242ac1c0002row17_col5\" class=\"data row17 col5\" >0.000000</td>\n",
              "                        <td id=\"T_8a86207a_497d_11eb_90df_0242ac1c0002row17_col6\" class=\"data row17 col6\" >0.000000</td>\n",
              "                        <td id=\"T_8a86207a_497d_11eb_90df_0242ac1c0002row17_col7\" class=\"data row17 col7\" >0.000000</td>\n",
              "                        <td id=\"T_8a86207a_497d_11eb_90df_0242ac1c0002row17_col8\" class=\"data row17 col8\" >0.000000</td>\n",
              "                        <td id=\"T_8a86207a_497d_11eb_90df_0242ac1c0002row17_col9\" class=\"data row17 col9\" >0.000000</td>\n",
              "                        <td id=\"T_8a86207a_497d_11eb_90df_0242ac1c0002row17_col10\" class=\"data row17 col10\" >0.000000</td>\n",
              "                        <td id=\"T_8a86207a_497d_11eb_90df_0242ac1c0002row17_col11\" class=\"data row17 col11\" >0.000000</td>\n",
              "                        <td id=\"T_8a86207a_497d_11eb_90df_0242ac1c0002row17_col12\" class=\"data row17 col12\" >0.019608</td>\n",
              "                        <td id=\"T_8a86207a_497d_11eb_90df_0242ac1c0002row17_col13\" class=\"data row17 col13\" >0.443137</td>\n",
              "                        <td id=\"T_8a86207a_497d_11eb_90df_0242ac1c0002row17_col14\" class=\"data row17 col14\" >0.996078</td>\n",
              "                        <td id=\"T_8a86207a_497d_11eb_90df_0242ac1c0002row17_col15\" class=\"data row17 col15\" >0.996078</td>\n",
              "                        <td id=\"T_8a86207a_497d_11eb_90df_0242ac1c0002row17_col16\" class=\"data row17 col16\" >0.933333</td>\n",
              "                        <td id=\"T_8a86207a_497d_11eb_90df_0242ac1c0002row17_col17\" class=\"data row17 col17\" >0.215686</td>\n",
              "                        <td id=\"T_8a86207a_497d_11eb_90df_0242ac1c0002row17_col18\" class=\"data row17 col18\" >0.000000</td>\n",
              "                        <td id=\"T_8a86207a_497d_11eb_90df_0242ac1c0002row17_col19\" class=\"data row17 col19\" >0.000000</td>\n",
              "                        <td id=\"T_8a86207a_497d_11eb_90df_0242ac1c0002row17_col20\" class=\"data row17 col20\" >0.000000</td>\n",
              "                        <td id=\"T_8a86207a_497d_11eb_90df_0242ac1c0002row17_col21\" class=\"data row17 col21\" >0.000000</td>\n",
              "                        <td id=\"T_8a86207a_497d_11eb_90df_0242ac1c0002row17_col22\" class=\"data row17 col22\" >0.000000</td>\n",
              "                        <td id=\"T_8a86207a_497d_11eb_90df_0242ac1c0002row17_col23\" class=\"data row17 col23\" >0.000000</td>\n",
              "                        <td id=\"T_8a86207a_497d_11eb_90df_0242ac1c0002row17_col24\" class=\"data row17 col24\" >0.000000</td>\n",
              "                        <td id=\"T_8a86207a_497d_11eb_90df_0242ac1c0002row17_col25\" class=\"data row17 col25\" >0.000000</td>\n",
              "                        <td id=\"T_8a86207a_497d_11eb_90df_0242ac1c0002row17_col26\" class=\"data row17 col26\" >0.000000</td>\n",
              "                        <td id=\"T_8a86207a_497d_11eb_90df_0242ac1c0002row17_col27\" class=\"data row17 col27\" >0.000000</td>\n",
              "            </tr>\n",
              "            <tr>\n",
              "                        <th id=\"T_8a86207a_497d_11eb_90df_0242ac1c0002level0_row18\" class=\"row_heading level0 row18\" >18</th>\n",
              "                        <td id=\"T_8a86207a_497d_11eb_90df_0242ac1c0002row18_col0\" class=\"data row18 col0\" >0.000000</td>\n",
              "                        <td id=\"T_8a86207a_497d_11eb_90df_0242ac1c0002row18_col1\" class=\"data row18 col1\" >0.000000</td>\n",
              "                        <td id=\"T_8a86207a_497d_11eb_90df_0242ac1c0002row18_col2\" class=\"data row18 col2\" >0.000000</td>\n",
              "                        <td id=\"T_8a86207a_497d_11eb_90df_0242ac1c0002row18_col3\" class=\"data row18 col3\" >0.000000</td>\n",
              "                        <td id=\"T_8a86207a_497d_11eb_90df_0242ac1c0002row18_col4\" class=\"data row18 col4\" >0.000000</td>\n",
              "                        <td id=\"T_8a86207a_497d_11eb_90df_0242ac1c0002row18_col5\" class=\"data row18 col5\" >0.000000</td>\n",
              "                        <td id=\"T_8a86207a_497d_11eb_90df_0242ac1c0002row18_col6\" class=\"data row18 col6\" >0.000000</td>\n",
              "                        <td id=\"T_8a86207a_497d_11eb_90df_0242ac1c0002row18_col7\" class=\"data row18 col7\" >0.000000</td>\n",
              "                        <td id=\"T_8a86207a_497d_11eb_90df_0242ac1c0002row18_col8\" class=\"data row18 col8\" >0.000000</td>\n",
              "                        <td id=\"T_8a86207a_497d_11eb_90df_0242ac1c0002row18_col9\" class=\"data row18 col9\" >0.000000</td>\n",
              "                        <td id=\"T_8a86207a_497d_11eb_90df_0242ac1c0002row18_col10\" class=\"data row18 col10\" >0.000000</td>\n",
              "                        <td id=\"T_8a86207a_497d_11eb_90df_0242ac1c0002row18_col11\" class=\"data row18 col11\" >0.007843</td>\n",
              "                        <td id=\"T_8a86207a_497d_11eb_90df_0242ac1c0002row18_col12\" class=\"data row18 col12\" >0.349020</td>\n",
              "                        <td id=\"T_8a86207a_497d_11eb_90df_0242ac1c0002row18_col13\" class=\"data row18 col13\" >0.996078</td>\n",
              "                        <td id=\"T_8a86207a_497d_11eb_90df_0242ac1c0002row18_col14\" class=\"data row18 col14\" >0.996078</td>\n",
              "                        <td id=\"T_8a86207a_497d_11eb_90df_0242ac1c0002row18_col15\" class=\"data row18 col15\" >0.937255</td>\n",
              "                        <td id=\"T_8a86207a_497d_11eb_90df_0242ac1c0002row18_col16\" class=\"data row18 col16\" >0.317647</td>\n",
              "                        <td id=\"T_8a86207a_497d_11eb_90df_0242ac1c0002row18_col17\" class=\"data row18 col17\" >0.000000</td>\n",
              "                        <td id=\"T_8a86207a_497d_11eb_90df_0242ac1c0002row18_col18\" class=\"data row18 col18\" >0.000000</td>\n",
              "                        <td id=\"T_8a86207a_497d_11eb_90df_0242ac1c0002row18_col19\" class=\"data row18 col19\" >0.000000</td>\n",
              "                        <td id=\"T_8a86207a_497d_11eb_90df_0242ac1c0002row18_col20\" class=\"data row18 col20\" >0.000000</td>\n",
              "                        <td id=\"T_8a86207a_497d_11eb_90df_0242ac1c0002row18_col21\" class=\"data row18 col21\" >0.000000</td>\n",
              "                        <td id=\"T_8a86207a_497d_11eb_90df_0242ac1c0002row18_col22\" class=\"data row18 col22\" >0.000000</td>\n",
              "                        <td id=\"T_8a86207a_497d_11eb_90df_0242ac1c0002row18_col23\" class=\"data row18 col23\" >0.000000</td>\n",
              "                        <td id=\"T_8a86207a_497d_11eb_90df_0242ac1c0002row18_col24\" class=\"data row18 col24\" >0.000000</td>\n",
              "                        <td id=\"T_8a86207a_497d_11eb_90df_0242ac1c0002row18_col25\" class=\"data row18 col25\" >0.000000</td>\n",
              "                        <td id=\"T_8a86207a_497d_11eb_90df_0242ac1c0002row18_col26\" class=\"data row18 col26\" >0.000000</td>\n",
              "                        <td id=\"T_8a86207a_497d_11eb_90df_0242ac1c0002row18_col27\" class=\"data row18 col27\" >0.000000</td>\n",
              "            </tr>\n",
              "            <tr>\n",
              "                        <th id=\"T_8a86207a_497d_11eb_90df_0242ac1c0002level0_row19\" class=\"row_heading level0 row19\" >19</th>\n",
              "                        <td id=\"T_8a86207a_497d_11eb_90df_0242ac1c0002row19_col0\" class=\"data row19 col0\" >0.000000</td>\n",
              "                        <td id=\"T_8a86207a_497d_11eb_90df_0242ac1c0002row19_col1\" class=\"data row19 col1\" >0.000000</td>\n",
              "                        <td id=\"T_8a86207a_497d_11eb_90df_0242ac1c0002row19_col2\" class=\"data row19 col2\" >0.000000</td>\n",
              "                        <td id=\"T_8a86207a_497d_11eb_90df_0242ac1c0002row19_col3\" class=\"data row19 col3\" >0.000000</td>\n",
              "                        <td id=\"T_8a86207a_497d_11eb_90df_0242ac1c0002row19_col4\" class=\"data row19 col4\" >0.000000</td>\n",
              "                        <td id=\"T_8a86207a_497d_11eb_90df_0242ac1c0002row19_col5\" class=\"data row19 col5\" >0.000000</td>\n",
              "                        <td id=\"T_8a86207a_497d_11eb_90df_0242ac1c0002row19_col6\" class=\"data row19 col6\" >0.000000</td>\n",
              "                        <td id=\"T_8a86207a_497d_11eb_90df_0242ac1c0002row19_col7\" class=\"data row19 col7\" >0.000000</td>\n",
              "                        <td id=\"T_8a86207a_497d_11eb_90df_0242ac1c0002row19_col8\" class=\"data row19 col8\" >0.000000</td>\n",
              "                        <td id=\"T_8a86207a_497d_11eb_90df_0242ac1c0002row19_col9\" class=\"data row19 col9\" >0.000000</td>\n",
              "                        <td id=\"T_8a86207a_497d_11eb_90df_0242ac1c0002row19_col10\" class=\"data row19 col10\" >0.000000</td>\n",
              "                        <td id=\"T_8a86207a_497d_11eb_90df_0242ac1c0002row19_col11\" class=\"data row19 col11\" >0.552941</td>\n",
              "                        <td id=\"T_8a86207a_497d_11eb_90df_0242ac1c0002row19_col12\" class=\"data row19 col12\" >0.996078</td>\n",
              "                        <td id=\"T_8a86207a_497d_11eb_90df_0242ac1c0002row19_col13\" class=\"data row19 col13\" >0.996078</td>\n",
              "                        <td id=\"T_8a86207a_497d_11eb_90df_0242ac1c0002row19_col14\" class=\"data row19 col14\" >0.941176</td>\n",
              "                        <td id=\"T_8a86207a_497d_11eb_90df_0242ac1c0002row19_col15\" class=\"data row19 col15\" >0.415686</td>\n",
              "                        <td id=\"T_8a86207a_497d_11eb_90df_0242ac1c0002row19_col16\" class=\"data row19 col16\" >0.000000</td>\n",
              "                        <td id=\"T_8a86207a_497d_11eb_90df_0242ac1c0002row19_col17\" class=\"data row19 col17\" >0.000000</td>\n",
              "                        <td id=\"T_8a86207a_497d_11eb_90df_0242ac1c0002row19_col18\" class=\"data row19 col18\" >0.000000</td>\n",
              "                        <td id=\"T_8a86207a_497d_11eb_90df_0242ac1c0002row19_col19\" class=\"data row19 col19\" >0.000000</td>\n",
              "                        <td id=\"T_8a86207a_497d_11eb_90df_0242ac1c0002row19_col20\" class=\"data row19 col20\" >0.000000</td>\n",
              "                        <td id=\"T_8a86207a_497d_11eb_90df_0242ac1c0002row19_col21\" class=\"data row19 col21\" >0.000000</td>\n",
              "                        <td id=\"T_8a86207a_497d_11eb_90df_0242ac1c0002row19_col22\" class=\"data row19 col22\" >0.000000</td>\n",
              "                        <td id=\"T_8a86207a_497d_11eb_90df_0242ac1c0002row19_col23\" class=\"data row19 col23\" >0.000000</td>\n",
              "                        <td id=\"T_8a86207a_497d_11eb_90df_0242ac1c0002row19_col24\" class=\"data row19 col24\" >0.000000</td>\n",
              "                        <td id=\"T_8a86207a_497d_11eb_90df_0242ac1c0002row19_col25\" class=\"data row19 col25\" >0.000000</td>\n",
              "                        <td id=\"T_8a86207a_497d_11eb_90df_0242ac1c0002row19_col26\" class=\"data row19 col26\" >0.000000</td>\n",
              "                        <td id=\"T_8a86207a_497d_11eb_90df_0242ac1c0002row19_col27\" class=\"data row19 col27\" >0.000000</td>\n",
              "            </tr>\n",
              "            <tr>\n",
              "                        <th id=\"T_8a86207a_497d_11eb_90df_0242ac1c0002level0_row20\" class=\"row_heading level0 row20\" >20</th>\n",
              "                        <td id=\"T_8a86207a_497d_11eb_90df_0242ac1c0002row20_col0\" class=\"data row20 col0\" >0.000000</td>\n",
              "                        <td id=\"T_8a86207a_497d_11eb_90df_0242ac1c0002row20_col1\" class=\"data row20 col1\" >0.000000</td>\n",
              "                        <td id=\"T_8a86207a_497d_11eb_90df_0242ac1c0002row20_col2\" class=\"data row20 col2\" >0.000000</td>\n",
              "                        <td id=\"T_8a86207a_497d_11eb_90df_0242ac1c0002row20_col3\" class=\"data row20 col3\" >0.000000</td>\n",
              "                        <td id=\"T_8a86207a_497d_11eb_90df_0242ac1c0002row20_col4\" class=\"data row20 col4\" >0.000000</td>\n",
              "                        <td id=\"T_8a86207a_497d_11eb_90df_0242ac1c0002row20_col5\" class=\"data row20 col5\" >0.000000</td>\n",
              "                        <td id=\"T_8a86207a_497d_11eb_90df_0242ac1c0002row20_col6\" class=\"data row20 col6\" >0.000000</td>\n",
              "                        <td id=\"T_8a86207a_497d_11eb_90df_0242ac1c0002row20_col7\" class=\"data row20 col7\" >0.000000</td>\n",
              "                        <td id=\"T_8a86207a_497d_11eb_90df_0242ac1c0002row20_col8\" class=\"data row20 col8\" >0.000000</td>\n",
              "                        <td id=\"T_8a86207a_497d_11eb_90df_0242ac1c0002row20_col9\" class=\"data row20 col9\" >0.000000</td>\n",
              "                        <td id=\"T_8a86207a_497d_11eb_90df_0242ac1c0002row20_col10\" class=\"data row20 col10\" >0.258824</td>\n",
              "                        <td id=\"T_8a86207a_497d_11eb_90df_0242ac1c0002row20_col11\" class=\"data row20 col11\" >0.988235</td>\n",
              "                        <td id=\"T_8a86207a_497d_11eb_90df_0242ac1c0002row20_col12\" class=\"data row20 col12\" >0.996078</td>\n",
              "                        <td id=\"T_8a86207a_497d_11eb_90df_0242ac1c0002row20_col13\" class=\"data row20 col13\" >0.988235</td>\n",
              "                        <td id=\"T_8a86207a_497d_11eb_90df_0242ac1c0002row20_col14\" class=\"data row20 col14\" >0.568627</td>\n",
              "                        <td id=\"T_8a86207a_497d_11eb_90df_0242ac1c0002row20_col15\" class=\"data row20 col15\" >0.000000</td>\n",
              "                        <td id=\"T_8a86207a_497d_11eb_90df_0242ac1c0002row20_col16\" class=\"data row20 col16\" >0.000000</td>\n",
              "                        <td id=\"T_8a86207a_497d_11eb_90df_0242ac1c0002row20_col17\" class=\"data row20 col17\" >0.000000</td>\n",
              "                        <td id=\"T_8a86207a_497d_11eb_90df_0242ac1c0002row20_col18\" class=\"data row20 col18\" >0.000000</td>\n",
              "                        <td id=\"T_8a86207a_497d_11eb_90df_0242ac1c0002row20_col19\" class=\"data row20 col19\" >0.000000</td>\n",
              "                        <td id=\"T_8a86207a_497d_11eb_90df_0242ac1c0002row20_col20\" class=\"data row20 col20\" >0.000000</td>\n",
              "                        <td id=\"T_8a86207a_497d_11eb_90df_0242ac1c0002row20_col21\" class=\"data row20 col21\" >0.000000</td>\n",
              "                        <td id=\"T_8a86207a_497d_11eb_90df_0242ac1c0002row20_col22\" class=\"data row20 col22\" >0.000000</td>\n",
              "                        <td id=\"T_8a86207a_497d_11eb_90df_0242ac1c0002row20_col23\" class=\"data row20 col23\" >0.000000</td>\n",
              "                        <td id=\"T_8a86207a_497d_11eb_90df_0242ac1c0002row20_col24\" class=\"data row20 col24\" >0.000000</td>\n",
              "                        <td id=\"T_8a86207a_497d_11eb_90df_0242ac1c0002row20_col25\" class=\"data row20 col25\" >0.000000</td>\n",
              "                        <td id=\"T_8a86207a_497d_11eb_90df_0242ac1c0002row20_col26\" class=\"data row20 col26\" >0.000000</td>\n",
              "                        <td id=\"T_8a86207a_497d_11eb_90df_0242ac1c0002row20_col27\" class=\"data row20 col27\" >0.000000</td>\n",
              "            </tr>\n",
              "            <tr>\n",
              "                        <th id=\"T_8a86207a_497d_11eb_90df_0242ac1c0002level0_row21\" class=\"row_heading level0 row21\" >21</th>\n",
              "                        <td id=\"T_8a86207a_497d_11eb_90df_0242ac1c0002row21_col0\" class=\"data row21 col0\" >0.000000</td>\n",
              "                        <td id=\"T_8a86207a_497d_11eb_90df_0242ac1c0002row21_col1\" class=\"data row21 col1\" >0.000000</td>\n",
              "                        <td id=\"T_8a86207a_497d_11eb_90df_0242ac1c0002row21_col2\" class=\"data row21 col2\" >0.000000</td>\n",
              "                        <td id=\"T_8a86207a_497d_11eb_90df_0242ac1c0002row21_col3\" class=\"data row21 col3\" >0.000000</td>\n",
              "                        <td id=\"T_8a86207a_497d_11eb_90df_0242ac1c0002row21_col4\" class=\"data row21 col4\" >0.000000</td>\n",
              "                        <td id=\"T_8a86207a_497d_11eb_90df_0242ac1c0002row21_col5\" class=\"data row21 col5\" >0.000000</td>\n",
              "                        <td id=\"T_8a86207a_497d_11eb_90df_0242ac1c0002row21_col6\" class=\"data row21 col6\" >0.000000</td>\n",
              "                        <td id=\"T_8a86207a_497d_11eb_90df_0242ac1c0002row21_col7\" class=\"data row21 col7\" >0.000000</td>\n",
              "                        <td id=\"T_8a86207a_497d_11eb_90df_0242ac1c0002row21_col8\" class=\"data row21 col8\" >0.000000</td>\n",
              "                        <td id=\"T_8a86207a_497d_11eb_90df_0242ac1c0002row21_col9\" class=\"data row21 col9\" >0.266667</td>\n",
              "                        <td id=\"T_8a86207a_497d_11eb_90df_0242ac1c0002row21_col10\" class=\"data row21 col10\" >0.980392</td>\n",
              "                        <td id=\"T_8a86207a_497d_11eb_90df_0242ac1c0002row21_col11\" class=\"data row21 col11\" >0.996078</td>\n",
              "                        <td id=\"T_8a86207a_497d_11eb_90df_0242ac1c0002row21_col12\" class=\"data row21 col12\" >0.988235</td>\n",
              "                        <td id=\"T_8a86207a_497d_11eb_90df_0242ac1c0002row21_col13\" class=\"data row21 col13\" >0.670588</td>\n",
              "                        <td id=\"T_8a86207a_497d_11eb_90df_0242ac1c0002row21_col14\" class=\"data row21 col14\" >0.000000</td>\n",
              "                        <td id=\"T_8a86207a_497d_11eb_90df_0242ac1c0002row21_col15\" class=\"data row21 col15\" >0.000000</td>\n",
              "                        <td id=\"T_8a86207a_497d_11eb_90df_0242ac1c0002row21_col16\" class=\"data row21 col16\" >0.000000</td>\n",
              "                        <td id=\"T_8a86207a_497d_11eb_90df_0242ac1c0002row21_col17\" class=\"data row21 col17\" >0.000000</td>\n",
              "                        <td id=\"T_8a86207a_497d_11eb_90df_0242ac1c0002row21_col18\" class=\"data row21 col18\" >0.000000</td>\n",
              "                        <td id=\"T_8a86207a_497d_11eb_90df_0242ac1c0002row21_col19\" class=\"data row21 col19\" >0.000000</td>\n",
              "                        <td id=\"T_8a86207a_497d_11eb_90df_0242ac1c0002row21_col20\" class=\"data row21 col20\" >0.000000</td>\n",
              "                        <td id=\"T_8a86207a_497d_11eb_90df_0242ac1c0002row21_col21\" class=\"data row21 col21\" >0.000000</td>\n",
              "                        <td id=\"T_8a86207a_497d_11eb_90df_0242ac1c0002row21_col22\" class=\"data row21 col22\" >0.000000</td>\n",
              "                        <td id=\"T_8a86207a_497d_11eb_90df_0242ac1c0002row21_col23\" class=\"data row21 col23\" >0.000000</td>\n",
              "                        <td id=\"T_8a86207a_497d_11eb_90df_0242ac1c0002row21_col24\" class=\"data row21 col24\" >0.000000</td>\n",
              "                        <td id=\"T_8a86207a_497d_11eb_90df_0242ac1c0002row21_col25\" class=\"data row21 col25\" >0.000000</td>\n",
              "                        <td id=\"T_8a86207a_497d_11eb_90df_0242ac1c0002row21_col26\" class=\"data row21 col26\" >0.000000</td>\n",
              "                        <td id=\"T_8a86207a_497d_11eb_90df_0242ac1c0002row21_col27\" class=\"data row21 col27\" >0.000000</td>\n",
              "            </tr>\n",
              "            <tr>\n",
              "                        <th id=\"T_8a86207a_497d_11eb_90df_0242ac1c0002level0_row22\" class=\"row_heading level0 row22\" >22</th>\n",
              "                        <td id=\"T_8a86207a_497d_11eb_90df_0242ac1c0002row22_col0\" class=\"data row22 col0\" >0.000000</td>\n",
              "                        <td id=\"T_8a86207a_497d_11eb_90df_0242ac1c0002row22_col1\" class=\"data row22 col1\" >0.000000</td>\n",
              "                        <td id=\"T_8a86207a_497d_11eb_90df_0242ac1c0002row22_col2\" class=\"data row22 col2\" >0.000000</td>\n",
              "                        <td id=\"T_8a86207a_497d_11eb_90df_0242ac1c0002row22_col3\" class=\"data row22 col3\" >0.000000</td>\n",
              "                        <td id=\"T_8a86207a_497d_11eb_90df_0242ac1c0002row22_col4\" class=\"data row22 col4\" >0.000000</td>\n",
              "                        <td id=\"T_8a86207a_497d_11eb_90df_0242ac1c0002row22_col5\" class=\"data row22 col5\" >0.000000</td>\n",
              "                        <td id=\"T_8a86207a_497d_11eb_90df_0242ac1c0002row22_col6\" class=\"data row22 col6\" >0.000000</td>\n",
              "                        <td id=\"T_8a86207a_497d_11eb_90df_0242ac1c0002row22_col7\" class=\"data row22 col7\" >0.000000</td>\n",
              "                        <td id=\"T_8a86207a_497d_11eb_90df_0242ac1c0002row22_col8\" class=\"data row22 col8\" >0.211765</td>\n",
              "                        <td id=\"T_8a86207a_497d_11eb_90df_0242ac1c0002row22_col9\" class=\"data row22 col9\" >0.976471</td>\n",
              "                        <td id=\"T_8a86207a_497d_11eb_90df_0242ac1c0002row22_col10\" class=\"data row22 col10\" >0.996078</td>\n",
              "                        <td id=\"T_8a86207a_497d_11eb_90df_0242ac1c0002row22_col11\" class=\"data row22 col11\" >0.996078</td>\n",
              "                        <td id=\"T_8a86207a_497d_11eb_90df_0242ac1c0002row22_col12\" class=\"data row22 col12\" >0.823529</td>\n",
              "                        <td id=\"T_8a86207a_497d_11eb_90df_0242ac1c0002row22_col13\" class=\"data row22 col13\" >0.000000</td>\n",
              "                        <td id=\"T_8a86207a_497d_11eb_90df_0242ac1c0002row22_col14\" class=\"data row22 col14\" >0.000000</td>\n",
              "                        <td id=\"T_8a86207a_497d_11eb_90df_0242ac1c0002row22_col15\" class=\"data row22 col15\" >0.000000</td>\n",
              "                        <td id=\"T_8a86207a_497d_11eb_90df_0242ac1c0002row22_col16\" class=\"data row22 col16\" >0.000000</td>\n",
              "                        <td id=\"T_8a86207a_497d_11eb_90df_0242ac1c0002row22_col17\" class=\"data row22 col17\" >0.000000</td>\n",
              "                        <td id=\"T_8a86207a_497d_11eb_90df_0242ac1c0002row22_col18\" class=\"data row22 col18\" >0.000000</td>\n",
              "                        <td id=\"T_8a86207a_497d_11eb_90df_0242ac1c0002row22_col19\" class=\"data row22 col19\" >0.000000</td>\n",
              "                        <td id=\"T_8a86207a_497d_11eb_90df_0242ac1c0002row22_col20\" class=\"data row22 col20\" >0.000000</td>\n",
              "                        <td id=\"T_8a86207a_497d_11eb_90df_0242ac1c0002row22_col21\" class=\"data row22 col21\" >0.000000</td>\n",
              "                        <td id=\"T_8a86207a_497d_11eb_90df_0242ac1c0002row22_col22\" class=\"data row22 col22\" >0.000000</td>\n",
              "                        <td id=\"T_8a86207a_497d_11eb_90df_0242ac1c0002row22_col23\" class=\"data row22 col23\" >0.000000</td>\n",
              "                        <td id=\"T_8a86207a_497d_11eb_90df_0242ac1c0002row22_col24\" class=\"data row22 col24\" >0.000000</td>\n",
              "                        <td id=\"T_8a86207a_497d_11eb_90df_0242ac1c0002row22_col25\" class=\"data row22 col25\" >0.000000</td>\n",
              "                        <td id=\"T_8a86207a_497d_11eb_90df_0242ac1c0002row22_col26\" class=\"data row22 col26\" >0.000000</td>\n",
              "                        <td id=\"T_8a86207a_497d_11eb_90df_0242ac1c0002row22_col27\" class=\"data row22 col27\" >0.000000</td>\n",
              "            </tr>\n",
              "            <tr>\n",
              "                        <th id=\"T_8a86207a_497d_11eb_90df_0242ac1c0002level0_row23\" class=\"row_heading level0 row23\" >23</th>\n",
              "                        <td id=\"T_8a86207a_497d_11eb_90df_0242ac1c0002row23_col0\" class=\"data row23 col0\" >0.000000</td>\n",
              "                        <td id=\"T_8a86207a_497d_11eb_90df_0242ac1c0002row23_col1\" class=\"data row23 col1\" >0.000000</td>\n",
              "                        <td id=\"T_8a86207a_497d_11eb_90df_0242ac1c0002row23_col2\" class=\"data row23 col2\" >0.000000</td>\n",
              "                        <td id=\"T_8a86207a_497d_11eb_90df_0242ac1c0002row23_col3\" class=\"data row23 col3\" >0.000000</td>\n",
              "                        <td id=\"T_8a86207a_497d_11eb_90df_0242ac1c0002row23_col4\" class=\"data row23 col4\" >0.000000</td>\n",
              "                        <td id=\"T_8a86207a_497d_11eb_90df_0242ac1c0002row23_col5\" class=\"data row23 col5\" >0.000000</td>\n",
              "                        <td id=\"T_8a86207a_497d_11eb_90df_0242ac1c0002row23_col6\" class=\"data row23 col6\" >0.000000</td>\n",
              "                        <td id=\"T_8a86207a_497d_11eb_90df_0242ac1c0002row23_col7\" class=\"data row23 col7\" >0.219608</td>\n",
              "                        <td id=\"T_8a86207a_497d_11eb_90df_0242ac1c0002row23_col8\" class=\"data row23 col8\" >0.874510</td>\n",
              "                        <td id=\"T_8a86207a_497d_11eb_90df_0242ac1c0002row23_col9\" class=\"data row23 col9\" >0.996078</td>\n",
              "                        <td id=\"T_8a86207a_497d_11eb_90df_0242ac1c0002row23_col10\" class=\"data row23 col10\" >0.996078</td>\n",
              "                        <td id=\"T_8a86207a_497d_11eb_90df_0242ac1c0002row23_col11\" class=\"data row23 col11\" >0.741176</td>\n",
              "                        <td id=\"T_8a86207a_497d_11eb_90df_0242ac1c0002row23_col12\" class=\"data row23 col12\" >0.043137</td>\n",
              "                        <td id=\"T_8a86207a_497d_11eb_90df_0242ac1c0002row23_col13\" class=\"data row23 col13\" >0.000000</td>\n",
              "                        <td id=\"T_8a86207a_497d_11eb_90df_0242ac1c0002row23_col14\" class=\"data row23 col14\" >0.000000</td>\n",
              "                        <td id=\"T_8a86207a_497d_11eb_90df_0242ac1c0002row23_col15\" class=\"data row23 col15\" >0.000000</td>\n",
              "                        <td id=\"T_8a86207a_497d_11eb_90df_0242ac1c0002row23_col16\" class=\"data row23 col16\" >0.000000</td>\n",
              "                        <td id=\"T_8a86207a_497d_11eb_90df_0242ac1c0002row23_col17\" class=\"data row23 col17\" >0.000000</td>\n",
              "                        <td id=\"T_8a86207a_497d_11eb_90df_0242ac1c0002row23_col18\" class=\"data row23 col18\" >0.000000</td>\n",
              "                        <td id=\"T_8a86207a_497d_11eb_90df_0242ac1c0002row23_col19\" class=\"data row23 col19\" >0.000000</td>\n",
              "                        <td id=\"T_8a86207a_497d_11eb_90df_0242ac1c0002row23_col20\" class=\"data row23 col20\" >0.000000</td>\n",
              "                        <td id=\"T_8a86207a_497d_11eb_90df_0242ac1c0002row23_col21\" class=\"data row23 col21\" >0.000000</td>\n",
              "                        <td id=\"T_8a86207a_497d_11eb_90df_0242ac1c0002row23_col22\" class=\"data row23 col22\" >0.000000</td>\n",
              "                        <td id=\"T_8a86207a_497d_11eb_90df_0242ac1c0002row23_col23\" class=\"data row23 col23\" >0.000000</td>\n",
              "                        <td id=\"T_8a86207a_497d_11eb_90df_0242ac1c0002row23_col24\" class=\"data row23 col24\" >0.000000</td>\n",
              "                        <td id=\"T_8a86207a_497d_11eb_90df_0242ac1c0002row23_col25\" class=\"data row23 col25\" >0.000000</td>\n",
              "                        <td id=\"T_8a86207a_497d_11eb_90df_0242ac1c0002row23_col26\" class=\"data row23 col26\" >0.000000</td>\n",
              "                        <td id=\"T_8a86207a_497d_11eb_90df_0242ac1c0002row23_col27\" class=\"data row23 col27\" >0.000000</td>\n",
              "            </tr>\n",
              "            <tr>\n",
              "                        <th id=\"T_8a86207a_497d_11eb_90df_0242ac1c0002level0_row24\" class=\"row_heading level0 row24\" >24</th>\n",
              "                        <td id=\"T_8a86207a_497d_11eb_90df_0242ac1c0002row24_col0\" class=\"data row24 col0\" >0.000000</td>\n",
              "                        <td id=\"T_8a86207a_497d_11eb_90df_0242ac1c0002row24_col1\" class=\"data row24 col1\" >0.000000</td>\n",
              "                        <td id=\"T_8a86207a_497d_11eb_90df_0242ac1c0002row24_col2\" class=\"data row24 col2\" >0.000000</td>\n",
              "                        <td id=\"T_8a86207a_497d_11eb_90df_0242ac1c0002row24_col3\" class=\"data row24 col3\" >0.000000</td>\n",
              "                        <td id=\"T_8a86207a_497d_11eb_90df_0242ac1c0002row24_col4\" class=\"data row24 col4\" >0.000000</td>\n",
              "                        <td id=\"T_8a86207a_497d_11eb_90df_0242ac1c0002row24_col5\" class=\"data row24 col5\" >0.000000</td>\n",
              "                        <td id=\"T_8a86207a_497d_11eb_90df_0242ac1c0002row24_col6\" class=\"data row24 col6\" >0.247059</td>\n",
              "                        <td id=\"T_8a86207a_497d_11eb_90df_0242ac1c0002row24_col7\" class=\"data row24 col7\" >0.905882</td>\n",
              "                        <td id=\"T_8a86207a_497d_11eb_90df_0242ac1c0002row24_col8\" class=\"data row24 col8\" >0.996078</td>\n",
              "                        <td id=\"T_8a86207a_497d_11eb_90df_0242ac1c0002row24_col9\" class=\"data row24 col9\" >0.996078</td>\n",
              "                        <td id=\"T_8a86207a_497d_11eb_90df_0242ac1c0002row24_col10\" class=\"data row24 col10\" >0.827451</td>\n",
              "                        <td id=\"T_8a86207a_497d_11eb_90df_0242ac1c0002row24_col11\" class=\"data row24 col11\" >0.043137</td>\n",
              "                        <td id=\"T_8a86207a_497d_11eb_90df_0242ac1c0002row24_col12\" class=\"data row24 col12\" >0.000000</td>\n",
              "                        <td id=\"T_8a86207a_497d_11eb_90df_0242ac1c0002row24_col13\" class=\"data row24 col13\" >0.000000</td>\n",
              "                        <td id=\"T_8a86207a_497d_11eb_90df_0242ac1c0002row24_col14\" class=\"data row24 col14\" >0.000000</td>\n",
              "                        <td id=\"T_8a86207a_497d_11eb_90df_0242ac1c0002row24_col15\" class=\"data row24 col15\" >0.000000</td>\n",
              "                        <td id=\"T_8a86207a_497d_11eb_90df_0242ac1c0002row24_col16\" class=\"data row24 col16\" >0.000000</td>\n",
              "                        <td id=\"T_8a86207a_497d_11eb_90df_0242ac1c0002row24_col17\" class=\"data row24 col17\" >0.000000</td>\n",
              "                        <td id=\"T_8a86207a_497d_11eb_90df_0242ac1c0002row24_col18\" class=\"data row24 col18\" >0.000000</td>\n",
              "                        <td id=\"T_8a86207a_497d_11eb_90df_0242ac1c0002row24_col19\" class=\"data row24 col19\" >0.000000</td>\n",
              "                        <td id=\"T_8a86207a_497d_11eb_90df_0242ac1c0002row24_col20\" class=\"data row24 col20\" >0.000000</td>\n",
              "                        <td id=\"T_8a86207a_497d_11eb_90df_0242ac1c0002row24_col21\" class=\"data row24 col21\" >0.000000</td>\n",
              "                        <td id=\"T_8a86207a_497d_11eb_90df_0242ac1c0002row24_col22\" class=\"data row24 col22\" >0.000000</td>\n",
              "                        <td id=\"T_8a86207a_497d_11eb_90df_0242ac1c0002row24_col23\" class=\"data row24 col23\" >0.000000</td>\n",
              "                        <td id=\"T_8a86207a_497d_11eb_90df_0242ac1c0002row24_col24\" class=\"data row24 col24\" >0.000000</td>\n",
              "                        <td id=\"T_8a86207a_497d_11eb_90df_0242ac1c0002row24_col25\" class=\"data row24 col25\" >0.000000</td>\n",
              "                        <td id=\"T_8a86207a_497d_11eb_90df_0242ac1c0002row24_col26\" class=\"data row24 col26\" >0.000000</td>\n",
              "                        <td id=\"T_8a86207a_497d_11eb_90df_0242ac1c0002row24_col27\" class=\"data row24 col27\" >0.000000</td>\n",
              "            </tr>\n",
              "            <tr>\n",
              "                        <th id=\"T_8a86207a_497d_11eb_90df_0242ac1c0002level0_row25\" class=\"row_heading level0 row25\" >25</th>\n",
              "                        <td id=\"T_8a86207a_497d_11eb_90df_0242ac1c0002row25_col0\" class=\"data row25 col0\" >0.000000</td>\n",
              "                        <td id=\"T_8a86207a_497d_11eb_90df_0242ac1c0002row25_col1\" class=\"data row25 col1\" >0.000000</td>\n",
              "                        <td id=\"T_8a86207a_497d_11eb_90df_0242ac1c0002row25_col2\" class=\"data row25 col2\" >0.000000</td>\n",
              "                        <td id=\"T_8a86207a_497d_11eb_90df_0242ac1c0002row25_col3\" class=\"data row25 col3\" >0.000000</td>\n",
              "                        <td id=\"T_8a86207a_497d_11eb_90df_0242ac1c0002row25_col4\" class=\"data row25 col4\" >0.000000</td>\n",
              "                        <td id=\"T_8a86207a_497d_11eb_90df_0242ac1c0002row25_col5\" class=\"data row25 col5\" >0.133333</td>\n",
              "                        <td id=\"T_8a86207a_497d_11eb_90df_0242ac1c0002row25_col6\" class=\"data row25 col6\" >0.886275</td>\n",
              "                        <td id=\"T_8a86207a_497d_11eb_90df_0242ac1c0002row25_col7\" class=\"data row25 col7\" >0.996078</td>\n",
              "                        <td id=\"T_8a86207a_497d_11eb_90df_0242ac1c0002row25_col8\" class=\"data row25 col8\" >0.996078</td>\n",
              "                        <td id=\"T_8a86207a_497d_11eb_90df_0242ac1c0002row25_col9\" class=\"data row25 col9\" >0.819608</td>\n",
              "                        <td id=\"T_8a86207a_497d_11eb_90df_0242ac1c0002row25_col10\" class=\"data row25 col10\" >0.082353</td>\n",
              "                        <td id=\"T_8a86207a_497d_11eb_90df_0242ac1c0002row25_col11\" class=\"data row25 col11\" >0.000000</td>\n",
              "                        <td id=\"T_8a86207a_497d_11eb_90df_0242ac1c0002row25_col12\" class=\"data row25 col12\" >0.000000</td>\n",
              "                        <td id=\"T_8a86207a_497d_11eb_90df_0242ac1c0002row25_col13\" class=\"data row25 col13\" >0.000000</td>\n",
              "                        <td id=\"T_8a86207a_497d_11eb_90df_0242ac1c0002row25_col14\" class=\"data row25 col14\" >0.000000</td>\n",
              "                        <td id=\"T_8a86207a_497d_11eb_90df_0242ac1c0002row25_col15\" class=\"data row25 col15\" >0.000000</td>\n",
              "                        <td id=\"T_8a86207a_497d_11eb_90df_0242ac1c0002row25_col16\" class=\"data row25 col16\" >0.000000</td>\n",
              "                        <td id=\"T_8a86207a_497d_11eb_90df_0242ac1c0002row25_col17\" class=\"data row25 col17\" >0.000000</td>\n",
              "                        <td id=\"T_8a86207a_497d_11eb_90df_0242ac1c0002row25_col18\" class=\"data row25 col18\" >0.000000</td>\n",
              "                        <td id=\"T_8a86207a_497d_11eb_90df_0242ac1c0002row25_col19\" class=\"data row25 col19\" >0.000000</td>\n",
              "                        <td id=\"T_8a86207a_497d_11eb_90df_0242ac1c0002row25_col20\" class=\"data row25 col20\" >0.000000</td>\n",
              "                        <td id=\"T_8a86207a_497d_11eb_90df_0242ac1c0002row25_col21\" class=\"data row25 col21\" >0.000000</td>\n",
              "                        <td id=\"T_8a86207a_497d_11eb_90df_0242ac1c0002row25_col22\" class=\"data row25 col22\" >0.000000</td>\n",
              "                        <td id=\"T_8a86207a_497d_11eb_90df_0242ac1c0002row25_col23\" class=\"data row25 col23\" >0.000000</td>\n",
              "                        <td id=\"T_8a86207a_497d_11eb_90df_0242ac1c0002row25_col24\" class=\"data row25 col24\" >0.000000</td>\n",
              "                        <td id=\"T_8a86207a_497d_11eb_90df_0242ac1c0002row25_col25\" class=\"data row25 col25\" >0.000000</td>\n",
              "                        <td id=\"T_8a86207a_497d_11eb_90df_0242ac1c0002row25_col26\" class=\"data row25 col26\" >0.000000</td>\n",
              "                        <td id=\"T_8a86207a_497d_11eb_90df_0242ac1c0002row25_col27\" class=\"data row25 col27\" >0.000000</td>\n",
              "            </tr>\n",
              "            <tr>\n",
              "                        <th id=\"T_8a86207a_497d_11eb_90df_0242ac1c0002level0_row26\" class=\"row_heading level0 row26\" >26</th>\n",
              "                        <td id=\"T_8a86207a_497d_11eb_90df_0242ac1c0002row26_col0\" class=\"data row26 col0\" >0.000000</td>\n",
              "                        <td id=\"T_8a86207a_497d_11eb_90df_0242ac1c0002row26_col1\" class=\"data row26 col1\" >0.000000</td>\n",
              "                        <td id=\"T_8a86207a_497d_11eb_90df_0242ac1c0002row26_col2\" class=\"data row26 col2\" >0.000000</td>\n",
              "                        <td id=\"T_8a86207a_497d_11eb_90df_0242ac1c0002row26_col3\" class=\"data row26 col3\" >0.000000</td>\n",
              "                        <td id=\"T_8a86207a_497d_11eb_90df_0242ac1c0002row26_col4\" class=\"data row26 col4\" >0.000000</td>\n",
              "                        <td id=\"T_8a86207a_497d_11eb_90df_0242ac1c0002row26_col5\" class=\"data row26 col5\" >0.000000</td>\n",
              "                        <td id=\"T_8a86207a_497d_11eb_90df_0242ac1c0002row26_col6\" class=\"data row26 col6\" >0.000000</td>\n",
              "                        <td id=\"T_8a86207a_497d_11eb_90df_0242ac1c0002row26_col7\" class=\"data row26 col7\" >0.000000</td>\n",
              "                        <td id=\"T_8a86207a_497d_11eb_90df_0242ac1c0002row26_col8\" class=\"data row26 col8\" >0.000000</td>\n",
              "                        <td id=\"T_8a86207a_497d_11eb_90df_0242ac1c0002row26_col9\" class=\"data row26 col9\" >0.000000</td>\n",
              "                        <td id=\"T_8a86207a_497d_11eb_90df_0242ac1c0002row26_col10\" class=\"data row26 col10\" >0.000000</td>\n",
              "                        <td id=\"T_8a86207a_497d_11eb_90df_0242ac1c0002row26_col11\" class=\"data row26 col11\" >0.000000</td>\n",
              "                        <td id=\"T_8a86207a_497d_11eb_90df_0242ac1c0002row26_col12\" class=\"data row26 col12\" >0.000000</td>\n",
              "                        <td id=\"T_8a86207a_497d_11eb_90df_0242ac1c0002row26_col13\" class=\"data row26 col13\" >0.000000</td>\n",
              "                        <td id=\"T_8a86207a_497d_11eb_90df_0242ac1c0002row26_col14\" class=\"data row26 col14\" >0.000000</td>\n",
              "                        <td id=\"T_8a86207a_497d_11eb_90df_0242ac1c0002row26_col15\" class=\"data row26 col15\" >0.000000</td>\n",
              "                        <td id=\"T_8a86207a_497d_11eb_90df_0242ac1c0002row26_col16\" class=\"data row26 col16\" >0.000000</td>\n",
              "                        <td id=\"T_8a86207a_497d_11eb_90df_0242ac1c0002row26_col17\" class=\"data row26 col17\" >0.000000</td>\n",
              "                        <td id=\"T_8a86207a_497d_11eb_90df_0242ac1c0002row26_col18\" class=\"data row26 col18\" >0.000000</td>\n",
              "                        <td id=\"T_8a86207a_497d_11eb_90df_0242ac1c0002row26_col19\" class=\"data row26 col19\" >0.000000</td>\n",
              "                        <td id=\"T_8a86207a_497d_11eb_90df_0242ac1c0002row26_col20\" class=\"data row26 col20\" >0.000000</td>\n",
              "                        <td id=\"T_8a86207a_497d_11eb_90df_0242ac1c0002row26_col21\" class=\"data row26 col21\" >0.000000</td>\n",
              "                        <td id=\"T_8a86207a_497d_11eb_90df_0242ac1c0002row26_col22\" class=\"data row26 col22\" >0.000000</td>\n",
              "                        <td id=\"T_8a86207a_497d_11eb_90df_0242ac1c0002row26_col23\" class=\"data row26 col23\" >0.000000</td>\n",
              "                        <td id=\"T_8a86207a_497d_11eb_90df_0242ac1c0002row26_col24\" class=\"data row26 col24\" >0.000000</td>\n",
              "                        <td id=\"T_8a86207a_497d_11eb_90df_0242ac1c0002row26_col25\" class=\"data row26 col25\" >0.000000</td>\n",
              "                        <td id=\"T_8a86207a_497d_11eb_90df_0242ac1c0002row26_col26\" class=\"data row26 col26\" >0.000000</td>\n",
              "                        <td id=\"T_8a86207a_497d_11eb_90df_0242ac1c0002row26_col27\" class=\"data row26 col27\" >0.000000</td>\n",
              "            </tr>\n",
              "            <tr>\n",
              "                        <th id=\"T_8a86207a_497d_11eb_90df_0242ac1c0002level0_row27\" class=\"row_heading level0 row27\" >27</th>\n",
              "                        <td id=\"T_8a86207a_497d_11eb_90df_0242ac1c0002row27_col0\" class=\"data row27 col0\" >0.000000</td>\n",
              "                        <td id=\"T_8a86207a_497d_11eb_90df_0242ac1c0002row27_col1\" class=\"data row27 col1\" >0.000000</td>\n",
              "                        <td id=\"T_8a86207a_497d_11eb_90df_0242ac1c0002row27_col2\" class=\"data row27 col2\" >0.000000</td>\n",
              "                        <td id=\"T_8a86207a_497d_11eb_90df_0242ac1c0002row27_col3\" class=\"data row27 col3\" >0.000000</td>\n",
              "                        <td id=\"T_8a86207a_497d_11eb_90df_0242ac1c0002row27_col4\" class=\"data row27 col4\" >0.000000</td>\n",
              "                        <td id=\"T_8a86207a_497d_11eb_90df_0242ac1c0002row27_col5\" class=\"data row27 col5\" >0.000000</td>\n",
              "                        <td id=\"T_8a86207a_497d_11eb_90df_0242ac1c0002row27_col6\" class=\"data row27 col6\" >0.000000</td>\n",
              "                        <td id=\"T_8a86207a_497d_11eb_90df_0242ac1c0002row27_col7\" class=\"data row27 col7\" >0.000000</td>\n",
              "                        <td id=\"T_8a86207a_497d_11eb_90df_0242ac1c0002row27_col8\" class=\"data row27 col8\" >0.000000</td>\n",
              "                        <td id=\"T_8a86207a_497d_11eb_90df_0242ac1c0002row27_col9\" class=\"data row27 col9\" >0.000000</td>\n",
              "                        <td id=\"T_8a86207a_497d_11eb_90df_0242ac1c0002row27_col10\" class=\"data row27 col10\" >0.000000</td>\n",
              "                        <td id=\"T_8a86207a_497d_11eb_90df_0242ac1c0002row27_col11\" class=\"data row27 col11\" >0.000000</td>\n",
              "                        <td id=\"T_8a86207a_497d_11eb_90df_0242ac1c0002row27_col12\" class=\"data row27 col12\" >0.000000</td>\n",
              "                        <td id=\"T_8a86207a_497d_11eb_90df_0242ac1c0002row27_col13\" class=\"data row27 col13\" >0.000000</td>\n",
              "                        <td id=\"T_8a86207a_497d_11eb_90df_0242ac1c0002row27_col14\" class=\"data row27 col14\" >0.000000</td>\n",
              "                        <td id=\"T_8a86207a_497d_11eb_90df_0242ac1c0002row27_col15\" class=\"data row27 col15\" >0.000000</td>\n",
              "                        <td id=\"T_8a86207a_497d_11eb_90df_0242ac1c0002row27_col16\" class=\"data row27 col16\" >0.000000</td>\n",
              "                        <td id=\"T_8a86207a_497d_11eb_90df_0242ac1c0002row27_col17\" class=\"data row27 col17\" >0.000000</td>\n",
              "                        <td id=\"T_8a86207a_497d_11eb_90df_0242ac1c0002row27_col18\" class=\"data row27 col18\" >0.000000</td>\n",
              "                        <td id=\"T_8a86207a_497d_11eb_90df_0242ac1c0002row27_col19\" class=\"data row27 col19\" >0.000000</td>\n",
              "                        <td id=\"T_8a86207a_497d_11eb_90df_0242ac1c0002row27_col20\" class=\"data row27 col20\" >0.000000</td>\n",
              "                        <td id=\"T_8a86207a_497d_11eb_90df_0242ac1c0002row27_col21\" class=\"data row27 col21\" >0.000000</td>\n",
              "                        <td id=\"T_8a86207a_497d_11eb_90df_0242ac1c0002row27_col22\" class=\"data row27 col22\" >0.000000</td>\n",
              "                        <td id=\"T_8a86207a_497d_11eb_90df_0242ac1c0002row27_col23\" class=\"data row27 col23\" >0.000000</td>\n",
              "                        <td id=\"T_8a86207a_497d_11eb_90df_0242ac1c0002row27_col24\" class=\"data row27 col24\" >0.000000</td>\n",
              "                        <td id=\"T_8a86207a_497d_11eb_90df_0242ac1c0002row27_col25\" class=\"data row27 col25\" >0.000000</td>\n",
              "                        <td id=\"T_8a86207a_497d_11eb_90df_0242ac1c0002row27_col26\" class=\"data row27 col26\" >0.000000</td>\n",
              "                        <td id=\"T_8a86207a_497d_11eb_90df_0242ac1c0002row27_col27\" class=\"data row27 col27\" >0.000000</td>\n",
              "            </tr>\n",
              "    </tbody></table>"
            ],
            "text/plain": [
              "<pandas.io.formats.style.Styler at 0x7f46fc866160>"
            ]
          },
          "metadata": {
            "tags": []
          },
          "execution_count": 16
        }
      ]
    },
    {
      "cell_type": "markdown",
      "metadata": {
        "id": "sYtp5LOP9Rkj"
      },
      "source": [
        "### Creating datasets that are compatible with PyTorch requirements"
      ]
    },
    {
      "cell_type": "code",
      "metadata": {
        "id": "KWYrAoa9_SWe"
      },
      "source": [
        "# Taking the stacked tensors from the training set, combining them and changing the shape of the combined tensor to a 2D matrix\n",
        "train_x = torch.cat([stacked_threes, stacked_sevens]).view(-1, 28*28)"
      ],
      "execution_count": null,
      "outputs": []
    },
    {
      "cell_type": "code",
      "metadata": {
        "colab": {
          "base_uri": "https://localhost:8080/"
        },
        "id": "Qr5nWv7V_3po",
        "outputId": "91ac63dc-a64c-4db7-d35c-60b20205e362"
      },
      "source": [
        "train_x.shape"
      ],
      "execution_count": null,
      "outputs": [
        {
          "output_type": "execute_result",
          "data": {
            "text/plain": [
              "torch.Size([12396, 784])"
            ]
          },
          "metadata": {
            "tags": []
          },
          "execution_count": 18
        }
      ]
    },
    {
      "cell_type": "code",
      "metadata": {
        "id": "1cF8ZCiiALrC"
      },
      "source": [
        "train_y = tensor([0]*len(stacked_threes) + [1]*len(stacked_sevens)).unsqueeze(1)"
      ],
      "execution_count": null,
      "outputs": []
    },
    {
      "cell_type": "code",
      "metadata": {
        "colab": {
          "base_uri": "https://localhost:8080/"
        },
        "id": "lhIOhJEzAq1z",
        "outputId": "a3e0918c-3488-40f1-f87e-6aa0ce40aead"
      },
      "source": [
        "train_y.shape"
      ],
      "execution_count": null,
      "outputs": [
        {
          "output_type": "execute_result",
          "data": {
            "text/plain": [
              "torch.Size([12396, 1])"
            ]
          },
          "metadata": {
            "tags": []
          },
          "execution_count": 20
        }
      ]
    },
    {
      "cell_type": "code",
      "metadata": {
        "id": "VnKmuOTg7grV"
      },
      "source": [
        "# Training dataset\n",
        "\n",
        "dset = list(zip(train_x,train_y))"
      ],
      "execution_count": null,
      "outputs": []
    },
    {
      "cell_type": "code",
      "metadata": {
        "colab": {
          "base_uri": "https://localhost:8080/"
        },
        "id": "0TgpNFCfAHdc",
        "outputId": "f785fdc3-7db2-4dc5-8e78-623111e89c9a"
      },
      "source": [
        "# dset is a list...\n",
        "type(dset)"
      ],
      "execution_count": null,
      "outputs": [
        {
          "output_type": "execute_result",
          "data": {
            "text/plain": [
              "list"
            ]
          },
          "metadata": {
            "tags": []
          },
          "execution_count": 22
        }
      ]
    },
    {
      "cell_type": "code",
      "metadata": {
        "colab": {
          "base_uri": "https://localhost:8080/"
        },
        "id": "BrfStYO4BnTe",
        "outputId": "a9cb90fd-e0c5-4cc7-f2de-71648f8beab3"
      },
      "source": [
        "#...of tuples...\n",
        "type(dset[0])"
      ],
      "execution_count": null,
      "outputs": [
        {
          "output_type": "execute_result",
          "data": {
            "text/plain": [
              "tuple"
            ]
          },
          "metadata": {
            "tags": []
          },
          "execution_count": 23
        }
      ]
    },
    {
      "cell_type": "code",
      "metadata": {
        "colab": {
          "base_uri": "https://localhost:8080/"
        },
        "id": "_cMVO19gB3hj",
        "outputId": "c06b7650-d4f6-4b55-f30b-8f284dbae726"
      },
      "source": [
        "#...and each tuple have a tensor...\n",
        "type(dset[0][0]), type(dset[0][1])"
      ],
      "execution_count": null,
      "outputs": [
        {
          "output_type": "execute_result",
          "data": {
            "text/plain": [
              "(torch.Tensor, torch.Tensor)"
            ]
          },
          "metadata": {
            "tags": []
          },
          "execution_count": 24
        }
      ]
    },
    {
      "cell_type": "code",
      "metadata": {
        "id": "IKPREJM6COb-"
      },
      "source": [
        "# Taking the stacked tensors from the training set, combining them and changing the shape of the combined tensor to a 2D matrix\n",
        "valid_x = torch.cat([valid_3_tens, valid_7_tens]).view(-1,28*28)\n",
        "\n",
        "# Labels\n",
        "valid_y = tensor([0]*len(valid_3_tens)+[1]*len(valid_7_tens)).unsqueeze(1)\n",
        "\n",
        "#Validation dataset\n",
        "valid_dset = list(zip(valid_x, valid_y))"
      ],
      "execution_count": null,
      "outputs": []
    },
    {
      "cell_type": "markdown",
      "metadata": {
        "id": "jNg0-hA9HN5x"
      },
      "source": [
        "Datasets dset and valid_dset are ready for use"
      ]
    },
    {
      "cell_type": "code",
      "metadata": {
        "id": "DGigjs50TBHV"
      },
      "source": [
        "dl = DataLoader(dset, batch_size=256)"
      ],
      "execution_count": null,
      "outputs": []
    },
    {
      "cell_type": "code",
      "metadata": {
        "id": "WpmNo7vUTCW-"
      },
      "source": [
        "valid_dl = DataLoader(valid_dset, batch_size=256)"
      ],
      "execution_count": null,
      "outputs": []
    },
    {
      "cell_type": "markdown",
      "metadata": {
        "id": "VMSMF9EIH79h"
      },
      "source": [
        "### Creating a simple linear function"
      ]
    },
    {
      "cell_type": "code",
      "metadata": {
        "id": "BK3kBJbfIDRI"
      },
      "source": [
        "def linear1(xb):\n",
        "  return xb@weights + bias"
      ],
      "execution_count": null,
      "outputs": []
    },
    {
      "cell_type": "markdown",
      "metadata": {
        "id": "pSM-N9lYKgwh"
      },
      "source": [
        "### Initializing weights and bias"
      ]
    },
    {
      "cell_type": "code",
      "metadata": {
        "id": "sQJoQCpEKZB6"
      },
      "source": [
        "# Initializing function\n",
        "def init_params(size, std=1.0): return (torch.randn(size)*std).requires_grad_()"
      ],
      "execution_count": null,
      "outputs": []
    },
    {
      "cell_type": "code",
      "metadata": {
        "id": "C7JVZeNjJ57w"
      },
      "source": [
        "# Initializing weights and bias\n",
        "weights = init_params((28*28,1))\n",
        "bias = init_params(1)"
      ],
      "execution_count": null,
      "outputs": []
    },
    {
      "cell_type": "code",
      "metadata": {
        "colab": {
          "base_uri": "https://localhost:8080/"
        },
        "id": "-TO5NEdhJ_Iy",
        "outputId": "a4ab7082-850a-4451-d8d4-50a000faff1c"
      },
      "source": [
        "type(weights), weights.shape, weights[1]"
      ],
      "execution_count": null,
      "outputs": [
        {
          "output_type": "execute_result",
          "data": {
            "text/plain": [
              "(torch.Tensor,\n",
              " torch.Size([784, 1]),\n",
              " tensor([1.4873], grad_fn=<SelectBackward>))"
            ]
          },
          "metadata": {
            "tags": []
          },
          "execution_count": 31
        }
      ]
    },
    {
      "cell_type": "code",
      "metadata": {
        "colab": {
          "base_uri": "https://localhost:8080/"
        },
        "id": "dCCmOSN5LPvQ",
        "outputId": "57cfbfe1-e732-494f-c087-7d362eb54759"
      },
      "source": [
        "type(bias), bias.shape, bias"
      ],
      "execution_count": null,
      "outputs": [
        {
          "output_type": "execute_result",
          "data": {
            "text/plain": [
              "(torch.Tensor, torch.Size([1]), tensor([0.3472], requires_grad=True))"
            ]
          },
          "metadata": {
            "tags": []
          },
          "execution_count": 32
        }
      ]
    },
    {
      "cell_type": "markdown",
      "metadata": {
        "id": "YTTOat5YNs1C"
      },
      "source": [
        "#### Trying out matrix multiplication"
      ]
    },
    {
      "cell_type": "code",
      "metadata": {
        "colab": {
          "base_uri": "https://localhost:8080/"
        },
        "id": "7j8LItkXM44d",
        "outputId": "dc09ba15-c1e5-4ce4-b0c1-ad35bcb3cab2"
      },
      "source": [
        "train_x.shape"
      ],
      "execution_count": null,
      "outputs": [
        {
          "output_type": "execute_result",
          "data": {
            "text/plain": [
              "torch.Size([12396, 784])"
            ]
          },
          "metadata": {
            "tags": []
          },
          "execution_count": 33
        }
      ]
    },
    {
      "cell_type": "code",
      "metadata": {
        "colab": {
          "base_uri": "https://localhost:8080/"
        },
        "id": "YI-GAB1LQPi3",
        "outputId": "c47776b6-d70b-4692-96ae-22422537b3d2"
      },
      "source": [
        "weights.shape"
      ],
      "execution_count": null,
      "outputs": [
        {
          "output_type": "execute_result",
          "data": {
            "text/plain": [
              "torch.Size([784, 1])"
            ]
          },
          "metadata": {
            "tags": []
          },
          "execution_count": 34
        }
      ]
    },
    {
      "cell_type": "code",
      "metadata": {
        "colab": {
          "base_uri": "https://localhost:8080/"
        },
        "id": "BmiyfOH9MCNj",
        "outputId": "accc253a-c06d-468f-a71f-2d1cd567e3a0"
      },
      "source": [
        "preds = linear1(train_x)\n",
        "preds"
      ],
      "execution_count": null,
      "outputs": [
        {
          "output_type": "execute_result",
          "data": {
            "text/plain": [
              "tensor([[ -6.2330],\n",
              "        [-10.6388],\n",
              "        [-20.8865],\n",
              "        ...,\n",
              "        [-15.9176],\n",
              "        [ -1.6866],\n",
              "        [-11.3568]], grad_fn=<AddBackward0>)"
            ]
          },
          "metadata": {
            "tags": []
          },
          "execution_count": 35
        }
      ]
    },
    {
      "cell_type": "code",
      "metadata": {
        "colab": {
          "base_uri": "https://localhost:8080/"
        },
        "id": "ZhIY_vTbMG4H",
        "outputId": "556d8b54-c949-4ebd-b608-57b8cda4f235"
      },
      "source": [
        "preds.shape"
      ],
      "execution_count": null,
      "outputs": [
        {
          "output_type": "execute_result",
          "data": {
            "text/plain": [
              "torch.Size([12396, 1])"
            ]
          },
          "metadata": {
            "tags": []
          },
          "execution_count": 36
        }
      ]
    },
    {
      "cell_type": "code",
      "metadata": {
        "colab": {
          "base_uri": "https://localhost:8080/"
        },
        "id": "1VmJm0CRP6pL",
        "outputId": "604811e2-a7fc-4579-d5a4-10036683bc99"
      },
      "source": [
        "train_x@weights + bias"
      ],
      "execution_count": null,
      "outputs": [
        {
          "output_type": "execute_result",
          "data": {
            "text/plain": [
              "tensor([[ -6.2330],\n",
              "        [-10.6388],\n",
              "        [-20.8865],\n",
              "        ...,\n",
              "        [-15.9176],\n",
              "        [ -1.6866],\n",
              "        [-11.3568]], grad_fn=<AddBackward0>)"
            ]
          },
          "metadata": {
            "tags": []
          },
          "execution_count": 37
        }
      ]
    },
    {
      "cell_type": "markdown",
      "metadata": {
        "id": "LA9RRSz-OM1Y"
      },
      "source": [
        "### Loss function"
      ]
    },
    {
      "cell_type": "code",
      "metadata": {
        "id": "Uae2rdu-R79N"
      },
      "source": [
        "# Loss function takes pred (output of linear1 for an x for current weights and bias)\n",
        "# and targets (y label corressponding to that x) to calculate loss\n",
        "\n",
        "def mnist_loss(predictions, targets):\n",
        "    predictions = predictions.sigmoid()\n",
        "    return torch.where(targets==1, 1-predictions, predictions).mean()"
      ],
      "execution_count": null,
      "outputs": []
    },
    {
      "cell_type": "markdown",
      "metadata": {
        "id": "kXxIlgtSYH1e"
      },
      "source": [
        "### Step"
      ]
    },
    {
      "cell_type": "code",
      "metadata": {
        "id": "YJDK2r4WQJQu"
      },
      "source": [
        "# Initializing weights and bias\n",
        "weights = init_params((28*28,1))\n",
        "bias = init_params(1)"
      ],
      "execution_count": null,
      "outputs": []
    },
    {
      "cell_type": "code",
      "metadata": {
        "colab": {
          "base_uri": "https://localhost:8080/"
        },
        "id": "AKoHCjjV7Hwz",
        "outputId": "1baafe50-ef83-4dd2-c810-bd21c0a85d36"
      },
      "source": [
        "weights[0:10]"
      ],
      "execution_count": null,
      "outputs": [
        {
          "output_type": "execute_result",
          "data": {
            "text/plain": [
              "tensor([[ 0.1268],\n",
              "        [-2.4521],\n",
              "        [ 0.4160],\n",
              "        [ 1.9025],\n",
              "        [-1.3525],\n",
              "        [-0.1303],\n",
              "        [ 1.7551],\n",
              "        [ 0.0675],\n",
              "        [ 0.7402],\n",
              "        [ 1.4162]], grad_fn=<SliceBackward>)"
            ]
          },
          "metadata": {
            "tags": []
          },
          "execution_count": 40
        }
      ]
    },
    {
      "cell_type": "code",
      "metadata": {
        "colab": {
          "base_uri": "https://localhost:8080/"
        },
        "id": "sfftIzyJFmuG",
        "outputId": "ec9bd659-b437-4d7c-8d76-fcc822cf4773"
      },
      "source": [
        "weights.mean()"
      ],
      "execution_count": null,
      "outputs": [
        {
          "output_type": "execute_result",
          "data": {
            "text/plain": [
              "tensor(-0.0128, grad_fn=<MeanBackward0>)"
            ]
          },
          "metadata": {
            "tags": []
          },
          "execution_count": 41
        }
      ]
    },
    {
      "cell_type": "code",
      "metadata": {
        "colab": {
          "base_uri": "https://localhost:8080/"
        },
        "id": "N_rfxRss7Lxv",
        "outputId": "12ca5b5d-8395-4708-adcc-15b145d728de"
      },
      "source": [
        "bias"
      ],
      "execution_count": null,
      "outputs": [
        {
          "output_type": "execute_result",
          "data": {
            "text/plain": [
              "tensor([-0.2762], requires_grad=True)"
            ]
          },
          "metadata": {
            "tags": []
          },
          "execution_count": 42
        }
      ]
    },
    {
      "cell_type": "code",
      "metadata": {
        "colab": {
          "base_uri": "https://localhost:8080/"
        },
        "id": "M16-HfQv4Qjz",
        "outputId": "2f0942cc-5d4e-4368-ef1e-6d72c12c3255"
      },
      "source": [
        "pred = linear1(train_x)\n",
        "loss = mnist_loss(pred, train_y)\n",
        "print(loss)\n",
        "loss.backward()\n",
        "\n",
        "weights.data = weights - weights.grad\n",
        "bias.data = bias - bias.grad"
      ],
      "execution_count": null,
      "outputs": [
        {
          "output_type": "stream",
          "text": [
            "tensor(0.5719, grad_fn=<MeanBackward0>)\n"
          ],
          "name": "stdout"
        }
      ]
    },
    {
      "cell_type": "code",
      "metadata": {
        "colab": {
          "base_uri": "https://localhost:8080/"
        },
        "id": "GoxpWZDw7WnV",
        "outputId": "32165b10-6f7b-4f7d-966d-8bce317a67e0"
      },
      "source": [
        "weights[0:10]"
      ],
      "execution_count": null,
      "outputs": [
        {
          "output_type": "execute_result",
          "data": {
            "text/plain": [
              "tensor([[ 0.1268],\n",
              "        [-2.4521],\n",
              "        [ 0.4160],\n",
              "        [ 1.9025],\n",
              "        [-1.3525],\n",
              "        [-0.1303],\n",
              "        [ 1.7551],\n",
              "        [ 0.0675],\n",
              "        [ 0.7402],\n",
              "        [ 1.4162]], grad_fn=<SliceBackward>)"
            ]
          },
          "metadata": {
            "tags": []
          },
          "execution_count": 44
        }
      ]
    },
    {
      "cell_type": "code",
      "metadata": {
        "colab": {
          "base_uri": "https://localhost:8080/"
        },
        "id": "b44i5SpT85_5",
        "outputId": "9e9fbad4-095b-49ec-da0b-255e28e192f5"
      },
      "source": [
        "weights.mean()"
      ],
      "execution_count": null,
      "outputs": [
        {
          "output_type": "execute_result",
          "data": {
            "text/plain": [
              "tensor(-0.0108, grad_fn=<MeanBackward0>)"
            ]
          },
          "metadata": {
            "tags": []
          },
          "execution_count": 45
        }
      ]
    },
    {
      "cell_type": "code",
      "metadata": {
        "colab": {
          "base_uri": "https://localhost:8080/"
        },
        "id": "YOkc-m9A8CY2",
        "outputId": "f17e582a-0ce5-482d-c08e-b6bcfb8d70a1"
      },
      "source": [
        "bias"
      ],
      "execution_count": null,
      "outputs": [
        {
          "output_type": "execute_result",
          "data": {
            "text/plain": [
              "tensor([-0.2566], requires_grad=True)"
            ]
          },
          "metadata": {
            "tags": []
          },
          "execution_count": 46
        }
      ]
    },
    {
      "cell_type": "code",
      "metadata": {
        "id": "SSUasdzY7CBo"
      },
      "source": [
        "weights.grad.zero_()\n",
        "bias.grad.zero_();"
      ],
      "execution_count": null,
      "outputs": []
    },
    {
      "cell_type": "code",
      "metadata": {
        "colab": {
          "base_uri": "https://localhost:8080/"
        },
        "id": "iuGSIEUVGMKJ",
        "outputId": "c900d4cf-e88a-4be3-a098-d0cf2fcc3163"
      },
      "source": [
        "((pred.sigmoid()>0.5) == train_y).float().mean()"
      ],
      "execution_count": null,
      "outputs": [
        {
          "output_type": "execute_result",
          "data": {
            "text/plain": [
              "tensor(0.4357)"
            ]
          },
          "metadata": {
            "tags": []
          },
          "execution_count": 48
        }
      ]
    },
    {
      "cell_type": "markdown",
      "metadata": {
        "id": "zFxKPvudOmRQ"
      },
      "source": [
        "### Run training steps multiple times"
      ]
    },
    {
      "cell_type": "code",
      "metadata": {
        "colab": {
          "base_uri": "https://localhost:8080/"
        },
        "id": "iA7gAMbHOa1M",
        "outputId": "9f171318-dbbf-487c-f078-f5d26f5bfce0"
      },
      "source": [
        "type(params)"
      ],
      "execution_count": null,
      "outputs": [
        {
          "output_type": "execute_result",
          "data": {
            "text/plain": [
              "tuple"
            ]
          },
          "metadata": {
            "tags": []
          },
          "execution_count": 50
        }
      ]
    },
    {
      "cell_type": "code",
      "metadata": {
        "id": "bW97m8dYOelO"
      },
      "source": [
        "s = 1,2"
      ],
      "execution_count": null,
      "outputs": []
    },
    {
      "cell_type": "code",
      "metadata": {
        "colab": {
          "base_uri": "https://localhost:8080/"
        },
        "id": "x1fsiAtgOhGB",
        "outputId": "3319562f-ccea-42f2-8a86-7420a491dcb8"
      },
      "source": [
        "type(s)"
      ],
      "execution_count": null,
      "outputs": [
        {
          "output_type": "execute_result",
          "data": {
            "text/plain": [
              "tuple"
            ]
          },
          "metadata": {
            "tags": []
          },
          "execution_count": 52
        }
      ]
    },
    {
      "cell_type": "code",
      "metadata": {
        "id": "-EHU1dzdOnp2"
      },
      "source": [
        "a,b = s"
      ],
      "execution_count": null,
      "outputs": []
    },
    {
      "cell_type": "code",
      "metadata": {
        "colab": {
          "base_uri": "https://localhost:8080/"
        },
        "id": "QnwDTJ3EOrvS",
        "outputId": "1f34c05b-e0bc-411f-a03a-825beb5d23fb"
      },
      "source": [
        "type(b)"
      ],
      "execution_count": null,
      "outputs": [
        {
          "output_type": "execute_result",
          "data": {
            "text/plain": [
              "int"
            ]
          },
          "metadata": {
            "tags": []
          },
          "execution_count": 54
        }
      ]
    },
    {
      "cell_type": "code",
      "metadata": {
        "id": "9zsj1Q3fxW4s"
      },
      "source": [
        "# copying as is for now, will experiment\n",
        "# Runs the validation through the entire dataset but batch wise. For each epoch\n",
        "\n",
        "def batch_accuracy(xb, yb):\n",
        "    preds = xb.sigmoid()\n",
        "    correct = (preds>0.5) == yb\n",
        "    return correct.float().mean()\n",
        "\n",
        "def validate_epoch(model):\n",
        "    accs = [batch_accuracy(model(xb), yb) for xb,yb in valid_dl]\n",
        "    return round(torch.stack(accs).mean().item(), 4)"
      ],
      "execution_count": null,
      "outputs": []
    },
    {
      "cell_type": "code",
      "metadata": {
        "id": "54TOdrBIl1xY"
      },
      "source": [
        "# Initializing weights and bias\n",
        "weights = init_params((28*28,1))\n",
        "bias = init_params(1)\n",
        "\n",
        "lr=1"
      ],
      "execution_count": null,
      "outputs": []
    },
    {
      "cell_type": "code",
      "metadata": {
        "id": "5KEhJeYONU-q"
      },
      "source": [
        "#Running the process for 10 epochs\n",
        "for epoch in range(10):\n",
        "  #For each epoch the training dataset is divided into a number of batches. In the loop below we iterate through those batches\n",
        "  batch = 0\n",
        "  print('Validation: ############### ', validate_epoch(linear1))\n",
        "  for xb, yb in dl:\n",
        "    #Predict the model output\n",
        "    pred = linear1(xb)\n",
        "    print(pred.shape)\n",
        "\n",
        "    #Calculate loss (to see how far are we from the model we need)\n",
        "    loss = mnist_loss(pred, yb)\n",
        "    print(loss)\n",
        "    \n",
        "    #Calculate gradients to check how the weights should be reduced\n",
        "    loss.backward()\n",
        "    \n",
        "    #Adjust the weights according to the gradients and the learning rate\n",
        "    weights.data = weights - weights.grad*lr\n",
        "    bias.data = bias - bias.grad*lr\n",
        "    \n",
        "    print('Epoch: ', epoch)\n",
        "    print('Batch: ', batch)\n",
        "    print('Accuracy (training): ',((pred.sigmoid()>0.5) == yb).float().mean())\n",
        "    batch +=1\n",
        "\n",
        "    #Reset the gradients to zero\n",
        "    weights.grad.zero_()\n",
        "    bias.grad.zero_()\n",
        "    \n",
        "    #Rinse and repeat"
      ],
      "execution_count": null,
      "outputs": []
    },
    {
      "cell_type": "code",
      "metadata": {
        "colab": {
          "base_uri": "https://localhost:8080/"
        },
        "id": "TBJXy6lr6AOx",
        "outputId": "1a661596-c915-4b91-9ee4-357e466640d6"
      },
      "source": [
        "print('Validation: ', validate_epoch(linear1))"
      ],
      "execution_count": null,
      "outputs": [
        {
          "output_type": "stream",
          "text": [
            "Validation:  0.9618\n"
          ],
          "name": "stdout"
        }
      ]
    },
    {
      "cell_type": "markdown",
      "metadata": {
        "id": "VqtbLwtvRTIU"
      },
      "source": [
        "Note: **Important learning** - Without mini-batches it takes 100s of epochs to train the model i.e. adjust the weights and bias such that the model gets accurate enough for classification. Instead of using the full data on each pass, we can use mini batches and move along SGD faster so that we can train the model faster and use less GPU compute.\n",
        "\n",
        "To do so, we will pass the data using dataloader rather passing the entire matrix train_x directly "
      ]
    },
    {
      "cell_type": "markdown",
      "metadata": {
        "id": "o7T0qrloO1zs"
      },
      "source": [
        "### Validate results"
      ]
    },
    {
      "cell_type": "markdown",
      "metadata": {
        "id": "bBgAeRGpKx6J"
      },
      "source": [
        "Validation accuracy"
      ]
    },
    {
      "cell_type": "code",
      "metadata": {
        "id": "1TNXFo6GIoRm"
      },
      "source": [
        "pred2 = linear1(valid_x)"
      ],
      "execution_count": null,
      "outputs": []
    },
    {
      "cell_type": "code",
      "metadata": {
        "colab": {
          "base_uri": "https://localhost:8080/"
        },
        "id": "gIpQloulJL0Z",
        "outputId": "6fcfdba4-7e4a-45d9-fd31-4507a27dfb86"
      },
      "source": [
        "((pred2.sigmoid()>0.5) == valid_y).float().mean()"
      ],
      "execution_count": null,
      "outputs": [
        {
          "output_type": "execute_result",
          "data": {
            "text/plain": [
              "tensor(0.9612)"
            ]
          },
          "metadata": {
            "tags": []
          },
          "execution_count": 95
        }
      ]
    },
    {
      "cell_type": "code",
      "metadata": {
        "colab": {
          "base_uri": "https://localhost:8080/"
        },
        "id": "i2H4phLVLmsy",
        "outputId": "2114c8a0-ea84-4680-ad23-6aa318b95d1f"
      },
      "source": [
        "linear1(valid_x[1]).sigmoid()>0.5, valid_y[1]"
      ],
      "execution_count": null,
      "outputs": [
        {
          "output_type": "execute_result",
          "data": {
            "text/plain": [
              "(tensor([False]), tensor([0]))"
            ]
          },
          "metadata": {
            "tags": []
          },
          "execution_count": 96
        }
      ]
    },
    {
      "cell_type": "markdown",
      "metadata": {
        "id": "jeZt-sSVZMMi"
      },
      "source": [
        "### Instead of the loops above, using built-in functions"
      ]
    },
    {
      "cell_type": "code",
      "metadata": {
        "id": "duy6iPcsAk8c"
      },
      "source": [
        "dls = DataLoaders(dl, valid_dl)"
      ],
      "execution_count": null,
      "outputs": []
    },
    {
      "cell_type": "code",
      "metadata": {
        "id": "-k4MnPFcAk8p"
      },
      "source": [
        "simple_net1 = nn.Linear(28*28,1)"
      ],
      "execution_count": null,
      "outputs": []
    },
    {
      "cell_type": "code",
      "metadata": {
        "id": "4c1uHQ83Ak8p"
      },
      "source": [
        "learn1 = Learner(dls, simple_net1, opt_func=SGD,\n",
        "                loss_func=mnist_loss, metrics=batch_accuracy)"
      ],
      "execution_count": null,
      "outputs": []
    },
    {
      "cell_type": "code",
      "metadata": {
        "colab": {
          "base_uri": "https://localhost:8080/",
          "height": 347
        },
        "id": "q7Vj5JZ7Ak8q",
        "outputId": "8879a888-8e5a-40c7-a429-cf0bc43872d8"
      },
      "source": [
        "learn1.fit(10, 1)"
      ],
      "execution_count": null,
      "outputs": [
        {
          "output_type": "display_data",
          "data": {
            "text/html": [
              "<table border=\"1\" class=\"dataframe\">\n",
              "  <thead>\n",
              "    <tr style=\"text-align: left;\">\n",
              "      <th>epoch</th>\n",
              "      <th>train_loss</th>\n",
              "      <th>valid_loss</th>\n",
              "      <th>batch_accuracy</th>\n",
              "      <th>time</th>\n",
              "    </tr>\n",
              "  </thead>\n",
              "  <tbody>\n",
              "    <tr>\n",
              "      <td>0</td>\n",
              "      <td>0.636833</td>\n",
              "      <td>0.503590</td>\n",
              "      <td>0.495584</td>\n",
              "      <td>00:00</td>\n",
              "    </tr>\n",
              "    <tr>\n",
              "      <td>1</td>\n",
              "      <td>0.567886</td>\n",
              "      <td>0.197348</td>\n",
              "      <td>0.832188</td>\n",
              "      <td>00:00</td>\n",
              "    </tr>\n",
              "    <tr>\n",
              "      <td>2</td>\n",
              "      <td>0.207458</td>\n",
              "      <td>0.176692</td>\n",
              "      <td>0.840530</td>\n",
              "      <td>00:00</td>\n",
              "    </tr>\n",
              "    <tr>\n",
              "      <td>3</td>\n",
              "      <td>0.089717</td>\n",
              "      <td>0.105107</td>\n",
              "      <td>0.912169</td>\n",
              "      <td>00:00</td>\n",
              "    </tr>\n",
              "    <tr>\n",
              "      <td>4</td>\n",
              "      <td>0.046457</td>\n",
              "      <td>0.077088</td>\n",
              "      <td>0.933759</td>\n",
              "      <td>00:00</td>\n",
              "    </tr>\n",
              "    <tr>\n",
              "      <td>5</td>\n",
              "      <td>0.029657</td>\n",
              "      <td>0.061888</td>\n",
              "      <td>0.947007</td>\n",
              "      <td>00:00</td>\n",
              "    </tr>\n",
              "    <tr>\n",
              "      <td>6</td>\n",
              "      <td>0.022821</td>\n",
              "      <td>0.052393</td>\n",
              "      <td>0.956330</td>\n",
              "      <td>00:00</td>\n",
              "    </tr>\n",
              "    <tr>\n",
              "      <td>7</td>\n",
              "      <td>0.019826</td>\n",
              "      <td>0.046065</td>\n",
              "      <td>0.963199</td>\n",
              "      <td>00:00</td>\n",
              "    </tr>\n",
              "    <tr>\n",
              "      <td>8</td>\n",
              "      <td>0.018337</td>\n",
              "      <td>0.041615</td>\n",
              "      <td>0.966143</td>\n",
              "      <td>00:00</td>\n",
              "    </tr>\n",
              "    <tr>\n",
              "      <td>9</td>\n",
              "      <td>0.017461</td>\n",
              "      <td>0.038335</td>\n",
              "      <td>0.967615</td>\n",
              "      <td>00:00</td>\n",
              "    </tr>\n",
              "  </tbody>\n",
              "</table>"
            ],
            "text/plain": [
              "<IPython.core.display.HTML object>"
            ]
          },
          "metadata": {
            "tags": []
          }
        }
      ]
    },
    {
      "cell_type": "code",
      "metadata": {
        "colab": {
          "base_uri": "https://localhost:8080/"
        },
        "id": "HbPA8kehYlq1",
        "outputId": "f2c94159-0b42-4085-98e2-2ce14a7f3655"
      },
      "source": [
        "validate_epoch(simple_net1)"
      ],
      "execution_count": null,
      "outputs": [
        {
          "output_type": "execute_result",
          "data": {
            "text/plain": [
              "0.9677"
            ]
          },
          "metadata": {
            "tags": []
          },
          "execution_count": 192
        }
      ]
    },
    {
      "cell_type": "markdown",
      "metadata": {
        "id": "o1Qy_kr2Zb_K"
      },
      "source": [
        "### Create another model - a simple neural network with 2 layers and a non-linearity in the middle (ReLU in this case)"
      ]
    },
    {
      "cell_type": "code",
      "metadata": {
        "id": "KiCoP2rsADbS"
      },
      "source": [
        "dls = DataLoaders(dl, valid_dl)"
      ],
      "execution_count": null,
      "outputs": []
    },
    {
      "cell_type": "code",
      "metadata": {
        "id": "AUnfB0_qgxyE"
      },
      "source": [
        "simple_net2 = nn.Sequential(\n",
        "    nn.Linear(28*28,600),\n",
        "    nn.ReLU(),\n",
        "    nn.Linear(600,400),\n",
        "    nn.ReLU(),\n",
        "    nn.Linear(400,200),\n",
        "    nn.ReLU(),\n",
        "    nn.Linear(200,50),\n",
        "    nn.ReLU(),\n",
        "    nn.Linear(50,1)\n",
        ")"
      ],
      "execution_count": null,
      "outputs": []
    },
    {
      "cell_type": "code",
      "metadata": {
        "id": "nAi3IatEgxyF"
      },
      "source": [
        "learn2 = Learner(dls, simple_net2, opt_func=SGD,\n",
        "                loss_func=mnist_loss, metrics=batch_accuracy)"
      ],
      "execution_count": null,
      "outputs": []
    },
    {
      "cell_type": "code",
      "metadata": {
        "colab": {
          "base_uri": "https://localhost:8080/",
          "height": 947
        },
        "id": "ln6_TnCH_1zV",
        "outputId": "f870592c-9ef9-4380-db01-cc888fee2772"
      },
      "source": [
        "learn2.fit(30, 1)"
      ],
      "execution_count": null,
      "outputs": [
        {
          "output_type": "display_data",
          "data": {
            "text/html": [
              "<table border=\"1\" class=\"dataframe\">\n",
              "  <thead>\n",
              "    <tr style=\"text-align: left;\">\n",
              "      <th>epoch</th>\n",
              "      <th>train_loss</th>\n",
              "      <th>valid_loss</th>\n",
              "      <th>batch_accuracy</th>\n",
              "      <th>time</th>\n",
              "    </tr>\n",
              "  </thead>\n",
              "  <tbody>\n",
              "    <tr>\n",
              "      <td>0</td>\n",
              "      <td>0.395734</td>\n",
              "      <td>0.493960</td>\n",
              "      <td>0.504416</td>\n",
              "      <td>00:01</td>\n",
              "    </tr>\n",
              "    <tr>\n",
              "      <td>1</td>\n",
              "      <td>0.181726</td>\n",
              "      <td>0.409201</td>\n",
              "      <td>0.588813</td>\n",
              "      <td>00:01</td>\n",
              "    </tr>\n",
              "    <tr>\n",
              "      <td>2</td>\n",
              "      <td>0.076559</td>\n",
              "      <td>0.120005</td>\n",
              "      <td>0.883709</td>\n",
              "      <td>00:01</td>\n",
              "    </tr>\n",
              "    <tr>\n",
              "      <td>3</td>\n",
              "      <td>0.038211</td>\n",
              "      <td>0.078665</td>\n",
              "      <td>0.924926</td>\n",
              "      <td>00:01</td>\n",
              "    </tr>\n",
              "    <tr>\n",
              "      <td>4</td>\n",
              "      <td>0.023437</td>\n",
              "      <td>0.060682</td>\n",
              "      <td>0.940628</td>\n",
              "      <td>00:01</td>\n",
              "    </tr>\n",
              "    <tr>\n",
              "      <td>5</td>\n",
              "      <td>0.016779</td>\n",
              "      <td>0.055589</td>\n",
              "      <td>0.945044</td>\n",
              "      <td>00:01</td>\n",
              "    </tr>\n",
              "    <tr>\n",
              "      <td>6</td>\n",
              "      <td>0.013760</td>\n",
              "      <td>0.050019</td>\n",
              "      <td>0.951423</td>\n",
              "      <td>00:01</td>\n",
              "    </tr>\n",
              "    <tr>\n",
              "      <td>7</td>\n",
              "      <td>0.012376</td>\n",
              "      <td>0.044451</td>\n",
              "      <td>0.956330</td>\n",
              "      <td>00:01</td>\n",
              "    </tr>\n",
              "    <tr>\n",
              "      <td>8</td>\n",
              "      <td>0.010549</td>\n",
              "      <td>0.039993</td>\n",
              "      <td>0.961727</td>\n",
              "      <td>00:01</td>\n",
              "    </tr>\n",
              "    <tr>\n",
              "      <td>9</td>\n",
              "      <td>0.008707</td>\n",
              "      <td>0.033432</td>\n",
              "      <td>0.966634</td>\n",
              "      <td>00:01</td>\n",
              "    </tr>\n",
              "    <tr>\n",
              "      <td>10</td>\n",
              "      <td>0.007909</td>\n",
              "      <td>0.030608</td>\n",
              "      <td>0.968597</td>\n",
              "      <td>00:01</td>\n",
              "    </tr>\n",
              "    <tr>\n",
              "      <td>11</td>\n",
              "      <td>0.006921</td>\n",
              "      <td>0.027647</td>\n",
              "      <td>0.971541</td>\n",
              "      <td>00:01</td>\n",
              "    </tr>\n",
              "    <tr>\n",
              "      <td>12</td>\n",
              "      <td>0.006388</td>\n",
              "      <td>0.024100</td>\n",
              "      <td>0.976448</td>\n",
              "      <td>00:01</td>\n",
              "    </tr>\n",
              "    <tr>\n",
              "      <td>13</td>\n",
              "      <td>0.005759</td>\n",
              "      <td>0.022614</td>\n",
              "      <td>0.978901</td>\n",
              "      <td>00:01</td>\n",
              "    </tr>\n",
              "    <tr>\n",
              "      <td>14</td>\n",
              "      <td>0.005427</td>\n",
              "      <td>0.023180</td>\n",
              "      <td>0.977920</td>\n",
              "      <td>00:01</td>\n",
              "    </tr>\n",
              "    <tr>\n",
              "      <td>15</td>\n",
              "      <td>0.004886</td>\n",
              "      <td>0.017896</td>\n",
              "      <td>0.982336</td>\n",
              "      <td>00:01</td>\n",
              "    </tr>\n",
              "    <tr>\n",
              "      <td>16</td>\n",
              "      <td>0.004672</td>\n",
              "      <td>0.017281</td>\n",
              "      <td>0.982826</td>\n",
              "      <td>00:01</td>\n",
              "    </tr>\n",
              "    <tr>\n",
              "      <td>17</td>\n",
              "      <td>0.004359</td>\n",
              "      <td>0.016610</td>\n",
              "      <td>0.984298</td>\n",
              "      <td>00:01</td>\n",
              "    </tr>\n",
              "    <tr>\n",
              "      <td>18</td>\n",
              "      <td>0.004255</td>\n",
              "      <td>0.015497</td>\n",
              "      <td>0.985280</td>\n",
              "      <td>00:01</td>\n",
              "    </tr>\n",
              "    <tr>\n",
              "      <td>19</td>\n",
              "      <td>0.004059</td>\n",
              "      <td>0.014919</td>\n",
              "      <td>0.984789</td>\n",
              "      <td>00:01</td>\n",
              "    </tr>\n",
              "    <tr>\n",
              "      <td>20</td>\n",
              "      <td>0.003689</td>\n",
              "      <td>0.013396</td>\n",
              "      <td>0.986752</td>\n",
              "      <td>00:01</td>\n",
              "    </tr>\n",
              "    <tr>\n",
              "      <td>21</td>\n",
              "      <td>0.003331</td>\n",
              "      <td>0.012195</td>\n",
              "      <td>0.987733</td>\n",
              "      <td>00:01</td>\n",
              "    </tr>\n",
              "    <tr>\n",
              "      <td>22</td>\n",
              "      <td>0.003202</td>\n",
              "      <td>0.012144</td>\n",
              "      <td>0.988224</td>\n",
              "      <td>00:01</td>\n",
              "    </tr>\n",
              "    <tr>\n",
              "      <td>23</td>\n",
              "      <td>0.003012</td>\n",
              "      <td>0.010596</td>\n",
              "      <td>0.989696</td>\n",
              "      <td>00:01</td>\n",
              "    </tr>\n",
              "    <tr>\n",
              "      <td>24</td>\n",
              "      <td>0.002727</td>\n",
              "      <td>0.009447</td>\n",
              "      <td>0.991168</td>\n",
              "      <td>00:01</td>\n",
              "    </tr>\n",
              "    <tr>\n",
              "      <td>25</td>\n",
              "      <td>0.002463</td>\n",
              "      <td>0.011235</td>\n",
              "      <td>0.989205</td>\n",
              "      <td>00:01</td>\n",
              "    </tr>\n",
              "    <tr>\n",
              "      <td>26</td>\n",
              "      <td>0.002211</td>\n",
              "      <td>0.010266</td>\n",
              "      <td>0.989696</td>\n",
              "      <td>00:01</td>\n",
              "    </tr>\n",
              "    <tr>\n",
              "      <td>27</td>\n",
              "      <td>0.002054</td>\n",
              "      <td>0.009683</td>\n",
              "      <td>0.990677</td>\n",
              "      <td>00:01</td>\n",
              "    </tr>\n",
              "    <tr>\n",
              "      <td>28</td>\n",
              "      <td>0.001944</td>\n",
              "      <td>0.010070</td>\n",
              "      <td>0.990186</td>\n",
              "      <td>00:01</td>\n",
              "    </tr>\n",
              "    <tr>\n",
              "      <td>29</td>\n",
              "      <td>0.001845</td>\n",
              "      <td>0.009320</td>\n",
              "      <td>0.990677</td>\n",
              "      <td>00:01</td>\n",
              "    </tr>\n",
              "  </tbody>\n",
              "</table>"
            ],
            "text/plain": [
              "<IPython.core.display.HTML object>"
            ]
          },
          "metadata": {
            "tags": []
          }
        }
      ]
    },
    {
      "cell_type": "code",
      "metadata": {
        "colab": {
          "base_uri": "https://localhost:8080/"
        },
        "id": "kwpeOwAydZjp",
        "outputId": "ec4e0f80-8f15-41da-d5af-11d8bc5a804e"
      },
      "source": [
        "validate_epoch(simple_net2)"
      ],
      "execution_count": null,
      "outputs": [
        {
          "output_type": "execute_result",
          "data": {
            "text/plain": [
              "0.9907"
            ]
          },
          "metadata": {
            "tags": []
          },
          "execution_count": 203
        }
      ]
    },
    {
      "cell_type": "markdown",
      "metadata": {
        "id": "geU_83obPja0"
      },
      "source": [
        "### Try SOTA - built-in fastai model"
      ]
    },
    {
      "cell_type": "code",
      "metadata": {
        "colab": {
          "base_uri": "https://localhost:8080/",
          "height": 77
        },
        "id": "XwYhn7QHAoKS",
        "outputId": "7e87a80e-3fa3-4ce7-e9f0-4c42917291a2"
      },
      "source": [
        "# I do not understand this yet. This is just to draw a parallel between the models above and a SOTA (supposedly) model\n",
        "\n",
        "dls = ImageDataLoaders.from_folder(path)\n",
        "learn = cnn_learner(dls, resnet18, pretrained=False, loss_func=F.cross_entropy, metrics=accuracy)\n",
        "learn.fit_one_cycle(1, 0.1)"
      ],
      "execution_count": null,
      "outputs": [
        {
          "output_type": "display_data",
          "data": {
            "text/html": [
              "<table border=\"1\" class=\"dataframe\">\n",
              "  <thead>\n",
              "    <tr style=\"text-align: left;\">\n",
              "      <th>epoch</th>\n",
              "      <th>train_loss</th>\n",
              "      <th>valid_loss</th>\n",
              "      <th>accuracy</th>\n",
              "      <th>time</th>\n",
              "    </tr>\n",
              "  </thead>\n",
              "  <tbody>\n",
              "    <tr>\n",
              "      <td>0</td>\n",
              "      <td>0.059540</td>\n",
              "      <td>0.012494</td>\n",
              "      <td>0.996075</td>\n",
              "      <td>00:18</td>\n",
              "    </tr>\n",
              "  </tbody>\n",
              "</table>"
            ],
            "text/plain": [
              "<IPython.core.display.HTML object>"
            ]
          },
          "metadata": {
            "tags": []
          }
        }
      ]
    }
  ]
}